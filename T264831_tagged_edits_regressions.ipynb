{
 "cells": [
  {
   "cell_type": "markdown",
   "metadata": {},
   "source": [
    "# Variant C/D suggested edits – Regression models\n",
    "\n",
    "The approach for fitting regression models to predict whether users are likely to make newcomer task edits is the same as we've used in the previous analyses. Because the outcome is binary, either a user edited or they didnt', we use a logistic regression model. We add predictors iteratively until we find the most likely model. Like before, we have predictors for which variant the user had, whether they registered on desktop or mobile, and when they registered (in time since the start of the experiment)."
   ]
  },
  {
   "cell_type": "code",
   "execution_count": 1,
   "metadata": {},
   "outputs": [
    {
     "data": {
      "text/html": [
       "<script>  \n",
       "code_show=true; \n",
       "function code_toggle() {\n",
       "  if (code_show){\n",
       "    $('div.input').hide();\n",
       "  } else {\n",
       "    $('div.input').show();\n",
       "  }\n",
       "  code_show = !code_show\n",
       "}  \n",
       "$( document ).ready(code_toggle);\n",
       "</script>\n",
       "  <form action=\"javascript:code_toggle()\">\n",
       "    <input type=\"submit\" value=\"Click here to toggle on/off the raw code.\">\n",
       " </form>"
      ]
     },
     "metadata": {},
     "output_type": "display_data"
    }
   ],
   "source": [
    "# https://stackoverflow.com/a/35018739/1091835\n",
    "library(IRdisplay)\n",
    "\n",
    "display_html(\n",
    "'<script>  \n",
    "code_show=true; \n",
    "function code_toggle() {\n",
    "  if (code_show){\n",
    "    $(\\'div.input\\').hide();\n",
    "  } else {\n",
    "    $(\\'div.input\\').show();\n",
    "  }\n",
    "  code_show = !code_show\n",
    "}  \n",
    "$( document ).ready(code_toggle);\n",
    "</script>\n",
    "  <form action=\"javascript:code_toggle()\">\n",
    "    <input type=\"submit\" value=\"Click here to toggle on/off the raw code.\">\n",
    " </form>'\n",
    ")"
   ]
  },
  {
   "cell_type": "code",
   "execution_count": 2,
   "metadata": {},
   "outputs": [
    {
     "name": "stderr",
     "output_type": "stream",
     "text": [
      "── \u001b[1mAttaching packages\u001b[22m ─────────────────────────────────────── tidyverse 1.3.0 ──\n",
      "\n",
      "\u001b[32m✔\u001b[39m \u001b[34mggplot2\u001b[39m 3.3.2     \u001b[32m✔\u001b[39m \u001b[34mpurrr  \u001b[39m 0.3.4\n",
      "\u001b[32m✔\u001b[39m \u001b[34mtibble \u001b[39m 3.0.4     \u001b[32m✔\u001b[39m \u001b[34mdplyr  \u001b[39m 1.0.2\n",
      "\u001b[32m✔\u001b[39m \u001b[34mtidyr  \u001b[39m 1.1.2     \u001b[32m✔\u001b[39m \u001b[34mstringr\u001b[39m 1.4.0\n",
      "\u001b[32m✔\u001b[39m \u001b[34mreadr  \u001b[39m 1.4.0     \u001b[32m✔\u001b[39m \u001b[34mforcats\u001b[39m 0.5.0\n",
      "\n",
      "── \u001b[1mConflicts\u001b[22m ────────────────────────────────────────── tidyverse_conflicts() ──\n",
      "\u001b[31m✖\u001b[39m \u001b[34mdplyr\u001b[39m::\u001b[32mfilter()\u001b[39m masks \u001b[34mstats\u001b[39m::filter()\n",
      "\u001b[31m✖\u001b[39m \u001b[34mdplyr\u001b[39m::\u001b[32mlag()\u001b[39m    masks \u001b[34mstats\u001b[39m::lag()\n",
      "\n",
      "\n",
      "Attaching package: ‘data.table’\n",
      "\n",
      "\n",
      "The following objects are masked from ‘package:dplyr’:\n",
      "\n",
      "    between, first, last\n",
      "\n",
      "\n",
      "The following object is masked from ‘package:purrr’:\n",
      "\n",
      "    transpose\n",
      "\n",
      "\n",
      "Loading required package: Matrix\n",
      "\n",
      "\n",
      "Attaching package: ‘Matrix’\n",
      "\n",
      "\n",
      "The following objects are masked from ‘package:tidyr’:\n",
      "\n",
      "    expand, pack, unpack\n",
      "\n",
      "\n",
      "Loading required package: lattice\n",
      "\n",
      "\n",
      "Attaching package: ‘caret’\n",
      "\n",
      "\n",
      "The following object is masked from ‘package:purrr’:\n",
      "\n",
      "    lift\n",
      "\n",
      "\n",
      "Loading required package: mvtnorm\n",
      "\n",
      "Loading required package: survival\n",
      "\n",
      "\n",
      "Attaching package: ‘survival’\n",
      "\n",
      "\n",
      "The following object is masked from ‘package:caret’:\n",
      "\n",
      "    cluster\n",
      "\n",
      "\n",
      "Loading required package: TH.data\n",
      "\n",
      "Loading required package: MASS\n",
      "\n",
      "\n",
      "Attaching package: ‘MASS’\n",
      "\n",
      "\n",
      "The following object is masked from ‘package:dplyr’:\n",
      "\n",
      "    select\n",
      "\n",
      "\n",
      "\n",
      "Attaching package: ‘TH.data’\n",
      "\n",
      "\n",
      "The following object is masked from ‘package:MASS’:\n",
      "\n",
      "    geyser\n",
      "\n",
      "\n",
      "Loading required package: gridExtra\n",
      "\n",
      "\n",
      "Attaching package: ‘gridExtra’\n",
      "\n",
      "\n",
      "The following object is masked from ‘package:dplyr’:\n",
      "\n",
      "    combine\n",
      "\n",
      "\n"
     ]
    }
   ],
   "source": [
    "## libraries\n",
    "library(tidyverse)\n",
    "library(data.table)\n",
    "library(ggplot2)\n",
    "\n",
    "library(lme4)\n",
    "\n",
    "library(caret)\n",
    "\n",
    "library(interactions)\n",
    "library(multcomp)\n",
    "library(emmeans)\n",
    "\n",
    "require(gridExtra)\n",
    "\n",
    "## library(ROCR)"
   ]
  },
  {
   "cell_type": "markdown",
   "metadata": {},
   "source": [
    "## Configuration variables"
   ]
  },
  {
   "cell_type": "code",
   "execution_count": 3,
   "metadata": {},
   "outputs": [],
   "source": [
    "## Set BLAS threads to 1 so glmer doesn't use all cores\n",
    "library(RhpcBLASctl)\n",
    "blas_set_num_threads(4)\n",
    "\n",
    "## parallelization\n",
    "options(mc.cores = 4)"
   ]
  },
  {
   "cell_type": "markdown",
   "metadata": {},
   "source": [
    "### Helper functions"
   ]
  },
  {
   "cell_type": "code",
   "execution_count": 4,
   "metadata": {},
   "outputs": [],
   "source": [
    "## Function that takes in a model, the validation set, the name of the predicted column,\n",
    "## and returns a plot of the ROC curve\n",
    "plot_ROC = function(mod, val_data, col_name, plot_title, cutoff_steps = 0.1) {\n",
    "  preds = predict(mod, val_data, type = \"response\")\n",
    "  ROCR_pred = prediction(preds, val_data[[col_name]])\n",
    "  ROCR_perf = performance(ROCR_pred, \"tpr\", \"fpr\")\n",
    "  plot(ROCR_perf, colorize = TRUE, print.cutoffs.at = seq(0, 1, by = cutoff_steps),\n",
    "       text.adj = c(-0.2, 1.7), main = plot_title)\n",
    "}\n",
    "\n",
    "## Function to output a confusion matrix\n",
    "confusion_matrix = function(model_predictions, threshold, reference, levels = c(\"yes\", \"no\")) {\n",
    "  pred = factor(ifelse(model_predictions >= threshold, levels[1], levels[2]), levels = levels)\n",
    "  truth = factor(ifelse(reference, levels[1], levels[2]), levels = levels)\n",
    "  confusionMatrix(pred, truth, mode = 'prec_recall')\n",
    "}\n"
   ]
  },
  {
   "cell_type": "markdown",
   "metadata": {},
   "source": [
    "### Data import and setup"
   ]
  },
  {
   "cell_type": "code",
   "execution_count": 5,
   "metadata": {},
   "outputs": [],
   "source": [
    "tagged_edits = fread('datasets/variant-test-2-edit-data.tsv',\n",
    "                     colClasses = c(wiki_db = 'factor', user_registration = 'character'))"
   ]
  },
  {
   "cell_type": "markdown",
   "metadata": {},
   "source": [
    "Our dataset contains this many Homepage-enabled registrations in total:"
   ]
  },
  {
   "cell_type": "code",
   "execution_count": 6,
   "metadata": {},
   "outputs": [
    {
     "data": {
      "text/html": [
       "53982"
      ],
      "text/latex": [
       "53982"
      ],
      "text/markdown": [
       "53982"
      ],
      "text/plain": [
       "[1] 53982"
      ]
     },
     "metadata": {},
     "output_type": "display_data"
    }
   ],
   "source": [
    "length(tagged_edits[hp_enabled == 1]$wiki)"
   ]
  },
  {
   "cell_type": "markdown",
   "metadata": {},
   "source": [
    "Note that the dataset does not include known test accounts, users who were in the control group (meaning they didn't have the Homepage enabled upon registration), or users who turned the Homepage on/off during the experiment."
   ]
  },
  {
   "cell_type": "code",
   "execution_count": 7,
   "metadata": {},
   "outputs": [],
   "source": [
    "## Configuration variables for this experiment.\n",
    "start_ts = as.POSIXct('2020-10-28 18:40:02', tz = 'UTC')\n",
    "end_ts = as.POSIXct('2020-11-25 18:40:02', tz = 'UTC')\n",
    "\n",
    "## Convert user_registration into a timestamp\n",
    "tagged_edits[, user_reg_ts := as.POSIXct(user_registration, format = '%Y%m%d%H%M%S', tz = 'UTC')]\n",
    "\n",
    "## Calculate time since start of experiment in weeks\n",
    "tagged_edits[, exp_days := 0]\n",
    "tagged_edits[, exp_days := difftime(user_reg_ts, start_ts, units = \"days\")]\n",
    "tagged_edits[, ln_exp_days := log(1 + as.numeric(exp_days))]\n",
    "tagged_edits[, ln_exp_weeks := log(1 + as.numeric(exp_days)/7)]\n",
    "\n",
    "## Convert all NAs to 0, from\n",
    "## https://stackoverflow.com/questions/7235657/fastest-way-to-replace-nas-in-a-large-data-table\n",
    "na_to_zero = function(DT) {\n",
    "  # or by number (slightly faster than by name) :\n",
    "  for (j in seq_len(ncol(DT)))\n",
    "    set(DT,which(is.na(DT[[j]])),j,0)\n",
    "}\n",
    "\n",
    "na_to_zero(tagged_edits)\n",
    "\n",
    "## Create boolean column for whether the user edited\n",
    "tagged_edits[, did_edit := num_suggested_edits > 0]\n",
    "\n",
    "## set the random seed so train/test/validation splits can be reproduced\n",
    "set.seed(42)\n",
    "\n",
    "## Remove all control group users, \n",
    "exp_users = tagged_edits[hp_enabled == 1 & hp_variant != '0']\n",
    "\n",
    "## Split the experiment users into training, testing, and validation datasets\n",
    "trainIndex <- createDataPartition(exp_users$hp_variant,\n",
    "                                  p = .8, \n",
    "                                  list = FALSE, \n",
    "                                  times = 1)\n",
    "exp_users_train = exp_users[trainIndex,]\n",
    "exp_users_second = exp_users[-trainIndex,]\n",
    "\n",
    "testIndex = createDataPartition(exp_users_second$hp_variant, p = .5, list = FALSE, times = 1)\n",
    "\n",
    "exp_users_test = exp_users_second[testIndex,]\n",
    "exp_users_validate = exp_users_second[-testIndex,]\n"
   ]
  },
  {
   "cell_type": "markdown",
   "metadata": {},
   "source": [
    "## Variant C/D as a predictor\n",
    "\n",
    "In this first model, we predict whether the user edited based on the variant the user was in, while allowing the overall probability of editing to vary by wiki."
   ]
  },
  {
   "cell_type": "code",
   "execution_count": 12,
   "metadata": {},
   "outputs": [],
   "source": [
    "## 1: only variant as a predictor:\n",
    "edit.model.1 = glmer(formula = did_edit ~ hp_variant + (1 | wiki_db),\n",
    "                    family = binomial(link = \"logit\"), data = exp_users_train)"
   ]
  },
  {
   "cell_type": "code",
   "execution_count": 13,
   "metadata": {},
   "outputs": [
    {
     "data": {
      "text/plain": [
       "Generalized linear mixed model fit by maximum likelihood (Laplace\n",
       "  Approximation) [glmerMod]\n",
       " Family: binomial  ( logit )\n",
       "Formula: did_edit ~ hp_variant + (1 | wiki_db)\n",
       "   Data: exp_users_train\n",
       "\n",
       "     AIC      BIC   logLik deviance df.resid \n",
       "  8791.2   8817.2  -4392.6   8785.2    43159 \n",
       "\n",
       "Scaled residuals: \n",
       "    Min      1Q  Median      3Q     Max \n",
       "-0.1883 -0.1657 -0.1341 -0.1239  9.0445 \n",
       "\n",
       "Random effects:\n",
       " Groups  Name        Variance Std.Dev.\n",
       " wiki_db (Intercept) 0.101    0.3178  \n",
       "Number of obs: 43162, groups:  wiki_db, 16\n",
       "\n",
       "Fixed effects:\n",
       "            Estimate Std. Error z value Pr(>|z|)    \n",
       "(Intercept) -3.87609    0.10054 -38.552   <2e-16 ***\n",
       "hp_variantD -0.00915    0.06676  -0.137    0.891    \n",
       "---\n",
       "Signif. codes:  0 ‘***’ 0.001 ‘**’ 0.01 ‘*’ 0.05 ‘.’ 0.1 ‘ ’ 1\n",
       "\n",
       "Correlation of Fixed Effects:\n",
       "            (Intr)\n",
       "hp_variantD -0.329"
      ]
     },
     "metadata": {},
     "output_type": "display_data"
    }
   ],
   "source": [
    "summary(edit.model.1)"
   ]
  },
  {
   "cell_type": "markdown",
   "metadata": {},
   "source": [
    "This model suggests that overall, variant is not associated with a difference in probability of making a tagged edit.\n",
    "\n",
    "Let us see if there's variation by wiki on this."
   ]
  },
  {
   "cell_type": "code",
   "execution_count": 14,
   "metadata": {},
   "outputs": [],
   "source": [
    "## 1: only variant as a predictor:\n",
    "edit.model.1.2 = glmer(formula = did_edit ~ hp_variant + (1 + hp_variant | wiki_db),\n",
    "                    family = binomial(link = \"logit\"), data = exp_users_train)"
   ]
  },
  {
   "cell_type": "code",
   "execution_count": 15,
   "metadata": {},
   "outputs": [
    {
     "data": {
      "text/plain": [
       "Generalized linear mixed model fit by maximum likelihood (Laplace\n",
       "  Approximation) [glmerMod]\n",
       " Family: binomial  ( logit )\n",
       "Formula: did_edit ~ hp_variant + (1 + hp_variant | wiki_db)\n",
       "   Data: exp_users_train\n",
       "\n",
       "     AIC      BIC   logLik deviance df.resid \n",
       "  8795.1   8838.5  -4392.6   8785.1    43157 \n",
       "\n",
       "Scaled residuals: \n",
       "    Min      1Q  Median      3Q     Max \n",
       "-0.1888 -0.1657 -0.1349 -0.1241  9.0938 \n",
       "\n",
       "Random effects:\n",
       " Groups  Name        Variance Std.Dev. Corr\n",
       " wiki_db (Intercept) 0.099039 0.31471      \n",
       "         hp_variantD 0.004089 0.06394  0.05\n",
       "Number of obs: 43162, groups:  wiki_db, 16\n",
       "\n",
       "Fixed effects:\n",
       "            Estimate Std. Error z value Pr(>|z|)    \n",
       "(Intercept) -3.87333    0.10068  -38.47   <2e-16 ***\n",
       "hp_variantD -0.01570    0.07476   -0.21    0.834    \n",
       "---\n",
       "Signif. codes:  0 ‘***’ 0.001 ‘**’ 0.01 ‘*’ 0.05 ‘.’ 0.1 ‘ ’ 1\n",
       "\n",
       "Correlation of Fixed Effects:\n",
       "            (Intr)\n",
       "hp_variantD -0.333"
      ]
     },
     "metadata": {},
     "output_type": "display_data"
    }
   ],
   "source": [
    "summary(edit.model.1.2)"
   ]
  },
  {
   "cell_type": "code",
   "execution_count": 16,
   "metadata": {},
   "outputs": [
    {
     "data": {
      "text/plain": [
       "$wiki_db\n",
       "       (Intercept)   hp_variantD\n",
       "arwiki -0.35404034 -0.0256666572\n",
       "cswiki -0.06900831 -0.0050299861\n",
       "fawiki  0.53934560 -0.0074050489\n",
       "frwiki -0.29621150  0.0120409184\n",
       "hewiki  0.21336268 -0.0035156827\n",
       "huwiki  0.10202484  0.0126160669\n",
       "hywiki -0.11468610  0.0009386505\n",
       "kowiki -0.51134061 -0.0148061238\n",
       "plwiki  0.20413091 -0.0029191728\n",
       "ptwiki -0.13329579 -0.0176369278\n",
       "ruwiki  0.32727535  0.0474289115\n",
       "srwiki  0.03319705  0.0035042439\n",
       "svwiki -0.05539796 -0.0097914613\n",
       "trwiki  0.27775492  0.0084623309\n",
       "ukwiki  0.09066297  0.0131001710\n",
       "viwiki -0.12368013 -0.0072245448\n",
       "\n",
       "with conditional variances for “wiki_db” "
      ]
     },
     "metadata": {},
     "output_type": "display_data"
    }
   ],
   "source": [
    "ranef(edit.model.1.2)"
   ]
  },
  {
   "cell_type": "markdown",
   "metadata": {},
   "source": [
    "The model is not singular, which suggests that there's enough variation and data to support it. However, the BIC is much worse than the first model. So while there *is* some variation between wikis, it's not large enough to mean anything.\n",
    "\n",
    "## Desktop/mobile registration\n",
    "\n",
    "We add whether the user registered on desktop or mobile as a predictor."
   ]
  },
  {
   "cell_type": "code",
   "execution_count": 18,
   "metadata": {},
   "outputs": [],
   "source": [
    "## 2: add desktop/mobile\n",
    "edit.model.2 = glmer(formula = did_edit ~ hp_variant + reg_on_mobile + (1 | wiki_db),\n",
    "                    family = binomial(link = \"logit\"), data = exp_users_train)\n"
   ]
  },
  {
   "cell_type": "code",
   "execution_count": 19,
   "metadata": {},
   "outputs": [
    {
     "data": {
      "text/plain": [
       "Generalized linear mixed model fit by maximum likelihood (Laplace\n",
       "  Approximation) [glmerMod]\n",
       " Family: binomial  ( logit )\n",
       "Formula: did_edit ~ hp_variant + reg_on_mobile + (1 | wiki_db)\n",
       "   Data: exp_users_train\n",
       "\n",
       "     AIC      BIC   logLik deviance df.resid \n",
       "  8777.5   8812.2  -4384.7   8769.5    43158 \n",
       "\n",
       "Scaled residuals: \n",
       "    Min      1Q  Median      3Q     Max \n",
       "-0.2049 -0.1662 -0.1420 -0.1238  9.9548 \n",
       "\n",
       "Random effects:\n",
       " Groups  Name        Variance Std.Dev.\n",
       " wiki_db (Intercept) 0.1049   0.3239  \n",
       "Number of obs: 43162, groups:  wiki_db, 16\n",
       "\n",
       "Fixed effects:\n",
       "               Estimate Std. Error z value Pr(>|z|)    \n",
       "(Intercept)   -3.772666   0.104689 -36.037  < 2e-16 ***\n",
       "hp_variantD   -0.008711   0.066766  -0.130    0.896    \n",
       "reg_on_mobile -0.282008   0.071636  -3.937 8.26e-05 ***\n",
       "---\n",
       "Signif. codes:  0 ‘***’ 0.001 ‘**’ 0.01 ‘*’ 0.05 ‘.’ 0.1 ‘ ’ 1\n",
       "\n",
       "Correlation of Fixed Effects:\n",
       "            (Intr) hp_vrD\n",
       "hp_variantD -0.316       \n",
       "reg_on_mobl -0.230 -0.002"
      ]
     },
     "metadata": {},
     "output_type": "display_data"
    }
   ],
   "source": [
    "summary(edit.model.2)"
   ]
  },
  {
   "cell_type": "markdown",
   "metadata": {},
   "source": [
    "We see that where the user registers also has a strong effect on their likelyhood of making a tagged edit. Here we see the effect is at most 7% (0.28/4) lower if the user is on mobile. There's also a somewhat lower BIC in this model, suggesting that we're getting a slightly better fit.\n",
    "\n",
    "## Interaction between variant and desktop/mobile\n",
    "\n",
    "One of the key findings of our previous analysis was that there was a strong interaction effect between which variant group the user was in, and whether they registered on desktop or mobile. An *interaction effect* means that the effect of one of the predictors is altered by the effect of another predictor. In our case, since both predictor are binary categorical variables, it means that the outcome is altered depending on the combination of those categories."
   ]
  },
  {
   "cell_type": "code",
   "execution_count": 20,
   "metadata": {},
   "outputs": [],
   "source": [
    "## 3: desktop/mobile interaction\n",
    "edit.model.3 = glmer(formula = did_edit ~ hp_variant * reg_on_mobile + (1 | wiki_db),\n",
    "                    family = binomial(link = \"logit\"), data = exp_users_train)"
   ]
  },
  {
   "cell_type": "code",
   "execution_count": 21,
   "metadata": {},
   "outputs": [
    {
     "data": {
      "text/plain": [
       "Generalized linear mixed model fit by maximum likelihood (Laplace\n",
       "  Approximation) [glmerMod]\n",
       " Family: binomial  ( logit )\n",
       "Formula: did_edit ~ hp_variant * reg_on_mobile + (1 | wiki_db)\n",
       "   Data: exp_users_train\n",
       "\n",
       "     AIC      BIC   logLik deviance df.resid \n",
       "  8770.3   8813.7  -4380.2   8760.3    43157 \n",
       "\n",
       "Scaled residuals: \n",
       "    Min      1Q  Median      3Q     Max \n",
       "-0.2116 -0.1650 -0.1369 -0.1242 10.6955 \n",
       "\n",
       "Random effects:\n",
       " Groups  Name        Variance Std.Dev.\n",
       " wiki_db (Intercept) 0.105    0.3241  \n",
       "Number of obs: 43162, groups:  wiki_db, 16\n",
       "\n",
       "Fixed effects:\n",
       "                          Estimate Std. Error z value Pr(>|z|)    \n",
       "(Intercept)               -3.85256    0.10919 -35.284  < 2e-16 ***\n",
       "hp_variantD                0.14616    0.08428   1.734  0.08286 .  \n",
       "reg_on_mobile             -0.07812    0.09742  -0.802  0.42263    \n",
       "hp_variantD:reg_on_mobile -0.42042    0.13922  -3.020  0.00253 ** \n",
       "---\n",
       "Signif. codes:  0 ‘***’ 0.001 ‘**’ 0.01 ‘*’ 0.05 ‘.’ 0.1 ‘ ’ 1\n",
       "\n",
       "Correlation of Fixed Effects:\n",
       "            (Intr) hp_vrD rg_n_m\n",
       "hp_variantD -0.412              \n",
       "reg_on_mobl -0.353  0.462       \n",
       "hp_vrntD:__  0.250 -0.605 -0.674"
      ]
     },
     "metadata": {},
     "output_type": "display_data"
    }
   ],
   "source": [
    "summary(edit.model.3)"
   ]
  },
  {
   "cell_type": "markdown",
   "metadata": {},
   "source": [
    "This model suggests that there might be some interactions between platform and variant, which we've also seen in previous analyses. We'll dig into that a little further down when we've trained a model on the entire dataset."
   ]
  },
  {
   "cell_type": "code",
   "execution_count": null,
   "metadata": {},
   "outputs": [],
   "source": [
    "plot_ROC(edit.model.3, exp_users_validate, 'did_edit', \"Model 3 ROC\", cutoff_steps = 0.025)"
   ]
  },
  {
   "cell_type": "markdown",
   "metadata": {},
   "source": [
    "## Variation across wikis\n",
    "\n",
    "We test if the effect of these predictors vary significantly by wiki."
   ]
  },
  {
   "cell_type": "code",
   "execution_count": 22,
   "metadata": {},
   "outputs": [
    {
     "name": "stderr",
     "output_type": "stream",
     "text": [
      "boundary (singular) fit: see ?isSingular\n",
      "\n"
     ]
    }
   ],
   "source": [
    "## 4: interaction as group-level predictors\n",
    "edit.model.4 = glmer(formula = did_edit ~ hp_variant * reg_on_mobile +\n",
    "                      (1 + hp_variant * reg_on_mobile | wiki_db),\n",
    "                    family = binomial(link = \"logit\"), data = exp_users_train)"
   ]
  },
  {
   "cell_type": "code",
   "execution_count": null,
   "metadata": {},
   "outputs": [],
   "source": [
    "## If model didn't converge, restart and give it some more iterations:\n",
    "start_vals = getME(edit.model.4, c(\"theta\", \"fixef\"))\n",
    "edit.model.4 = update(edit.model.4, start = start_vals,\n",
    "                     control = glmerControl(optCtrl = list(maxfun = 2e4)))\n"
   ]
  },
  {
   "cell_type": "code",
   "execution_count": 25,
   "metadata": {},
   "outputs": [
    {
     "name": "stderr",
     "output_type": "stream",
     "text": [
      "boundary (singular) fit: see ?isSingular\n",
      "\n"
     ]
    }
   ],
   "source": [
    "## variant and desktop/mobile as group-level predictors, but no interaction\n",
    "edit.model.4.1 = glmer(formula = did_edit ~ hp_variant * reg_on_mobile +\n",
    "                      (1 + hp_variant + reg_on_mobile | wiki_db),\n",
    "                    family = binomial(link = \"logit\"), data = exp_users_train)"
   ]
  },
  {
   "cell_type": "code",
   "execution_count": 26,
   "metadata": {},
   "outputs": [
    {
     "name": "stderr",
     "output_type": "stream",
     "text": [
      "boundary (singular) fit: see ?isSingular\n",
      "\n"
     ]
    }
   ],
   "source": [
    "## just mobile as group-level predictors\n",
    "edit.model.4.2 = glmer(formula = did_edit ~ hp_variant * reg_on_mobile +\n",
    "                      (1 + reg_on_mobile | wiki_db),\n",
    "                    family = binomial(link = \"logit\"), data = exp_users_train)"
   ]
  },
  {
   "cell_type": "code",
   "execution_count": 27,
   "metadata": {},
   "outputs": [
    {
     "name": "stderr",
     "output_type": "stream",
     "text": [
      "boundary (singular) fit: see ?isSingular\n",
      "\n"
     ]
    }
   ],
   "source": [
    "## just variant as group-level predictors\n",
    "edit.model.4.3 = glmer(formula = did_edit ~ hp_variant * reg_on_mobile +\n",
    "                      (1 + hp_variant | wiki_db),\n",
    "                    family = binomial(link = \"logit\"), data = exp_users_train)"
   ]
  },
  {
   "cell_type": "markdown",
   "metadata": {},
   "source": [
    "The models converge, but we get a warning that the fit is \"singular\". From previous analyses, we've learned that this means that the variation between wikis is not large enough to be detectable. In our previous analyses, this was thought to be primarily because we had only four wikis. Now we have 16, but I think it's connected to how much variation is left considering the other predictors. It looks like the variant/platform interaction is our main effect here.\n",
    "\n",
    "## Time as a predictor\n",
    "\n",
    "Lastly, we add time as a predictor, in this case a variable measuring the number of weeks between when the user registered and the start of the experiment. This enables us to understand if the probability of a user editing changes as time progresses."
   ]
  },
  {
   "cell_type": "code",
   "execution_count": 23,
   "metadata": {},
   "outputs": [],
   "source": [
    "## 5: add time\n",
    "edit.model.5 = glmer(formula = did_edit ~ hp_variant * reg_on_mobile +\n",
    "                      ln_exp_weeks + (1 | wiki_db),\n",
    "                    family = binomial(link = \"logit\"), data = exp_users_train)\n"
   ]
  },
  {
   "cell_type": "code",
   "execution_count": 24,
   "metadata": {},
   "outputs": [
    {
     "data": {
      "text/plain": [
       "Generalized linear mixed model fit by maximum likelihood (Laplace\n",
       "  Approximation) [glmerMod]\n",
       " Family: binomial  ( logit )\n",
       "Formula: did_edit ~ hp_variant * reg_on_mobile + ln_exp_weeks + (1 | wiki_db)\n",
       "   Data: exp_users_train\n",
       "\n",
       "     AIC      BIC   logLik deviance df.resid \n",
       "  8771.0   8823.1  -4379.5   8759.0    43156 \n",
       "\n",
       "Scaled residuals: \n",
       "    Min      1Q  Median      3Q     Max \n",
       "-0.2173 -0.1654 -0.1371 -0.1232 10.6562 \n",
       "\n",
       "Random effects:\n",
       " Groups  Name        Variance Std.Dev.\n",
       " wiki_db (Intercept) 0.1054   0.3246  \n",
       "Number of obs: 43162, groups:  wiki_db, 16\n",
       "\n",
       "Fixed effects:\n",
       "                          Estimate Std. Error z value Pr(>|z|)    \n",
       "(Intercept)               -3.94622    0.13670 -28.868  < 2e-16 ***\n",
       "hp_variantD                0.14709    0.08430   1.745  0.08099 .  \n",
       "reg_on_mobile             -0.07675    0.09744  -0.788  0.43089    \n",
       "ln_exp_weeks               0.08946    0.07800   1.147  0.25138    \n",
       "hp_variantD:reg_on_mobile -0.41997    0.13927  -3.016  0.00257 ** \n",
       "---\n",
       "Signif. codes:  0 ‘***’ 0.001 ‘**’ 0.01 ‘*’ 0.05 ‘.’ 0.1 ‘ ’ 1\n",
       "\n",
       "Correlation of Fixed Effects:\n",
       "            (Intr) hp_vrD rg_n_m ln_xp_\n",
       "hp_variantD -0.334                     \n",
       "reg_on_mobl -0.289  0.462              \n",
       "ln_exp_weks -0.602  0.010  0.012       \n",
       "hp_vrntD:__  0.198 -0.605 -0.674  0.003"
      ]
     },
     "metadata": {},
     "output_type": "display_data"
    }
   ],
   "source": [
    "summary(edit.model.5)"
   ]
  },
  {
   "cell_type": "code",
   "execution_count": 28,
   "metadata": {},
   "outputs": [],
   "source": [
    "## 5.1: time in days\n",
    "edit.model.5.1 = glmer(formula = did_edit ~ hp_variant * reg_on_mobile +\n",
    "                      ln_exp_days + (1 | wiki_db),\n",
    "                    family = binomial(link = \"logit\"), data = exp_users_train)\n"
   ]
  },
  {
   "cell_type": "code",
   "execution_count": 29,
   "metadata": {},
   "outputs": [
    {
     "data": {
      "text/plain": [
       "Generalized linear mixed model fit by maximum likelihood (Laplace\n",
       "  Approximation) [glmerMod]\n",
       " Family: binomial  ( logit )\n",
       "Formula: did_edit ~ hp_variant * reg_on_mobile + ln_exp_days + (1 | wiki_db)\n",
       "   Data: exp_users_train\n",
       "\n",
       "     AIC      BIC   logLik deviance df.resid \n",
       "  8771.0   8823.0  -4379.5   8759.0    43156 \n",
       "\n",
       "Scaled residuals: \n",
       "    Min      1Q  Median      3Q     Max \n",
       "-0.2165 -0.1654 -0.1372 -0.1232 10.6371 \n",
       "\n",
       "Random effects:\n",
       " Groups  Name        Variance Std.Dev.\n",
       " wiki_db (Intercept) 0.1054   0.3246  \n",
       "Number of obs: 43162, groups:  wiki_db, 16\n",
       "\n",
       "Fixed effects:\n",
       "                          Estimate Std. Error z value Pr(>|z|)    \n",
       "(Intercept)               -3.98852    0.15970 -24.975  < 2e-16 ***\n",
       "hp_variantD                0.14701    0.08430   1.744  0.08118 .  \n",
       "reg_on_mobile             -0.07679    0.09745  -0.788  0.43067    \n",
       "ln_exp_days                0.05336    0.04550   1.173  0.24090    \n",
       "hp_variantD:reg_on_mobile -0.41987    0.13927  -3.015  0.00257 ** \n",
       "---\n",
       "Signif. codes:  0 ‘***’ 0.001 ‘**’ 0.01 ‘*’ 0.05 ‘.’ 0.1 ‘ ’ 1\n",
       "\n",
       "Correlation of Fixed Effects:\n",
       "            (Intr) hp_vrD rg_n_m ln_xp_\n",
       "hp_variantD -0.287                     \n",
       "reg_on_mobl -0.250  0.462              \n",
       "ln_exp_days -0.730  0.009  0.011       \n",
       "hp_vrntD:__  0.168 -0.605 -0.674  0.003"
      ]
     },
     "metadata": {},
     "output_type": "display_data"
    }
   ],
   "source": [
    "summary(edit.model.5.1)"
   ]
  },
  {
   "cell_type": "markdown",
   "metadata": {},
   "source": [
    "It appears that time does not have an effect in this experiment, and adding it does not improve fitness as the BIC is lower. Since the experiment only ran over 4 weeks, and there isn't anything that significantly changes wiki processes (e.g. there's not a need for support systems to ramp up capacity), it makes sense that time isn't a strong factor here. Given the higher BIC and the lack of a significant predictor, I choose to remove it again.\n",
    "\n",
    "## Model across the entire dataset\n",
    "\n",
    "Our previous models were trained on a random 80% of our dataset. We switch to the full dataset and model again to get a sense of the predictors across all available data."
   ]
  },
  {
   "cell_type": "code",
   "execution_count": 30,
   "metadata": {},
   "outputs": [],
   "source": [
    "## 7: full model\n",
    "full.edit.model = glmer(formula = did_edit ~ hp_variant * reg_on_mobile + (1 | wiki_db),\n",
    "                    family = binomial(link = \"logit\"), data = exp_users)"
   ]
  },
  {
   "cell_type": "code",
   "execution_count": 31,
   "metadata": {},
   "outputs": [
    {
     "data": {
      "text/plain": [
       "Generalized linear mixed model fit by maximum likelihood (Laplace\n",
       "  Approximation) [glmerMod]\n",
       " Family: binomial  ( logit )\n",
       "Formula: did_edit ~ hp_variant * reg_on_mobile + (1 | wiki_db)\n",
       "   Data: exp_users\n",
       "\n",
       "     AIC      BIC   logLik deviance df.resid \n",
       " 11010.9  11055.4  -5500.5  11000.9    53946 \n",
       "\n",
       "Scaled residuals: \n",
       "    Min      1Q  Median      3Q     Max \n",
       "-0.2090 -0.1663 -0.1375 -0.1267 11.0501 \n",
       "\n",
       "Random effects:\n",
       " Groups  Name        Variance Std.Dev.\n",
       " wiki_db (Intercept) 0.1056   0.3249  \n",
       "Number of obs: 53951, groups:  wiki_db, 16\n",
       "\n",
       "Fixed effects:\n",
       "                          Estimate Std. Error z value Pr(>|z|)    \n",
       "(Intercept)               -3.87060    0.10498 -36.871  < 2e-16 ***\n",
       "hp_variantD                0.15590    0.07487   2.082  0.03732 *  \n",
       "reg_on_mobile             -0.13006    0.08821  -1.474  0.14036    \n",
       "hp_variantD:reg_on_mobile -0.32650    0.12379  -2.637  0.00835 ** \n",
       "---\n",
       "Signif. codes:  0 ‘***’ 0.001 ‘**’ 0.01 ‘*’ 0.05 ‘.’ 0.1 ‘ ’ 1\n",
       "\n",
       "Correlation of Fixed Effects:\n",
       "            (Intr) hp_vrD rg_n_m\n",
       "hp_variantD -0.382              \n",
       "reg_on_mobl -0.322  0.454       \n",
       "hp_vrntD:__  0.232 -0.603 -0.685"
      ]
     },
     "metadata": {},
     "output_type": "display_data"
    }
   ],
   "source": [
    "summary(full.edit.model)"
   ]
  },
  {
   "cell_type": "markdown",
   "metadata": {},
   "source": [
    "Let's check to see if there's group-level variation when we fit across the entire dataset."
   ]
  },
  {
   "cell_type": "code",
   "execution_count": 64,
   "metadata": {},
   "outputs": [
    {
     "name": "stderr",
     "output_type": "stream",
     "text": [
      "boundary (singular) fit: see ?isSingular\n",
      "\n"
     ]
    }
   ],
   "source": [
    "## 7: full model with group-level variation and interaction\n",
    "full.edit.model.1 = glmer(formula = did_edit ~ hp_variant * reg_on_mobile +\n",
    "                          (1 + hp_variant * reg_on_mobile | wiki_db),\n",
    "                    family = binomial(link = \"logit\"), data = exp_users)"
   ]
  },
  {
   "cell_type": "code",
   "execution_count": 65,
   "metadata": {},
   "outputs": [
    {
     "name": "stderr",
     "output_type": "stream",
     "text": [
      "boundary (singular) fit: see ?isSingular\n",
      "\n"
     ]
    }
   ],
   "source": [
    "## 7: full model with group-level variation but no interaction\n",
    "full.edit.model.2 = glmer(formula = did_edit ~ hp_variant * reg_on_mobile +\n",
    "                          (1 + hp_variant + reg_on_mobile | wiki_db),\n",
    "                    family = binomial(link = \"logit\"), data = exp_users)"
   ]
  },
  {
   "cell_type": "code",
   "execution_count": 66,
   "metadata": {},
   "outputs": [
    {
     "name": "stderr",
     "output_type": "stream",
     "text": [
      "boundary (singular) fit: see ?isSingular\n",
      "\n"
     ]
    }
   ],
   "source": [
    "## 7: full model with group-level variation in Homepage variant\n",
    "full.edit.model.3 = glmer(formula = did_edit ~ hp_variant * reg_on_mobile +\n",
    "                          (1 + hp_variant | wiki_db),\n",
    "                    family = binomial(link = \"logit\"), data = exp_users)"
   ]
  },
  {
   "cell_type": "code",
   "execution_count": 68,
   "metadata": {},
   "outputs": [
    {
     "name": "stderr",
     "output_type": "stream",
     "text": [
      "boundary (singular) fit: see ?isSingular\n",
      "\n"
     ]
    }
   ],
   "source": [
    "## 7: full model with group-level variation in platform\n",
    "full.edit.model.4 = glmer(formula = did_edit ~ hp_variant * reg_on_mobile +\n",
    "                          (1 + reg_on_mobile | wiki_db),\n",
    "                    family = binomial(link = \"logit\"), data = exp_users)"
   ]
  },
  {
   "cell_type": "markdown",
   "metadata": {},
   "source": [
    "All of the models with group-level variation are singular, indicating that neither of them is worth pursuing. We discard them and keep the original model without group-level variation in the predictors.\n",
    "\n",
    "Estimating the effects using the \"divide by 4 rule\"."
   ]
  },
  {
   "cell_type": "code",
   "execution_count": 71,
   "metadata": {},
   "outputs": [
    {
     "data": {
      "text/html": [
       "<strong>hp_variantD:</strong> 3.897550293623"
      ],
      "text/latex": [
       "\\textbf{hp\\textbackslash{}\\_variantD:} 3.897550293623"
      ],
      "text/markdown": [
       "**hp_variantD:** 3.897550293623"
      ],
      "text/plain": [
       "hp_variantD \n",
       "    3.89755 "
      ]
     },
     "metadata": {},
     "output_type": "display_data"
    }
   ],
   "source": [
    "100 * fixef(full.edit.model)[2] / 4"
   ]
  },
  {
   "cell_type": "code",
   "execution_count": 72,
   "metadata": {},
   "outputs": [
    {
     "data": {
      "text/html": [
       "<strong>hp_variantD:reg_on_mobile:</strong> -8.1624204682098"
      ],
      "text/latex": [
       "\\textbf{hp\\textbackslash{}\\_variantD:reg\\textbackslash{}\\_on\\textbackslash{}\\_mobile:} -8.1624204682098"
      ],
      "text/markdown": [
       "**hp_variantD:reg_on_mobile:** -8.1624204682098"
      ],
      "text/plain": [
       "hp_variantD:reg_on_mobile \n",
       "                 -8.16242 "
      ]
     },
     "metadata": {},
     "output_type": "display_data"
    }
   ],
   "source": [
    "100 * fixef(full.edit.model)[4] / 4"
   ]
  },
  {
   "cell_type": "code",
   "execution_count": 70,
   "metadata": {},
   "outputs": [
    {
     "data": {
      "text/html": [
       "<strong>hp_variantD:</strong> -4.2648701745868"
      ],
      "text/latex": [
       "\\textbf{hp\\textbackslash{}\\_variantD:} -4.2648701745868"
      ],
      "text/markdown": [
       "**hp_variantD:** -4.2648701745868"
      ],
      "text/plain": [
       "hp_variantD \n",
       "   -4.26487 "
      ]
     },
     "metadata": {},
     "output_type": "display_data"
    }
   ],
   "source": [
    "100 * (fixef(full.edit.model)[2] + fixef(full.edit.model)[4]) / 4"
   ]
  },
  {
   "cell_type": "markdown",
   "metadata": {},
   "source": [
    "The model across the full dataset shows the same trends as we saw with this model on the smaller dataset. In summary:\n",
    "\n",
    "1. We find no indication of meaningful variation between wikis when it comes to the effects of individual predictors, instead the effects are global. This means that per-wiki variation lies in the overall likelihood of editing.\n",
    "2. There is no significant difference between desktop and mobile for Variant C.\n",
    "3. Variant D on desktop is associated with a higher likelihood of making a tagged edit (3.9% increase), while on mobile it's associated with a lower likelihood of making a tagged edit (-8.2% decrease)\n",
    "\n",
    "## Overview table\n",
    "\n",
    "Since we've found that results vary by wiki, where the user registered, and what variant they saw, we create an overview table to show how the probability changes."
   ]
  },
  {
   "cell_type": "code",
   "execution_count": null,
   "metadata": {},
   "outputs": [],
   "source": [
    "reg_counts = exp_users[, list(n_registrations = sum(.N)),\n",
    "                       by = c('wiki_db', 'reg_on_mobile', 'hp_variant')]\n",
    "edit_counts = exp_users[did_edit == 1, list(n_edited = sum(.N)),\n",
    "                        by = c('wiki_db', 'reg_on_mobile', 'hp_variant')]\n",
    "merged_counts = merge(reg_counts, edit_counts, by = c('wiki_db', 'reg_on_mobile', 'hp_variant'))\n",
    "merged_counts[, percent_edited := 100 * n_edited / n_registrations]\n",
    "merged_counts"
   ]
  },
  {
   "cell_type": "markdown",
   "metadata": {},
   "source": [
    "We'd like to compare the results of this experiment with the Variant A/B experiment. The way the analysis is done is the same, so the numbers can be compared with each other."
   ]
  },
  {
   "cell_type": "code",
   "execution_count": 10,
   "metadata": {},
   "outputs": [
    {
     "data": {
      "text/html": [
       "<table>\n",
       "<caption>A data.table: 16 × 6</caption>\n",
       "<thead>\n",
       "\t<tr><th scope=col>wiki_db</th><th scope=col>reg_on_mobile</th><th scope=col>hp_variant</th><th scope=col>n_registrations</th><th scope=col>n_edited</th><th scope=col>percent_edited</th></tr>\n",
       "\t<tr><th scope=col>&lt;fct&gt;</th><th scope=col>&lt;int&gt;</th><th scope=col>&lt;chr&gt;</th><th scope=col>&lt;int&gt;</th><th scope=col>&lt;int&gt;</th><th scope=col>&lt;dbl&gt;</th></tr>\n",
       "</thead>\n",
       "<tbody>\n",
       "\t<tr><td>arwiki</td><td>0</td><td>C</td><td>1093</td><td>18</td><td>1.6468435</td></tr>\n",
       "\t<tr><td>arwiki</td><td>0</td><td>D</td><td>1008</td><td>14</td><td>1.3888889</td></tr>\n",
       "\t<tr><td>arwiki</td><td>1</td><td>C</td><td>2045</td><td>28</td><td>1.3691932</td></tr>\n",
       "\t<tr><td>arwiki</td><td>1</td><td>D</td><td>1992</td><td>26</td><td>1.3052209</td></tr>\n",
       "\t<tr><td>cswiki</td><td>0</td><td>C</td><td> 435</td><td>12</td><td>2.7586207</td></tr>\n",
       "\t<tr><td>cswiki</td><td>0</td><td>D</td><td> 465</td><td>10</td><td>2.1505376</td></tr>\n",
       "\t<tr><td>cswiki</td><td>1</td><td>C</td><td> 135</td><td> 4</td><td>2.9629630</td></tr>\n",
       "\t<tr><td>cswiki</td><td>1</td><td>D</td><td> 136</td><td> 1</td><td>0.7352941</td></tr>\n",
       "\t<tr><td>kowiki</td><td>0</td><td>C</td><td> 379</td><td> 1</td><td>0.2638522</td></tr>\n",
       "\t<tr><td>kowiki</td><td>0</td><td>D</td><td> 385</td><td> 2</td><td>0.5194805</td></tr>\n",
       "\t<tr><td>kowiki</td><td>1</td><td>C</td><td> 229</td><td> 2</td><td>0.8733624</td></tr>\n",
       "\t<tr><td>kowiki</td><td>1</td><td>D</td><td> 214</td><td> 2</td><td>0.9345794</td></tr>\n",
       "\t<tr><td>viwiki</td><td>0</td><td>C</td><td> 654</td><td>13</td><td>1.9877676</td></tr>\n",
       "\t<tr><td>viwiki</td><td>0</td><td>D</td><td> 674</td><td>11</td><td>1.6320475</td></tr>\n",
       "\t<tr><td>viwiki</td><td>1</td><td>C</td><td> 436</td><td> 5</td><td>1.1467890</td></tr>\n",
       "\t<tr><td>viwiki</td><td>1</td><td>D</td><td> 443</td><td> 6</td><td>1.3544018</td></tr>\n",
       "</tbody>\n",
       "</table>\n"
      ],
      "text/latex": [
       "A data.table: 16 × 6\n",
       "\\begin{tabular}{llllll}\n",
       " wiki\\_db & reg\\_on\\_mobile & hp\\_variant & n\\_registrations & n\\_edited & percent\\_edited\\\\\n",
       " <fct> & <int> & <chr> & <int> & <int> & <dbl>\\\\\n",
       "\\hline\n",
       "\t arwiki & 0 & C & 1093 & 18 & 1.6468435\\\\\n",
       "\t arwiki & 0 & D & 1008 & 14 & 1.3888889\\\\\n",
       "\t arwiki & 1 & C & 2045 & 28 & 1.3691932\\\\\n",
       "\t arwiki & 1 & D & 1992 & 26 & 1.3052209\\\\\n",
       "\t cswiki & 0 & C &  435 & 12 & 2.7586207\\\\\n",
       "\t cswiki & 0 & D &  465 & 10 & 2.1505376\\\\\n",
       "\t cswiki & 1 & C &  135 &  4 & 2.9629630\\\\\n",
       "\t cswiki & 1 & D &  136 &  1 & 0.7352941\\\\\n",
       "\t kowiki & 0 & C &  379 &  1 & 0.2638522\\\\\n",
       "\t kowiki & 0 & D &  385 &  2 & 0.5194805\\\\\n",
       "\t kowiki & 1 & C &  229 &  2 & 0.8733624\\\\\n",
       "\t kowiki & 1 & D &  214 &  2 & 0.9345794\\\\\n",
       "\t viwiki & 0 & C &  654 & 13 & 1.9877676\\\\\n",
       "\t viwiki & 0 & D &  674 & 11 & 1.6320475\\\\\n",
       "\t viwiki & 1 & C &  436 &  5 & 1.1467890\\\\\n",
       "\t viwiki & 1 & D &  443 &  6 & 1.3544018\\\\\n",
       "\\end{tabular}\n"
      ],
      "text/markdown": [
       "\n",
       "A data.table: 16 × 6\n",
       "\n",
       "| wiki_db &lt;fct&gt; | reg_on_mobile &lt;int&gt; | hp_variant &lt;chr&gt; | n_registrations &lt;int&gt; | n_edited &lt;int&gt; | percent_edited &lt;dbl&gt; |\n",
       "|---|---|---|---|---|---|\n",
       "| arwiki | 0 | C | 1093 | 18 | 1.6468435 |\n",
       "| arwiki | 0 | D | 1008 | 14 | 1.3888889 |\n",
       "| arwiki | 1 | C | 2045 | 28 | 1.3691932 |\n",
       "| arwiki | 1 | D | 1992 | 26 | 1.3052209 |\n",
       "| cswiki | 0 | C |  435 | 12 | 2.7586207 |\n",
       "| cswiki | 0 | D |  465 | 10 | 2.1505376 |\n",
       "| cswiki | 1 | C |  135 |  4 | 2.9629630 |\n",
       "| cswiki | 1 | D |  136 |  1 | 0.7352941 |\n",
       "| kowiki | 0 | C |  379 |  1 | 0.2638522 |\n",
       "| kowiki | 0 | D |  385 |  2 | 0.5194805 |\n",
       "| kowiki | 1 | C |  229 |  2 | 0.8733624 |\n",
       "| kowiki | 1 | D |  214 |  2 | 0.9345794 |\n",
       "| viwiki | 0 | C |  654 | 13 | 1.9877676 |\n",
       "| viwiki | 0 | D |  674 | 11 | 1.6320475 |\n",
       "| viwiki | 1 | C |  436 |  5 | 1.1467890 |\n",
       "| viwiki | 1 | D |  443 |  6 | 1.3544018 |\n",
       "\n"
      ],
      "text/plain": [
       "   wiki_db reg_on_mobile hp_variant n_registrations n_edited percent_edited\n",
       "1  arwiki  0             C          1093            18       1.6468435     \n",
       "2  arwiki  0             D          1008            14       1.3888889     \n",
       "3  arwiki  1             C          2045            28       1.3691932     \n",
       "4  arwiki  1             D          1992            26       1.3052209     \n",
       "5  cswiki  0             C           435            12       2.7586207     \n",
       "6  cswiki  0             D           465            10       2.1505376     \n",
       "7  cswiki  1             C           135             4       2.9629630     \n",
       "8  cswiki  1             D           136             1       0.7352941     \n",
       "9  kowiki  0             C           379             1       0.2638522     \n",
       "10 kowiki  0             D           385             2       0.5194805     \n",
       "11 kowiki  1             C           229             2       0.8733624     \n",
       "12 kowiki  1             D           214             2       0.9345794     \n",
       "13 viwiki  0             C           654            13       1.9877676     \n",
       "14 viwiki  0             D           674            11       1.6320475     \n",
       "15 viwiki  1             C           436             5       1.1467890     \n",
       "16 viwiki  1             D           443             6       1.3544018     "
      ]
     },
     "metadata": {},
     "output_type": "display_data"
    }
   ],
   "source": [
    "merged_counts[wiki_db %in% c('arwiki', 'cswiki', 'kowiki', 'viwiki')]"
   ]
  },
  {
   "cell_type": "code",
   "execution_count": 41,
   "metadata": {},
   "outputs": [],
   "source": [
    "merged_counts[, platform := 'desktop']\n",
    "merged_counts[reg_on_mobile == 1, platform := 'mobile']\n",
    "merged_counts$platform = factor(merged_counts$platform)\n",
    "\n",
    "merged_counts$hp_variant = factor(merged_counts$hp_variant)"
   ]
  },
  {
   "cell_type": "code",
   "execution_count": 61,
   "metadata": {},
   "outputs": [],
   "source": [
    "plots = lapply(unique(merged_counts$wiki_db), function(w) {\n",
    "    ggplot(merged_counts[wiki_db == w], aes(x = platform, y = percent_edited, fill = hp_variant)) +\n",
    "        theme_bw() +\n",
    "        theme(axis.title.x = element_text(size = rel(1.5)),\n",
    "            axis.text.x = element_text(size = rel(1.25)),\n",
    "            axis.title.y = element_text(size = rel(1.5)),\n",
    "            axis.text.y = element_text(size = rel(1.25))) +\n",
    "        scale_fill_brewer(\"Variant\", palette = 'Set1') +\n",
    "        labs(x = \"Platform\", y = \"Probability (in %)\", title = w) +\n",
    "        geom_col(position = \"dodge2\")\n",
    "})\n",
    "\n",
    "# ggsave(plot = g, file = \"graphs/tagged_edit_probabilities.png\",\n",
    "#       width = 14, height = 7, units = \"in\", dpi = \"retina\")"
   ]
  },
  {
   "cell_type": "code",
   "execution_count": 62,
   "metadata": {},
   "outputs": [
    {
     "data": {
      "image/png": "[encoded data removed]",
      "text/plain": [
       "plot without title"
      ]
     },
     "metadata": {
      "image/png": {
       "height": 1260,
       "width": 840
      }
     },
     "output_type": "display_data"
    }
   ],
   "source": [
    "options(repr.plot.width = 14, repr.plot.height = 21)\n",
    "grid.arrange(grobs = plots, ncol = 2)"
   ]
  },
  {
   "cell_type": "markdown",
   "metadata": {},
   "source": [
    "## Summary\n",
    "\n",
    "\n",
    "## Additional analysis\n",
    "\n",
    "What's the probability difference across the dataset for C vs D? Our model doesn't pick up meaningful per-wiki variation of either platform or variant, so let's just grab the global proportions."
   ]
  },
  {
   "cell_type": "code",
   "execution_count": 73,
   "metadata": {},
   "outputs": [
    {
     "data": {
      "text/html": [
       "<table>\n",
       "<caption>A data.table: 4 × 5</caption>\n",
       "<thead>\n",
       "\t<tr><th scope=col>platform</th><th scope=col>hp_variant</th><th scope=col>n_registrations</th><th scope=col>n_edited</th><th scope=col>perc_edited</th></tr>\n",
       "\t<tr><th scope=col>&lt;fct&gt;</th><th scope=col>&lt;fct&gt;</th><th scope=col>&lt;int&gt;</th><th scope=col>&lt;int&gt;</th><th scope=col>&lt;dbl&gt;</th></tr>\n",
       "</thead>\n",
       "<tbody>\n",
       "\t<tr><td>desktop</td><td>C</td><td>15598</td><td>338</td><td>2.166944</td></tr>\n",
       "\t<tr><td>desktop</td><td>D</td><td>15519</td><td>393</td><td>2.532380</td></tr>\n",
       "\t<tr><td>mobile </td><td>C</td><td>11378</td><td>227</td><td>1.995078</td></tr>\n",
       "\t<tr><td>mobile </td><td>D</td><td>11273</td><td>192</td><td>1.703185</td></tr>\n",
       "</tbody>\n",
       "</table>\n"
      ],
      "text/latex": [
       "A data.table: 4 × 5\n",
       "\\begin{tabular}{lllll}\n",
       " platform & hp\\_variant & n\\_registrations & n\\_edited & perc\\_edited\\\\\n",
       " <fct> & <fct> & <int> & <int> & <dbl>\\\\\n",
       "\\hline\n",
       "\t desktop & C & 15598 & 338 & 2.166944\\\\\n",
       "\t desktop & D & 15519 & 393 & 2.532380\\\\\n",
       "\t mobile  & C & 11378 & 227 & 1.995078\\\\\n",
       "\t mobile  & D & 11273 & 192 & 1.703185\\\\\n",
       "\\end{tabular}\n"
      ],
      "text/markdown": [
       "\n",
       "A data.table: 4 × 5\n",
       "\n",
       "| platform &lt;fct&gt; | hp_variant &lt;fct&gt; | n_registrations &lt;int&gt; | n_edited &lt;int&gt; | perc_edited &lt;dbl&gt; |\n",
       "|---|---|---|---|---|\n",
       "| desktop | C | 15598 | 338 | 2.166944 |\n",
       "| desktop | D | 15519 | 393 | 2.532380 |\n",
       "| mobile  | C | 11378 | 227 | 1.995078 |\n",
       "| mobile  | D | 11273 | 192 | 1.703185 |\n",
       "\n"
      ],
      "text/plain": [
       "  platform hp_variant n_registrations n_edited perc_edited\n",
       "1 desktop  C          15598           338      2.166944   \n",
       "2 desktop  D          15519           393      2.532380   \n",
       "3 mobile   C          11378           227      1.995078   \n",
       "4 mobile   D          11273           192      1.703185   "
      ]
     },
     "metadata": {},
     "output_type": "display_data"
    }
   ],
   "source": [
    "merged_counts[, list(n_registrations = sum(n_registrations), n_edited = sum(n_edited),\n",
    "                     perc_edited = 100 * sum(n_edited) / sum(n_registrations)),\n",
    "              by = c('platform', 'hp_variant')]"
   ]
  },
  {
   "cell_type": "code",
   "execution_count": null,
   "metadata": {},
   "outputs": [],
   "source": [
    "(1.409 - 0.820) / 1.409"
   ]
  }
 ],
 "metadata": {
  "kernelspec": {
   "display_name": "R",
   "language": "R",
   "name": "ir"
  },
  "language_info": {
   "codemirror_mode": "r",
   "file_extension": ".r",
   "mimetype": "text/x-r-source",
   "name": "R",
   "pygments_lexer": "r",
   "version": "3.5.2"
  }
 },
 "nbformat": 4,
 "nbformat_minor": 4
}
