{
 "cells": [
  {
   "cell_type": "markdown",
   "metadata": {},
   "source": [
    "# Impact of Homepage Discovery features\n",
    "\n",
    "We've deployed several features that provide new users with information about the Homepage's existance. The phab task for this analysis ([T228338](https://phabricator.wikimedia.org/T228338)) gives an overview of the four changes that were made.\n",
    "\n",
    "In our [leading indicator report](https://www.mediawiki.org/wiki/Growth/Personalized_first_day/Newcomer_homepage/Measurement_and_experiment_plan#Status_of_leading_indicators), we found that the Homepage visitor rate on Czech is 30.4%, and on Korean it is 22.7%. These numbers are for desktop users only. The goal of the Homepage Discovery features was to increase this by 100%, meaning the numbers double to 60.8% and 45.4%, but we'd prefer if the Korean rate was in the 50–60% range.\n",
    "\n",
    "We have four features, so let's figure out when these were deployed:\n",
    "\n",
    "1. Email confirmation page ([T222848](https://phabricator.wikimedia.org/T222848)). Deployment date is not mentioned in the Phab task, we can use the data to figure out when it first was used in production.\n",
    "2. Link from Special:Contributions (desktop) ([T225328](https://phabricator.wikimedia.org/T225328)). Deployment date is not specified in the task.\n",
    "3. Link from Special:Contributions (mobile) ([T227575](https://phabricator.wikimedia.org/T227575)). Deployment date is not specified in the task.\n",
    "4. Guided tour ([T222852](https://phabricator.wikimedia.org/T222852)). Deployment date is not mentioned in the Phab task.\n",
    "\n",
    "It looks like all these were deployed as part of the train that week. In other words, we'll look them up in the data to identify when they were first being used in production, and set that as the timestamp of when the change occurred."
   ]
  },
  {
   "cell_type": "code",
   "execution_count": 1,
   "metadata": {},
   "outputs": [
    {
     "name": "stderr",
     "output_type": "stream",
     "text": [
      "You can find the source for `wmfdata` at https://github.com/neilpquinn/wmfdata\n"
     ]
    }
   ],
   "source": [
    "import json\n",
    "import datetime as dt\n",
    "\n",
    "import tabulate\n",
    "import pymysql\n",
    "\n",
    "import numpy as np\n",
    "import pandas as pd\n",
    "\n",
    "from wmfdata import hive, mariadb"
   ]
  },
  {
   "cell_type": "code",
   "execution_count": 2,
   "metadata": {},
   "outputs": [],
   "source": [
    "%load_ext rpy2.ipython"
   ]
  },
  {
   "cell_type": "code",
   "execution_count": 3,
   "metadata": {},
   "outputs": [],
   "source": [
    "%%R\n",
    "library(data.table)\n",
    "library(ggplot2)\n",
    "library(pwr)"
   ]
  },
  {
   "cell_type": "code",
   "execution_count": 4,
   "metadata": {},
   "outputs": [],
   "source": [
    "## Configuration variables\n",
    "\n",
    "## Czech Wikipedia setup:\n",
    "\n",
    "## User IDs of known users to exclude (Stephane, Elena, and Marshall's accounts)\n",
    "cs_known_users = set([322106, 339583, 341191, 341611, 433381, 433382, 433511, 404765, 421667,\n",
    "                      427625, 437386, 181724, 272273, 339583, 437386, 439783, 439792, 138342,\n",
    "                      392634, 404765, 275298, 458487, 458049])\n",
    "\n",
    "## Korean Wikipedia setup:\n",
    "\n",
    "## User IDs of known users to exclude\n",
    "ko_known_users = set([384066, 539296, 539299, 539302, 539303, 539304, 539305, 539306, 539307,\n",
    "                      539298, 416361, 416360, 413162, 495265, 518393, 518394, 518396, 530285,\n",
    "                      531579, 531785, 536786, 536787, 542720, 542721, 542722, 543192, 543193,\n",
    "                      544145, 544283, 470932, 38759, 555673])"
   ]
  },
  {
   "cell_type": "code",
   "execution_count": 5,
   "metadata": {},
   "outputs": [],
   "source": [
    "## Grab the user IDs of known test accounts so they can be added to the exclusion list\n",
    "\n",
    "username_patterns = [\"MMiller\", \"Zilant\", \"Roan\", \"KHarlan\", \"MWang\", \"SBtest\", \"Rho2019\"]\n",
    "\n",
    "known_user_query = '''\n",
    "SELECT user_id\n",
    "FROM user\n",
    "WHERE user_name LIKE \"{name_pattern}%\"\n",
    "'''\n",
    "\n",
    "for u_pattern in username_patterns:\n",
    "    cs_new_known = mariadb.run(known_user_query.format(\n",
    "        name_pattern = u_pattern), 'cswiki')\n",
    "    cs_known_users = cs_known_users | set(cs_new_known['user_id'])\n",
    "\n",
    "for u_pattern in username_patterns:\n",
    "    ko_new_known = mariadb.run(known_user_query.format(\n",
    "        name_pattern = u_pattern), 'kowiki')\n",
    "    ko_known_users = ko_known_users | set(ko_new_known['user_id'])"
   ]
  },
  {
   "cell_type": "markdown",
   "metadata": {},
   "source": [
    "## First usage of new paths to the Homepage\n",
    "\n",
    "This means answering two questions:\n",
    "\n",
    "1. What are the potential ways of getting to the Homepage?\n",
    "2. What is the first use of these ways in production (by a non-test user)?\n",
    "\n",
    "In this case, we can use the Homepage schemas even though they don't include the first few days of the experiment, because we're going to do an interrupted time-series analysis, meaning we're more interested what happened around the time of deployment of the *new* features than what happened when the Homepage was first released."
   ]
  },
  {
   "cell_type": "code",
   "execution_count": 6,
   "metadata": {},
   "outputs": [],
   "source": [
    "## Query to get Homepage paths and first timestamps from the Data Lake\n",
    "first_discovery_query = '''\n",
    "SELECT wiki, event.referer_route, MIN(dt) AS first_visit_ts\n",
    "FROM event_sanitized.homepagevisit\n",
    "WHERE year = 2019\n",
    "AND month BETWEEN 5 AND 8\n",
    "AND ((wiki = \"cswiki\"\n",
    "      AND event.user_id NOT IN ({cs_known_list}))\n",
    "      OR\n",
    "      (wiki = \"kowiki\"\n",
    "      AND event.user_id NOT IN ({ko_known_list})))\n",
    "GROUP BY wiki, event.referer_route\n",
    "LIMIT 100\n",
    "'''"
   ]
  },
  {
   "cell_type": "code",
   "execution_count": 7,
   "metadata": {},
   "outputs": [],
   "source": [
    "first_route_usage = hive.run(\n",
    "    first_discovery_query.format(\n",
    "        cs_known_list = ', '.join([str(u) for u in cs_known_users]),\n",
    "        ko_known_list = ', '.join([str(u) for u in ko_known_users])\n",
    "    )\n",
    ")"
   ]
  },
  {
   "cell_type": "code",
   "execution_count": 8,
   "metadata": {},
   "outputs": [
    {
     "data": {
      "text/html": [
       "<div>\n",
       "<style scoped>\n",
       "    .dataframe tbody tr th:only-of-type {\n",
       "        vertical-align: middle;\n",
       "    }\n",
       "\n",
       "    .dataframe tbody tr th {\n",
       "        vertical-align: top;\n",
       "    }\n",
       "\n",
       "    .dataframe thead th {\n",
       "        text-align: right;\n",
       "    }\n",
       "</style>\n",
       "<table border=\"1\" class=\"dataframe\">\n",
       "  <thead>\n",
       "    <tr style=\"text-align: right;\">\n",
       "      <th></th>\n",
       "      <th>wiki</th>\n",
       "      <th>referer_route</th>\n",
       "      <th>first_visit_ts</th>\n",
       "    </tr>\n",
       "  </thead>\n",
       "  <tbody>\n",
       "    <tr>\n",
       "      <td>0</td>\n",
       "      <td>cswiki</td>\n",
       "      <td>direct</td>\n",
       "      <td>2019-05-19T21:08:56Z</td>\n",
       "    </tr>\n",
       "    <tr>\n",
       "      <td>1</td>\n",
       "      <td>cswiki</td>\n",
       "      <td>other</td>\n",
       "      <td>2019-05-14T10:13:18Z</td>\n",
       "    </tr>\n",
       "    <tr>\n",
       "      <td>2</td>\n",
       "      <td>cswiki</td>\n",
       "      <td>personaltoolslink</td>\n",
       "      <td>2019-05-14T10:12:44Z</td>\n",
       "    </tr>\n",
       "    <tr>\n",
       "      <td>3</td>\n",
       "      <td>cswiki</td>\n",
       "      <td>specialconfirmemail</td>\n",
       "      <td>2019-07-12T10:44:14Z</td>\n",
       "    </tr>\n",
       "    <tr>\n",
       "      <td>4</td>\n",
       "      <td>cswiki</td>\n",
       "      <td>specialcontributions</td>\n",
       "      <td>2019-07-26T10:03:44Z</td>\n",
       "    </tr>\n",
       "    <tr>\n",
       "      <td>5</td>\n",
       "      <td>cswiki</td>\n",
       "      <td>specialwelcomesurvey</td>\n",
       "      <td>2019-07-25T13:05:23Z</td>\n",
       "    </tr>\n",
       "    <tr>\n",
       "      <td>6</td>\n",
       "      <td>cswiki</td>\n",
       "      <td>userpagetab</td>\n",
       "      <td>2019-05-14T06:39:32Z</td>\n",
       "    </tr>\n",
       "    <tr>\n",
       "      <td>7</td>\n",
       "      <td>cswiki</td>\n",
       "      <td>usertalkpagetab</td>\n",
       "      <td>2019-05-15T13:39:46Z</td>\n",
       "    </tr>\n",
       "    <tr>\n",
       "      <td>8</td>\n",
       "      <td>kowiki</td>\n",
       "      <td>direct</td>\n",
       "      <td>2019-06-13T16:58:57Z</td>\n",
       "    </tr>\n",
       "    <tr>\n",
       "      <td>9</td>\n",
       "      <td>kowiki</td>\n",
       "      <td>other</td>\n",
       "      <td>2019-05-16T07:58:11Z</td>\n",
       "    </tr>\n",
       "    <tr>\n",
       "      <td>10</td>\n",
       "      <td>kowiki</td>\n",
       "      <td>personaltoolslink</td>\n",
       "      <td>2019-05-14T11:16:59Z</td>\n",
       "    </tr>\n",
       "    <tr>\n",
       "      <td>11</td>\n",
       "      <td>kowiki</td>\n",
       "      <td>specialconfirmemail</td>\n",
       "      <td>2019-07-12T12:27:35Z</td>\n",
       "    </tr>\n",
       "    <tr>\n",
       "      <td>12</td>\n",
       "      <td>kowiki</td>\n",
       "      <td>specialcontributions</td>\n",
       "      <td>2019-07-27T05:33:20Z</td>\n",
       "    </tr>\n",
       "    <tr>\n",
       "      <td>13</td>\n",
       "      <td>kowiki</td>\n",
       "      <td>specialwelcomesurvey</td>\n",
       "      <td>2019-07-25T14:53:44Z</td>\n",
       "    </tr>\n",
       "    <tr>\n",
       "      <td>14</td>\n",
       "      <td>kowiki</td>\n",
       "      <td>userpagetab</td>\n",
       "      <td>2019-05-14T09:25:26Z</td>\n",
       "    </tr>\n",
       "    <tr>\n",
       "      <td>15</td>\n",
       "      <td>kowiki</td>\n",
       "      <td>usertalkpagetab</td>\n",
       "      <td>2019-05-14T14:45:48Z</td>\n",
       "    </tr>\n",
       "  </tbody>\n",
       "</table>\n",
       "</div>"
      ],
      "text/plain": [
       "      wiki         referer_route        first_visit_ts\n",
       "0   cswiki                direct  2019-05-19T21:08:56Z\n",
       "1   cswiki                 other  2019-05-14T10:13:18Z\n",
       "2   cswiki     personaltoolslink  2019-05-14T10:12:44Z\n",
       "3   cswiki   specialconfirmemail  2019-07-12T10:44:14Z\n",
       "4   cswiki  specialcontributions  2019-07-26T10:03:44Z\n",
       "5   cswiki  specialwelcomesurvey  2019-07-25T13:05:23Z\n",
       "6   cswiki           userpagetab  2019-05-14T06:39:32Z\n",
       "7   cswiki       usertalkpagetab  2019-05-15T13:39:46Z\n",
       "8   kowiki                direct  2019-06-13T16:58:57Z\n",
       "9   kowiki                 other  2019-05-16T07:58:11Z\n",
       "10  kowiki     personaltoolslink  2019-05-14T11:16:59Z\n",
       "11  kowiki   specialconfirmemail  2019-07-12T12:27:35Z\n",
       "12  kowiki  specialcontributions  2019-07-27T05:33:20Z\n",
       "13  kowiki  specialwelcomesurvey  2019-07-25T14:53:44Z\n",
       "14  kowiki           userpagetab  2019-05-14T09:25:26Z\n",
       "15  kowiki       usertalkpagetab  2019-05-14T14:45:48Z"
      ]
     },
     "execution_count": 8,
     "metadata": {},
     "output_type": "execute_result"
    }
   ],
   "source": [
    "first_route_usage"
   ]
  },
  {
   "cell_type": "markdown",
   "metadata": {},
   "source": [
    "Based on this, it appears that the link from Special:ConfirmEmail was deployed on or around 2019-07-12 10:00 UTC. The link from the Welcome Survey was deployed on or around 2019-07-25 13:00 UTC. Finally, the link from Special:Contributions was deployed on 2019-07-26 10:00 UTC, but perhaps later on Korean.\n",
    "\n",
    "This means that we have an about two week period in mid-July during which only the link from Special:ConfirmEmail was deployed. Then, we have a 24-hour period during which we also have a link from the Welcome Survey, before all three variants are available. This means that if we're comparing rates, the final comparison period would be from 2019-07-26 10:00 UTC onwards, while the first comparison period should end before 2019-07-12 10:00 UTC."
   ]
  },
  {
   "cell_type": "markdown",
   "metadata": {},
   "source": [
    "## Study period and data gathering\n",
    "\n",
    "Given that this was deployed in mid-July, let's use June and August as steady periods and gather data from June 1 to Sept 1. We want info on all users who registered on Czech and Korean during that period, whether it was on desktop or mobile, whether they turned the Homepage on or off (for exclusion), and what the time of their first visit to the Homepage was."
   ]
  },
  {
   "cell_type": "code",
   "execution_count": 9,
   "metadata": {},
   "outputs": [],
   "source": [
    "user_activity_query = '''\n",
    "WITH regs AS (\n",
    "    SELECT wiki, event.userid AS user_id, dt AS reg_ts, event.displaymobile AS reg_mobile\n",
    "    FROM event_sanitized.serversideaccountcreation\n",
    "    WHERE year = 2019\n",
    "    AND month BETWEEN 6 AND 8\n",
    "    AND ((wiki = \"cswiki\"\n",
    "          AND event.userid NOT IN ({cs_known_list}))\n",
    "          OR\n",
    "         (wiki = \"kowiki\"\n",
    "          AND event.userid NOT IN ({ko_known_list})))\n",
    "    AND COALESCE(event.isapi, false) = false\n",
    "    AND event.isselfmade = 1\n",
    "),\n",
    "pref_switch AS (\n",
    "    SELECT wiki, event.userid AS user_id\n",
    "    FROM event_sanitized.prefupdate\n",
    "    WHERE year = 2019\n",
    "    AND month BETWEEN 6 AND 8\n",
    "    AND ((wiki = \"cswiki\"\n",
    "          AND event.userid NOT IN ({cs_known_list}))\n",
    "          OR\n",
    "         (wiki = \"kowiki\"\n",
    "          AND event.userid NOT IN ({ko_known_list})))\n",
    "    AND event.property = \"growthexperiments-homepage-enable\"\n",
    "),\n",
    "hp_visits AS (\n",
    "    SELECT wiki, event.user_id, dt AS visit_ts, event.is_mobile AS visit_mobile,\n",
    "    event.referer_route, ROW_NUMBER() OVER (PARTITION BY wiki, event.user_id ORDER BY dt) AS visit_no\n",
    "    FROM event_sanitized.homepagevisit\n",
    "    WHERE year = 2019\n",
    "    AND month BETWEEN 6 AND 8\n",
    "    AND ((wiki = \"cswiki\"\n",
    "          AND event.user_id NOT IN ({cs_known_list}))\n",
    "          OR\n",
    "         (wiki = \"kowiki\"\n",
    "          AND event.user_id NOT IN ({ko_known_list})))\n",
    ")\n",
    "SELECT regs.wiki, regs.user_id, reg_ts, reg_mobile, visit_ts, visit_mobile, referer_route,\n",
    "    IF(pref_switch.user_id IS NOT NULL, 1, 0) AS pref_switched\n",
    "FROM regs\n",
    "LEFT JOIN hp_visits\n",
    "ON (regs.wiki = hp_visits.wiki AND regs.user_id = hp_visits.user_id)\n",
    "LEFT JOIN pref_switch\n",
    "ON (regs.wiki = pref_switch.wiki AND regs.user_id = pref_switch.user_id)\n",
    "WHERE (visit_no IS NULL\n",
    "       OR visit_no = 1)\n",
    "'''"
   ]
  },
  {
   "cell_type": "code",
   "execution_count": 10,
   "metadata": {},
   "outputs": [],
   "source": [
    "user_activity = hive.run(\n",
    "    user_activity_query.format(\n",
    "        cs_known_list = ', '.join([str(u) for u in cs_known_users]),\n",
    "        ko_known_list = ', '.join([str(u) for u in ko_known_users])\n",
    "    )\n",
    ")"
   ]
  },
  {
   "cell_type": "code",
   "execution_count": 11,
   "metadata": {},
   "outputs": [],
   "source": [
    "def get_panel_prefs(wiki, prop, include_users = None, exclude_users = None):\n",
    "    '''\n",
    "    Query and return a `pandas.DataFrame` with a column `user_id` of all users who have\n",
    "    the given property turned on in their preferences.\n",
    "    \n",
    "    :param wiki: database code of the wiki we're querying\n",
    "    :type wiki: str\n",
    "    \n",
    "    :param prop: the user preference were use for determining treatment/control membership\n",
    "    :type prop: str\n",
    "    \n",
    "    :param include_users: user IDs of the users we are interested in\n",
    "    :type include_users: iterator\n",
    "    \n",
    "    :param exclude_users: user IDs of users we are not interested in\n",
    "    :type exclude_users: iterator\n",
    "    '''\n",
    "    \n",
    "    panel_query = '''\n",
    "    SELECT up_user AS user_id, CAST(up_value AS UNSIGNED INTEGER) AS is_treatment\n",
    "    FROM user_properties\n",
    "    WHERE up_property = \"{prop}\"\n",
    "    '''.format(wiki = wiki, prop = prop)\n",
    "    \n",
    "    if include_users is not None:\n",
    "        panel_query += '''\n",
    "        AND up_user IN ({})\n",
    "        '''.format(','.join([str(uid) for uid in include_users]))\n",
    "        \n",
    "    if exclude_users is not None:\n",
    "        panel_query += '''\n",
    "        AND up_user NOT IN ({})\n",
    "        '''.format(', '.join([str(uid) for uid in exclude_users]))\n",
    "        \n",
    "    return(mariadb.run(panel_query, wiki))\n",
    "    \n",
    "cs_panel_prefs = get_panel_prefs('cswiki', \"growthexperiments-homepage-enable\",\n",
    "                                  exclude_users = cs_known_users)\n",
    "ko_panel_prefs = get_panel_prefs('kowiki', \"growthexperiments-homepage-enable\",\n",
    "                                  exclude_users = ko_known_users)"
   ]
  },
  {
   "cell_type": "code",
   "execution_count": 12,
   "metadata": {},
   "outputs": [],
   "source": [
    "cs_panel_prefs['wiki'] = 'cswiki'\n",
    "ko_panel_prefs['wiki'] = 'kowiki'\n",
    "\n",
    "panel_prefs = pd.concat([cs_panel_prefs, ko_panel_prefs])"
   ]
  },
  {
   "cell_type": "code",
   "execution_count": 13,
   "metadata": {},
   "outputs": [],
   "source": [
    "user_data = user_activity.merge(panel_prefs, how = 'left', on = ['wiki', 'user_id'])"
   ]
  },
  {
   "cell_type": "code",
   "execution_count": 14,
   "metadata": {},
   "outputs": [],
   "source": [
    "## Exclude all users who switched the Homepage on or off\n",
    "user_data = user_data.loc[user_data.pref_switched == 0]"
   ]
  },
  {
   "cell_type": "code",
   "execution_count": 15,
   "metadata": {},
   "outputs": [],
   "source": [
    "user_data.loc[user_data.is_treatment.isna(), 'is_treatment'] = 0"
   ]
  },
  {
   "cell_type": "code",
   "execution_count": 16,
   "metadata": {},
   "outputs": [],
   "source": [
    "user_data['reg_dt']  = user_data['reg_ts']\n",
    "user_data['visit_dt'] = user_data['visit_ts']"
   ]
  },
  {
   "cell_type": "code",
   "execution_count": 17,
   "metadata": {},
   "outputs": [],
   "source": [
    "## Parse the timesetamps\n",
    "user_data['reg_ts'] = pd.to_datetime(user_data.reg_dt, format = '%Y-%m-%dT%H:%M:%SZ')\n",
    "user_data['visit_ts'] = pd.to_datetime(user_data.visit_dt, format = '%Y-%m-%dT%H:%M:%SZ')"
   ]
  },
  {
   "cell_type": "code",
   "execution_count": 18,
   "metadata": {},
   "outputs": [],
   "source": [
    "user_data['visit_diff'] = user_data.visit_ts - user_data.reg_ts"
   ]
  },
  {
   "cell_type": "code",
   "execution_count": 19,
   "metadata": {},
   "outputs": [],
   "source": [
    "user_data['reg_date'] = user_data.reg_ts.apply(lambda x: x.date())"
   ]
  },
  {
   "cell_type": "markdown",
   "metadata": {},
   "source": [
    "Now, we want to aggregate per day the number of users who registered on desktop and the number of users who visited on the desktop within 24 hours after registration."
   ]
  },
  {
   "cell_type": "code",
   "execution_count": null,
   "metadata": {},
   "outputs": [],
   "source": []
  },
  {
   "cell_type": "code",
   "execution_count": null,
   "metadata": {},
   "outputs": [],
   "source": []
  },
  {
   "cell_type": "code",
   "execution_count": 20,
   "metadata": {},
   "outputs": [],
   "source": [
    "def homepage_visits(group):\n",
    "    aggs = {\n",
    "        'n_reg' : len(group),\n",
    "        'n_visits' : len(group.loc[(group.visit_mobile == False) &\n",
    "                                   (group.visit_diff < dt.timedelta(days = 2))])\n",
    "    }\n",
    "    return(pd.Series(aggs, index = aggs.keys()))\n",
    "\n",
    "user_data_agg = (user_data.loc[(user_data.is_treatment == 1) &\n",
    "                               (user_data.reg_mobile == False) &\n",
    "                               (user_data.reg_date < dt.date(2019, 8, 29))]\n",
    "                 .groupby(['wiki', 'reg_date']).apply(homepage_visits))"
   ]
  },
  {
   "cell_type": "code",
   "execution_count": 21,
   "metadata": {},
   "outputs": [],
   "source": [
    "user_data_agg = user_data_agg.reset_index()\n",
    "user_data_agg['reg_date'] = user_data_agg.reg_date.apply(lambda x: x.strftime('%Y-%m-%d'))"
   ]
  },
  {
   "cell_type": "code",
   "execution_count": 22,
   "metadata": {},
   "outputs": [
    {
     "name": "stderr",
     "output_type": "stream",
     "text": [
      "R[write to console]: \n",
      "Attaching package: ‘zoo’\n",
      "\n",
      "\n",
      "R[write to console]: The following objects are masked from ‘package:base’:\n",
      "\n",
      "    as.Date, as.Date.numeric\n",
      "\n",
      "\n"
     ]
    },
    {
     "data": {
      "image/png": "[encoded data removed]"
     },
     "metadata": {},
     "output_type": "display_data"
    }
   ],
   "source": [
    "%%R -i user_data_agg\n",
    "\n",
    "library(zoo)\n",
    "\n",
    "user_data_agg = data.table(user_data_agg)\n",
    "user_data_agg[, reg_date := as.Date(reg_date)]\n",
    "user_data_agg[, visit_prop := 100 * n_visits / n_reg]\n",
    "\n",
    "user_data_agg[\n",
    "  , visit_prop.ma7 := rollapply(visit_prop,\n",
    "                               width=7,\n",
    "                               FUN=mean,\n",
    "                               na.rm=TRUE,\n",
    "                               fill=0,\n",
    "                               align='right'),\n",
    "    by = wiki];\n",
    "\n",
    "g = ggplot(user_data_agg, aes(x = reg_date, y = visit_prop)) +\n",
    "theme_bw() +\n",
    "facet_grid(wiki ~ .) +\n",
    "scale_x_date(\"Registration date\", limits = c(as.Date('2019-06-01'), as.Date('2019-09-01'))) +\n",
    "scale_y_continuous(\"Percentage\") +\n",
    "ggtitle(\"Homepage 48-hour first visit percentage with 7-day moving average\") +\n",
    "geom_vline(xintercept = as.Date('2019-07-12'),\n",
    "             linetype='dashed') +\n",
    "geom_vline(xintercept = as.Date('2019-07-26'),\n",
    "             linetype='dashed') +\n",
    "geom_line() +\n",
    "geom_line(aes(y = visit_prop.ma7, color = 'red')) +\n",
    "guides(color = FALSE)\n",
    "\n",
    "ggsave(plot = g, file = \"graphs/homepage_48hour_visit_rate_with_ma.png\",\n",
    "       width = 8, height = 6, units = \"in\", dpi = \"retina\")\n",
    "g"
   ]
  },
  {
   "cell_type": "markdown",
   "metadata": {},
   "source": [
    "## Analysis of effect\n",
    "\n",
    "There's a two-week window during which some, but not all, of the features were deployed. This makes determining the effect somewhat difficult because we're not only working with the effect itself but also other effects such as vacations (or lack of such). Ideally, we'd have a single inflection point. We don't, so we'll make do with what we've got.\n",
    "\n",
    "I'll use the two weeks prior to the first deployment, and the two weeks after the last deployment as the before and after periods, respectively. I use a week as a basis because we know wiki activity moves in a weekly cycle, and two weeks in order to get some stability. As we know from literature, figuring out the size of the window is complicated and why Interrupted Time Series analysis and regressions are useful, but I think using one of those is unnecessary for this analysis.\n",
    "\n",
    "First, let's determine the start and end of each time period. Last date before deployment is 2019-07-11, two weeks before that was:"
   ]
  },
  {
   "cell_type": "code",
   "execution_count": 23,
   "metadata": {},
   "outputs": [
    {
     "data": {
      "text/plain": [
       "datetime.date(2019, 6, 27)"
      ]
     },
     "execution_count": 23,
     "metadata": {},
     "output_type": "execute_result"
    }
   ],
   "source": [
    "dt.date(2019, 7, 11) - dt.timedelta(days = 14)"
   ]
  },
  {
   "cell_type": "markdown",
   "metadata": {},
   "source": [
    "Last date of deploment was 2019-07-26, two weeks after that is:"
   ]
  },
  {
   "cell_type": "code",
   "execution_count": 24,
   "metadata": {},
   "outputs": [
    {
     "data": {
      "text/plain": [
       "datetime.date(2019, 8, 9)"
      ]
     },
     "execution_count": 24,
     "metadata": {},
     "output_type": "execute_result"
    }
   ],
   "source": [
    "dt.date(2019, 7, 26) + dt.timedelta(days = 14)"
   ]
  },
  {
   "cell_type": "markdown",
   "metadata": {},
   "source": [
    "Now we can use those to calculate the before and after proportions."
   ]
  },
  {
   "cell_type": "code",
   "execution_count": 25,
   "metadata": {},
   "outputs": [],
   "source": [
    "def calc_pre_post(df, wiki):\n",
    "    '''\n",
    "    For the given wiki, calculate the proportion of registrations that visited the Homepage prior\n",
    "    to deployment (2019-06-28 to 2019-07-12), and after deployment\n",
    "    (2019-07-26 to 2019-08-09).\n",
    "    '''\n",
    "    \n",
    "    pre_sums = df.loc[(df.wiki == wiki) & (df.reg_date >= '2019-06-28') &\n",
    "                      (df.reg_date < '2019-07-12')][['n_visits', 'n_reg']].sum()\n",
    "    post_sums = df.loc[(df.wiki == wiki) & (df.reg_date >= '2019-07-26') &\n",
    "                       (df.reg_date < '2019-08-09')][['n_visits', 'n_reg']].sum()\n",
    "    \n",
    "    return((pre_sums.n_visits / pre_sums.n_reg, post_sums.n_visits / post_sums.n_reg))"
   ]
  },
  {
   "cell_type": "code",
   "execution_count": 26,
   "metadata": {},
   "outputs": [],
   "source": [
    "cs_props = calc_pre_post(user_data_agg, 'cswiki')\n",
    "ko_props = calc_pre_post(user_data_agg, 'kowiki')"
   ]
  },
  {
   "cell_type": "markdown",
   "metadata": {},
   "source": [
    "### Czech Wikipedia\n",
    "\n",
    "On the Czech Wikipedia, the percentage of visits before deployment across the 14-day window was:"
   ]
  },
  {
   "cell_type": "code",
   "execution_count": 27,
   "metadata": {},
   "outputs": [
    {
     "data": {
      "text/plain": [
       "34.1"
      ]
     },
     "execution_count": 27,
     "metadata": {},
     "output_type": "execute_result"
    }
   ],
   "source": [
    "round(100 * cs_props[0], 1)"
   ]
  },
  {
   "cell_type": "markdown",
   "metadata": {},
   "source": [
    "The percentage of visits after deployment (again using a 14-day window) was:"
   ]
  },
  {
   "cell_type": "code",
   "execution_count": 28,
   "metadata": {},
   "outputs": [
    {
     "data": {
      "text/plain": [
       "71.9"
      ]
     },
     "execution_count": 28,
     "metadata": {},
     "output_type": "execute_result"
    }
   ],
   "source": [
    "round(100 * cs_props[1], 1)"
   ]
  },
  {
   "cell_type": "markdown",
   "metadata": {},
   "source": [
    "The increase (in percent) in Czech is:"
   ]
  },
  {
   "cell_type": "code",
   "execution_count": 29,
   "metadata": {},
   "outputs": [
    {
     "data": {
      "text/plain": [
       "111.0"
      ]
     },
     "execution_count": 29,
     "metadata": {},
     "output_type": "execute_result"
    }
   ],
   "source": [
    "round(100 * (cs_props[1] - cs_props[0]) / cs_props[0], 1)"
   ]
  },
  {
   "cell_type": "markdown",
   "metadata": {},
   "source": [
    "Note that this exceeded the stated goal of 100% increase.\n",
    "\n",
    "### Korean Wikipedia\n",
    "\n",
    "On the Korean Wikipedia, the percentage of visits before deployment across the 14-day window was:"
   ]
  },
  {
   "cell_type": "code",
   "execution_count": 30,
   "metadata": {},
   "outputs": [
    {
     "data": {
      "text/plain": [
       "19.1"
      ]
     },
     "execution_count": 30,
     "metadata": {},
     "output_type": "execute_result"
    }
   ],
   "source": [
    "round(100 * ko_props[0], 1)"
   ]
  },
  {
   "cell_type": "markdown",
   "metadata": {},
   "source": [
    "The percentage of visits after deployment (again using a 14-day window) was:"
   ]
  },
  {
   "cell_type": "code",
   "execution_count": 31,
   "metadata": {},
   "outputs": [
    {
     "data": {
      "text/plain": [
       "49.3"
      ]
     },
     "execution_count": 31,
     "metadata": {},
     "output_type": "execute_result"
    }
   ],
   "source": [
    "round(100 * ko_props[1], 1)"
   ]
  },
  {
   "cell_type": "markdown",
   "metadata": {},
   "source": [
    "The increase (in percent) in Korean is:"
   ]
  },
  {
   "cell_type": "code",
   "execution_count": 32,
   "metadata": {},
   "outputs": [
    {
     "data": {
      "text/plain": [
       "158.1"
      ]
     },
     "execution_count": 32,
     "metadata": {},
     "output_type": "execute_result"
    }
   ],
   "source": [
    "round(100 * (ko_props[1] - ko_props[0]) / ko_props[0], 1)"
   ]
  },
  {
   "cell_type": "markdown",
   "metadata": {},
   "source": [
    "Note that this also exceeded the stated goal of 100%.\n",
    "\n",
    "## The paths that users take\n",
    "\n",
    "The second part of the phab task for this analysis ask for an overview of the paths that users take to get to the Homepage after the discovery features have been deployed.\n",
    "\n",
    "* We will want to see what percent of newcomers first visit their homepage from each of these sources, as well as from the existing discovery paths of personal tools link and tabs from the User or User Talk page.\n",
    "\n",
    "So, for all users who registered and first visited on desktop within 48 hours after registration, what paths did they take?\n",
    "\n",
    "Let's first figure out what 28 days after deployment is (we'll use that instead of a whole month):"
   ]
  },
  {
   "cell_type": "code",
   "execution_count": 33,
   "metadata": {},
   "outputs": [
    {
     "data": {
      "text/plain": [
       "datetime.date(2019, 8, 23)"
      ]
     },
     "execution_count": 33,
     "metadata": {},
     "output_type": "execute_result"
    }
   ],
   "source": [
    "dt.date(2019, 7, 26) + dt.timedelta(days = 28)"
   ]
  },
  {
   "cell_type": "code",
   "execution_count": 34,
   "metadata": {},
   "outputs": [],
   "source": [
    "visit_paths = (user_data.loc[(user_data.is_treatment == 1) &\n",
    "                             (user_data.visit_diff < dt.timedelta(days = 2)) &\n",
    "                             (user_data.reg_date >= dt.date(2019, 7, 26)) &\n",
    "                             (user_data.reg_date < dt.date(2019, 8, 23))]\n",
    "               .groupby(['wiki', 'visit_mobile', 'referer_route'])\n",
    "               .count()['reg_date']\n",
    "               .reset_index()\n",
    "               .rename(columns = {'reg_date' : 'n'}))\n",
    "visit_paths['percent'] = (100 * visit_paths['n'] /\n",
    "                          visit_paths.groupby(['wiki', 'visit_mobile'])['n'].transform('sum'))"
   ]
  },
  {
   "cell_type": "code",
   "execution_count": 35,
   "metadata": {},
   "outputs": [
    {
     "name": "stdout",
     "output_type": "stream",
     "text": [
      "| wiki   | visit_mobile   | referer_route        |   n |   percent |\n",
      "|--------|----------------|----------------------|-----|-----------|\n",
      "| cswiki | True           | specialwelcomesurvey |  56 |      60.9 |\n",
      "| cswiki | True           | specialconfirmemail  |  16 |      17.4 |\n",
      "| cswiki | True           | specialcontributions |  10 |      10.9 |\n",
      "| cswiki | True           | personaltoolslink    |   6 |       6.5 |\n",
      "| cswiki | True           | userpagetab          |   4 |       4.3 |\n",
      "| cswiki | False          | specialwelcomesurvey | 115 |      55.8 |\n",
      "| cswiki | False          | personaltoolslink    |  54 |      26.2 |\n",
      "| cswiki | False          | specialconfirmemail  |  30 |      14.6 |\n",
      "| cswiki | False          | specialcontributions |   3 |       1.5 |\n",
      "| cswiki | False          | userpagetab          |   2 |       1   |\n",
      "| cswiki | False          | usertalkpagetab      |   2 |       1   |\n",
      "| kowiki | True           | specialwelcomesurvey |  71 |      71.7 |\n",
      "| kowiki | True           | specialconfirmemail  |  16 |      16.2 |\n",
      "| kowiki | True           | personaltoolslink    |  11 |      11.1 |\n",
      "| kowiki | True           | specialcontributions |   1 |       1   |\n",
      "| kowiki | False          | specialwelcomesurvey | 131 |      56   |\n",
      "| kowiki | False          | personaltoolslink    |  69 |      29.5 |\n",
      "| kowiki | False          | specialconfirmemail  |  23 |       9.8 |\n",
      "| kowiki | False          | usertalkpagetab      |   6 |       2.6 |\n",
      "| kowiki | False          | userpagetab          |   3 |       1.3 |\n",
      "| kowiki | False          | specialcontributions |   2 |       0.9 |\n"
     ]
    }
   ],
   "source": [
    "print(tabulate.tabulate(visit_paths.sort_values(['wiki', 'visit_mobile', 'n'],\n",
    "                                                ascending = [True, False, False]).round(1),\n",
    "                        tablefmt = \"github\", headers = \"keys\", showindex = None))"
   ]
  },
  {
   "cell_type": "code",
   "execution_count": null,
   "metadata": {},
   "outputs": [],
   "source": []
  }
 ],
 "metadata": {
  "kernelspec": {
   "display_name": "Python 3",
   "language": "python",
   "name": "python3"
  },
  "language_info": {
   "codemirror_mode": {
    "name": "ipython",
    "version": 3
   },
   "file_extension": ".py",
   "mimetype": "text/x-python",
   "name": "python",
   "nbconvert_exporter": "python",
   "pygments_lexer": "ipython3",
   "version": "3.5.3"
  }
 },
 "nbformat": 4,
 "nbformat_minor": 2
}
