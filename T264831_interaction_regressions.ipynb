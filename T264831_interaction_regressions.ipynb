{
 "cells": [
  {
   "cell_type": "markdown",
   "metadata": {},
   "source": [
    "# Variant C/D Module Interations – Regression models\n",
    "\n",
    "The approach for fitting regression models to predict whether users are likely to interact with the Newcomer Task module is the same as we've used in the previous analyses. Because the outcome is binary, either a user did something or they did not, we use a logistic regression model. We add predictors iteratively until we find the most likely model. Like before, we have predictors for which variant the user had, whether they registered on desktop or mobile, and when they registered (in time since the start of the experiment)."
   ]
  },
  {
   "cell_type": "code",
   "execution_count": 1,
   "metadata": {},
   "outputs": [
    {
     "data": {
      "text/html": [
       "<script>  \n",
       "code_show=true; \n",
       "function code_toggle() {\n",
       "  if (code_show){\n",
       "    $('div.input').hide();\n",
       "  } else {\n",
       "    $('div.input').show();\n",
       "  }\n",
       "  code_show = !code_show\n",
       "}  \n",
       "$( document ).ready(code_toggle);\n",
       "</script>\n",
       "  <form action=\"javascript:code_toggle()\">\n",
       "    <input type=\"submit\" value=\"Click here to toggle on/off the raw code.\">\n",
       " </form>"
      ]
     },
     "metadata": {},
     "output_type": "display_data"
    }
   ],
   "source": [
    "# https://stackoverflow.com/a/35018739/1091835\n",
    "library(IRdisplay)\n",
    "\n",
    "display_html(\n",
    "'<script>  \n",
    "code_show=true; \n",
    "function code_toggle() {\n",
    "  if (code_show){\n",
    "    $(\\'div.input\\').hide();\n",
    "  } else {\n",
    "    $(\\'div.input\\').show();\n",
    "  }\n",
    "  code_show = !code_show\n",
    "}  \n",
    "$( document ).ready(code_toggle);\n",
    "</script>\n",
    "  <form action=\"javascript:code_toggle()\">\n",
    "    <input type=\"submit\" value=\"Click here to toggle on/off the raw code.\">\n",
    " </form>'\n",
    ")"
   ]
  },
  {
   "cell_type": "code",
   "execution_count": 2,
   "metadata": {},
   "outputs": [
    {
     "name": "stderr",
     "output_type": "stream",
     "text": [
      "── \u001b[1mAttaching packages\u001b[22m ─────────────────────────────────────── tidyverse 1.3.0 ──\n",
      "\n",
      "\u001b[32m✔\u001b[39m \u001b[34mggplot2\u001b[39m 3.3.2     \u001b[32m✔\u001b[39m \u001b[34mpurrr  \u001b[39m 0.3.4\n",
      "\u001b[32m✔\u001b[39m \u001b[34mtibble \u001b[39m 3.0.4     \u001b[32m✔\u001b[39m \u001b[34mdplyr  \u001b[39m 1.0.2\n",
      "\u001b[32m✔\u001b[39m \u001b[34mtidyr  \u001b[39m 1.1.2     \u001b[32m✔\u001b[39m \u001b[34mstringr\u001b[39m 1.4.0\n",
      "\u001b[32m✔\u001b[39m \u001b[34mreadr  \u001b[39m 1.4.0     \u001b[32m✔\u001b[39m \u001b[34mforcats\u001b[39m 0.5.0\n",
      "\n",
      "── \u001b[1mConflicts\u001b[22m ────────────────────────────────────────── tidyverse_conflicts() ──\n",
      "\u001b[31m✖\u001b[39m \u001b[34mdplyr\u001b[39m::\u001b[32mfilter()\u001b[39m masks \u001b[34mstats\u001b[39m::filter()\n",
      "\u001b[31m✖\u001b[39m \u001b[34mdplyr\u001b[39m::\u001b[32mlag()\u001b[39m    masks \u001b[34mstats\u001b[39m::lag()\n",
      "\n",
      "\n",
      "Attaching package: ‘data.table’\n",
      "\n",
      "\n",
      "The following objects are masked from ‘package:dplyr’:\n",
      "\n",
      "    between, first, last\n",
      "\n",
      "\n",
      "The following object is masked from ‘package:purrr’:\n",
      "\n",
      "    transpose\n",
      "\n",
      "\n",
      "Loading required package: Matrix\n",
      "\n",
      "\n",
      "Attaching package: ‘Matrix’\n",
      "\n",
      "\n",
      "The following objects are masked from ‘package:tidyr’:\n",
      "\n",
      "    expand, pack, unpack\n",
      "\n",
      "\n",
      "Loading required package: lattice\n",
      "\n",
      "\n",
      "Attaching package: ‘caret’\n",
      "\n",
      "\n",
      "The following object is masked from ‘package:purrr’:\n",
      "\n",
      "    lift\n",
      "\n",
      "\n",
      "Loading required package: mvtnorm\n",
      "\n",
      "Loading required package: survival\n",
      "\n",
      "\n",
      "Attaching package: ‘survival’\n",
      "\n",
      "\n",
      "The following object is masked from ‘package:caret’:\n",
      "\n",
      "    cluster\n",
      "\n",
      "\n",
      "Loading required package: TH.data\n",
      "\n",
      "Loading required package: MASS\n",
      "\n",
      "\n",
      "Attaching package: ‘MASS’\n",
      "\n",
      "\n",
      "The following object is masked from ‘package:dplyr’:\n",
      "\n",
      "    select\n",
      "\n",
      "\n",
      "\n",
      "Attaching package: ‘TH.data’\n",
      "\n",
      "\n",
      "The following object is masked from ‘package:MASS’:\n",
      "\n",
      "    geyser\n",
      "\n",
      "\n",
      "Loading required package: gridExtra\n",
      "\n",
      "\n",
      "Attaching package: ‘gridExtra’\n",
      "\n",
      "\n",
      "The following object is masked from ‘package:dplyr’:\n",
      "\n",
      "    combine\n",
      "\n",
      "\n"
     ]
    }
   ],
   "source": [
    "## libraries\n",
    "library(tidyverse)\n",
    "library(data.table)\n",
    "library(ggplot2)\n",
    "\n",
    "library(lme4)\n",
    "\n",
    "library(caret)\n",
    "\n",
    "library(interactions)\n",
    "library(multcomp)\n",
    "library(emmeans)\n",
    "\n",
    "require(gridExtra)\n",
    "\n",
    "## library(ROCR)"
   ]
  },
  {
   "cell_type": "markdown",
   "metadata": {},
   "source": [
    "## Configuration variables"
   ]
  },
  {
   "cell_type": "code",
   "execution_count": 3,
   "metadata": {},
   "outputs": [],
   "source": [
    "## Set BLAS threads to 1 so glmer doesn't use all cores\n",
    "library(RhpcBLASctl)\n",
    "blas_set_num_threads(1)\n",
    "\n",
    "## parallelization\n",
    "options(mc.cores = 4)"
   ]
  },
  {
   "cell_type": "markdown",
   "metadata": {},
   "source": [
    "### Helper functions"
   ]
  },
  {
   "cell_type": "code",
   "execution_count": 4,
   "metadata": {},
   "outputs": [],
   "source": [
    "## Function that takes in a model, the validation set, the name of the predicted column,\n",
    "## and returns a plot of the ROC curve\n",
    "plot_ROC = function(mod, val_data, col_name, plot_title, cutoff_steps = 0.1) {\n",
    "  preds = predict(mod, val_data, type = \"response\")\n",
    "  ROCR_pred = prediction(preds, val_data[[col_name]])\n",
    "  ROCR_perf = performance(ROCR_pred, \"tpr\", \"fpr\")\n",
    "  plot(ROCR_perf, colorize = TRUE, print.cutoffs.at = seq(0, 1, by = cutoff_steps),\n",
    "       text.adj = c(-0.2, 1.7), main = plot_title)\n",
    "}\n",
    "\n",
    "## Function to output a confusion matrix\n",
    "confusion_matrix = function(model_predictions, threshold, reference, levels = c(\"yes\", \"no\")) {\n",
    "  pred = factor(ifelse(model_predictions >= threshold, levels[1], levels[2]), levels = levels)\n",
    "  truth = factor(ifelse(reference, levels[1], levels[2]), levels = levels)\n",
    "  confusionMatrix(pred, truth, mode = 'prec_recall')\n",
    "}\n"
   ]
  },
  {
   "cell_type": "markdown",
   "metadata": {},
   "source": [
    "### Data import and setup"
   ]
  },
  {
   "cell_type": "code",
   "execution_count": 5,
   "metadata": {},
   "outputs": [],
   "source": [
    "interaction_counts = fread('datasets/variant-test-2-interaction-counts.tsv',\n",
    "                     colClasses = c(wiki_db = 'factor', user_registration = 'character'))"
   ]
  },
  {
   "cell_type": "markdown",
   "metadata": {},
   "source": [
    "In this analysis, we're only interested in users in the Homepage group, with a valid variant assigned, who visited the Homepage. Here's how many of them we have:"
   ]
  },
  {
   "cell_type": "code",
   "execution_count": 6,
   "metadata": {},
   "outputs": [
    {
     "data": {
      "text/html": [
       "32615"
      ],
      "text/latex": [
       "32615"
      ],
      "text/markdown": [
       "32615"
      ],
      "text/plain": [
       "[1] 32615"
      ]
     },
     "metadata": {},
     "output_type": "display_data"
    }
   ],
   "source": [
    "length(interaction_counts[hp_enabled == 1 & hp_variant %in% c('C', 'D') & visited_homepage == 1]$wiki)"
   ]
  },
  {
   "cell_type": "markdown",
   "metadata": {},
   "source": [
    "Note that the dataset does not include known test accounts, users who were in the control group (meaning they didn't have the Homepage enabled upon registration), or users who turned the Homepage on/off during the experiment. Also, as mentioned in the data gathering notebook, this is the same number of users who are in the task navigation and task click dataset."
   ]
  },
  {
   "cell_type": "code",
   "execution_count": 8,
   "metadata": {},
   "outputs": [],
   "source": [
    "## Configuration variables for this experiment.\n",
    "start_ts = as.POSIXct('2020-10-28 18:40:02', tz = 'UTC')\n",
    "end_ts = as.POSIXct('2020-11-25 18:40:02', tz = 'UTC')\n",
    "\n",
    "## Convert user_registration into a timestamp\n",
    "interaction_counts[, user_reg_ts := as.POSIXct(user_registration, format = '%Y%m%d%H%M%S', tz = 'UTC')]\n",
    "\n",
    "## Calculate time since start of experiment in weeks\n",
    "interaction_counts[, exp_days := 0]\n",
    "interaction_counts[, exp_days := difftime(user_reg_ts, start_ts, units = \"days\")]\n",
    "interaction_counts[, ln_exp_days := log(1 + as.numeric(exp_days))]\n",
    "interaction_counts[, ln_exp_weeks := log(1 + as.numeric(exp_days)/7)]\n",
    "\n",
    "## Convert all NAs to 0, from\n",
    "## https://stackoverflow.com/questions/7235657/fastest-way-to-replace-nas-in-a-large-data-table\n",
    "na_to_zero = function(DT) {\n",
    "  # or by number (slightly faster than by name) :\n",
    "  for (j in seq_len(ncol(DT)))\n",
    "    set(DT,which(is.na(DT[[j]])),j,0)\n",
    "}\n",
    "\n",
    "na_to_zero(interaction_counts)\n",
    "\n",
    "## set the random seed so train/test/validation splits can be reproduced\n",
    "set.seed(42)\n",
    "\n",
    "## Remove all control group users, users with an incorrect variant assignment,\n",
    "## and users that didn't visit the Homepage.\n",
    "exp_users = interaction_counts[hp_enabled == 1 & hp_variant %in% c('C', 'D') & visited_homepage == 1]\n",
    "\n",
    "## Split the experiment users into training, testing, and validation datasets\n",
    "trainIndex <- createDataPartition(exp_users$hp_variant,\n",
    "                                  p = .8, \n",
    "                                  list = FALSE, \n",
    "                                  times = 1)\n",
    "exp_users_train = exp_users[trainIndex,]\n",
    "exp_users_second = exp_users[-trainIndex,]\n",
    "\n",
    "testIndex = createDataPartition(exp_users_second$hp_variant, p = .5, list = FALSE, times = 1)\n",
    "\n",
    "exp_users_test = exp_users_second[testIndex,]\n",
    "exp_users_validate = exp_users_second[-testIndex,]\n"
   ]
  },
  {
   "cell_type": "markdown",
   "metadata": {},
   "source": [
    "# Module Interactions\n",
    "\n",
    "We'll model this in the same way as we've done for task interactions and task clicks.\n",
    "\n",
    "## Variant C/D as a predictor\n",
    "\n",
    "In this first model, we predict whether the user edited based on the variant the user was in, while allowing the overall probability of editing to vary by wiki."
   ]
  },
  {
   "cell_type": "code",
   "execution_count": 9,
   "metadata": {},
   "outputs": [],
   "source": [
    "## 1: only variant as a predictor:\n",
    "interact.model.1 = glmer(formula = did_interact ~ hp_variant + (1 | wiki_db),\n",
    "                         family = binomial(link = \"logit\"), data = exp_users_train)"
   ]
  },
  {
   "cell_type": "code",
   "execution_count": 10,
   "metadata": {},
   "outputs": [
    {
     "data": {
      "text/plain": [
       "Generalized linear mixed model fit by maximum likelihood (Laplace\n",
       "  Approximation) [glmerMod]\n",
       " Family: binomial  ( logit )\n",
       "Formula: did_interact ~ hp_variant + (1 | wiki_db)\n",
       "   Data: exp_users_train\n",
       "\n",
       "     AIC      BIC   logLik deviance df.resid \n",
       " 28940.8  28965.3 -14467.4  28934.8    26089 \n",
       "\n",
       "Scaled residuals: \n",
       "    Min      1Q  Median      3Q     Max \n",
       "-0.9003 -0.6882 -0.4589  1.1412  2.6778 \n",
       "\n",
       "Random effects:\n",
       " Groups  Name        Variance Std.Dev.\n",
       " wiki_db (Intercept) 0.0441   0.21    \n",
       "Number of obs: 26092, groups:  wiki_db, 16\n",
       "\n",
       "Fixed effects:\n",
       "            Estimate Std. Error z value Pr(>|z|)    \n",
       "(Intercept) -0.54829    0.05845  -9.381   <2e-16 ***\n",
       "hp_variantD -0.98354    0.02960 -33.231   <2e-16 ***\n",
       "---\n",
       "Signif. codes:  0 ‘***’ 0.001 ‘**’ 0.01 ‘*’ 0.05 ‘.’ 0.1 ‘ ’ 1\n",
       "\n",
       "Correlation of Fixed Effects:\n",
       "            (Intr)\n",
       "hp_variantD -0.194"
      ]
     },
     "metadata": {},
     "output_type": "display_data"
    }
   ],
   "source": [
    "summary(interact.model.1)"
   ]
  },
  {
   "cell_type": "markdown",
   "metadata": {},
   "source": [
    "This model suggests that overall, variant D is associated with a lower probability of a user interacting with the Newcomer Task module.\n",
    "\n",
    "Let us see if there's variation by wiki on this."
   ]
  },
  {
   "cell_type": "code",
   "execution_count": 11,
   "metadata": {},
   "outputs": [],
   "source": [
    "## 1: variant as a group-level predictor\n",
    "interact.model.1.2 = glmer(formula = did_interact ~ hp_variant + (1 + hp_variant | wiki_db),\n",
    "                           family = binomial(link = \"logit\"), data = exp_users_train)"
   ]
  },
  {
   "cell_type": "code",
   "execution_count": 12,
   "metadata": {},
   "outputs": [
    {
     "data": {
      "text/plain": [
       "Generalized linear mixed model fit by maximum likelihood (Laplace\n",
       "  Approximation) [glmerMod]\n",
       " Family: binomial  ( logit )\n",
       "Formula: did_interact ~ hp_variant + (1 + hp_variant | wiki_db)\n",
       "   Data: exp_users_train\n",
       "\n",
       "     AIC      BIC   logLik deviance df.resid \n",
       " 28938.4  28979.2 -14464.2  28928.4    26087 \n",
       "\n",
       "Scaled residuals: \n",
       "    Min      1Q  Median      3Q     Max \n",
       "-0.9145 -0.6956 -0.4707  1.0997  2.6069 \n",
       "\n",
       "Random effects:\n",
       " Groups  Name        Variance Std.Dev. Corr \n",
       " wiki_db (Intercept) 0.05587  0.2364        \n",
       "         hp_variantD 0.01481  0.1217   -0.63\n",
       "Number of obs: 26092, groups:  wiki_db, 16\n",
       "\n",
       "Fixed effects:\n",
       "            Estimate Std. Error z value Pr(>|z|)    \n",
       "(Intercept) -0.53251    0.06550   -8.13 4.29e-16 ***\n",
       "hp_variantD -1.01632    0.04971  -20.44  < 2e-16 ***\n",
       "---\n",
       "Signif. codes:  0 ‘***’ 0.001 ‘**’ 0.01 ‘*’ 0.05 ‘.’ 0.1 ‘ ’ 1\n",
       "\n",
       "Correlation of Fixed Effects:\n",
       "            (Intr)\n",
       "hp_variantD -0.546"
      ]
     },
     "metadata": {},
     "output_type": "display_data"
    }
   ],
   "source": [
    "summary(interact.model.1.2)"
   ]
  },
  {
   "cell_type": "code",
   "execution_count": 13,
   "metadata": {},
   "outputs": [
    {
     "data": {
      "text/plain": [
       "$wiki_db\n",
       "        (Intercept)  hp_variantD\n",
       "arwiki -0.137336564  0.159334528\n",
       "cswiki  0.180625333 -0.089176254\n",
       "fawiki -0.091012596  0.147631710\n",
       "frwiki -0.193306699 -0.019672590\n",
       "hewiki  0.200270433 -0.087186027\n",
       "huwiki -0.006418536 -0.017385248\n",
       "hywiki  0.052727201  0.019563987\n",
       "kowiki -0.473508617  0.106049244\n",
       "plwiki  0.129064846 -0.087531344\n",
       "ptwiki -0.272271722  0.101903331\n",
       "ruwiki  0.109521128 -0.008002654\n",
       "srwiki  0.053484061 -0.039106061\n",
       "svwiki -0.073052728 -0.020102239\n",
       "trwiki  0.353863604 -0.050021407\n",
       "ukwiki -0.155950637  0.013620897\n",
       "viwiki  0.342462491 -0.128637953\n",
       "\n",
       "with conditional variances for “wiki_db” "
      ]
     },
     "metadata": {},
     "output_type": "display_data"
    }
   ],
   "source": [
    "ranef(interact.model.1.2)"
   ]
  },
  {
   "cell_type": "markdown",
   "metadata": {},
   "source": [
    "The model is not singular, which suggests that there's enough variation and data to support it. However, the BIC is much worse than the first model. So while there *is* some variation between wikis, it's not clear that it's large enough to be meaningful.\n",
    "\n",
    "## Desktop/mobile registration\n",
    "\n",
    "We add whether the user registered on desktop or mobile as a predictor."
   ]
  },
  {
   "cell_type": "code",
   "execution_count": 14,
   "metadata": {},
   "outputs": [],
   "source": [
    "## 2: add desktop/mobile\n",
    "interact.model.2 = glmer(formula = did_interact ~ hp_variant + reg_on_mobile + (1 | wiki_db),\n",
    "                         family = binomial(link = \"logit\"), data = exp_users_train)\n"
   ]
  },
  {
   "cell_type": "code",
   "execution_count": 15,
   "metadata": {},
   "outputs": [
    {
     "data": {
      "text/plain": [
       "Generalized linear mixed model fit by maximum likelihood (Laplace\n",
       "  Approximation) [glmerMod]\n",
       " Family: binomial  ( logit )\n",
       "Formula: did_interact ~ hp_variant + reg_on_mobile + (1 | wiki_db)\n",
       "   Data: exp_users_train\n",
       "\n",
       "     AIC      BIC   logLik deviance df.resid \n",
       " 28475.7  28508.3 -14233.8  28467.7    26088 \n",
       "\n",
       "Scaled residuals: \n",
       "    Min      1Q  Median      3Q     Max \n",
       "-1.0138 -0.6365 -0.4548  1.0769  3.4356 \n",
       "\n",
       "Random effects:\n",
       " Groups  Name        Variance Std.Dev.\n",
       " wiki_db (Intercept) 0.04774  0.2185  \n",
       "Number of obs: 26092, groups:  wiki_db, 16\n",
       "\n",
       "Fixed effects:\n",
       "              Estimate Std. Error z value Pr(>|z|)    \n",
       "(Intercept)   -0.31648    0.06133  -5.161 2.46e-07 ***\n",
       "hp_variantD   -0.99487    0.02987 -33.306  < 2e-16 ***\n",
       "reg_on_mobile -0.67629    0.03188 -21.213  < 2e-16 ***\n",
       "---\n",
       "Signif. codes:  0 ‘***’ 0.001 ‘**’ 0.01 ‘*’ 0.05 ‘.’ 0.1 ‘ ’ 1\n",
       "\n",
       "Correlation of Fixed Effects:\n",
       "            (Intr) hp_vrD\n",
       "hp_variantD -0.194       \n",
       "reg_on_mobl -0.166  0.045"
      ]
     },
     "metadata": {},
     "output_type": "display_data"
    }
   ],
   "source": [
    "summary(interact.model.2)"
   ]
  },
  {
   "cell_type": "code",
   "execution_count": 16,
   "metadata": {},
   "outputs": [],
   "source": [
    "## 2: desktop/mobile with group-level variation\n",
    "interact.model.2.1 = glmer(formula = did_interact ~ hp_variant + reg_on_mobile + (1 + reg_on_mobile | wiki_db),\n",
    "                           family = binomial(link = \"logit\"), data = exp_users_train)"
   ]
  },
  {
   "cell_type": "code",
   "execution_count": 17,
   "metadata": {},
   "outputs": [
    {
     "data": {
      "text/plain": [
       "Generalized linear mixed model fit by maximum likelihood (Laplace\n",
       "  Approximation) [glmerMod]\n",
       " Family: binomial  ( logit )\n",
       "Formula: did_interact ~ hp_variant + reg_on_mobile + (1 + reg_on_mobile |  \n",
       "    wiki_db)\n",
       "   Data: exp_users_train\n",
       "\n",
       "     AIC      BIC   logLik deviance df.resid \n",
       " 28390.7  28439.7 -14189.4  28378.7    26086 \n",
       "\n",
       "Scaled residuals: \n",
       "    Min      1Q  Median      3Q     Max \n",
       "-1.0800 -0.6237 -0.4474  1.0451  3.3209 \n",
       "\n",
       "Random effects:\n",
       " Groups  Name          Variance Std.Dev. Corr \n",
       " wiki_db (Intercept)   0.07824  0.2797        \n",
       "         reg_on_mobile 0.09819  0.3134   -0.77\n",
       "Number of obs: 26092, groups:  wiki_db, 16\n",
       "\n",
       "Fixed effects:\n",
       "              Estimate Std. Error z value Pr(>|z|)    \n",
       "(Intercept)   -0.31124    0.07617  -4.086 4.39e-05 ***\n",
       "hp_variantD   -1.00069    0.02995 -33.407  < 2e-16 ***\n",
       "reg_on_mobile -0.64532    0.09202  -7.013 2.33e-12 ***\n",
       "---\n",
       "Signif. codes:  0 ‘***’ 0.001 ‘**’ 0.01 ‘*’ 0.05 ‘.’ 0.1 ‘ ’ 1\n",
       "\n",
       "Correlation of Fixed Effects:\n",
       "            (Intr) hp_vrD\n",
       "hp_variantD -0.157       \n",
       "reg_on_mobl -0.706  0.014"
      ]
     },
     "metadata": {},
     "output_type": "display_data"
    }
   ],
   "source": [
    "summary(interact.model.2.1)"
   ]
  },
  {
   "cell_type": "code",
   "execution_count": 18,
   "metadata": {},
   "outputs": [
    {
     "data": {
      "text/plain": [
       "$wiki_db\n",
       "       (Intercept) reg_on_mobile\n",
       "arwiki  0.16847228  -0.155939110\n",
       "cswiki  0.05051807  -0.013570933\n",
       "fawiki  0.21945526  -0.143581271\n",
       "frwiki -0.34621802   0.315655404\n",
       "hewiki  0.22299465  -0.198784341\n",
       "huwiki -0.13933911   0.190620120\n",
       "hywiki  0.18037185  -0.255661601\n",
       "kowiki -0.63463497   0.489815609\n",
       "plwiki  0.04141823  -0.083580615\n",
       "ptwiki  0.03205774  -0.475279455\n",
       "ruwiki -0.04468127   0.393201396\n",
       "srwiki  0.03007508  -0.016926797\n",
       "svwiki -0.21548538   0.248726402\n",
       "trwiki  0.46509320  -0.425401638\n",
       "ukwiki -0.23329354   0.137324852\n",
       "viwiki  0.22614676   0.004561674\n",
       "\n",
       "with conditional variances for “wiki_db” "
      ]
     },
     "metadata": {},
     "output_type": "display_data"
    }
   ],
   "source": [
    "ranef(interact.model.2.1)"
   ]
  },
  {
   "cell_type": "code",
   "execution_count": 19,
   "metadata": {},
   "outputs": [
    {
     "data": {
      "text/plain": [
       "$wiki_db\n",
       "       (Intercept) hp_variantD reg_on_mobile\n",
       "arwiki -0.14277089   -1.000687    -0.8012617\n",
       "cswiki -0.26072510   -1.000687    -0.6588936\n",
       "fawiki -0.09178791   -1.000687    -0.7889039\n",
       "frwiki -0.65746118   -1.000687    -0.3296672\n",
       "hewiki -0.08824852   -1.000687    -0.8441070\n",
       "huwiki -0.45058227   -1.000687    -0.4547025\n",
       "hywiki -0.13087131   -1.000687    -0.9009842\n",
       "kowiki -0.94587813   -1.000687    -0.1555070\n",
       "plwiki -0.26982493   -1.000687    -0.7289032\n",
       "ptwiki -0.27918542   -1.000687    -1.1206021\n",
       "ruwiki -0.35592443   -1.000687    -0.2521212\n",
       "srwiki -0.28116808   -1.000687    -0.6622494\n",
       "svwiki -0.52672854   -1.000687    -0.3965962\n",
       "trwiki  0.15385004   -1.000687    -1.0707243\n",
       "ukwiki -0.54453670   -1.000687    -0.5079978\n",
       "viwiki -0.08509640   -1.000687    -0.6407609\n",
       "\n",
       "attr(,\"class\")\n",
       "[1] \"coef.mer\""
      ]
     },
     "metadata": {},
     "output_type": "display_data"
    }
   ],
   "source": [
    "coef(interact.model.2.1)"
   ]
  },
  {
   "cell_type": "markdown",
   "metadata": {},
   "source": [
    "We see indications that the user registering on mobile is strongly associated with lower probability of task navigation, and that there's meaningful variation between wikis when it comes to this effect.\n",
    "\n",
    "## Interaction between variant and desktop/mobile\n",
    "\n",
    "One of the key findings of our previous analysis was that there was a strong interaction effect between which variant group the user was in, and whether they registered on desktop or mobile. An *interaction effect* means that the effect of one of the predictors is altered by the effect of another predictor. In our case, since both predictor are binary categorical variables, it means that the outcome is altered depending on the combination of those categories."
   ]
  },
  {
   "cell_type": "code",
   "execution_count": 20,
   "metadata": {},
   "outputs": [],
   "source": [
    "## 3: desktop/mobile interaction\n",
    "interact.model.3 = glmer(formula = did_interact ~ hp_variant * reg_on_mobile +\n",
    "                         (1 + reg_on_mobile | wiki_db),\n",
    "                         family = binomial(link = \"logit\"), data = exp_users_train)"
   ]
  },
  {
   "cell_type": "code",
   "execution_count": 21,
   "metadata": {},
   "outputs": [
    {
     "data": {
      "text/plain": [
       "Generalized linear mixed model fit by maximum likelihood (Laplace\n",
       "  Approximation) [glmerMod]\n",
       " Family: binomial  ( logit )\n",
       "Formula: did_interact ~ hp_variant * reg_on_mobile + (1 + reg_on_mobile |  \n",
       "    wiki_db)\n",
       "   Data: exp_users_train\n",
       "\n",
       "     AIC      BIC   logLik deviance df.resid \n",
       " 28340.1  28397.3 -14163.0  28326.1    26085 \n",
       "\n",
       "Scaled residuals: \n",
       "    Min      1Q  Median      3Q     Max \n",
       "-1.1194 -0.5902 -0.4599  1.0116  3.0115 \n",
       "\n",
       "Random effects:\n",
       " Groups  Name          Variance Std.Dev. Corr \n",
       " wiki_db (Intercept)   0.08100  0.2846        \n",
       "         reg_on_mobile 0.09865  0.3141   -0.78\n",
       "Number of obs: 26092, groups:  wiki_db, 16\n",
       "\n",
       "Fixed effects:\n",
       "                          Estimate Std. Error z value Pr(>|z|)    \n",
       "(Intercept)               -0.24851    0.07775  -3.196  0.00139 ** \n",
       "hp_variantD               -1.16050    0.03749 -30.957  < 2e-16 ***\n",
       "reg_on_mobile             -0.81945    0.09516  -8.611  < 2e-16 ***\n",
       "hp_variantD:reg_on_mobile  0.45362    0.06221   7.291 3.07e-13 ***\n",
       "---\n",
       "Signif. codes:  0 ‘***’ 0.001 ‘**’ 0.01 ‘*’ 0.05 ‘.’ 0.1 ‘ ’ 1\n",
       "\n",
       "Correlation of Fixed Effects:\n",
       "            (Intr) hp_vrD rg_n_m\n",
       "hp_variantD -0.185              \n",
       "reg_on_mobl -0.718  0.151       \n",
       "hp_vrntD:__  0.112 -0.602 -0.258"
      ]
     },
     "metadata": {},
     "output_type": "display_data"
    }
   ],
   "source": [
    "summary(interact.model.3)"
   ]
  },
  {
   "cell_type": "markdown",
   "metadata": {},
   "source": [
    "We find again a strong indicator of interaction between the predictors, in this case that Variant D on desktop is negative while on mobile it's less so."
   ]
  },
  {
   "cell_type": "code",
   "execution_count": null,
   "metadata": {},
   "outputs": [],
   "source": [
    "plot_ROC(edit.model.3, exp_users_validate, 'did_edit', \"Model 3 ROC\", cutoff_steps = 0.025)"
   ]
  },
  {
   "cell_type": "markdown",
   "metadata": {},
   "source": [
    "## Variation across wikis\n",
    "\n",
    "We test if the effect of these predictors vary significantly by wiki."
   ]
  },
  {
   "cell_type": "code",
   "execution_count": 22,
   "metadata": {},
   "outputs": [
    {
     "name": "stderr",
     "output_type": "stream",
     "text": [
      "boundary (singular) fit: see ?isSingular\n",
      "\n"
     ]
    }
   ],
   "source": [
    "## 4: both variant and platform as group-level predictors\n",
    "interact.model.4 = glmer(formula = did_interact ~ hp_variant * reg_on_mobile +\n",
    "                         (1 + hp_variant * reg_on_mobile | wiki_db),\n",
    "                         family = binomial(link = \"logit\"), data = exp_users_train)"
   ]
  },
  {
   "cell_type": "code",
   "execution_count": null,
   "metadata": {},
   "outputs": [],
   "source": [
    "## If model didn't converge, restart and give it some more iterations:\n",
    "start_vals = getME(nav.model.4, c(\"theta\", \"fixef\"))\n",
    "nav.model.4 = update(nav.model.4, start = start_vals,\n",
    "                     control = glmerControl(optCtrl = list(maxfun = 2e4)))\n"
   ]
  },
  {
   "cell_type": "code",
   "execution_count": null,
   "metadata": {},
   "outputs": [],
   "source": [
    "summary(interact.model.4)"
   ]
  },
  {
   "cell_type": "markdown",
   "metadata": {},
   "source": [
    "The model converges, but it's singular. We'll therefore remove the interaction and test a model without it, and with single predictors."
   ]
  },
  {
   "cell_type": "code",
   "execution_count": 23,
   "metadata": {},
   "outputs": [
    {
     "name": "stderr",
     "output_type": "stream",
     "text": [
      "boundary (singular) fit: see ?isSingular\n",
      "\n"
     ]
    }
   ],
   "source": [
    "## 4: both variant and platform as group-level predictors, with no interaction at the group level\n",
    "interact.model.4.1 = glmer(formula = did_interact ~ hp_variant * reg_on_mobile +\n",
    "                         (1 + hp_variant + reg_on_mobile | wiki_db),\n",
    "                         family = binomial(link = \"logit\"), data = exp_users_train)"
   ]
  },
  {
   "cell_type": "code",
   "execution_count": 24,
   "metadata": {},
   "outputs": [
    {
     "name": "stderr",
     "output_type": "stream",
     "text": [
      "boundary (singular) fit: see ?isSingular\n",
      "\n"
     ]
    }
   ],
   "source": [
    "## 4.2: only homepage variant as a group-level predictor\n",
    "interact.model.4.2 = glmer(formula = did_interact ~ hp_variant * reg_on_mobile +\n",
    "                         (1 + hp_variant | wiki_db),\n",
    "                         family = binomial(link = \"logit\"), data = exp_users_train)"
   ]
  },
  {
   "cell_type": "code",
   "execution_count": null,
   "metadata": {},
   "outputs": [],
   "source": [
    "## 4.3: only platform as a group-level predictor (same as model 3 above)\n",
    "interact.model.4.3 = glmer(formula = did_interact ~ hp_variant * reg_on_mobile +\n",
    "                         (1 + reg_on_mobile | wiki_db),\n",
    "                         family = binomial(link = \"logit\"), data = exp_users_train)"
   ]
  },
  {
   "cell_type": "markdown",
   "metadata": {},
   "source": [
    "Once interaction between variant and platform is introduced, we see that Homepage variant is no longer meaningful as a group-level predictor. We therefore discard it in favour of keeping platform.\n",
    "\n",
    "## Time as a predictor\n",
    "\n",
    "Lastly, we add time as a predictor, in this case a variable measuring the number of weeks between when the user registered and the start of the experiment. This enables us to understand if the probability of a user editing changes as time progresses."
   ]
  },
  {
   "cell_type": "code",
   "execution_count": 27,
   "metadata": {},
   "outputs": [],
   "source": [
    "## 5: add time\n",
    "interact.model.5 = glmer(formula = did_interact ~ hp_variant * reg_on_mobile +\n",
    "                         ln_exp_weeks + (1 + reg_on_mobile | wiki_db),\n",
    "                         family = binomial(link = \"logit\"), data = exp_users_train)\n"
   ]
  },
  {
   "cell_type": "code",
   "execution_count": 28,
   "metadata": {},
   "outputs": [
    {
     "data": {
      "text/plain": [
       "Generalized linear mixed model fit by maximum likelihood (Laplace\n",
       "  Approximation) [glmerMod]\n",
       " Family: binomial  ( logit )\n",
       "Formula: did_interact ~ hp_variant * reg_on_mobile + ln_exp_weeks + (1 +  \n",
       "    reg_on_mobile | wiki_db)\n",
       "   Data: exp_users_train\n",
       "\n",
       "     AIC      BIC   logLik deviance df.resid \n",
       " 28340.5  28405.8 -14162.2  28324.5    26084 \n",
       "\n",
       "Scaled residuals: \n",
       "    Min      1Q  Median      3Q     Max \n",
       "-1.1438 -0.5930 -0.4613  1.0028  3.0489 \n",
       "\n",
       "Random effects:\n",
       " Groups  Name          Variance Std.Dev. Corr \n",
       " wiki_db (Intercept)   0.08077  0.2842        \n",
       "         reg_on_mobile 0.09846  0.3138   -0.78\n",
       "Number of obs: 26092, groups:  wiki_db, 16\n",
       "\n",
       "Fixed effects:\n",
       "                          Estimate Std. Error z value Pr(>|z|)    \n",
       "(Intercept)               -0.20408    0.08523  -2.394   0.0167 *  \n",
       "hp_variantD               -1.16058    0.03750 -30.948  < 2e-16 ***\n",
       "reg_on_mobile             -0.82015    0.09518  -8.617  < 2e-16 ***\n",
       "ln_exp_weeks              -0.04274    0.03364  -1.271   0.2038    \n",
       "hp_variantD:reg_on_mobile  0.45350    0.06224   7.286 3.19e-13 ***\n",
       "---\n",
       "Signif. codes:  0 ‘***’ 0.001 ‘**’ 0.01 ‘*’ 0.05 ‘.’ 0.1 ‘ ’ 1\n",
       "\n",
       "Correlation of Fixed Effects:\n",
       "            (Intr) hp_vrD rg_n_m ln_xp_\n",
       "hp_variantD -0.171                     \n",
       "reg_on_mobl -0.658  0.152              \n",
       "ln_exp_weks -0.410  0.003  0.006       \n",
       "hp_vrntD:__  0.102 -0.603 -0.258  0.001"
      ]
     },
     "metadata": {},
     "output_type": "display_data"
    }
   ],
   "source": [
    "summary(interact.model.5)"
   ]
  },
  {
   "cell_type": "code",
   "execution_count": 29,
   "metadata": {},
   "outputs": [],
   "source": [
    "## 5.1: time in days\n",
    "interact.model.5.1 = glmer(formula = did_interact ~ hp_variant * reg_on_mobile +\n",
    "                      ln_exp_days + (1 + reg_on_mobile | wiki_db),\n",
    "                    family = binomial(link = \"logit\"), data = exp_users_train)\n"
   ]
  },
  {
   "cell_type": "code",
   "execution_count": 30,
   "metadata": {},
   "outputs": [
    {
     "data": {
      "text/plain": [
       "Generalized linear mixed model fit by maximum likelihood (Laplace\n",
       "  Approximation) [glmerMod]\n",
       " Family: binomial  ( logit )\n",
       "Formula: did_interact ~ hp_variant * reg_on_mobile + ln_exp_days + (1 +  \n",
       "    reg_on_mobile | wiki_db)\n",
       "   Data: exp_users_train\n",
       "\n",
       "     AIC      BIC   logLik deviance df.resid \n",
       " 28340.6  28405.9 -14162.3  28324.6    26084 \n",
       "\n",
       "Scaled residuals: \n",
       "    Min      1Q  Median      3Q     Max \n",
       "-1.1524 -0.5928 -0.4606  1.0047  3.0423 \n",
       "\n",
       "Random effects:\n",
       " Groups  Name          Variance Std.Dev. Corr \n",
       " wiki_db (Intercept)   0.08078  0.2842        \n",
       "         reg_on_mobile 0.09845  0.3138   -0.78\n",
       "Number of obs: 26092, groups:  wiki_db, 16\n",
       "\n",
       "Fixed effects:\n",
       "                          Estimate Std. Error z value Pr(>|z|)    \n",
       "(Intercept)               -0.18798    0.09204  -2.042   0.0411 *  \n",
       "hp_variantD               -1.16046    0.03750 -30.947  < 2e-16 ***\n",
       "reg_on_mobile             -0.81997    0.09516  -8.616  < 2e-16 ***\n",
       "ln_exp_days               -0.02391    0.01948  -1.227   0.2197    \n",
       "hp_variantD:reg_on_mobile  0.45334    0.06224   7.284 3.23e-13 ***\n",
       "---\n",
       "Signif. codes:  0 ‘***’ 0.001 ‘**’ 0.01 ‘*’ 0.05 ‘.’ 0.1 ‘ ’ 1\n",
       "\n",
       "Correlation of Fixed Effects:\n",
       "            (Intr) hp_vrD rg_n_m ln_xp_\n",
       "hp_variantD -0.157                     \n",
       "reg_on_mobl -0.610  0.152              \n",
       "ln_exp_days -0.536  0.001  0.005       \n",
       "hp_vrntD:__  0.093 -0.602 -0.258  0.003"
      ]
     },
     "metadata": {},
     "output_type": "display_data"
    }
   ],
   "source": [
    "summary(interact.model.5.1)"
   ]
  },
  {
   "cell_type": "markdown",
   "metadata": {},
   "source": [
    "It appears that time does not have an effect in this experiment, and adding it does not improve fitness as the BIC is lower. This is consistent with all our previous analyses as well.\n",
    "\n",
    "## Model across the entire dataset\n",
    "\n",
    "Our previous models were trained on a random 80% of our dataset. We switch to the full dataset and model again to get a sense of the predictors across all available data."
   ]
  },
  {
   "cell_type": "code",
   "execution_count": 31,
   "metadata": {},
   "outputs": [],
   "source": [
    "## 7: full model\n",
    "interact.model.full = glmer(formula = did_interact ~ hp_variant * reg_on_mobile +\n",
    "                            (1 + reg_on_mobile | wiki_db),\n",
    "                            family = binomial(link = \"logit\"), data = exp_users)"
   ]
  },
  {
   "cell_type": "code",
   "execution_count": 32,
   "metadata": {},
   "outputs": [
    {
     "data": {
      "text/plain": [
       "Generalized linear mixed model fit by maximum likelihood (Laplace\n",
       "  Approximation) [glmerMod]\n",
       " Family: binomial  ( logit )\n",
       "Formula: did_interact ~ hp_variant * reg_on_mobile + (1 + reg_on_mobile |  \n",
       "    wiki_db)\n",
       "   Data: exp_users\n",
       "\n",
       "     AIC      BIC   logLik deviance df.resid \n",
       " 35361.2  35419.9 -17673.6  35347.2    32608 \n",
       "\n",
       "Scaled residuals: \n",
       "    Min      1Q  Median      3Q     Max \n",
       "-1.1327 -0.5869 -0.4674  1.0287  3.0139 \n",
       "\n",
       "Random effects:\n",
       " Groups  Name          Variance Std.Dev. Corr \n",
       " wiki_db (Intercept)   0.07492  0.2737        \n",
       "         reg_on_mobile 0.08618  0.2936   -0.67\n",
       "Number of obs: 32615, groups:  wiki_db, 16\n",
       "\n",
       "Fixed effects:\n",
       "                          Estimate Std. Error z value Pr(>|z|)    \n",
       "(Intercept)               -0.27759    0.07405  -3.749 0.000178 ***\n",
       "hp_variantD               -1.15268    0.03363 -34.279  < 2e-16 ***\n",
       "reg_on_mobile             -0.81305    0.08878  -9.158  < 2e-16 ***\n",
       "hp_variantD:reg_on_mobile  0.46733    0.05563   8.400  < 2e-16 ***\n",
       "---\n",
       "Signif. codes:  0 ‘***’ 0.001 ‘**’ 0.01 ‘*’ 0.05 ‘.’ 0.1 ‘ ’ 1\n",
       "\n",
       "Correlation of Fixed Effects:\n",
       "            (Intr) hp_vrD rg_n_m\n",
       "hp_variantD -0.173              \n",
       "reg_on_mobl -0.627  0.145       \n",
       "hp_vrntD:__  0.105 -0.604 -0.248"
      ]
     },
     "metadata": {},
     "output_type": "display_data"
    }
   ],
   "source": [
    "summary(interact.model.full)"
   ]
  },
  {
   "cell_type": "markdown",
   "metadata": {},
   "source": [
    "Estimating the effects using the \"divide by 4 rule\"."
   ]
  },
  {
   "cell_type": "code",
   "execution_count": 34,
   "metadata": {},
   "outputs": [
    {
     "data": {
      "text/html": [
       "<strong>hp_variantD:</strong> -0.288169665466782"
      ],
      "text/latex": [
       "\\textbf{hp\\textbackslash{}\\_variantD:} -0.288169665466782"
      ],
      "text/markdown": [
       "**hp_variantD:** -0.288169665466782"
      ],
      "text/plain": [
       "hp_variantD \n",
       " -0.2881697 "
      ]
     },
     "metadata": {},
     "output_type": "display_data"
    }
   ],
   "source": [
    "fixef(interact.model.full)[2] / 4"
   ]
  },
  {
   "cell_type": "code",
   "execution_count": 35,
   "metadata": {},
   "outputs": [
    {
     "data": {
      "text/html": [
       "<strong>hp_variantD:reg_on_mobile:</strong> 0.116832353439505"
      ],
      "text/latex": [
       "\\textbf{hp\\textbackslash{}\\_variantD:reg\\textbackslash{}\\_on\\textbackslash{}\\_mobile:} 0.116832353439505"
      ],
      "text/markdown": [
       "**hp_variantD:reg_on_mobile:** 0.116832353439505"
      ],
      "text/plain": [
       "hp_variantD:reg_on_mobile \n",
       "                0.1168324 "
      ]
     },
     "metadata": {},
     "output_type": "display_data"
    }
   ],
   "source": [
    "fixef(interact.model.full)[4] / 4"
   ]
  },
  {
   "cell_type": "code",
   "execution_count": 56,
   "metadata": {},
   "outputs": [
    {
     "data": {
      "text/html": [
       "<strong>hp_variantD:</strong> -0.171337312027276"
      ],
      "text/latex": [
       "\\textbf{hp\\textbackslash{}\\_variantD:} -0.171337312027276"
      ],
      "text/markdown": [
       "**hp_variantD:** -0.171337312027276"
      ],
      "text/plain": [
       "hp_variantD \n",
       " -0.1713373 "
      ]
     },
     "metadata": {},
     "output_type": "display_data"
    }
   ],
   "source": [
    "(fixef(interact.model.full)[2] + fixef(interact.model.full)[4])/4"
   ]
  },
  {
   "cell_type": "code",
   "execution_count": 36,
   "metadata": {},
   "outputs": [
    {
     "data": {
      "text/html": [
       "<table>\n",
       "<caption>A matrix: 16 × 2 of type chr</caption>\n",
       "<tbody>\n",
       "\t<tr><td>arwiki</td><td>-23.22 </td></tr>\n",
       "\t<tr><td>cswiki</td><td>-17.574</td></tr>\n",
       "\t<tr><td>fawiki</td><td>-23.547</td></tr>\n",
       "\t<tr><td>frwiki</td><td>-12.38 </td></tr>\n",
       "\t<tr><td>hewiki</td><td>-24.693</td></tr>\n",
       "\t<tr><td>huwiki</td><td>-18.454</td></tr>\n",
       "\t<tr><td>hywiki</td><td>-25.733</td></tr>\n",
       "\t<tr><td>kowiki</td><td>-10.524</td></tr>\n",
       "\t<tr><td>plwiki</td><td>-22.912</td></tr>\n",
       "\t<tr><td>ptwiki</td><td>-32.273</td></tr>\n",
       "\t<tr><td>ruwiki</td><td>-10.729</td></tr>\n",
       "\t<tr><td>srwiki</td><td>-20.719</td></tr>\n",
       "\t<tr><td>svwiki</td><td>-14.188</td></tr>\n",
       "\t<tr><td>trwiki</td><td>-31.152</td></tr>\n",
       "\t<tr><td>ukwiki</td><td>-19.295</td></tr>\n",
       "\t<tr><td>viwiki</td><td>-17.331</td></tr>\n",
       "</tbody>\n",
       "</table>\n"
      ],
      "text/latex": [
       "A matrix: 16 × 2 of type chr\n",
       "\\begin{tabular}{ll}\n",
       "\t arwiki & -23.22 \\\\\n",
       "\t cswiki & -17.574\\\\\n",
       "\t fawiki & -23.547\\\\\n",
       "\t frwiki & -12.38 \\\\\n",
       "\t hewiki & -24.693\\\\\n",
       "\t huwiki & -18.454\\\\\n",
       "\t hywiki & -25.733\\\\\n",
       "\t kowiki & -10.524\\\\\n",
       "\t plwiki & -22.912\\\\\n",
       "\t ptwiki & -32.273\\\\\n",
       "\t ruwiki & -10.729\\\\\n",
       "\t srwiki & -20.719\\\\\n",
       "\t svwiki & -14.188\\\\\n",
       "\t trwiki & -31.152\\\\\n",
       "\t ukwiki & -19.295\\\\\n",
       "\t viwiki & -17.331\\\\\n",
       "\\end{tabular}\n"
      ],
      "text/markdown": [
       "\n",
       "A matrix: 16 × 2 of type chr\n",
       "\n",
       "| arwiki | -23.22  |\n",
       "| cswiki | -17.574 |\n",
       "| fawiki | -23.547 |\n",
       "| frwiki | -12.38  |\n",
       "| hewiki | -24.693 |\n",
       "| huwiki | -18.454 |\n",
       "| hywiki | -25.733 |\n",
       "| kowiki | -10.524 |\n",
       "| plwiki | -22.912 |\n",
       "| ptwiki | -32.273 |\n",
       "| ruwiki | -10.729 |\n",
       "| srwiki | -20.719 |\n",
       "| svwiki | -14.188 |\n",
       "| trwiki | -31.152 |\n",
       "| ukwiki | -19.295 |\n",
       "| viwiki | -17.331 |\n",
       "\n"
      ],
      "text/plain": [
       "      [,1]   [,2]   \n",
       " [1,] arwiki -23.22 \n",
       " [2,] cswiki -17.574\n",
       " [3,] fawiki -23.547\n",
       " [4,] frwiki -12.38 \n",
       " [5,] hewiki -24.693\n",
       " [6,] huwiki -18.454\n",
       " [7,] hywiki -25.733\n",
       " [8,] kowiki -10.524\n",
       " [9,] plwiki -22.912\n",
       "[10,] ptwiki -32.273\n",
       "[11,] ruwiki -10.729\n",
       "[12,] srwiki -20.719\n",
       "[13,] svwiki -14.188\n",
       "[14,] trwiki -31.152\n",
       "[15,] ukwiki -19.295\n",
       "[16,] viwiki -17.331"
      ]
     },
     "metadata": {},
     "output_type": "display_data"
    }
   ],
   "source": [
    "cbind(rownames(coef(interact.model.full)$wiki_db),\n",
    "      round(100 * coef(interact.model.full)$wiki_db$reg_on_mobile / 4, 3))"
   ]
  },
  {
   "cell_type": "markdown",
   "metadata": {},
   "source": [
    "The model across the full dataset shows the same trends as we saw with this model on the smaller dataset. In summary:\n",
    "\n",
    "1. Variant C is associated with higher likelihood of interaction compared to Variant D.\n",
    "2. The difference between the variants depends on platform, it's larger on desktop than on mobile.\n",
    "3. Registering on mobile is strongly associated with lower likelihood of interacting with the module. It is also an effect that varies by wiki."
   ]
  },
  {
   "cell_type": "markdown",
   "metadata": {},
   "source": [
    "## Overview table\n",
    "\n",
    "Since we've found that results vary by wiki, where the user registered, and what variant they saw, we create an overview table to show how the probability changes."
   ]
  },
  {
   "cell_type": "code",
   "execution_count": 37,
   "metadata": {},
   "outputs": [],
   "source": [
    "visit_counts = exp_users[, list(n_visitors = sum(.N)),\n",
    "                       by = c('wiki_db', 'reg_on_mobile', 'hp_variant')]\n",
    "interaction_counts = exp_users[did_interact == 1, list(n_interacted = sum(.N)),\n",
    "                        by = c('wiki_db', 'reg_on_mobile', 'hp_variant')]\n",
    "merged_interaction_counts = merge(visit_counts, interaction_counts,\n",
    "                                  by = c('wiki_db', 'reg_on_mobile', 'hp_variant'))\n",
    "merged_interaction_counts[, percent_interacted := 100 * n_interacted / n_visitors]"
   ]
  },
  {
   "cell_type": "code",
   "execution_count": 38,
   "metadata": {},
   "outputs": [
    {
     "data": {
      "text/html": [
       "<table>\n",
       "<caption>A data.table: 16 × 6</caption>\n",
       "<thead>\n",
       "\t<tr><th scope=col>wiki_db</th><th scope=col>reg_on_mobile</th><th scope=col>hp_variant</th><th scope=col>n_visitors</th><th scope=col>n_interacted</th><th scope=col>percent_interacted</th></tr>\n",
       "\t<tr><th scope=col>&lt;fct&gt;</th><th scope=col>&lt;int&gt;</th><th scope=col>&lt;chr&gt;</th><th scope=col>&lt;int&gt;</th><th scope=col>&lt;int&gt;</th><th scope=col>&lt;dbl&gt;</th></tr>\n",
       "</thead>\n",
       "<tbody>\n",
       "\t<tr><td>arwiki</td><td>0</td><td>C</td><td> 720</td><td>331</td><td>45.972222</td></tr>\n",
       "\t<tr><td>arwiki</td><td>0</td><td>D</td><td> 679</td><td>153</td><td>22.533137</td></tr>\n",
       "\t<tr><td>arwiki</td><td>1</td><td>C</td><td>1182</td><td>286</td><td>24.196277</td></tr>\n",
       "\t<tr><td>arwiki</td><td>1</td><td>D</td><td>1186</td><td>192</td><td>16.188870</td></tr>\n",
       "\t<tr><td>cswiki</td><td>0</td><td>C</td><td> 277</td><td>128</td><td>46.209386</td></tr>\n",
       "\t<tr><td>cswiki</td><td>0</td><td>D</td><td> 302</td><td> 55</td><td>18.211921</td></tr>\n",
       "\t<tr><td>cswiki</td><td>1</td><td>C</td><td>  74</td><td> 25</td><td>33.783784</td></tr>\n",
       "\t<tr><td>cswiki</td><td>1</td><td>D</td><td>  79</td><td> 12</td><td>15.189873</td></tr>\n",
       "\t<tr><td>kowiki</td><td>0</td><td>C</td><td> 165</td><td> 44</td><td>26.666667</td></tr>\n",
       "\t<tr><td>kowiki</td><td>0</td><td>D</td><td> 149</td><td> 12</td><td> 8.053691</td></tr>\n",
       "\t<tr><td>kowiki</td><td>1</td><td>C</td><td>  73</td><td> 13</td><td>17.808219</td></tr>\n",
       "\t<tr><td>kowiki</td><td>1</td><td>D</td><td>  69</td><td>  9</td><td>13.043478</td></tr>\n",
       "\t<tr><td>viwiki</td><td>0</td><td>C</td><td> 279</td><td>145</td><td>51.971326</td></tr>\n",
       "\t<tr><td>viwiki</td><td>0</td><td>D</td><td> 280</td><td> 56</td><td>20.000000</td></tr>\n",
       "\t<tr><td>viwiki</td><td>1</td><td>C</td><td> 114</td><td> 38</td><td>33.333333</td></tr>\n",
       "\t<tr><td>viwiki</td><td>1</td><td>D</td><td> 123</td><td> 28</td><td>22.764228</td></tr>\n",
       "</tbody>\n",
       "</table>\n"
      ],
      "text/latex": [
       "A data.table: 16 × 6\n",
       "\\begin{tabular}{llllll}\n",
       " wiki\\_db & reg\\_on\\_mobile & hp\\_variant & n\\_visitors & n\\_interacted & percent\\_interacted\\\\\n",
       " <fct> & <int> & <chr> & <int> & <int> & <dbl>\\\\\n",
       "\\hline\n",
       "\t arwiki & 0 & C &  720 & 331 & 45.972222\\\\\n",
       "\t arwiki & 0 & D &  679 & 153 & 22.533137\\\\\n",
       "\t arwiki & 1 & C & 1182 & 286 & 24.196277\\\\\n",
       "\t arwiki & 1 & D & 1186 & 192 & 16.188870\\\\\n",
       "\t cswiki & 0 & C &  277 & 128 & 46.209386\\\\\n",
       "\t cswiki & 0 & D &  302 &  55 & 18.211921\\\\\n",
       "\t cswiki & 1 & C &   74 &  25 & 33.783784\\\\\n",
       "\t cswiki & 1 & D &   79 &  12 & 15.189873\\\\\n",
       "\t kowiki & 0 & C &  165 &  44 & 26.666667\\\\\n",
       "\t kowiki & 0 & D &  149 &  12 &  8.053691\\\\\n",
       "\t kowiki & 1 & C &   73 &  13 & 17.808219\\\\\n",
       "\t kowiki & 1 & D &   69 &   9 & 13.043478\\\\\n",
       "\t viwiki & 0 & C &  279 & 145 & 51.971326\\\\\n",
       "\t viwiki & 0 & D &  280 &  56 & 20.000000\\\\\n",
       "\t viwiki & 1 & C &  114 &  38 & 33.333333\\\\\n",
       "\t viwiki & 1 & D &  123 &  28 & 22.764228\\\\\n",
       "\\end{tabular}\n"
      ],
      "text/markdown": [
       "\n",
       "A data.table: 16 × 6\n",
       "\n",
       "| wiki_db &lt;fct&gt; | reg_on_mobile &lt;int&gt; | hp_variant &lt;chr&gt; | n_visitors &lt;int&gt; | n_interacted &lt;int&gt; | percent_interacted &lt;dbl&gt; |\n",
       "|---|---|---|---|---|---|\n",
       "| arwiki | 0 | C |  720 | 331 | 45.972222 |\n",
       "| arwiki | 0 | D |  679 | 153 | 22.533137 |\n",
       "| arwiki | 1 | C | 1182 | 286 | 24.196277 |\n",
       "| arwiki | 1 | D | 1186 | 192 | 16.188870 |\n",
       "| cswiki | 0 | C |  277 | 128 | 46.209386 |\n",
       "| cswiki | 0 | D |  302 |  55 | 18.211921 |\n",
       "| cswiki | 1 | C |   74 |  25 | 33.783784 |\n",
       "| cswiki | 1 | D |   79 |  12 | 15.189873 |\n",
       "| kowiki | 0 | C |  165 |  44 | 26.666667 |\n",
       "| kowiki | 0 | D |  149 |  12 |  8.053691 |\n",
       "| kowiki | 1 | C |   73 |  13 | 17.808219 |\n",
       "| kowiki | 1 | D |   69 |   9 | 13.043478 |\n",
       "| viwiki | 0 | C |  279 | 145 | 51.971326 |\n",
       "| viwiki | 0 | D |  280 |  56 | 20.000000 |\n",
       "| viwiki | 1 | C |  114 |  38 | 33.333333 |\n",
       "| viwiki | 1 | D |  123 |  28 | 22.764228 |\n",
       "\n"
      ],
      "text/plain": [
       "   wiki_db reg_on_mobile hp_variant n_visitors n_interacted percent_interacted\n",
       "1  arwiki  0             C           720       331          45.972222         \n",
       "2  arwiki  0             D           679       153          22.533137         \n",
       "3  arwiki  1             C          1182       286          24.196277         \n",
       "4  arwiki  1             D          1186       192          16.188870         \n",
       "5  cswiki  0             C           277       128          46.209386         \n",
       "6  cswiki  0             D           302        55          18.211921         \n",
       "7  cswiki  1             C            74        25          33.783784         \n",
       "8  cswiki  1             D            79        12          15.189873         \n",
       "9  kowiki  0             C           165        44          26.666667         \n",
       "10 kowiki  0             D           149        12           8.053691         \n",
       "11 kowiki  1             C            73        13          17.808219         \n",
       "12 kowiki  1             D            69         9          13.043478         \n",
       "13 viwiki  0             C           279       145          51.971326         \n",
       "14 viwiki  0             D           280        56          20.000000         \n",
       "15 viwiki  1             C           114        38          33.333333         \n",
       "16 viwiki  1             D           123        28          22.764228         "
      ]
     },
     "metadata": {},
     "output_type": "display_data"
    }
   ],
   "source": [
    "## We'll focus on Arabic, Czech, Korean, and Vietnamese, to compare the numbers with Variant A/B\n",
    "merged_interaction_counts[wiki_db %in% c('arwiki', 'cswiki', 'kowiki', 'viwiki')]"
   ]
  },
  {
   "cell_type": "code",
   "execution_count": 39,
   "metadata": {},
   "outputs": [],
   "source": [
    "merged_interaction_counts[, platform := 'desktop']\n",
    "merged_interaction_counts[reg_on_mobile == 1, platform := 'mobile']\n",
    "merged_interaction_counts$platform = factor(merged_interaction_counts$platform)\n",
    "\n",
    "merged_interaction_counts$hp_variant = factor(merged_interaction_counts$hp_variant)"
   ]
  },
  {
   "cell_type": "code",
   "execution_count": 40,
   "metadata": {},
   "outputs": [],
   "source": [
    "plots = lapply(unique(merged_interaction_counts$wiki_db), function(w) {\n",
    "    ggplot(merged_interaction_counts[wiki_db == w], aes(x = platform, y = percent_interacted,\n",
    "                                                        fill = hp_variant)) +\n",
    "        theme_bw() +\n",
    "        theme(axis.title.x = element_text(size = rel(1.5)),\n",
    "            axis.text.x = element_text(size = rel(1.25)),\n",
    "            axis.title.y = element_text(size = rel(1.5)),\n",
    "            axis.text.y = element_text(size = rel(1.25))) +\n",
    "        scale_fill_brewer(\"Variant\", palette = 'Set1') +\n",
    "        labs(x = \"Platform\", y = \"Probability (in %)\", title = w) +\n",
    "        geom_col(position = \"dodge2\")\n",
    "})\n",
    "\n",
    "# ggsave(plot = g, file = \"graphs/tagged_edit_probabilities.png\",\n",
    "#       width = 14, height = 7, units = \"in\", dpi = \"retina\")"
   ]
  },
  {
   "cell_type": "code",
   "execution_count": 41,
   "metadata": {},
   "outputs": [
    {
     "data": {
      "image/png": "[encoded data removed]",
      "text/plain": [
       "plot without title"
      ]
     },
     "metadata": {
      "image/png": {
       "height": 1260,
       "width": 840
      }
     },
     "output_type": "display_data"
    }
   ],
   "source": [
    "options(repr.plot.width = 14, repr.plot.height = 21)\n",
    "grid.arrange(grobs = plots, ncol = 2)"
   ]
  },
  {
   "cell_type": "markdown",
   "metadata": {},
   "source": [
    "One thing to note about these graphs is that Variant D is lower than Variant C across all wikis and platforms. For task navigation, task clicks, and saving a suggested edit, we had various wikis and platforms where Variant D is higher.\n",
    "\n",
    "## Summary\n",
    "\n",
    "\n",
    "## Additional analysis\n",
    "\n",
    "What's the probability difference of navigating and clicking across the dataset for C vs D?"
   ]
  },
  {
   "cell_type": "code",
   "execution_count": 55,
   "metadata": {},
   "outputs": [
    {
     "data": {
      "text/html": [
       "<table>\n",
       "<caption>A data.table: 4 × 5</caption>\n",
       "<thead>\n",
       "\t<tr><th scope=col>platform</th><th scope=col>hp_variant</th><th scope=col>n_visitors</th><th scope=col>n_interacted</th><th scope=col>perc_interacted</th></tr>\n",
       "\t<tr><th scope=col>&lt;fct&gt;</th><th scope=col>&lt;fct&gt;</th><th scope=col>&lt;int&gt;</th><th scope=col>&lt;int&gt;</th><th scope=col>&lt;dbl&gt;</th></tr>\n",
       "</thead>\n",
       "<tbody>\n",
       "\t<tr><td>desktop</td><td>C</td><td>9567</td><td>4081</td><td>42.65705</td></tr>\n",
       "\t<tr><td>desktop</td><td>D</td><td>9379</td><td>1809</td><td>19.28777</td></tr>\n",
       "\t<tr><td>mobile </td><td>C</td><td>6798</td><td>1714</td><td>25.21330</td></tr>\n",
       "\t<tr><td>mobile </td><td>D</td><td>6871</td><td>1008</td><td>14.67035</td></tr>\n",
       "</tbody>\n",
       "</table>\n"
      ],
      "text/latex": [
       "A data.table: 4 × 5\n",
       "\\begin{tabular}{lllll}\n",
       " platform & hp\\_variant & n\\_visitors & n\\_interacted & perc\\_interacted\\\\\n",
       " <fct> & <fct> & <int> & <int> & <dbl>\\\\\n",
       "\\hline\n",
       "\t desktop & C & 9567 & 4081 & 42.65705\\\\\n",
       "\t desktop & D & 9379 & 1809 & 19.28777\\\\\n",
       "\t mobile  & C & 6798 & 1714 & 25.21330\\\\\n",
       "\t mobile  & D & 6871 & 1008 & 14.67035\\\\\n",
       "\\end{tabular}\n"
      ],
      "text/markdown": [
       "\n",
       "A data.table: 4 × 5\n",
       "\n",
       "| platform &lt;fct&gt; | hp_variant &lt;fct&gt; | n_visitors &lt;int&gt; | n_interacted &lt;int&gt; | perc_interacted &lt;dbl&gt; |\n",
       "|---|---|---|---|---|\n",
       "| desktop | C | 9567 | 4081 | 42.65705 |\n",
       "| desktop | D | 9379 | 1809 | 19.28777 |\n",
       "| mobile  | C | 6798 | 1714 | 25.21330 |\n",
       "| mobile  | D | 6871 | 1008 | 14.67035 |\n",
       "\n"
      ],
      "text/plain": [
       "  platform hp_variant n_visitors n_interacted perc_interacted\n",
       "1 desktop  C          9567       4081         42.65705       \n",
       "2 desktop  D          9379       1809         19.28777       \n",
       "3 mobile   C          6798       1714         25.21330       \n",
       "4 mobile   D          6871       1008         14.67035       "
      ]
     },
     "metadata": {},
     "output_type": "display_data"
    }
   ],
   "source": [
    "merged_interaction_counts[, list(n_visitors = sum(n_visitors), n_interacted = sum(n_interacted),\n",
    "                      perc_interacted = 100 * sum(n_interacted) / sum(n_visitors)),\n",
    "                          by = c('platform', 'hp_variant')]"
   ]
  }
 ],
 "metadata": {
  "kernelspec": {
   "display_name": "R",
   "language": "R",
   "name": "ir"
  },
  "language_info": {
   "codemirror_mode": "r",
   "file_extension": ".r",
   "mimetype": "text/x-r-source",
   "name": "R",
   "pygments_lexer": "r",
   "version": "3.5.2"
  }
 },
 "nbformat": 4,
 "nbformat_minor": 4
}
