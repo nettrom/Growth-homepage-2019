{
 "cells": [
  {
   "cell_type": "markdown",
   "metadata": {},
   "source": [
    "# Impact of Missing Newcomer Task Edit Tags\n",
    "\n",
    "The phab task for this is [T266610](https://phabricator.wikimedia.org/T266610). Per the task and its parent task, starting on 2020-09-15 certain conditions led to the \"newcomer task\" tag not being added to an edit. A fix was deployed on 2020-10-28.\n",
    "\n",
    "The bug was triggered when the user visits the Homepage and clicks on the first card shown in the Newcomer Task queue. That card had an incorrect URL. If they changed their topics or difficulty settings, then the URL was correct and the \"newcomer task\" tag was applied to edits to the article. I tested on French Wikipedia, and going through the initialization process resulted in the correct URL being shown, so we can exclude those sessions too.\n",
    "\n",
    "We'd like to get a historic estimate of how often users edited a task under those conditions, and then use that to estimate the actual number of task edits based on the number of existing tagged edits.\n",
    "\n",
    "Here's the proposed approach:\n",
    "\n",
    "1. Identify Homepage sessions that have an impression/task click of the task with position 0.\n",
    "2. Remove sessions where said impression/click occurred *after* changing topics or difficulty, or after the user initialized the Newcomer Tasks module. Note that if the user didn't make any changes to the topics or diffculty setting, the bug is still present. We're going to ignore that and assume that users who clicked to save topic/difficulty changes actually changed them, rather than add complexity to identify whether they changed anything.\n",
    "3. Identify the page ID of the recommended task.\n",
    "4. Use `event.mediawiki_revision_tags_change` table to identify edits to those pages within 7 days of the task impression/click.\n",
    "\n",
    "We'll exclude known test users in the same way that we usually do. And we'll count tagged edits per week similarly as we do in the reporting notebook. Then, we'll calculate a proportion on a weekly basis and summarize it. While those exclusions mean that the edit counts won't match the previously reported numbers, we want to use the best approaches in order to estimate the impact this bug had on actual users. That means removing test users makes absolute sense.\n",
    "\n",
    "Lastly, we'll focus on the Guidance era because our instrumentation changed when Guidance was introduced. This simplifies the queries. It also means that we're limited to a three month period of data, from 2020-06-15 to 2020-09-15."
   ]
  },
  {
   "cell_type": "markdown",
   "metadata": {},
   "source": [
    "Doing things this way have some important implications and assumptions.\n",
    "\n",
    "We're using client-side EventLogging data from the HomepageModule schema to identify user sessions where an impression or click took place. We know from before (e.g. [T243632#5898720](https://phabricator.wikimedia.org/T243632#5898720)) that ad blockers or other things might affect this data. Based on that previous analysis, we're expecting to see about 10% of users block EL completely, and another 10–15% block it some of the time. We've also seen evidence that blocking is more likely for highly prolific users, because on a per-session basis the block percentage is higher.\n",
    "\n",
    "The analysis in this notebook makes the assumption that the impact of ad/JavaScript blocking is relatively consistent so that calculating a proportion of edits makes sense. Secondly, we're assuming the proportion behaves in such a way that we can calculate either a mean and standard deviation or a median and an interquartile range from the proportion and get meaningful results."
   ]
  },
  {
   "cell_type": "code",
   "execution_count": 1,
   "metadata": {},
   "outputs": [],
   "source": [
    "import datetime as dt\n",
    "\n",
    "from collections import defaultdict\n",
    "\n",
    "import numpy as np\n",
    "import pandas as pd\n",
    "\n",
    "from wmfdata import spark, mariadb"
   ]
  },
  {
   "cell_type": "code",
   "execution_count": 2,
   "metadata": {},
   "outputs": [],
   "source": [
    "## _Ordered_ list of wikis that we've deployed to and that we want to include in the reports\n",
    "## (the ordering determines ordering in later report queries)\n",
    "wikis = ['cswiki', 'kowiki', 'viwiki', 'arwiki', 'ukwiki', 'huwiki', 'srwiki', 'hywiki',\n",
    "         'frwiki', 'euwiki', 'fawiki', 'hewiki', 'ruwiki', 'plwiki']\n",
    "\n",
    "## Lists of known users to ignore (e.g. test accounts and experienced users)\n",
    "known_users = defaultdict(set)\n",
    "known_users['cswiki'].update([14, 127629, 303170, 342147, 349875, 44133, 100304, 307410, 439792, 444907,\n",
    "                              454862, 456272, 454003, 454846, 92295, 387915, 398470, 416764, 44751, 132801,\n",
    "                              137787, 138342, 268033, 275298, 317739, 320225, 328302, 339583, 341191,\n",
    "                              357559, 392634, 398626, 404765, 420805, 429109, 443890, 448195, 448438,\n",
    "                              453220, 453628, 453645, 453662, 453663, 453664, 440694, 427497, 272273,\n",
    "                              458025, 458487, 458049, 59563, 118067, 188859, 191908, 314640, 390445,\n",
    "                              451069, 459434, 460802, 460885, 79895, 448735, 453176, 467557, 467745,\n",
    "                              468502, 468583, 468603, 474052, 475184, 475185, 475187, 475188, 294174,\n",
    "                              402906, 298011])\n",
    "\n",
    "known_users['kowiki'].update([303170, 342147, 349875, 189097, 362732, 384066, 416362, 38759, 495265,\n",
    "                              515553, 537326, 566963, 567409, 416360, 414929, 470932, 472019, 485036,\n",
    "                              532123, 558423, 571587, 575553, 576758, 360703, 561281, 595100, 595105,\n",
    "                              595610, 596025, 596651, 596652, 596653, 596654, 596655, 596993, 942,\n",
    "                              13810, 536529])\n",
    "\n",
    "known_users['viwiki'].update([451842, 628512, 628513, 680081, 680083, 680084, 680085, 680086, 355424,\n",
    "                              387563, 443216, 682713, 659235, 700934, 705406, 707272, 707303, 707681, 585762])\n",
    "\n",
    "known_users['arwiki'].update([237660, 272774, 775023, 1175449, 1186377, 1506091, 1515147, 1538902,\n",
    "                              1568858, 1681813, 1683215, 1699418, 1699419, 1699425, 1740419, 1759328, 1763990])\n",
    "\n",
    "## Grab the user IDs of known test accounts so they can be added to the exclusion list\n",
    "\n",
    "def get_known_users(wiki):\n",
    "    '''\n",
    "    Get user IDs of known test accounts and return a set of them.\n",
    "    '''\n",
    "    \n",
    "    username_patterns = [\"MMiller\", \"Zilant\", \"Roan\", \"KHarlan\", \"MWang\", \"SBtest\",\n",
    "                         \"Cloud\", \"Rho2019\", \"Test\"]\n",
    "\n",
    "    known_user_query = '''\n",
    "SELECT user_id\n",
    "FROM user\n",
    "WHERE user_name LIKE \"{name_pattern}%\"\n",
    "    '''\n",
    "    \n",
    "    known_users = set()\n",
    "    \n",
    "    for u_pattern in username_patterns:\n",
    "        new_known = mariadb.run(known_user_query.format(\n",
    "            name_pattern = u_pattern), wiki)\n",
    "        known_users = known_users | set(new_known['user_id'])\n",
    "\n",
    "    return(known_users)\n",
    "        \n",
    "for wiki in wikis:\n",
    "    known_users[wiki] = known_users[wiki] | get_known_users(wiki)"
   ]
  },
  {
   "cell_type": "markdown",
   "metadata": {},
   "source": [
    "## Helper functions"
   ]
  },
  {
   "cell_type": "code",
   "execution_count": 3,
   "metadata": {},
   "outputs": [],
   "source": [
    "def make_known_users_sql(kd, wiki_column, user_column):\n",
    "    '''\n",
    "    Based on the dictionary `kd` mapping wiki names to sets of user IDs of known users,\n",
    "    create a SQL expression to exclude users based on the name of the wiki matching `wiki_column`\n",
    "    and the user ID not matching `user_column`\n",
    "    '''\n",
    "    \n",
    "    wiki_exp = '''({w_column} = '{wiki}' AND {u_column} NOT IN ({id_list}))'''\n",
    "    \n",
    "    expressions = list()\n",
    "\n",
    "    ## Iteratively build the expression for each wiki\n",
    "    for wiki_name, wiki_users in kd.items():\n",
    "        expressions.append(wiki_exp.format(\n",
    "            w_column = wiki_column,\n",
    "            wiki = wiki_name,\n",
    "            u_column = user_column,\n",
    "            id_list = ','.join([str(u) for u in wiki_users])\n",
    "        ))\n",
    "    \n",
    "    ## We then join all the expressions with an OR, and we're done.\n",
    "    return(' OR '.join(expressions))\n",
    "    "
   ]
  },
  {
   "cell_type": "code",
   "execution_count": 4,
   "metadata": {},
   "outputs": [],
   "source": [
    "def make_when_then(wiki_list, wiki_column):\n",
    "    '''\n",
    "    Take the ordered list of wiki names and turn it into a string\n",
    "    of \"WHEN wiki_column = '{wiki}' THEN '{k}'\" where `k` is the index\n",
    "    of the wiki in the list, so it can be used for ordering results.\n",
    "    '''\n",
    "\n",
    "    whens = list()\n",
    "    \n",
    "    for k, wiki in enumerate(wiki_list):\n",
    "        whens.append(f'WHEN {wiki_column} = \"{wiki}\" THEN \"{k:02}\"')\n",
    "    \n",
    "    ## Join them with line breaks to create the list\n",
    "    return('\\n'.join(whens))\n"
   ]
  },
  {
   "cell_type": "markdown",
   "metadata": {},
   "source": [
    "## Data Gathering of Clicks and Edits"
   ]
  },
  {
   "cell_type": "code",
   "execution_count": 5,
   "metadata": {},
   "outputs": [],
   "source": [
    "## NOTE: added GROUP BY to impression/clicks to de-duplicate those rows based on their task token,\n",
    "##       and using the latest timestamp for the event as our basis for excluding sessions\n",
    "\n",
    "tagged_edit_query = r'''\n",
    "WITH gi AS ( -- impressions/clicks\n",
    "    SELECT wiki, event.user_id, event.homepage_pageview_token,\n",
    "           regexp_extract(event.action_data, \"newcomerTaskToken=([\\\\w\\\\d]+)\", 1) AS newcomer_task_token,\n",
    "           MAX(dt) AS task_dt\n",
    "    FROM event_sanitized.homepagemodule\n",
    "    WHERE year = 2020\n",
    "    AND month BETWEEN 6 AND 9\n",
    "    AND TO_DATE(dt) BETWEEN \"2020-06-16\" AND \"2020-09-14\" -- bug started on 2020-09-15\n",
    "    AND event.action IN (\"se-task-impression\", \"se-task-click\")\n",
    "    AND wiki IN ({wiki_list})\n",
    "    AND ({known_user_id_expression})\n",
    "    GROUP BY wiki, event.user_id, event.homepage_pageview_token, newcomer_task_token\n",
    "),\n",
    "tok AS ( -- task info for impressions and clicks\n",
    "    SELECT event.newcomer_task_token, event.task_type, event.ordinal_position, event.page_id,\n",
    "           ROW_NUMBER() OVER (PARTITION BY wiki, event.newcomer_task_token ORDER BY dt) AS row_number\n",
    "    FROM event_sanitized.newcomertask\n",
    "    WHERE year = 2020\n",
    "    AND month BETWEEN 6 AND 9\n",
    "    AND TO_DATE(dt) BETWEEN \"2020-06-16\" AND \"2020-09-14\"\n",
    "    AND event.ordinal_position = 0\n",
    "),\n",
    "exc AS ( -- session we can exclude: module initialization, topic changes, difficulty changes\n",
    "    SELECT wiki, event.user_id, event.homepage_pageview_token, MIN(dt) AS exclude_dt\n",
    "    FROM event_sanitized.homepagemodule\n",
    "    WHERE year = 2020\n",
    "    AND month BETWEEN 6 AND 9\n",
    "    AND TO_DATE(dt) BETWEEN \"2020-06-16\" AND \"2020-09-14\"\n",
    "    AND event.action IN (\"se-activate\", \"se-topicfilter-done\", \"se-taskfilter-done\")\n",
    "    GROUP BY wiki, event.user_id, event.homepage_pageview_token\n",
    "),\n",
    "te AS ( -- revisions tagged with \"newcomer task\"\n",
    "    SELECT `database` AS wiki, performer.user_id, page_id, rev_id,\n",
    "           FIRST_VALUE(rev_timestamp) AS rev_timestamp\n",
    "    FROM event.mediawiki_revision_tags_change\n",
    "    WHERE year = 2020\n",
    "    AND month BETWEEN 6 AND 9\n",
    "    AND TO_DATE(rev_timestamp) BETWEEN \"2020-06-16\" AND \"2020-09-22\" -- edits are tagged up to 7 days later\n",
    "    AND array_contains(tags, \"newcomer task\")\n",
    "    GROUP BY `database`, performer.user_id, page_id, rev_id\n",
    ")\n",
    "SELECT gi.wiki, gi.user_id, gi.homepage_pageview_token, gi.task_dt,\n",
    "       gi.newcomer_task_token,\n",
    "       tok.ordinal_position, tok.page_id,\n",
    "       rev_id, rev_timestamp,\n",
    "       CONCAT(YEAR(rev_timestamp), \"-\", LPAD(WEEKOFYEAR(rev_timestamp), 2, \"0\")) AS rev_week\n",
    "FROM gi\n",
    "JOIN tok -- straight join, every task should have a token\n",
    "ON gi.newcomer_task_token = tok.newcomer_task_token\n",
    "LEFT JOIN exc\n",
    "ON gi.homepage_pageview_token = exc.homepage_pageview_token\n",
    "LEFT JOIN te\n",
    "ON gi.wiki = te.wiki\n",
    "AND gi.user_id = te.user_id\n",
    "AND tok.page_id = te.page_id\n",
    "WHERE tok.row_number = 1 -- only select first newcomer task token\n",
    "-- include sessions that didn't have an init/topic/difficulty event\n",
    "AND (exc.homepage_pageview_token IS NULL\n",
    "     OR gi.task_dt < exc.exclude_dt) -- or impression/click happened before the init/topic/difficulty event\n",
    "'''"
   ]
  },
  {
   "cell_type": "code",
   "execution_count": 6,
   "metadata": {},
   "outputs": [],
   "source": [
    "first_clicks_and_edits = spark.run(tagged_edit_query.format(\n",
    "    wiki_list = ','.join(['\"{}\"'.format(w) for w in wikis]),\n",
    "    known_user_id_expression = make_known_users_sql(known_users, 'wiki', 'event.user_id')\n",
    "))"
   ]
  },
  {
   "cell_type": "markdown",
   "metadata": {},
   "source": [
    "Now we can aggregate by week, as we otherwise would."
   ]
  },
  {
   "cell_type": "code",
   "execution_count": 7,
   "metadata": {},
   "outputs": [],
   "source": [
    "first_task_edits_weekly = (first_clicks_and_edits\n",
    "                           .groupby('rev_week')\n",
    "                           .agg({'rev_id' : 'count', 'rev_timestamp' : 'min'})\n",
    "                           .reset_index()\n",
    "                           .rename(columns = {'rev_id' : 'n'}))"
   ]
  },
  {
   "cell_type": "code",
   "execution_count": 8,
   "metadata": {},
   "outputs": [],
   "source": [
    "first_task_edits_weekly['rev_date'] = first_task_edits_weekly['rev_timestamp'].apply(lambda x: x[:10])"
   ]
  },
  {
   "cell_type": "code",
   "execution_count": 9,
   "metadata": {},
   "outputs": [
    {
     "data": {
      "text/html": [
       "<div>\n",
       "<style scoped>\n",
       "    .dataframe tbody tr th:only-of-type {\n",
       "        vertical-align: middle;\n",
       "    }\n",
       "\n",
       "    .dataframe tbody tr th {\n",
       "        vertical-align: top;\n",
       "    }\n",
       "\n",
       "    .dataframe thead th {\n",
       "        text-align: right;\n",
       "    }\n",
       "</style>\n",
       "<table border=\"1\" class=\"dataframe\">\n",
       "  <thead>\n",
       "    <tr style=\"text-align: right;\">\n",
       "      <th></th>\n",
       "      <th>rev_week</th>\n",
       "      <th>n</th>\n",
       "      <th>rev_timestamp</th>\n",
       "      <th>rev_date</th>\n",
       "    </tr>\n",
       "  </thead>\n",
       "  <tbody>\n",
       "    <tr>\n",
       "      <th>0</th>\n",
       "      <td>2020-25</td>\n",
       "      <td>164</td>\n",
       "      <td>2020-06-16T00:08:02Z</td>\n",
       "      <td>2020-06-16</td>\n",
       "    </tr>\n",
       "    <tr>\n",
       "      <th>1</th>\n",
       "      <td>2020-26</td>\n",
       "      <td>123</td>\n",
       "      <td>2020-06-22T01:31:01Z</td>\n",
       "      <td>2020-06-22</td>\n",
       "    </tr>\n",
       "    <tr>\n",
       "      <th>2</th>\n",
       "      <td>2020-27</td>\n",
       "      <td>96</td>\n",
       "      <td>2020-06-29T05:26:22Z</td>\n",
       "      <td>2020-06-29</td>\n",
       "    </tr>\n",
       "    <tr>\n",
       "      <th>3</th>\n",
       "      <td>2020-28</td>\n",
       "      <td>143</td>\n",
       "      <td>2020-07-06T04:23:58Z</td>\n",
       "      <td>2020-07-06</td>\n",
       "    </tr>\n",
       "    <tr>\n",
       "      <th>4</th>\n",
       "      <td>2020-29</td>\n",
       "      <td>171</td>\n",
       "      <td>2020-07-13T01:02:13Z</td>\n",
       "      <td>2020-07-13</td>\n",
       "    </tr>\n",
       "    <tr>\n",
       "      <th>5</th>\n",
       "      <td>2020-30</td>\n",
       "      <td>220</td>\n",
       "      <td>2020-07-20T04:32:17Z</td>\n",
       "      <td>2020-07-20</td>\n",
       "    </tr>\n",
       "    <tr>\n",
       "      <th>6</th>\n",
       "      <td>2020-31</td>\n",
       "      <td>239</td>\n",
       "      <td>2020-07-27T01:44:47Z</td>\n",
       "      <td>2020-07-27</td>\n",
       "    </tr>\n",
       "    <tr>\n",
       "      <th>7</th>\n",
       "      <td>2020-32</td>\n",
       "      <td>279</td>\n",
       "      <td>2020-08-03T01:19:10Z</td>\n",
       "      <td>2020-08-03</td>\n",
       "    </tr>\n",
       "    <tr>\n",
       "      <th>8</th>\n",
       "      <td>2020-33</td>\n",
       "      <td>245</td>\n",
       "      <td>2020-08-10T01:27:30Z</td>\n",
       "      <td>2020-08-10</td>\n",
       "    </tr>\n",
       "    <tr>\n",
       "      <th>9</th>\n",
       "      <td>2020-34</td>\n",
       "      <td>173</td>\n",
       "      <td>2020-08-17T04:40:39Z</td>\n",
       "      <td>2020-08-17</td>\n",
       "    </tr>\n",
       "    <tr>\n",
       "      <th>10</th>\n",
       "      <td>2020-35</td>\n",
       "      <td>364</td>\n",
       "      <td>2020-08-24T03:13:11Z</td>\n",
       "      <td>2020-08-24</td>\n",
       "    </tr>\n",
       "    <tr>\n",
       "      <th>11</th>\n",
       "      <td>2020-36</td>\n",
       "      <td>301</td>\n",
       "      <td>2020-08-31T00:12:29Z</td>\n",
       "      <td>2020-08-31</td>\n",
       "    </tr>\n",
       "    <tr>\n",
       "      <th>12</th>\n",
       "      <td>2020-37</td>\n",
       "      <td>181</td>\n",
       "      <td>2020-09-07T04:14:27Z</td>\n",
       "      <td>2020-09-07</td>\n",
       "    </tr>\n",
       "    <tr>\n",
       "      <th>13</th>\n",
       "      <td>2020-38</td>\n",
       "      <td>71</td>\n",
       "      <td>2020-09-14T07:11:52Z</td>\n",
       "      <td>2020-09-14</td>\n",
       "    </tr>\n",
       "    <tr>\n",
       "      <th>14</th>\n",
       "      <td>2020-39</td>\n",
       "      <td>6</td>\n",
       "      <td>2020-09-21T12:14:09Z</td>\n",
       "      <td>2020-09-21</td>\n",
       "    </tr>\n",
       "  </tbody>\n",
       "</table>\n",
       "</div>"
      ],
      "text/plain": [
       "   rev_week    n         rev_timestamp    rev_date\n",
       "0   2020-25  164  2020-06-16T00:08:02Z  2020-06-16\n",
       "1   2020-26  123  2020-06-22T01:31:01Z  2020-06-22\n",
       "2   2020-27   96  2020-06-29T05:26:22Z  2020-06-29\n",
       "3   2020-28  143  2020-07-06T04:23:58Z  2020-07-06\n",
       "4   2020-29  171  2020-07-13T01:02:13Z  2020-07-13\n",
       "5   2020-30  220  2020-07-20T04:32:17Z  2020-07-20\n",
       "6   2020-31  239  2020-07-27T01:44:47Z  2020-07-27\n",
       "7   2020-32  279  2020-08-03T01:19:10Z  2020-08-03\n",
       "8   2020-33  245  2020-08-10T01:27:30Z  2020-08-10\n",
       "9   2020-34  173  2020-08-17T04:40:39Z  2020-08-17\n",
       "10  2020-35  364  2020-08-24T03:13:11Z  2020-08-24\n",
       "11  2020-36  301  2020-08-31T00:12:29Z  2020-08-31\n",
       "12  2020-37  181  2020-09-07T04:14:27Z  2020-09-07\n",
       "13  2020-38   71  2020-09-14T07:11:52Z  2020-09-14\n",
       "14  2020-39    6  2020-09-21T12:14:09Z  2020-09-21"
      ]
     },
     "execution_count": 9,
     "metadata": {},
     "output_type": "execute_result"
    }
   ],
   "source": [
    "first_task_edits_weekly"
   ]
  },
  {
   "cell_type": "markdown",
   "metadata": {},
   "source": [
    "## Number of Tagged Edits per Week\n",
    "\n",
    "This is from the new version of the reporting notebook, where it excludes test users in the same way that we did in our query above. We've modified the date range to match the one in the above queries so that we're counting edits in the same time period."
   ]
  },
  {
   "cell_type": "code",
   "execution_count": 10,
   "metadata": {},
   "outputs": [],
   "source": [
    "def get_datalake_tagged_edits_by_week():\n",
    "    '''\n",
    "    Return a `pandas.DataFrame` with the number of edits tagged\n",
    "    with \"newcomer task\" per wiki per week using the Data Lake as the source,\n",
    "    with known test accounts excluded.\n",
    "    '''\n",
    "    \n",
    "    tagged_edits_per_week_query = '''\n",
    "    WITH tagged_edits AS (\n",
    "        SELECT `database` AS wiki,\n",
    "        rev_id,\n",
    "        FIRST_VALUE(CONCAT(YEAR(rev_timestamp), \"-\", LPAD(WEEKOFYEAR(rev_timestamp), 2, \"0\"))) AS week,\n",
    "        FIRST_VALUE(performer.user_id) AS user_id,\n",
    "        FIRST_VALUE(IF(\n",
    "            CONCAT(YEAR(rev_timestamp), \"-\", LPAD(WEEKOFYEAR(rev_timestamp), 2, \"0\")) =\n",
    "            CONCAT(YEAR(performer.user_registration_dt), \"-\", LPAD(WEEKOFYEAR(performer.user_registration_dt), 2, \"0\")), 1, 0))\n",
    "            AS user_registered_same_week,\n",
    "        MAX(IF(array_contains(tags, 'mw-reverted') AND\n",
    "               (unix_timestamp(meta.dt, \"yyyy-MM-dd'T'HH:mm:ss'Z'\") -\n",
    "                unix_timestamp(rev_timestamp, \"yyyy-MM-dd'T'HH:mm:ss'Z'\") < 60*60*48), 1, 0)) AS was_reverted -- within 48 hours\n",
    "        FROM event.mediawiki_revision_tags_change\n",
    "        WHERE year = 2020\n",
    "        AND month BETWEEN 6 AND 9\n",
    "        AND TO_DATE(rev_timestamp) BETWEEN \"2020-06-16\" AND \"2020-09-22\" -- same date range as above\n",
    "        AND `database` IN ({wiki_list})\n",
    "        AND ({known_user_database_expression})\n",
    "        AND array_contains(tags, \"newcomer task\")\n",
    "        GROUP BY wiki, rev_id\n",
    "    )\n",
    "    SELECT\n",
    "        wiki, week, user_registered_same_week,\n",
    "        SUM(1) AS num_edits,\n",
    "        SUM(IF(was_reverted = true, 1, 0)) AS num_reverts,\n",
    "        COUNT(DISTINCT user_id) AS num_editors\n",
    "    FROM tagged_edits\n",
    "    GROUP BY wiki, week, user_registered_same_week\n",
    "    ORDER BY wiki, week, user_registered_same_week\n",
    "    '''\n",
    "  \n",
    "    return(spark.run(\n",
    "        tagged_edits_per_week_query.format(\n",
    "            wiki_list = ','.join(['\"{}\"'.format(w) for w in wikis]),\n",
    "            known_user_database_expression = make_known_users_sql(known_users,\n",
    "                                                                  '`database`', 'performer.user_id')\n",
    "        )))"
   ]
  },
  {
   "cell_type": "code",
   "execution_count": 11,
   "metadata": {},
   "outputs": [],
   "source": [
    "edits_by_week = get_datalake_tagged_edits_by_week()"
   ]
  },
  {
   "cell_type": "code",
   "execution_count": 12,
   "metadata": {},
   "outputs": [],
   "source": [
    "edits_by_week_agg = (edits_by_week\n",
    "                     .groupby('week')\n",
    "                     .agg({'num_edits' : 'sum'})\n",
    "                     .reset_index()\n",
    "                     .rename(columns = {'num_edits' : 'num_total_tagged_edits'}))"
   ]
  },
  {
   "cell_type": "markdown",
   "metadata": {},
   "source": [
    "## Calculating the Proportion\n",
    "\n",
    "We combine the edits stemming from clicking a task with position 0 and the total number of tagged edits per week, and then calculate a percentage on a weekly basis."
   ]
  },
  {
   "cell_type": "code",
   "execution_count": 13,
   "metadata": {},
   "outputs": [],
   "source": [
    "combined_edits_weekly = first_task_edits_weekly.merge(edits_by_week_agg,\n",
    "                                                      left_on = 'rev_week', right_on = 'week')"
   ]
  },
  {
   "cell_type": "code",
   "execution_count": 14,
   "metadata": {},
   "outputs": [],
   "source": [
    "combined_edits_weekly['prop_first_edits'] = (combined_edits_weekly['n'] /\n",
    "                                             combined_edits_weekly['num_total_tagged_edits'])"
   ]
  },
  {
   "cell_type": "code",
   "execution_count": 15,
   "metadata": {},
   "outputs": [],
   "source": [
    "combined_edits_weekly['perc_first_edits'] = 100 * combined_edits_weekly['prop_first_edits']"
   ]
  },
  {
   "cell_type": "code",
   "execution_count": 16,
   "metadata": {},
   "outputs": [
    {
     "data": {
      "text/html": [
       "<div>\n",
       "<style scoped>\n",
       "    .dataframe tbody tr th:only-of-type {\n",
       "        vertical-align: middle;\n",
       "    }\n",
       "\n",
       "    .dataframe tbody tr th {\n",
       "        vertical-align: top;\n",
       "    }\n",
       "\n",
       "    .dataframe thead th {\n",
       "        text-align: right;\n",
       "    }\n",
       "</style>\n",
       "<table border=\"1\" class=\"dataframe\">\n",
       "  <thead>\n",
       "    <tr style=\"text-align: right;\">\n",
       "      <th></th>\n",
       "      <th>rev_week</th>\n",
       "      <th>n</th>\n",
       "      <th>rev_timestamp</th>\n",
       "      <th>rev_date</th>\n",
       "      <th>week</th>\n",
       "      <th>num_total_tagged_edits</th>\n",
       "      <th>prop_first_edits</th>\n",
       "      <th>perc_first_edits</th>\n",
       "    </tr>\n",
       "  </thead>\n",
       "  <tbody>\n",
       "    <tr>\n",
       "      <th>0</th>\n",
       "      <td>2020-25</td>\n",
       "      <td>164</td>\n",
       "      <td>2020-06-16T00:08:02Z</td>\n",
       "      <td>2020-06-16</td>\n",
       "      <td>2020-25</td>\n",
       "      <td>824</td>\n",
       "      <td>0.20</td>\n",
       "      <td>19.90</td>\n",
       "    </tr>\n",
       "    <tr>\n",
       "      <th>1</th>\n",
       "      <td>2020-26</td>\n",
       "      <td>123</td>\n",
       "      <td>2020-06-22T01:31:01Z</td>\n",
       "      <td>2020-06-22</td>\n",
       "      <td>2020-26</td>\n",
       "      <td>545</td>\n",
       "      <td>0.23</td>\n",
       "      <td>22.57</td>\n",
       "    </tr>\n",
       "    <tr>\n",
       "      <th>2</th>\n",
       "      <td>2020-27</td>\n",
       "      <td>96</td>\n",
       "      <td>2020-06-29T05:26:22Z</td>\n",
       "      <td>2020-06-29</td>\n",
       "      <td>2020-27</td>\n",
       "      <td>667</td>\n",
       "      <td>0.14</td>\n",
       "      <td>14.39</td>\n",
       "    </tr>\n",
       "    <tr>\n",
       "      <th>3</th>\n",
       "      <td>2020-28</td>\n",
       "      <td>143</td>\n",
       "      <td>2020-07-06T04:23:58Z</td>\n",
       "      <td>2020-07-06</td>\n",
       "      <td>2020-28</td>\n",
       "      <td>452</td>\n",
       "      <td>0.32</td>\n",
       "      <td>31.64</td>\n",
       "    </tr>\n",
       "    <tr>\n",
       "      <th>4</th>\n",
       "      <td>2020-29</td>\n",
       "      <td>171</td>\n",
       "      <td>2020-07-13T01:02:13Z</td>\n",
       "      <td>2020-07-13</td>\n",
       "      <td>2020-29</td>\n",
       "      <td>609</td>\n",
       "      <td>0.28</td>\n",
       "      <td>28.08</td>\n",
       "    </tr>\n",
       "    <tr>\n",
       "      <th>5</th>\n",
       "      <td>2020-30</td>\n",
       "      <td>220</td>\n",
       "      <td>2020-07-20T04:32:17Z</td>\n",
       "      <td>2020-07-20</td>\n",
       "      <td>2020-30</td>\n",
       "      <td>801</td>\n",
       "      <td>0.27</td>\n",
       "      <td>27.47</td>\n",
       "    </tr>\n",
       "    <tr>\n",
       "      <th>6</th>\n",
       "      <td>2020-31</td>\n",
       "      <td>239</td>\n",
       "      <td>2020-07-27T01:44:47Z</td>\n",
       "      <td>2020-07-27</td>\n",
       "      <td>2020-31</td>\n",
       "      <td>787</td>\n",
       "      <td>0.30</td>\n",
       "      <td>30.37</td>\n",
       "    </tr>\n",
       "    <tr>\n",
       "      <th>7</th>\n",
       "      <td>2020-32</td>\n",
       "      <td>279</td>\n",
       "      <td>2020-08-03T01:19:10Z</td>\n",
       "      <td>2020-08-03</td>\n",
       "      <td>2020-32</td>\n",
       "      <td>992</td>\n",
       "      <td>0.28</td>\n",
       "      <td>28.12</td>\n",
       "    </tr>\n",
       "    <tr>\n",
       "      <th>8</th>\n",
       "      <td>2020-33</td>\n",
       "      <td>245</td>\n",
       "      <td>2020-08-10T01:27:30Z</td>\n",
       "      <td>2020-08-10</td>\n",
       "      <td>2020-33</td>\n",
       "      <td>1103</td>\n",
       "      <td>0.22</td>\n",
       "      <td>22.21</td>\n",
       "    </tr>\n",
       "    <tr>\n",
       "      <th>9</th>\n",
       "      <td>2020-34</td>\n",
       "      <td>173</td>\n",
       "      <td>2020-08-17T04:40:39Z</td>\n",
       "      <td>2020-08-17</td>\n",
       "      <td>2020-34</td>\n",
       "      <td>815</td>\n",
       "      <td>0.21</td>\n",
       "      <td>21.23</td>\n",
       "    </tr>\n",
       "    <tr>\n",
       "      <th>10</th>\n",
       "      <td>2020-35</td>\n",
       "      <td>364</td>\n",
       "      <td>2020-08-24T03:13:11Z</td>\n",
       "      <td>2020-08-24</td>\n",
       "      <td>2020-35</td>\n",
       "      <td>1386</td>\n",
       "      <td>0.26</td>\n",
       "      <td>26.26</td>\n",
       "    </tr>\n",
       "    <tr>\n",
       "      <th>11</th>\n",
       "      <td>2020-36</td>\n",
       "      <td>301</td>\n",
       "      <td>2020-08-31T00:12:29Z</td>\n",
       "      <td>2020-08-31</td>\n",
       "      <td>2020-36</td>\n",
       "      <td>901</td>\n",
       "      <td>0.33</td>\n",
       "      <td>33.41</td>\n",
       "    </tr>\n",
       "    <tr>\n",
       "      <th>12</th>\n",
       "      <td>2020-37</td>\n",
       "      <td>181</td>\n",
       "      <td>2020-09-07T04:14:27Z</td>\n",
       "      <td>2020-09-07</td>\n",
       "      <td>2020-37</td>\n",
       "      <td>983</td>\n",
       "      <td>0.18</td>\n",
       "      <td>18.41</td>\n",
       "    </tr>\n",
       "    <tr>\n",
       "      <th>13</th>\n",
       "      <td>2020-38</td>\n",
       "      <td>71</td>\n",
       "      <td>2020-09-14T07:11:52Z</td>\n",
       "      <td>2020-09-14</td>\n",
       "      <td>2020-38</td>\n",
       "      <td>1077</td>\n",
       "      <td>0.07</td>\n",
       "      <td>6.59</td>\n",
       "    </tr>\n",
       "    <tr>\n",
       "      <th>14</th>\n",
       "      <td>2020-39</td>\n",
       "      <td>6</td>\n",
       "      <td>2020-09-21T12:14:09Z</td>\n",
       "      <td>2020-09-21</td>\n",
       "      <td>2020-39</td>\n",
       "      <td>291</td>\n",
       "      <td>0.02</td>\n",
       "      <td>2.06</td>\n",
       "    </tr>\n",
       "  </tbody>\n",
       "</table>\n",
       "</div>"
      ],
      "text/plain": [
       "   rev_week    n         rev_timestamp    rev_date     week  \\\n",
       "0   2020-25  164  2020-06-16T00:08:02Z  2020-06-16  2020-25   \n",
       "1   2020-26  123  2020-06-22T01:31:01Z  2020-06-22  2020-26   \n",
       "2   2020-27   96  2020-06-29T05:26:22Z  2020-06-29  2020-27   \n",
       "3   2020-28  143  2020-07-06T04:23:58Z  2020-07-06  2020-28   \n",
       "4   2020-29  171  2020-07-13T01:02:13Z  2020-07-13  2020-29   \n",
       "5   2020-30  220  2020-07-20T04:32:17Z  2020-07-20  2020-30   \n",
       "6   2020-31  239  2020-07-27T01:44:47Z  2020-07-27  2020-31   \n",
       "7   2020-32  279  2020-08-03T01:19:10Z  2020-08-03  2020-32   \n",
       "8   2020-33  245  2020-08-10T01:27:30Z  2020-08-10  2020-33   \n",
       "9   2020-34  173  2020-08-17T04:40:39Z  2020-08-17  2020-34   \n",
       "10  2020-35  364  2020-08-24T03:13:11Z  2020-08-24  2020-35   \n",
       "11  2020-36  301  2020-08-31T00:12:29Z  2020-08-31  2020-36   \n",
       "12  2020-37  181  2020-09-07T04:14:27Z  2020-09-07  2020-37   \n",
       "13  2020-38   71  2020-09-14T07:11:52Z  2020-09-14  2020-38   \n",
       "14  2020-39    6  2020-09-21T12:14:09Z  2020-09-21  2020-39   \n",
       "\n",
       "    num_total_tagged_edits  prop_first_edits  perc_first_edits  \n",
       "0                      824              0.20             19.90  \n",
       "1                      545              0.23             22.57  \n",
       "2                      667              0.14             14.39  \n",
       "3                      452              0.32             31.64  \n",
       "4                      609              0.28             28.08  \n",
       "5                      801              0.27             27.47  \n",
       "6                      787              0.30             30.37  \n",
       "7                      992              0.28             28.12  \n",
       "8                     1103              0.22             22.21  \n",
       "9                      815              0.21             21.23  \n",
       "10                    1386              0.26             26.26  \n",
       "11                     901              0.33             33.41  \n",
       "12                     983              0.18             18.41  \n",
       "13                    1077              0.07              6.59  \n",
       "14                     291              0.02              2.06  "
      ]
     },
     "execution_count": 16,
     "metadata": {},
     "output_type": "execute_result"
    }
   ],
   "source": [
    "combined_edits_weekly.round(2)"
   ]
  },
  {
   "cell_type": "markdown",
   "metadata": {},
   "source": [
    "## Estimating an Average and Variation\n",
    "\n",
    "We see if the mean and standard deviation makes sense to use as the average and its variation, or whether it's more meaningful to use the median and the interquartile range."
   ]
  },
  {
   "cell_type": "code",
   "execution_count": 17,
   "metadata": {},
   "outputs": [
    {
     "data": {
      "text/plain": [
       "count    13.000000\n",
       "mean     24.927829\n",
       "std       5.628841\n",
       "min      14.392804\n",
       "25%      21.226994\n",
       "50%      26.262626\n",
       "75%      28.125000\n",
       "max      33.407325\n",
       "Name: perc_first_edits, dtype: float64"
      ]
     },
     "execution_count": 17,
     "metadata": {},
     "output_type": "execute_result"
    }
   ],
   "source": [
    "combined_edits_weekly.loc[(combined_edits_weekly['week'] < '2020-38'), 'perc_first_edits'].describe()"
   ]
  },
  {
   "cell_type": "code",
   "execution_count": 18,
   "metadata": {},
   "outputs": [],
   "source": [
    "combined_edits_weekly_desc = (combined_edits_weekly.loc[\n",
    "    (combined_edits_weekly['week'] < '2020-38'), 'perc_first_edits'].describe())"
   ]
  },
  {
   "cell_type": "code",
   "execution_count": 19,
   "metadata": {},
   "outputs": [
    {
     "data": {
      "text/plain": [
       "36.18551030799077"
      ]
     },
     "execution_count": 19,
     "metadata": {},
     "output_type": "execute_result"
    }
   ],
   "source": [
    "combined_edits_weekly_desc['mean'] + 2*combined_edits_weekly_desc['std']"
   ]
  },
  {
   "cell_type": "code",
   "execution_count": 20,
   "metadata": {},
   "outputs": [
    {
     "data": {
      "text/plain": [
       "13.670148253394698"
      ]
     },
     "execution_count": 20,
     "metadata": {},
     "output_type": "execute_result"
    }
   ],
   "source": [
    "combined_edits_weekly_desc['mean'] - 2*combined_edits_weekly_desc['std']"
   ]
  },
  {
   "cell_type": "markdown",
   "metadata": {},
   "source": [
    "We don't have a lot of data points, so the standard deviation is high and leads to this estimate being lower than the minimum and higher than the maximum. I think going with the interquartile range makes more sense here."
   ]
  },
  {
   "cell_type": "code",
   "execution_count": 21,
   "metadata": {},
   "outputs": [
    {
     "data": {
      "text/plain": [
       "21.226993865030675"
      ]
     },
     "execution_count": 21,
     "metadata": {},
     "output_type": "execute_result"
    }
   ],
   "source": [
    "combined_edits_weekly_desc['25%']"
   ]
  },
  {
   "cell_type": "code",
   "execution_count": 22,
   "metadata": {},
   "outputs": [
    {
     "data": {
      "text/plain": [
       "28.125"
      ]
     },
     "execution_count": 22,
     "metadata": {},
     "output_type": "execute_result"
    }
   ],
   "source": [
    "combined_edits_weekly_desc['75%']"
   ]
  },
  {
   "cell_type": "markdown",
   "metadata": {},
   "source": [
    "## Counts of tagged edits in affected weeks\n",
    "\n",
    "We get the number of tagged edits on a weekly basis for the time period during which the bug was active, and we'll then use the lower and upper bounds to estimate how many edits we would've seen if the bug wasn't present."
   ]
  },
  {
   "cell_type": "code",
   "execution_count": 23,
   "metadata": {},
   "outputs": [],
   "source": [
    "def get_affected_edits_by_week():\n",
    "    '''\n",
    "    Return a `pandas.DataFrame` with the number of edits tagged\n",
    "    with \"newcomer task\" per wiki per week using the Data Lake as the source,\n",
    "    with known test accounts excluded, for the period 2020-09-15 through 2020-10-28.\n",
    "    '''\n",
    "    \n",
    "    tagged_edits_per_week_query = '''\n",
    "    WITH tagged_edits AS (\n",
    "        SELECT `database` AS wiki,\n",
    "        rev_id,\n",
    "        FIRST_VALUE(CONCAT(YEAR(rev_timestamp), \"-\", LPAD(WEEKOFYEAR(rev_timestamp), 2, \"0\"))) AS week,\n",
    "        FIRST_VALUE(performer.user_id) AS user_id,\n",
    "        FIRST_VALUE(IF(\n",
    "            CONCAT(YEAR(rev_timestamp), \"-\", LPAD(WEEKOFYEAR(rev_timestamp), 2, \"0\")) =\n",
    "            CONCAT(YEAR(performer.user_registration_dt), \"-\", LPAD(WEEKOFYEAR(performer.user_registration_dt), 2, \"0\")), 1, 0))\n",
    "            AS user_registered_same_week,\n",
    "        MAX(IF(array_contains(tags, 'mw-reverted') AND\n",
    "               (unix_timestamp(meta.dt, \"yyyy-MM-dd'T'HH:mm:ss'Z'\") -\n",
    "                unix_timestamp(rev_timestamp, \"yyyy-MM-dd'T'HH:mm:ss'Z'\") < 60*60*48), 1, 0)) AS was_reverted -- within 48 hours\n",
    "        FROM event.mediawiki_revision_tags_change\n",
    "        WHERE year = 2020 AND month >= 9\n",
    "        AND TO_DATE(rev_timestamp) BETWEEN \"2020-09-15\" AND \"2020-10-28\"\n",
    "        AND `database` IN ({wiki_list})\n",
    "        AND ({known_user_database_expression})\n",
    "        AND array_contains(tags, \"newcomer task\")\n",
    "        GROUP BY wiki, rev_id\n",
    "    )\n",
    "    SELECT\n",
    "        wiki, week, user_registered_same_week,\n",
    "        SUM(1) AS num_edits,\n",
    "        SUM(IF(was_reverted = true, 1, 0)) AS num_reverts,\n",
    "        COUNT(DISTINCT user_id) AS num_editors\n",
    "    FROM tagged_edits\n",
    "    GROUP BY wiki, week, user_registered_same_week\n",
    "    ORDER BY wiki, week, user_registered_same_week\n",
    "    '''\n",
    "  \n",
    "    return(spark.run(\n",
    "        tagged_edits_per_week_query.format(\n",
    "            wiki_list = ','.join(['\"{}\"'.format(w) for w in wikis]),\n",
    "            known_user_database_expression = make_known_users_sql(known_users,\n",
    "                                                                  '`database`', 'performer.user_id')\n",
    "        )))"
   ]
  },
  {
   "cell_type": "code",
   "execution_count": 24,
   "metadata": {},
   "outputs": [],
   "source": [
    "affected_edits_by_week = get_affected_edits_by_week()"
   ]
  },
  {
   "cell_type": "code",
   "execution_count": 25,
   "metadata": {},
   "outputs": [],
   "source": [
    "affected_edits_by_week_agg = (affected_edits_by_week\n",
    "                              .groupby('week')\n",
    "                              .agg({'num_edits' : 'sum'})\n",
    "                              .reset_index()\n",
    "                              .rename(columns = {'num_edits' : 'num_total_tagged_edits'}))"
   ]
  },
  {
   "cell_type": "code",
   "execution_count": 26,
   "metadata": {},
   "outputs": [
    {
     "data": {
      "text/html": [
       "<div>\n",
       "<style scoped>\n",
       "    .dataframe tbody tr th:only-of-type {\n",
       "        vertical-align: middle;\n",
       "    }\n",
       "\n",
       "    .dataframe tbody tr th {\n",
       "        vertical-align: top;\n",
       "    }\n",
       "\n",
       "    .dataframe thead th {\n",
       "        text-align: right;\n",
       "    }\n",
       "</style>\n",
       "<table border=\"1\" class=\"dataframe\">\n",
       "  <thead>\n",
       "    <tr style=\"text-align: right;\">\n",
       "      <th></th>\n",
       "      <th>week</th>\n",
       "      <th>num_total_tagged_edits</th>\n",
       "    </tr>\n",
       "  </thead>\n",
       "  <tbody>\n",
       "    <tr>\n",
       "      <th>0</th>\n",
       "      <td>2020-38</td>\n",
       "      <td>949</td>\n",
       "    </tr>\n",
       "    <tr>\n",
       "      <th>1</th>\n",
       "      <td>2020-39</td>\n",
       "      <td>1101</td>\n",
       "    </tr>\n",
       "    <tr>\n",
       "      <th>2</th>\n",
       "      <td>2020-40</td>\n",
       "      <td>926</td>\n",
       "    </tr>\n",
       "    <tr>\n",
       "      <th>3</th>\n",
       "      <td>2020-41</td>\n",
       "      <td>912</td>\n",
       "    </tr>\n",
       "    <tr>\n",
       "      <th>4</th>\n",
       "      <td>2020-42</td>\n",
       "      <td>1071</td>\n",
       "    </tr>\n",
       "    <tr>\n",
       "      <th>5</th>\n",
       "      <td>2020-43</td>\n",
       "      <td>1626</td>\n",
       "    </tr>\n",
       "    <tr>\n",
       "      <th>6</th>\n",
       "      <td>2020-44</td>\n",
       "      <td>795</td>\n",
       "    </tr>\n",
       "  </tbody>\n",
       "</table>\n",
       "</div>"
      ],
      "text/plain": [
       "      week  num_total_tagged_edits\n",
       "0  2020-38                     949\n",
       "1  2020-39                    1101\n",
       "2  2020-40                     926\n",
       "3  2020-41                     912\n",
       "4  2020-42                    1071\n",
       "5  2020-43                    1626\n",
       "6  2020-44                     795"
      ]
     },
     "execution_count": 26,
     "metadata": {},
     "output_type": "execute_result"
    }
   ],
   "source": [
    "affected_edits_by_week_agg"
   ]
  },
  {
   "cell_type": "markdown",
   "metadata": {},
   "source": [
    "Now we use our interquartile range to estimate an upper and lower bound on how many edits we'd have without the bug. Because we have estimates of what proportion of the total edits came from clicks in position 0, we divide by one minus that proportion to get the estimate of total number of edits."
   ]
  },
  {
   "cell_type": "code",
   "execution_count": 34,
   "metadata": {},
   "outputs": [],
   "source": [
    "affected_edits_by_week_agg['lower_bound'] = (\n",
    "    affected_edits_by_week_agg['num_total_tagged_edits'] /\n",
    "    (1 - (combined_edits_weekly_desc['25%']/100)))"
   ]
  },
  {
   "cell_type": "code",
   "execution_count": 35,
   "metadata": {},
   "outputs": [],
   "source": [
    "affected_edits_by_week_agg['upper_bound'] = (\n",
    "    affected_edits_by_week_agg['num_total_tagged_edits'] /\n",
    "    (1 - (combined_edits_weekly_desc['75%']/100)))"
   ]
  },
  {
   "cell_type": "markdown",
   "metadata": {},
   "source": [
    "The table below shows the measured number of tagged edits per week while the bug was in effect, and the lower and upper bound estimates for what the actual number of tagged edits were."
   ]
  },
  {
   "cell_type": "code",
   "execution_count": 36,
   "metadata": {},
   "outputs": [
    {
     "data": {
      "text/html": [
       "<div>\n",
       "<style scoped>\n",
       "    .dataframe tbody tr th:only-of-type {\n",
       "        vertical-align: middle;\n",
       "    }\n",
       "\n",
       "    .dataframe tbody tr th {\n",
       "        vertical-align: top;\n",
       "    }\n",
       "\n",
       "    .dataframe thead th {\n",
       "        text-align: right;\n",
       "    }\n",
       "</style>\n",
       "<table border=\"1\" class=\"dataframe\">\n",
       "  <thead>\n",
       "    <tr style=\"text-align: right;\">\n",
       "      <th></th>\n",
       "      <th>week</th>\n",
       "      <th>num_total_tagged_edits</th>\n",
       "      <th>lower_bound</th>\n",
       "      <th>upper_bound</th>\n",
       "    </tr>\n",
       "  </thead>\n",
       "  <tbody>\n",
       "    <tr>\n",
       "      <th>0</th>\n",
       "      <td>2020-38</td>\n",
       "      <td>949</td>\n",
       "      <td>1204.727414</td>\n",
       "      <td>1320.347826</td>\n",
       "    </tr>\n",
       "    <tr>\n",
       "      <th>1</th>\n",
       "      <td>2020-39</td>\n",
       "      <td>1101</td>\n",
       "      <td>1397.686916</td>\n",
       "      <td>1531.826087</td>\n",
       "    </tr>\n",
       "    <tr>\n",
       "      <th>2</th>\n",
       "      <td>2020-40</td>\n",
       "      <td>926</td>\n",
       "      <td>1175.529595</td>\n",
       "      <td>1288.347826</td>\n",
       "    </tr>\n",
       "    <tr>\n",
       "      <th>3</th>\n",
       "      <td>2020-41</td>\n",
       "      <td>912</td>\n",
       "      <td>1157.757009</td>\n",
       "      <td>1268.869565</td>\n",
       "    </tr>\n",
       "    <tr>\n",
       "      <th>4</th>\n",
       "      <td>2020-42</td>\n",
       "      <td>1071</td>\n",
       "      <td>1359.602804</td>\n",
       "      <td>1490.086957</td>\n",
       "    </tr>\n",
       "    <tr>\n",
       "      <th>5</th>\n",
       "      <td>2020-43</td>\n",
       "      <td>1626</td>\n",
       "      <td>2064.158879</td>\n",
       "      <td>2262.260870</td>\n",
       "    </tr>\n",
       "    <tr>\n",
       "      <th>6</th>\n",
       "      <td>2020-44</td>\n",
       "      <td>795</td>\n",
       "      <td>1009.228972</td>\n",
       "      <td>1106.086957</td>\n",
       "    </tr>\n",
       "  </tbody>\n",
       "</table>\n",
       "</div>"
      ],
      "text/plain": [
       "      week  num_total_tagged_edits  lower_bound  upper_bound\n",
       "0  2020-38                     949  1204.727414  1320.347826\n",
       "1  2020-39                    1101  1397.686916  1531.826087\n",
       "2  2020-40                     926  1175.529595  1288.347826\n",
       "3  2020-41                     912  1157.757009  1268.869565\n",
       "4  2020-42                    1071  1359.602804  1490.086957\n",
       "5  2020-43                    1626  2064.158879  2262.260870\n",
       "6  2020-44                     795  1009.228972  1106.086957"
      ]
     },
     "execution_count": 36,
     "metadata": {},
     "output_type": "execute_result"
    }
   ],
   "source": [
    "affected_edits_by_week_agg"
   ]
  },
  {
   "cell_type": "code",
   "execution_count": 39,
   "metadata": {},
   "outputs": [
    {
     "data": {
      "text/plain": [
       "7380"
      ]
     },
     "execution_count": 39,
     "metadata": {},
     "output_type": "execute_result"
    }
   ],
   "source": [
    "affected_edits_by_week_agg['num_total_tagged_edits'].sum()"
   ]
  },
  {
   "cell_type": "code",
   "execution_count": 37,
   "metadata": {},
   "outputs": [
    {
     "data": {
      "text/plain": [
       "1988.6915887850469"
      ]
     },
     "execution_count": 37,
     "metadata": {},
     "output_type": "execute_result"
    }
   ],
   "source": [
    "(affected_edits_by_week_agg['lower_bound'] - affected_edits_by_week_agg['num_total_tagged_edits']).sum()"
   ]
  },
  {
   "cell_type": "code",
   "execution_count": 38,
   "metadata": {},
   "outputs": [
    {
     "data": {
      "text/plain": [
       "2887.826086956522"
      ]
     },
     "execution_count": 38,
     "metadata": {},
     "output_type": "execute_result"
    }
   ],
   "source": [
    "(affected_edits_by_week_agg['upper_bound'] - affected_edits_by_week_agg['num_total_tagged_edits']).sum()"
   ]
  },
  {
   "cell_type": "code",
   "execution_count": 40,
   "metadata": {},
   "outputs": [
    {
     "data": {
      "text/plain": [
       "9368.691588785046"
      ]
     },
     "execution_count": 40,
     "metadata": {},
     "output_type": "execute_result"
    }
   ],
   "source": [
    "(affected_edits_by_week_agg['num_total_tagged_edits'].sum() +\n",
    " (affected_edits_by_week_agg['lower_bound'] - affected_edits_by_week_agg['num_total_tagged_edits']).sum())"
   ]
  },
  {
   "cell_type": "code",
   "execution_count": 41,
   "metadata": {},
   "outputs": [
    {
     "data": {
      "text/plain": [
       "10267.826086956522"
      ]
     },
     "execution_count": 41,
     "metadata": {},
     "output_type": "execute_result"
    }
   ],
   "source": [
    "(affected_edits_by_week_agg['num_total_tagged_edits'].sum() +\n",
    " (affected_edits_by_week_agg['upper_bound'] - affected_edits_by_week_agg['num_total_tagged_edits']).sum())"
   ]
  },
  {
   "cell_type": "markdown",
   "metadata": {},
   "source": [
    "# Quick summary\n",
    "\n",
    "We use EventLogging data to estimate the proportion of edits made that would've triggered the bug on a weekly basis. The median (26.3%) and interquartile range of this proportion makes most sense, and we find a lower bound of 21.2% and an upper bound of 28.1%.\n",
    "\n",
    "Gathering weekly edits tagged with \"newcomer task\" during the affected period, we find 7,380 edits were made. Based on our estimates, if the bug was not present this would be between 1,989 and 2,888 edits higher. In other words, we estimate a total somewhere between 9,369 and 10,268 Newcomer Task edits were actually made during this period."
   ]
  }
 ],
 "metadata": {
  "kernelspec": {
   "display_name": "Python 3",
   "language": "python",
   "name": "python3"
  },
  "language_info": {
   "codemirror_mode": {
    "name": "ipython",
    "version": 3
   },
   "file_extension": ".py",
   "mimetype": "text/x-python",
   "name": "python",
   "nbconvert_exporter": "python",
   "pygments_lexer": "ipython3",
   "version": "3.7.3"
  }
 },
 "nbformat": 4,
 "nbformat_minor": 4
}
