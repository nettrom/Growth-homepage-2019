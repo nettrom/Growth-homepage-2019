{
 "cells": [
  {
   "cell_type": "markdown",
   "metadata": {},
   "source": [
    "# Analysis datasets\n",
    "\n",
    "The measurement plan for the Homepage experiment asks the following research questions:\n",
    "\n",
    "* Does receiving the homepage treatment increase editor activation?\n",
    "* Does receiving the homepage treatment increase editor retention?\n",
    "* Does having access to the homepage treatment increase the average number of edits in the first two weeks after registration?\n",
    "* Does having access to the homepage increase the proportion of constructive edits?\n",
    "\n",
    "Additional questions from T218703:\n",
    "\n",
    "* Having a confirmed email address\n",
    "* Having created a user page (even if subsequently deleted)\n",
    "\n",
    "For this analysis, I'd like to have a canonical dataset of users stored in the Data Lake such that it's easy to retrieve. This can then form the basis for gathering various datasets. One of the reasons for having a single source of truth is that we in this case have a complex set of criteria for selecting users.\n",
    "\n",
    "For all the first four questions, I'd like to have data on both edits in the article namespace and other namespaces. That will enable us to learn whether the intervention affects either of those separately. This is particularly relevant because the Homepage has elements that make the first edit easier (e.g. starting a user page or asking your mentor a question). Both of those are outside the article namespace.\n",
    "\n",
    "## Users in the dataset\n",
    "\n",
    "We have multiple dates, wikis, and platforms for signing up that we need to deal with.\n",
    "\n",
    "1. Between 2019-05-06T19:01:00Z (ref: [T217803#5168853](https://phabricator.wikimedia.org/T217803#5168853)) and 2019-06-26T16:12:32Z (ref: [T225676#5286530](https://phabricator.wikimedia.org/T225676#5286530)), the Homepage was only available on desktop, and only on Czech and Korean. We should therefore investigate whether users who signed up on mobile returned on desktop and viewed the homepage.\n",
    "2. After 2019-06-26T16:12:32Z, the Homepage was available on both desktop and mobile. From that point on, use all registrations.\n",
    "3. On 2019-07-01T18:29:22Z (ref: [T218237#5297442](https://phabricator.wikimedia.org/T218237#5297442)) the Homepage was launched on Vietnamese Wikipedia. From that point on, use all registrations on Vietnamese.\n",
    "4. On 2019-07-24T23:39:39Z (ref: [T228120#5363655](https://phabricator.wikimedia.org/T228120#5363655)) the Homepage was launched on Arabic Wikipedia, so from that point on use all registrations there too."
   ]
  },
  {
   "cell_type": "code",
   "execution_count": 2,
   "metadata": {},
   "outputs": [
    {
     "name": "stderr",
     "output_type": "stream",
     "text": [
      "You can find the source for `wmfdata` at https://github.com/neilpquinn/wmfdata\n"
     ]
    }
   ],
   "source": [
    "import json\n",
    "import datetime as dt\n",
    "\n",
    "import pymysql\n",
    "\n",
    "import numpy as np\n",
    "import pandas as pd\n",
    "\n",
    "from wmfdata import hive, mariadb\n",
    "from growth import utils"
   ]
  },
  {
   "cell_type": "markdown",
   "metadata": {},
   "source": [
    "# Mobile registrations, desktop visits\n",
    "\n",
    "If users who registered on the mobile site also don't visit the desktop Homepage before the mobile site was available, then we can put all mobile registrations into the control group and keep all desktop registrations in the treatment/control groups as defined by their user preferences.\n",
    "\n",
    "To determine this, we'll use a single query to get all mobile, non-autocreated, non-API registrations from launch until two weeks before the mobile site was deployed, and see if any of these visited the Homepage within two weeks after registration. This two-week period covers the entire retention period used in our other analysis."
   ]
  },
  {
   "cell_type": "code",
   "execution_count": 26,
   "metadata": {},
   "outputs": [],
   "source": [
    "mob_visits_query = '''\n",
    "WITH mob_regs AS (\n",
    "    SELECT wiki, event.userid,\n",
    "           unix_timestamp(dt, \"yyyy-MM-dd'T'hh:mm:ss'Z'\") AS reg_time\n",
    "    FROM event_sanitized.serversideaccountcreation\n",
    "    WHERE year = 2019\n",
    "    AND month IN (5, 6)\n",
    "    AND wiki IN (\"cswiki\", \"kowiki\")\n",
    "    AND (event.isapi IS NULL\n",
    "         OR event.isapi = false)\n",
    "    AND event.isselfmade = true\n",
    "    AND event.displaymobile = true\n",
    "    AND dt > \"2019-05-06T19:01:00Z\"\n",
    "    AND dt < \"2019-06-12T00:00:00Z\"\n",
    "),\n",
    "hp_visits AS (\n",
    "    SELECT wiki, event.user_id,\n",
    "           unix_timestamp(dt, \"yyyy-MM-dd'T'hh:mm:ss'Z'\") AS visit_time\n",
    "    FROM event_sanitized.homepagevisit\n",
    "    WHERE year = 2019\n",
    "    AND month IN (5, 6)\n",
    "    AND wiki IN (\"cswiki\", \"kowiki\")\n",
    ")\n",
    "SELECT mob_regs.wiki, mob_regs.userid, SUM(IF(hp_visits.user_id IS NOT NULL, 1, 0)) AS num_visits\n",
    "FROM mob_regs\n",
    "LEFT JOIN hp_visits\n",
    "ON mob_regs.wiki = hp_visits.wiki\n",
    "AND mob_regs.userid = hp_visits.user_id\n",
    "WHERE (visit_time IS NULL\n",
    "       OR visit_time - reg_time < 60*60*24*14) -- less than 14 days\n",
    "GROUP BY mob_regs.wiki, mob_regs.userid\n",
    "LIMIT 2500\n",
    "'''"
   ]
  },
  {
   "cell_type": "code",
   "execution_count": 27,
   "metadata": {},
   "outputs": [],
   "source": [
    "mob_visits = hive.run(mob_visits_query)"
   ]
  },
  {
   "cell_type": "code",
   "execution_count": 28,
   "metadata": {},
   "outputs": [],
   "source": [
    "## How many users and how many visited?\n",
    "\n",
    "mob_visits['visited'] = mob_visits['num_visits'] > 0"
   ]
  },
  {
   "cell_type": "code",
   "execution_count": 29,
   "metadata": {},
   "outputs": [
    {
     "data": {
      "text/html": [
       "<div>\n",
       "<style scoped>\n",
       "    .dataframe tbody tr th:only-of-type {\n",
       "        vertical-align: middle;\n",
       "    }\n",
       "\n",
       "    .dataframe tbody tr th {\n",
       "        vertical-align: top;\n",
       "    }\n",
       "\n",
       "    .dataframe thead th {\n",
       "        text-align: right;\n",
       "    }\n",
       "</style>\n",
       "<table border=\"1\" class=\"dataframe\">\n",
       "  <thead>\n",
       "    <tr style=\"text-align: right;\">\n",
       "      <th>visited</th>\n",
       "      <th>False</th>\n",
       "      <th>True</th>\n",
       "    </tr>\n",
       "    <tr>\n",
       "      <th>wiki</th>\n",
       "      <th></th>\n",
       "      <th></th>\n",
       "    </tr>\n",
       "  </thead>\n",
       "  <tbody>\n",
       "    <tr>\n",
       "      <td>cswiki</td>\n",
       "      <td>511</td>\n",
       "      <td>13</td>\n",
       "    </tr>\n",
       "    <tr>\n",
       "      <td>kowiki</td>\n",
       "      <td>567</td>\n",
       "      <td>23</td>\n",
       "    </tr>\n",
       "  </tbody>\n",
       "</table>\n",
       "</div>"
      ],
      "text/plain": [
       "visited  False  True \n",
       "wiki                 \n",
       "cswiki     511     13\n",
       "kowiki     567     23"
      ]
     },
     "execution_count": 29,
     "metadata": {},
     "output_type": "execute_result"
    }
   ],
   "source": [
    "mob_visits.pivot_table(index = 'wiki', columns = 'visited', aggfunc = 'size')"
   ]
  },
  {
   "cell_type": "code",
   "execution_count": 30,
   "metadata": {},
   "outputs": [
    {
     "data": {
      "text/html": [
       "<div>\n",
       "<style scoped>\n",
       "    .dataframe tbody tr th:only-of-type {\n",
       "        vertical-align: middle;\n",
       "    }\n",
       "\n",
       "    .dataframe tbody tr th {\n",
       "        vertical-align: top;\n",
       "    }\n",
       "\n",
       "    .dataframe thead th {\n",
       "        text-align: right;\n",
       "    }\n",
       "</style>\n",
       "<table border=\"1\" class=\"dataframe\">\n",
       "  <thead>\n",
       "    <tr style=\"text-align: right;\">\n",
       "      <th>visited</th>\n",
       "      <th>False</th>\n",
       "      <th>True</th>\n",
       "    </tr>\n",
       "    <tr>\n",
       "      <th>wiki</th>\n",
       "      <th></th>\n",
       "      <th></th>\n",
       "    </tr>\n",
       "  </thead>\n",
       "  <tbody>\n",
       "    <tr>\n",
       "      <td>cswiki</td>\n",
       "      <td>97.5</td>\n",
       "      <td>2.5</td>\n",
       "    </tr>\n",
       "    <tr>\n",
       "      <td>kowiki</td>\n",
       "      <td>96.1</td>\n",
       "      <td>3.9</td>\n",
       "    </tr>\n",
       "  </tbody>\n",
       "</table>\n",
       "</div>"
      ],
      "text/plain": [
       "visited  False  True \n",
       "wiki                 \n",
       "cswiki    97.5    2.5\n",
       "kowiki    96.1    3.9"
      ]
     },
     "execution_count": 30,
     "metadata": {},
     "output_type": "execute_result"
    }
   ],
   "source": [
    "100 * pd.crosstab(mob_visits.wiki, mob_visits.visited, normalize = 'index').round(3)"
   ]
  },
  {
   "cell_type": "markdown",
   "metadata": {},
   "source": [
    "So we have 2.5% of mobile registrations on Czech, and 3.9% on Korean, visiting the Homepage within 14 days after registration. Because about 50% of these registrations are in the control group, it means that in the treatment group 5% in Czech, and 7.8% in Korean register on mobile and then later go on to visit the Homepage. That's definitely a large enough part of the treatment group that there is no point in trying to claim that mobile registrations don't carry over to the desktop site, it's clear that somewhere in the 5–10% range do, and it looks like it depends on the wiki. We could also speculate that these users are highly prolific ones, thereby making the control/treatment distinction difficult to make. So, we'll count *all registrations* from desktop deployment onwards as part of the experiment."
   ]
  },
  {
   "cell_type": "markdown",
   "metadata": {},
   "source": [
    "# Canonical user dataset\n",
    "\n",
    "Gather a canonical dataset of user registrations (user ID, user registration timestamp), their treatment/control assignment, and whether they registered from desktop or mobile. This process follows the similar process for the Help Panel. We use `mediawiki_user_history` as the canonical source of registrations, and remove test accounts and bots at the same time. We then connect this dataset with `ServerSideAccountCreation` to get desktop/mobile data, filter out API creations, and verify autocreation status. Next, we use the MediaWiki table to get treatment/control assignment. Lastly, we use the `PrefUpdate` schema to filter out users who switched the Homepage option on/off."
   ]
  },
  {
   "cell_type": "code",
   "execution_count": 10,
   "metadata": {},
   "outputs": [],
   "source": [
    "## Configuration variables\n",
    "\n",
    "wmf_snapshot = '2019-09'\n",
    "\n",
    "wikis = ['cswiki', 'kowiki', 'viwiki', 'arwiki']\n",
    "\n",
    "## Start and end timestamps of data gathering for each wiki, corresponding to the dates/times\n",
    "## listed above.\n",
    "\n",
    "cs_start_ts = dt.datetime(2019, 5, 6, 19, 1, 0)\n",
    "cs_end_ts = dt.datetime(2019, 9, 15, 0, 0, 0)\n",
    "\n",
    "ko_start_ts = cs_start_ts\n",
    "ko_end_ts = cs_end_ts\n",
    "\n",
    "vi_start_ts = dt.datetime(2019, 7, 1, 18, 29, 22)\n",
    "vi_end_ts = cs_end_ts\n",
    "\n",
    "ar_start_ts = dt.datetime(2019, 7, 24, 23, 39, 39)\n",
    "ar_end_ts = cs_end_ts\n",
    "\n",
    "## User IDs of known users to exclude (e.g. Stephane, Elena, and Marshall's accounts)\n",
    "known_users = {\n",
    "    'cswiki' : set([322106, 339583, 341191, 341611, 433381, 433382, 433511, 404765, 421667,\n",
    "                      427625, 437386, 181724, 272273, 339583, 437386, 439783, 439792, 138342,\n",
    "                      392634, 404765, 275298, 458487, 458049]),\n",
    "    'kowiki' : set([384066, 539296, 539299, 539302, 539303, 539304, 539305, 539306, 539307,\n",
    "                      539298, 416361, 416360, 413162, 495265, 518393, 518394, 518396, 530285,\n",
    "                      531579, 531785, 536786, 536787, 542720, 542721, 542722, 543192, 543193,\n",
    "                      544145, 544283, 470932, 38759, 555673]),\n",
    "    'viwiki' : set(),\n",
    "    'arwiki' : set()\n",
    "}\n",
    "\n",
    "## Filename of where the canonical dataset is stored.\n",
    "tsv_output_file = \"/home/nettrom/src/Growth-homepage-2019/datasets/canonical_users.tsv\""
   ]
  },
  {
   "cell_type": "code",
   "execution_count": 37,
   "metadata": {},
   "outputs": [],
   "source": [
    "ko_known_users = set([384066, 539296, 539299, 539302, 539303, 539304, 539305, 539306, 539307,\n",
    "                      539298, 416361, 416360, 413162, 495265, 518393, 518394, 518396, 530285,\n",
    "                      531579, 531785, 536786, 536787, 542720, 542721, 542722, 543192, 543193,\n",
    "                      544145, 544283, 470932, 38759, 555673])\n",
    "\n",
    "username_patterns = [\"MMiller\", \"Zilant\", \"Roan\", \"KHarlan\", \"MWang\", \"SBtest\", \"Rho2019\"]\n",
    "known_user_query = '''\n",
    "SELECT user_id\n",
    "FROM user\n",
    "WHERE user_name LIKE \"{name_pattern}%\"\n",
    "    '''"
   ]
  },
  {
   "cell_type": "markdown",
   "metadata": {},
   "source": [
    "## Get known test accounts"
   ]
  },
  {
   "cell_type": "code",
   "execution_count": 49,
   "metadata": {},
   "outputs": [],
   "source": [
    "## Grab the user IDs of known test accounts so they can be added to the exclusion list\n",
    "\n",
    "def get_known_users(wiki):\n",
    "    '''\n",
    "    Get user IDs of known test accounts and return a set of them.\n",
    "    '''\n",
    "    \n",
    "    username_patterns = [\"MMiller\", \"Zilant\", \"Roan\", \"KHarlan\", \"MWang\", \"SBtest\", \"Rho2019\"]\n",
    "\n",
    "    known_user_query = '''\n",
    "SELECT user_id\n",
    "FROM user\n",
    "WHERE user_name LIKE \"{name_pattern}%\"\n",
    "    '''\n",
    "    \n",
    "    known_users = set()\n",
    "    \n",
    "    for u_pattern in username_patterns:\n",
    "        new_known = mariadb.run(known_user_query.format(\n",
    "            name_pattern = u_pattern), wiki)\n",
    "        known_users = known_users | set(new_known['user_id'])\n",
    "\n",
    "    return(known_users)\n",
    "        \n",
    "for wiki in wikis:\n",
    "    known_users[wiki] = known_users[wiki] | get_known_users(wiki)"
   ]
  },
  {
   "cell_type": "markdown",
   "metadata": {},
   "source": [
    "## Get all registrations"
   ]
  },
  {
   "cell_type": "code",
   "execution_count": 46,
   "metadata": {},
   "outputs": [],
   "source": [
    "## Query to get user registrations on the given wikis for the given dates, ignoring\n",
    "## known users.\n",
    "\n",
    "user_registrations_query = '''\n",
    "SELECT wiki_db, user_id, user_registration_timestamp\n",
    "FROM wmf.mediawiki_user_history\n",
    "WHERE snapshot = \"{snapshot}\"\n",
    "AND caused_by_event_type = \"create\" -- account registration\n",
    "AND created_by_self = true -- no auto-created accounts\n",
    "AND SIZE(is_bot_by) = 0 -- no bots\n",
    "AND SIZE(is_bot_by_historical) = 0 -- definitely no bots\n",
    "AND (\n",
    "    (wiki_db = \"cswiki\"\n",
    "     AND user_registration_timestamp > \"{cs_start_time}\"\n",
    "     AND user_registration_timestamp < \"{cs_end_time}\"\n",
    "     AND user_id NOT IN ({cs_known_users}))\n",
    "    OR\n",
    "    (wiki_db = \"kowiki\"\n",
    "     AND user_registration_timestamp > \"{cs_start_time}\"\n",
    "     AND user_registration_timestamp < \"{cs_end_time}\"\n",
    "     AND user_id NOT IN ({ko_known_users}))\n",
    "    OR\n",
    "    (wiki_db = \"viwiki\"\n",
    "     AND user_registration_timestamp > \"{vi_start_time}\"\n",
    "     AND user_registration_timestamp < \"{cs_end_time}\"\n",
    "     AND user_id NOT IN ({vi_known_users}))\n",
    "    OR\n",
    "    (wiki_db = \"arwiki\"\n",
    "     AND user_registration_timestamp > \"{ar_start_time}\"\n",
    "     AND user_registration_timestamp < \"{cs_end_time}\"\n",
    "     AND user_id NOT IN ({ar_known_users}))\n",
    ")\n",
    "'''"
   ]
  },
  {
   "cell_type": "code",
   "execution_count": 51,
   "metadata": {},
   "outputs": [],
   "source": [
    "user_registrations = hive.run(\n",
    "    user_registrations_query.format(\n",
    "        snapshot = wmf_snapshot,\n",
    "        cs_start_time = cs_start_ts.strftime(utils.hive_format),\n",
    "        cs_end_time = cs_end_ts.strftime(utils.hive_format),\n",
    "        vi_start_time = vi_start_ts.strftime(utils.hive_format),\n",
    "        ar_start_time = ar_start_ts.strftime(utils.hive_format),\n",
    "        cs_known_users = ', '.join([str(u) for u in known_users['cswiki']]),\n",
    "        ko_known_users = ', '.join([str(u) for u in known_users['kowiki']]),\n",
    "        vi_known_users = ', '.join([str(u) for u in known_users['viwiki']]),\n",
    "        ar_known_users = ', '.join([str(u) for u in known_users['arwiki']]),\n",
    "    )\n",
    ")"
   ]
  },
  {
   "cell_type": "markdown",
   "metadata": {},
   "source": [
    "## Get mobile/desktop and API data\n",
    "\n",
    "This enables us to identify differences between mobile/desktop registrations. We also filter out API registrations as those are almost always mobile apps."
   ]
  },
  {
   "cell_type": "code",
   "execution_count": 77,
   "metadata": {},
   "outputs": [],
   "source": [
    "## Get all self-created registrations from ServerSideAccountCreation\n",
    "\n",
    "ssac_reg_query = '''\n",
    "SELECT wiki AS wiki_db, event.userid AS user_id,\n",
    "       CAST(event.displaymobile AS INT) AS reg_on_mobile,\n",
    "       event.isapi\n",
    "FROM event_sanitized.serversideaccountcreation\n",
    "WHERE year = 2019\n",
    "AND month >= 5\n",
    "AND wiki IN (\"cswiki\", \"kowiki\", \"viwiki\", \"arwiki\")\n",
    "AND event.isselfmade = true\n",
    "'''"
   ]
  },
  {
   "cell_type": "code",
   "execution_count": 78,
   "metadata": {},
   "outputs": [],
   "source": [
    "ssac_reg_data = hive.run(ssac_reg_query)"
   ]
  },
  {
   "cell_type": "code",
   "execution_count": 79,
   "metadata": {},
   "outputs": [
    {
     "data": {
      "text/html": [
       "<div>\n",
       "<style scoped>\n",
       "    .dataframe tbody tr th:only-of-type {\n",
       "        vertical-align: middle;\n",
       "    }\n",
       "\n",
       "    .dataframe tbody tr th {\n",
       "        vertical-align: top;\n",
       "    }\n",
       "\n",
       "    .dataframe thead th {\n",
       "        text-align: right;\n",
       "    }\n",
       "</style>\n",
       "<table border=\"1\" class=\"dataframe\">\n",
       "  <thead>\n",
       "    <tr style=\"text-align: right;\">\n",
       "      <th></th>\n",
       "      <th>user_id</th>\n",
       "    </tr>\n",
       "    <tr>\n",
       "      <th>wiki_db</th>\n",
       "      <th></th>\n",
       "    </tr>\n",
       "  </thead>\n",
       "  <tbody>\n",
       "    <tr>\n",
       "      <td>arwiki</td>\n",
       "      <td>14771</td>\n",
       "    </tr>\n",
       "    <tr>\n",
       "      <td>cswiki</td>\n",
       "      <td>5415</td>\n",
       "    </tr>\n",
       "    <tr>\n",
       "      <td>kowiki</td>\n",
       "      <td>8040</td>\n",
       "    </tr>\n",
       "    <tr>\n",
       "      <td>viwiki</td>\n",
       "      <td>10136</td>\n",
       "    </tr>\n",
       "  </tbody>\n",
       "</table>\n",
       "</div>"
      ],
      "text/plain": [
       "         user_id\n",
       "wiki_db         \n",
       "arwiki     14771\n",
       "cswiki      5415\n",
       "kowiki      8040\n",
       "viwiki     10136"
      ]
     },
     "execution_count": 79,
     "metadata": {},
     "output_type": "execute_result"
    }
   ],
   "source": [
    "## What's the number of registrations?\n",
    "\n",
    "user_registrations.groupby('wiki_db').agg({'user_id' : 'size'})"
   ]
  },
  {
   "cell_type": "code",
   "execution_count": 80,
   "metadata": {},
   "outputs": [
    {
     "data": {
      "text/html": [
       "<div>\n",
       "<style scoped>\n",
       "    .dataframe tbody tr th:only-of-type {\n",
       "        vertical-align: middle;\n",
       "    }\n",
       "\n",
       "    .dataframe tbody tr th {\n",
       "        vertical-align: top;\n",
       "    }\n",
       "\n",
       "    .dataframe thead th {\n",
       "        text-align: right;\n",
       "    }\n",
       "</style>\n",
       "<table border=\"1\" class=\"dataframe\">\n",
       "  <thead>\n",
       "    <tr style=\"text-align: right;\">\n",
       "      <th></th>\n",
       "      <th>user_id</th>\n",
       "    </tr>\n",
       "    <tr>\n",
       "      <th>wiki_db</th>\n",
       "      <th></th>\n",
       "    </tr>\n",
       "  </thead>\n",
       "  <tbody>\n",
       "    <tr>\n",
       "      <td>arwiki</td>\n",
       "      <td>50907</td>\n",
       "    </tr>\n",
       "    <tr>\n",
       "      <td>cswiki</td>\n",
       "      <td>7330</td>\n",
       "    </tr>\n",
       "    <tr>\n",
       "      <td>kowiki</td>\n",
       "      <td>10978</td>\n",
       "    </tr>\n",
       "    <tr>\n",
       "      <td>viwiki</td>\n",
       "      <td>23102</td>\n",
       "    </tr>\n",
       "  </tbody>\n",
       "</table>\n",
       "</div>"
      ],
      "text/plain": [
       "         user_id\n",
       "wiki_db         \n",
       "arwiki     50907\n",
       "cswiki      7330\n",
       "kowiki     10978\n",
       "viwiki     23102"
      ]
     },
     "execution_count": 80,
     "metadata": {},
     "output_type": "execute_result"
    }
   ],
   "source": [
    "ssac_reg_data.groupby('wiki_db').agg({'user_id' : 'size'})"
   ]
  },
  {
   "cell_type": "code",
   "execution_count": 99,
   "metadata": {},
   "outputs": [],
   "source": [
    "## Join with SSAC data\n",
    "\n",
    "all_users = user_registrations.merge(ssac_reg_data, how = 'left',\n",
    "                                    on = ['wiki_db', 'user_id'])"
   ]
  },
  {
   "cell_type": "code",
   "execution_count": 100,
   "metadata": {},
   "outputs": [
    {
     "data": {
      "text/html": [
       "<div>\n",
       "<style scoped>\n",
       "    .dataframe tbody tr th:only-of-type {\n",
       "        vertical-align: middle;\n",
       "    }\n",
       "\n",
       "    .dataframe tbody tr th {\n",
       "        vertical-align: top;\n",
       "    }\n",
       "\n",
       "    .dataframe thead th {\n",
       "        text-align: right;\n",
       "    }\n",
       "</style>\n",
       "<table border=\"1\" class=\"dataframe\">\n",
       "  <thead>\n",
       "    <tr style=\"text-align: right;\">\n",
       "      <th></th>\n",
       "      <th>user_id</th>\n",
       "    </tr>\n",
       "    <tr>\n",
       "      <th>wiki_db</th>\n",
       "      <th></th>\n",
       "    </tr>\n",
       "  </thead>\n",
       "  <tbody>\n",
       "    <tr>\n",
       "      <td>arwiki</td>\n",
       "      <td>7</td>\n",
       "    </tr>\n",
       "    <tr>\n",
       "      <td>cswiki</td>\n",
       "      <td>4</td>\n",
       "    </tr>\n",
       "    <tr>\n",
       "      <td>kowiki</td>\n",
       "      <td>1</td>\n",
       "    </tr>\n",
       "    <tr>\n",
       "      <td>viwiki</td>\n",
       "      <td>3</td>\n",
       "    </tr>\n",
       "  </tbody>\n",
       "</table>\n",
       "</div>"
      ],
      "text/plain": [
       "         user_id\n",
       "wiki_db         \n",
       "arwiki         7\n",
       "cswiki         4\n",
       "kowiki         1\n",
       "viwiki         3"
      ]
     },
     "execution_count": 100,
     "metadata": {},
     "output_type": "execute_result"
    }
   ],
   "source": [
    "## Did we lose anyone?\n",
    "\n",
    "all_users.loc[all_users['reg_on_mobile'].isna()].groupby('wiki_db').agg({'user_id' : 'size'})"
   ]
  },
  {
   "cell_type": "markdown",
   "metadata": {},
   "source": [
    "There's only a handful of users (on the grand scale of things) that we don't appear to have registration data for, so that means that we're good to go. Yay!\n",
    "\n",
    "We remove users that have `isapi = True`, because those are most likely app registrations."
   ]
  },
  {
   "cell_type": "code",
   "execution_count": 101,
   "metadata": {},
   "outputs": [],
   "source": [
    "all_users = all_users.loc[~(all_users['isapi'] == True)]"
   ]
  },
  {
   "cell_type": "code",
   "execution_count": 102,
   "metadata": {},
   "outputs": [],
   "source": [
    "## Drop the isapi columns\n",
    "\n",
    "all_users = all_users.drop(columns = ['isapi'])"
   ]
  },
  {
   "cell_type": "markdown",
   "metadata": {},
   "source": [
    "## Get treatment/control assignments\n",
    "\n",
    "We grab all treatment assignments from the MediaWiki databases."
   ]
  },
  {
   "cell_type": "code",
   "execution_count": 93,
   "metadata": {},
   "outputs": [],
   "source": [
    "def get_panel_prefs(wiki, prop, users=None):\n",
    "    '''\n",
    "    Query and return a `pandas.DataFrame` with columns `wiki` and `user_id` of all users who have\n",
    "    the Help Panel turned on in their preferences for that given wiki.\n",
    "    \n",
    "    :param wiki: database code of the wiki we're querying\n",
    "    :type wiki: str\n",
    "    \n",
    "    :param prop: the user preference were use for determining treatment/control membership\n",
    "    :type prop: str\n",
    "    \n",
    "    :param users: user IDs of the users we are interested in\n",
    "    :type users: list\n",
    "    '''\n",
    "    \n",
    "    panel_query = '''\n",
    "    SELECT \"{wiki}\" AS wiki_db, up_user AS user_id,\n",
    "           CAST(up_value AS UNSIGNED INTEGER) AS is_treatment\n",
    "    FROM user_properties\n",
    "    WHERE up_property = \"{prop}\"\n",
    "    '''.format(wiki = wiki, prop = prop)\n",
    "    \n",
    "    if users is not None:\n",
    "        panel_query += '''\n",
    "        AND up_user IN ({})\n",
    "        '''.format(','.join([str(uid) for uid in users]))\n",
    "        \n",
    "    return(mariadb.run(panel_query, wiki))"
   ]
  },
  {
   "cell_type": "code",
   "execution_count": 96,
   "metadata": {},
   "outputs": [],
   "source": [
    "## Get treatment/control assignments from the MW databases\n",
    "\n",
    "panel_prefs = pd.concat(\n",
    "    [get_panel_prefs('cswiki', 'growthexperiments-homepage-enable',\n",
    "                     all_users.loc[all_users.wiki_db == 'cswiki']['user_id']),\n",
    "     get_panel_prefs('kowiki', 'growthexperiments-homepage-enable',\n",
    "                     all_users.loc[all_users.wiki_db == 'kowiki']['user_id']),\n",
    "     get_panel_prefs('viwiki', 'growthexperiments-homepage-enable',\n",
    "                     all_users.loc[all_users.wiki_db == 'viwiki']['user_id']),\n",
    "     get_panel_prefs('arwiki', 'growthexperiments-homepage-enable',\n",
    "                     all_users.loc[all_users.wiki_db == 'arwiki']['user_id'])\n",
    "    ])"
   ]
  },
  {
   "cell_type": "code",
   "execution_count": 103,
   "metadata": {},
   "outputs": [],
   "source": [
    "all_users = all_users.merge(panel_prefs, on = ['wiki_db', 'user_id'], how = 'left').fillna(0)"
   ]
  },
  {
   "cell_type": "markdown",
   "metadata": {},
   "source": [
    "## Users who turned the Homepage on/off in their preferences\n",
    "\n",
    "Lastly, we identify all users who turned the Homepage on or off in their preferences, as that means they self-selected into or out of our group assignments. These users can therefore not be part of the analysis."
   ]
  },
  {
   "cell_type": "code",
   "execution_count": 106,
   "metadata": {},
   "outputs": [],
   "source": [
    "## Second, identify all users who either turned the Homepage on themselves, or at some point\n",
    "## turned the preference off.\n",
    "\n",
    "switch_query = '''\n",
    "SELECT wiki, event.userid AS user_id, event.value\n",
    "FROM event_sanitized.prefupdate\n",
    "WHERE year = 2019\n",
    "AND month >= 5\n",
    "AND wiki IN (\"cswiki\", \"kowiki\", \"viwiki\", \"arwiki\")\n",
    "AND event.property = \"{prop}\"\n",
    "'''"
   ]
  },
  {
   "cell_type": "code",
   "execution_count": 107,
   "metadata": {},
   "outputs": [],
   "source": [
    "switched_users = hive.run(\n",
    "    switch_query.format(\n",
    "        prop = 'growthexperiments-homepage-enable'\n",
    "    )\n",
    ")"
   ]
  },
  {
   "cell_type": "markdown",
   "metadata": {},
   "source": [
    "How many users switched?"
   ]
  },
  {
   "cell_type": "code",
   "execution_count": 108,
   "metadata": {},
   "outputs": [
    {
     "data": {
      "text/plain": [
       "504"
      ]
     },
     "execution_count": 108,
     "metadata": {},
     "output_type": "execute_result"
    }
   ],
   "source": [
    "len(switched_users)"
   ]
  },
  {
   "cell_type": "markdown",
   "metadata": {},
   "source": [
    "That's a surprisingly high number compared to other interventions we've run. I'm now curious to learn to what extent users turn this on or off, and how many users in the experiment who actually turned it on/off."
   ]
  },
  {
   "cell_type": "code",
   "execution_count": 114,
   "metadata": {},
   "outputs": [
    {
     "data": {
      "text/html": [
       "<div>\n",
       "<style scoped>\n",
       "    .dataframe tbody tr th:only-of-type {\n",
       "        vertical-align: middle;\n",
       "    }\n",
       "\n",
       "    .dataframe tbody tr th {\n",
       "        vertical-align: top;\n",
       "    }\n",
       "\n",
       "    .dataframe thead th {\n",
       "        text-align: right;\n",
       "    }\n",
       "</style>\n",
       "<table border=\"1\" class=\"dataframe\">\n",
       "  <thead>\n",
       "    <tr style=\"text-align: right;\">\n",
       "      <th></th>\n",
       "      <th></th>\n",
       "      <th>user_id</th>\n",
       "    </tr>\n",
       "    <tr>\n",
       "      <th>wiki</th>\n",
       "      <th>value</th>\n",
       "      <th></th>\n",
       "    </tr>\n",
       "  </thead>\n",
       "  <tbody>\n",
       "    <tr>\n",
       "      <td rowspan=\"2\" valign=\"top\">arwiki</td>\n",
       "      <td>false</td>\n",
       "      <td>24</td>\n",
       "    </tr>\n",
       "    <tr>\n",
       "      <td>true</td>\n",
       "      <td>166</td>\n",
       "    </tr>\n",
       "    <tr>\n",
       "      <td rowspan=\"2\" valign=\"top\">cswiki</td>\n",
       "      <td>false</td>\n",
       "      <td>30</td>\n",
       "    </tr>\n",
       "    <tr>\n",
       "      <td>true</td>\n",
       "      <td>130</td>\n",
       "    </tr>\n",
       "    <tr>\n",
       "      <td rowspan=\"2\" valign=\"top\">kowiki</td>\n",
       "      <td>false</td>\n",
       "      <td>11</td>\n",
       "    </tr>\n",
       "    <tr>\n",
       "      <td>true</td>\n",
       "      <td>59</td>\n",
       "    </tr>\n",
       "    <tr>\n",
       "      <td rowspan=\"2\" valign=\"top\">viwiki</td>\n",
       "      <td>false</td>\n",
       "      <td>7</td>\n",
       "    </tr>\n",
       "    <tr>\n",
       "      <td>true</td>\n",
       "      <td>77</td>\n",
       "    </tr>\n",
       "  </tbody>\n",
       "</table>\n",
       "</div>"
      ],
      "text/plain": [
       "              user_id\n",
       "wiki   value         \n",
       "arwiki false       24\n",
       "       true       166\n",
       "cswiki false       30\n",
       "       true       130\n",
       "kowiki false       11\n",
       "       true        59\n",
       "viwiki false        7\n",
       "       true        77"
      ]
     },
     "execution_count": 114,
     "metadata": {},
     "output_type": "execute_result"
    }
   ],
   "source": [
    "switched_users.groupby(['wiki', 'value']).agg({'user_id' : 'size'})"
   ]
  },
  {
   "cell_type": "markdown",
   "metadata": {},
   "source": [
    "Ok, so largely users are turning the Homepage *on*, not off. Given the number of users in our dataset, I don't think we're looking at a significant proportion turning it off."
   ]
  },
  {
   "cell_type": "code",
   "execution_count": 115,
   "metadata": {},
   "outputs": [],
   "source": [
    "## Left-join with switched users\n",
    "\n",
    "all_users = all_users.merge(switched_users,\n",
    "                            left_on = ['wiki_db', 'user_id'], right_on = ['wiki', 'user_id'],\n",
    "                            how = 'left')"
   ]
  },
  {
   "cell_type": "markdown",
   "metadata": {},
   "source": [
    "Now, for wiki and registration method, aggregate how many users turned it on or off, and how many didn't change it."
   ]
  },
  {
   "cell_type": "code",
   "execution_count": 116,
   "metadata": {},
   "outputs": [
    {
     "data": {
      "text/html": [
       "<div>\n",
       "<style scoped>\n",
       "    .dataframe tbody tr th:only-of-type {\n",
       "        vertical-align: middle;\n",
       "    }\n",
       "\n",
       "    .dataframe tbody tr th {\n",
       "        vertical-align: top;\n",
       "    }\n",
       "\n",
       "    .dataframe thead th {\n",
       "        text-align: right;\n",
       "    }\n",
       "</style>\n",
       "<table border=\"1\" class=\"dataframe\">\n",
       "  <thead>\n",
       "    <tr style=\"text-align: right;\">\n",
       "      <th></th>\n",
       "      <th></th>\n",
       "      <th></th>\n",
       "      <th>user_id</th>\n",
       "    </tr>\n",
       "    <tr>\n",
       "      <th>wiki_db</th>\n",
       "      <th>reg_on_mobile</th>\n",
       "      <th>value</th>\n",
       "      <th></th>\n",
       "    </tr>\n",
       "  </thead>\n",
       "  <tbody>\n",
       "    <tr>\n",
       "      <td rowspan=\"4\" valign=\"top\">arwiki</td>\n",
       "      <td rowspan=\"2\" valign=\"top\">0.0</td>\n",
       "      <td>false</td>\n",
       "      <td>6</td>\n",
       "    </tr>\n",
       "    <tr>\n",
       "      <td>true</td>\n",
       "      <td>33</td>\n",
       "    </tr>\n",
       "    <tr>\n",
       "      <td rowspan=\"2\" valign=\"top\">1.0</td>\n",
       "      <td>false</td>\n",
       "      <td>6</td>\n",
       "    </tr>\n",
       "    <tr>\n",
       "      <td>true</td>\n",
       "      <td>20</td>\n",
       "    </tr>\n",
       "    <tr>\n",
       "      <td rowspan=\"2\" valign=\"top\">cswiki</td>\n",
       "      <td rowspan=\"2\" valign=\"top\">0.0</td>\n",
       "      <td>false</td>\n",
       "      <td>4</td>\n",
       "    </tr>\n",
       "    <tr>\n",
       "      <td>true</td>\n",
       "      <td>14</td>\n",
       "    </tr>\n",
       "    <tr>\n",
       "      <td rowspan=\"4\" valign=\"top\">kowiki</td>\n",
       "      <td rowspan=\"2\" valign=\"top\">0.0</td>\n",
       "      <td>false</td>\n",
       "      <td>5</td>\n",
       "    </tr>\n",
       "    <tr>\n",
       "      <td>true</td>\n",
       "      <td>4</td>\n",
       "    </tr>\n",
       "    <tr>\n",
       "      <td rowspan=\"2\" valign=\"top\">1.0</td>\n",
       "      <td>false</td>\n",
       "      <td>1</td>\n",
       "    </tr>\n",
       "    <tr>\n",
       "      <td>true</td>\n",
       "      <td>1</td>\n",
       "    </tr>\n",
       "    <tr>\n",
       "      <td rowspan=\"4\" valign=\"top\">viwiki</td>\n",
       "      <td rowspan=\"2\" valign=\"top\">0.0</td>\n",
       "      <td>false</td>\n",
       "      <td>2</td>\n",
       "    </tr>\n",
       "    <tr>\n",
       "      <td>true</td>\n",
       "      <td>18</td>\n",
       "    </tr>\n",
       "    <tr>\n",
       "      <td rowspan=\"2\" valign=\"top\">1.0</td>\n",
       "      <td>false</td>\n",
       "      <td>1</td>\n",
       "    </tr>\n",
       "    <tr>\n",
       "      <td>true</td>\n",
       "      <td>6</td>\n",
       "    </tr>\n",
       "  </tbody>\n",
       "</table>\n",
       "</div>"
      ],
      "text/plain": [
       "                             user_id\n",
       "wiki_db reg_on_mobile value         \n",
       "arwiki  0.0           false        6\n",
       "                      true        33\n",
       "        1.0           false        6\n",
       "                      true        20\n",
       "cswiki  0.0           false        4\n",
       "                      true        14\n",
       "kowiki  0.0           false        5\n",
       "                      true         4\n",
       "        1.0           false        1\n",
       "                      true         1\n",
       "viwiki  0.0           false        2\n",
       "                      true        18\n",
       "        1.0           false        1\n",
       "                      true         6"
      ]
     },
     "execution_count": 116,
     "metadata": {},
     "output_type": "execute_result"
    }
   ],
   "source": [
    "all_users.groupby(['wiki_db', 'reg_on_mobile', 'value']).agg({'user_id' : 'size'})"
   ]
  },
  {
   "cell_type": "code",
   "execution_count": 118,
   "metadata": {},
   "outputs": [
    {
     "data": {
      "text/plain": [
       "33301"
      ]
     },
     "execution_count": 118,
     "metadata": {},
     "output_type": "execute_result"
    }
   ],
   "source": [
    "len(all_users)"
   ]
  },
  {
   "cell_type": "code",
   "execution_count": 119,
   "metadata": {},
   "outputs": [
    {
     "data": {
      "text/plain": [
       "121"
      ]
     },
     "execution_count": 119,
     "metadata": {},
     "output_type": "execute_result"
    }
   ],
   "source": [
    "len(all_users.loc[~all_users['value'].isna()])"
   ]
  },
  {
   "cell_type": "code",
   "execution_count": 120,
   "metadata": {},
   "outputs": [
    {
     "data": {
      "text/plain": [
       "0.4"
      ]
     },
     "execution_count": 120,
     "metadata": {},
     "output_type": "execute_result"
    }
   ],
   "source": [
    "round(100 * len(all_users.loc[~all_users['value'].isna()]) / len(all_users), 1)"
   ]
  },
  {
   "cell_type": "markdown",
   "metadata": {},
   "source": [
    "So, at the time of writing (Oct 28, 2019), we've only had 121 out of 33,301 users in the experiment turn it on or off. Most of these turned it *on*, btw. That's 0.4% of users. We also have about 380 users who are not in the experiment turn the Homepage on. Cool!"
   ]
  },
  {
   "cell_type": "code",
   "execution_count": 121,
   "metadata": {},
   "outputs": [],
   "source": [
    "all_users = all_users.loc[all_users['value'].isna()]"
   ]
  },
  {
   "cell_type": "code",
   "execution_count": 123,
   "metadata": {},
   "outputs": [
    {
     "name": "stderr",
     "output_type": "stream",
     "text": [
      "/home/nettrom/venv/lib/python3.5/site-packages/ipykernel_launcher.py:3: SettingWithCopyWarning: \n",
      "A value is trying to be set on a copy of a slice from a DataFrame.\n",
      "Try using .loc[row_indexer,col_indexer] = value instead\n",
      "\n",
      "See the caveats in the documentation: http://pandas.pydata.org/pandas-docs/stable/user_guide/indexing.html#returning-a-view-versus-a-copy\n",
      "  This is separate from the ipykernel package so we can avoid doing imports until\n",
      "/home/nettrom/venv/lib/python3.5/site-packages/ipykernel_launcher.py:4: SettingWithCopyWarning: \n",
      "A value is trying to be set on a copy of a slice from a DataFrame.\n",
      "Try using .loc[row_indexer,col_indexer] = value instead\n",
      "\n",
      "See the caveats in the documentation: http://pandas.pydata.org/pandas-docs/stable/user_guide/indexing.html#returning-a-view-versus-a-copy\n",
      "  after removing the cwd from sys.path.\n"
     ]
    }
   ],
   "source": [
    "## Turn is_treatment and reg_on_mobile into ints\n",
    "\n",
    "all_users['is_treatment'] = all_users['is_treatment'].astype(int)\n",
    "all_users['reg_on_mobile'] = all_users['reg_on_mobile'].astype(int)"
   ]
  },
  {
   "cell_type": "code",
   "execution_count": 134,
   "metadata": {},
   "outputs": [],
   "source": [
    "## Write the dataset out into a TSV so it can be imported into the Data Lake.\n",
    "## NOTE: this file cannot contain a header line.\n",
    "\n",
    "all_users.to_csv(tsv_output_file, sep = '\\t',\n",
    "                 columns = ['wiki_db', 'user_id', 'user_registration_timestamp',\n",
    "                            'reg_on_mobile', 'is_treatment'],\n",
    "                 header = False, index = False)"
   ]
  },
  {
   "cell_type": "code",
   "execution_count": 129,
   "metadata": {},
   "outputs": [],
   "source": [
    "## Query to create the canonical user dataset table in Hive\n",
    "\n",
    "create_table_query = '''\n",
    "CREATE TABLE {table_name}\n",
    "(wiki_db STRING COMMENT \"wiki this user registered on\",\n",
    " user_id BIGINT COMMENT \"user_id of this user on the given wiki\",\n",
    " user_registration_timestamp STRING COMMENT \"UTC timestamp of user registration\",\n",
    " reg_on_mobile INT COMMENT \"whether the user registered on the mobile site\",\n",
    " is_treatment INT COMMENT \"whether the user is in the treatment or control group\"\n",
    ")\n",
    "ROW FORMAT DELIMITED FIELDS TERMINATED BY \"\\t\"\n",
    "'''"
   ]
  },
  {
   "cell_type": "code",
   "execution_count": 130,
   "metadata": {},
   "outputs": [],
   "source": [
    "canonical_user_table = 'nettrom_growth.homepage_exp_users'\n",
    "\n",
    "hive.run(create_table_query.format(\n",
    "    table_name = canonical_user_table\n",
    "))"
   ]
  },
  {
   "cell_type": "markdown",
   "metadata": {},
   "source": [
    "Importing the data was done manually through the command line in order to have a meaningful reference to the actual local file."
   ]
  },
  {
   "cell_type": "code",
   "execution_count": 133,
   "metadata": {},
   "outputs": [
    {
     "name": "stdout",
     "output_type": "stream",
     "text": [
      "\n",
      "LOAD DATA LOCAL INPATH \"/home/nettrom/src/Growth-homepage-2019/datasets/canonical_users.tsv\"\n",
      "OVERWRITE INTO TABLE nettrom_growth.homepage_exp_users\n",
      "\n"
     ]
    }
   ],
   "source": [
    "print(import_data_query.format(\n",
    "    local_path = tsv_output_file,\n",
    "    table_name = canonical_user_table\n",
    "))"
   ]
  },
  {
   "cell_type": "markdown",
   "metadata": {},
   "source": [
    "## Grabbing editing data\n",
    "\n",
    "We have four questions mentioned in the introduction. As also mentioned in the introduction, we want to grab editing data to be able to answer these questions in such a way that we can analyze it separately for the article, user, and user talk namespaces separately from other namespaces. \"Other\" will likely mean \"Wikipedia\" or \"Help\" due to where the Help Desk is located. In other words, we can learn to what extent users are activated/retained by editing articles, user (creating their user page), talk (asking their mentor or responding to communication), and \"other\" (e.g. Help Desk).\n",
    "\n",
    "* Does receiving the homepage treatment increase editor activation?\n",
    "* Does receiving the homepage treatment increase editor retention?\n",
    "* Does having access to the homepage treatment increase the average number of edits in the first two weeks after registration?\n",
    "* Does having access to the homepage increase the proportion of constructive edits?\n",
    "\n",
    "To accomplish this, we will join `mediawiki_history` with our Homepage user table to get edit data.\n",
    "\n",
    "Note: we could also use edit tags to get mentor questions and Help Desk questions, specifically. There are benefits and drawbacks of both approaches. If we only look at those edits specifically, then further interaction (e.g. responding to your mentor's answer) will be different from those and counted differently. The way it is set up now, we use namespaces as proxies for specific actions and with that potentially count other things into it as well (e.g. a user might just edit their own user talk page without having asked their mentor).\n",
    "\n",
    "I think we'll first start looking at the overall picture (activation and retention across all namespaces), and then take it from there if we find significant results."
   ]
  },
  {
   "cell_type": "code",
   "execution_count": 154,
   "metadata": {},
   "outputs": [],
   "source": [
    "edit_data_query = '''\n",
    "WITH edits AS (\n",
    "    SELECT wiki_db, event_user_id AS user_id,\n",
    "    -- ns 0 edits on the first day\n",
    "    SUM(IF(page_namespace = 0\n",
    "        AND unix_timestamp(event_timestamp) - unix_timestamp(event_user_creation_timestamp) < 86400, 1, 0)) AS num_edits_ns0_24hrs,\n",
    "    -- ns 0 edits on the first day that were reverted\n",
    "    SUM(IF(page_namespace = 0 AND revision_is_identity_reverted = true AND revision_seconds_to_identity_revert < 60*60*48\n",
    "        AND unix_timestamp(event_timestamp) - unix_timestamp(event_user_creation_timestamp) < 86400, 1, 0)) AS num_rev_edits_ns0_24hrs,\n",
    "    -- ns 2 edits on the first day\n",
    "    SUM(IF(page_namespace = 2\n",
    "        AND unix_timestamp(event_timestamp) - unix_timestamp(event_user_creation_timestamp) < 86400, 1, 0)) AS num_edits_ns2_24hrs,\n",
    "    -- ns 2 edits on the first day that were reverted\n",
    "    SUM(IF(page_namespace = 2 AND revision_is_identity_reverted = true AND revision_seconds_to_identity_revert < 60*60*48\n",
    "        AND unix_timestamp(event_timestamp) - unix_timestamp(event_user_creation_timestamp) < 86400, 1, 0)) AS num_rev_edits_ns2_24hrs,\n",
    "    -- ns 3 edits on the first day,\n",
    "    SUM(IF(page_namespace = 3\n",
    "        AND unix_timestamp(event_timestamp) - unix_timestamp(event_user_creation_timestamp) < 86400, 1, 0)) AS num_edits_ns3_24hrs,\n",
    "    -- ns 3 edits on the first day that were reverted\n",
    "    SUM(IF(page_namespace = 3 AND revision_is_identity_reverted = true AND revision_seconds_to_identity_revert < 60*60*48\n",
    "        AND unix_timestamp(event_timestamp) - unix_timestamp(event_user_creation_timestamp) < 86400, 1, 0)) AS num_rev_edits_ns3_24hrs,\n",
    "    -- ns != (0, 2, 3) edits on the first day\n",
    "    SUM(IF(page_namespace NOT IN (0, 2, 3)\n",
    "        AND unix_timestamp(event_timestamp) - unix_timestamp(event_user_creation_timestamp) < 86400, 1, 0)) AS num_edits_other_24hrs,\n",
    "    -- ns != (0, 2, 3) edits on the first day that were reverted\n",
    "    SUM(IF(page_namespace NOT IN (0, 2, 3) AND revision_is_identity_reverted = true AND revision_seconds_to_identity_revert < 60*60*48\n",
    "        AND unix_timestamp(event_timestamp) - unix_timestamp(event_user_creation_timestamp) < 86400, 1, 0)) AS num_rev_edits_other_24hrs,\n",
    "    -- ns 0 edits on days 1–15\n",
    "    SUM(IF(page_namespace = 0\n",
    "        AND unix_timestamp(event_timestamp) - unix_timestamp(event_user_creation_timestamp) BETWEEN 86400 AND 15*86400, 1, 0)) AS num_edits_ns0_2w,\n",
    "    -- ns 0 edits on days 1–15 that were reverted\n",
    "    SUM(IF(page_namespace = 0 AND revision_is_identity_reverted = true AND revision_seconds_to_identity_revert < 60*60*48\n",
    "        AND unix_timestamp(event_timestamp) - unix_timestamp(event_user_creation_timestamp) BETWEEN 86400 AND 15*86400, 1, 0)) AS num_rev_edits_ns0_2w,\n",
    "    -- ns 2 edits on days 1–15\n",
    "    SUM(IF(page_namespace = 2\n",
    "        AND unix_timestamp(event_timestamp) - unix_timestamp(event_user_creation_timestamp) BETWEEN 86400 AND 15*86400, 1, 0)) AS num_edits_ns2_2w,\n",
    "    -- ns 2 edits on days 1–15 that were reverted\n",
    "    SUM(IF(page_namespace = 2 AND revision_is_identity_reverted = true AND revision_seconds_to_identity_revert < 60*60*48\n",
    "        AND unix_timestamp(event_timestamp) - unix_timestamp(event_user_creation_timestamp) BETWEEN 86400 AND 15*86400, 1, 0)) AS num_rev_edits_ns2_2w,\n",
    "    -- ns 3 edits on days 1–15\n",
    "    SUM(IF(page_namespace = 3\n",
    "        AND unix_timestamp(event_timestamp) - unix_timestamp(event_user_creation_timestamp) BETWEEN 86400 AND 15*86400, 1, 0)) AS num_edits_ns3_2w,\n",
    "    -- ns 3 edits on days 1–15 that were reverted\n",
    "    SUM(IF(page_namespace = 3 AND revision_is_identity_reverted = true AND revision_seconds_to_identity_revert < 60*60*48\n",
    "        AND unix_timestamp(event_timestamp) - unix_timestamp(event_user_creation_timestamp) BETWEEN 86400 AND 15*86400, 1, 0)) AS num_rev_edits_ns3_2w,\n",
    "    -- ns != (0, 2, 3) edits on days 1–15\n",
    "    SUM(IF(page_namespace NOT IN(0, 2, 3)\n",
    "        AND unix_timestamp(event_timestamp) - unix_timestamp(event_user_creation_timestamp) BETWEEN 86400 AND 15*86400, 1, 0)) AS num_edits_other_2w,\n",
    "    -- ns != (0, 2, 3) edits on days 1–15 that were reverted\n",
    "    SUM(IF(page_namespace NOT IN (0, 2, 3) AND revision_is_identity_reverted = true AND revision_seconds_to_identity_revert < 60*60*48\n",
    "        AND unix_timestamp(event_timestamp) - unix_timestamp(event_user_creation_timestamp) BETWEEN 86400 AND 15*86400, 1, 0)) AS num_rev_edits_other_2w\n",
    "    FROM wmf.mediawiki_history\n",
    "    WHERE snapshot = \"{snapshot}\"\n",
    "    AND event_entity = \"revision\"\n",
    "    AND event_type = \"create\"\n",
    "    AND wiki_db IN (\"cswiki\", \"kowiki\", \"arwiki\", \"viwiki\")\n",
    "    AND event_timestamp > \"2019-05-01\"\n",
    "    GROUP BY wiki_db, event_user_id\n",
    "),\n",
    "users AS (\n",
    "    SELECT wiki_db, user_id, user_registration_timestamp, reg_on_mobile, is_treatment\n",
    "    FROM {exp_user_table}\n",
    ")\n",
    "SELECT users.wiki_db, users.user_id, users.user_registration_timestamp, reg_on_mobile, is_treatment,\n",
    "    COALESCE(num_edits_ns0_24hrs, 0) AS num_edits_ns0_24hrs,\n",
    "    COALESCE(num_rev_edits_ns0_24hrs, 0) AS num_rev_edits_ns0_24hrs,\n",
    "    COALESCE(num_edits_ns2_24hrs, 0) AS num_edits_ns2_24hrs,\n",
    "    COALESCE(num_rev_edits_ns2_24hrs, 0) AS num_rev_edits_ns2_24hrs,\n",
    "    COALESCE(num_edits_ns3_24hrs, 0) AS num_edits_ns3_24hrs,\n",
    "    COALESCE(num_rev_edits_ns3_24hrs, 0) AS num_rev_edits_ns3_24hrs,\n",
    "    COALESCE(num_edits_other_24hrs, 0) AS num_edits_other_24hrs,\n",
    "    COALESCE(num_rev_edits_other_24hrs, 0) AS num_rev_edits_other_24hrs,\n",
    "    COALESCE(num_edits_ns0_2w, 0) AS num_edits_ns0_2w,\n",
    "    COALESCE(num_rev_edits_ns0_2w, 0) AS num_rev_edits_ns0_2w,\n",
    "    COALESCE(num_edits_ns2_2w, 0) AS num_edits_ns2_2w,\n",
    "    COALESCE(num_rev_edits_ns2_2w, 0) AS num_rev_edits_ns2_2w,\n",
    "    COALESCE(num_edits_ns3_2w, 0) AS num_edits_ns3_2w,\n",
    "    COALESCE(num_rev_edits_ns3_2w, 0) AS num_rev_edits_ns3_2w,\n",
    "    COALESCE(num_edits_other_2w, 0) AS num_edits_other_2w,\n",
    "    COALESCE(num_rev_edits_other_2w, 0) AS num_rev_edits_other_2w\n",
    "FROM users\n",
    "LEFT JOIN edits\n",
    "ON users.wiki_db = edits.wiki_db\n",
    "AND users.user_id = edits.user_id\n",
    "'''"
   ]
  },
  {
   "cell_type": "code",
   "execution_count": 155,
   "metadata": {},
   "outputs": [],
   "source": [
    "all_users_edit_data = hive.run(\n",
    "    edit_data_query.format(\n",
    "        snapshot = wmf_snapshot,\n",
    "        exp_user_table = canonical_user_table\n",
    "    )\n",
    ")"
   ]
  },
  {
   "cell_type": "code",
   "execution_count": 156,
   "metadata": {},
   "outputs": [
    {
     "data": {
      "text/plain": [
       "33180"
      ]
     },
     "execution_count": 156,
     "metadata": {},
     "output_type": "execute_result"
    }
   ],
   "source": [
    "len(all_users_edit_data)"
   ]
  },
  {
   "cell_type": "markdown",
   "metadata": {},
   "source": [
    "Write out the canonical edit dataset for importing into R."
   ]
  },
  {
   "cell_type": "code",
   "execution_count": 158,
   "metadata": {},
   "outputs": [],
   "source": [
    "all_users_edit_data.to_csv('datasets/all_users_edit_data.csv', index = False)"
   ]
  },
  {
   "cell_type": "markdown",
   "metadata": {},
   "source": [
    "## Additional data\n",
    "\n",
    "In order to answer the last two questions of analysis, we need to gather data about the following:\n",
    "\n",
    "* Having a confirmed email address\n",
    "* Having created a user page (even if subsequently deleted)\n",
    "\n",
    "For both of these, I want to limit it to actions made within 14 days after registration. While some users might do these later, e.g. change their email address and then confirm it, we are primarily interested in effects on user behavior in the first few weeks on Wikipedia. Because historic email data is not stored anywhere, we won't have completely accurate data, but I suspect the effect of users later changing their address is minimal.\n",
    "\n",
    "For creating a user page, I'll use `mediawiki_history` to gather that information and join it with the canonical dataset. We'll look for the creation of a page in the user namespace that matches `event_user_text_historical`, which should be the user's name at the time the page was created.\n",
    "\n",
    "This analysis was done a few months after the initial one, so we start by loading the edit data back into memory."
   ]
  },
  {
   "cell_type": "code",
   "execution_count": 15,
   "metadata": {},
   "outputs": [],
   "source": [
    "all_users = pd.read_csv('datasets/all_users_edit_data.csv')"
   ]
  },
  {
   "cell_type": "markdown",
   "metadata": {},
   "source": [
    "### Confirmed email address\n",
    "\n",
    "We'll write a function to iterate over the wikis and grab confirmation data, only labelling users who confirmed it within 14 days."
   ]
  },
  {
   "cell_type": "code",
   "execution_count": 19,
   "metadata": {},
   "outputs": [],
   "source": [
    "def get_email_status(wiki, start_time, end_time):\n",
    "    '''\n",
    "    Query and return a `pandas.DataFrame` with columns `wiki`, `user_id`, and email\n",
    "    verification status (1 if it was verified within 14 days after registration),\n",
    "    for all users registered between `start_time` and `end_time`.\n",
    "    \n",
    "    :param wiki: database code of the wiki we're querying\n",
    "    :type wiki: str\n",
    "\n",
    "    :param start_time: timestamp of experiment deployment\n",
    "    :type start_time: datetime.datetime\n",
    "    \n",
    "    :param end_time: timestamp of when to stop data gathering\n",
    "    :type end_time: datetime.datetime\n",
    "    '''\n",
    "\n",
    "    email_query = '''\n",
    "    SELECT \"{wiki}\" AS wiki_db, user_id,\n",
    "        IF(user_email_authenticated IS NOT NULL\n",
    "           AND TIMESTAMPDIFF(SECOND,\n",
    "               TIMESTAMP(user_registration),\n",
    "               TIMESTAMP(user_email_authenticated)) < 60*60*24*14, 1, 0) AS email_auth_14d\n",
    "    FROM user\n",
    "    WHERE user_registration >= \"{start_ts}\"\n",
    "    AND user_registration < \"{end_ts}\"\n",
    "    '''\n",
    "        \n",
    "    return(mariadb.run(email_query.format(\n",
    "        wiki = wiki,\n",
    "        start_ts = start_time.strftime(utils.mw_format),\n",
    "        end_ts = end_time.strftime(utils.mw_format)\n",
    "    ), wiki))"
   ]
  },
  {
   "cell_type": "code",
   "execution_count": 7,
   "metadata": {},
   "outputs": [],
   "source": [
    "email_status = get_email_status('cswiki', cs_start_ts, cs_end_ts)"
   ]
  },
  {
   "cell_type": "code",
   "execution_count": 20,
   "metadata": {},
   "outputs": [],
   "source": [
    "## Get treatment/control assignments from the MW databases\n",
    "\n",
    "email_status = pd.concat(\n",
    "    [get_email_status('cswiki', cs_start_ts, cs_end_ts),\n",
    "     get_email_status('kowiki', ko_start_ts, ko_end_ts),\n",
    "     get_email_status('viwiki', vi_start_ts, vi_end_ts),\n",
    "     get_email_status('arwiki', ar_start_ts, ar_end_ts)\n",
    "    ])"
   ]
  },
  {
   "cell_type": "code",
   "execution_count": 21,
   "metadata": {},
   "outputs": [
    {
     "data": {
      "text/html": [
       "<div>\n",
       "<style scoped>\n",
       "    .dataframe tbody tr th:only-of-type {\n",
       "        vertical-align: middle;\n",
       "    }\n",
       "\n",
       "    .dataframe tbody tr th {\n",
       "        vertical-align: top;\n",
       "    }\n",
       "\n",
       "    .dataframe thead th {\n",
       "        text-align: right;\n",
       "    }\n",
       "</style>\n",
       "<table border=\"1\" class=\"dataframe\">\n",
       "  <thead>\n",
       "    <tr style=\"text-align: right;\">\n",
       "      <th></th>\n",
       "      <th></th>\n",
       "      <th>user_id</th>\n",
       "    </tr>\n",
       "    <tr>\n",
       "      <th>wiki_db</th>\n",
       "      <th>email_auth_14d</th>\n",
       "      <th></th>\n",
       "    </tr>\n",
       "  </thead>\n",
       "  <tbody>\n",
       "    <tr>\n",
       "      <td rowspan=\"2\" valign=\"top\">arwiki</td>\n",
       "      <td>0</td>\n",
       "      <td>18497</td>\n",
       "    </tr>\n",
       "    <tr>\n",
       "      <td>1</td>\n",
       "      <td>4161</td>\n",
       "    </tr>\n",
       "    <tr>\n",
       "      <td rowspan=\"2\" valign=\"top\">cswiki</td>\n",
       "      <td>0</td>\n",
       "      <td>11526</td>\n",
       "    </tr>\n",
       "    <tr>\n",
       "      <td>1</td>\n",
       "      <td>2033</td>\n",
       "    </tr>\n",
       "    <tr>\n",
       "      <td rowspan=\"2\" valign=\"top\">kowiki</td>\n",
       "      <td>0</td>\n",
       "      <td>16712</td>\n",
       "    </tr>\n",
       "    <tr>\n",
       "      <td>1</td>\n",
       "      <td>1635</td>\n",
       "    </tr>\n",
       "    <tr>\n",
       "      <td rowspan=\"2\" valign=\"top\">viwiki</td>\n",
       "      <td>0</td>\n",
       "      <td>12420</td>\n",
       "    </tr>\n",
       "    <tr>\n",
       "      <td>1</td>\n",
       "      <td>2082</td>\n",
       "    </tr>\n",
       "  </tbody>\n",
       "</table>\n",
       "</div>"
      ],
      "text/plain": [
       "                        user_id\n",
       "wiki_db email_auth_14d         \n",
       "arwiki  0                 18497\n",
       "        1                  4161\n",
       "cswiki  0                 11526\n",
       "        1                  2033\n",
       "kowiki  0                 16712\n",
       "        1                  1635\n",
       "viwiki  0                 12420\n",
       "        1                  2082"
      ]
     },
     "execution_count": 21,
     "metadata": {},
     "output_type": "execute_result"
    }
   ],
   "source": [
    "email_status.groupby(['wiki_db', 'email_auth_14d']).agg({'user_id': 'count'})"
   ]
  },
  {
   "cell_type": "code",
   "execution_count": 22,
   "metadata": {},
   "outputs": [],
   "source": [
    "all_users = all_users.merge(email_status, on = ['wiki_db', 'user_id'], how = 'left').fillna(0)"
   ]
  },
  {
   "cell_type": "code",
   "execution_count": 24,
   "metadata": {},
   "outputs": [],
   "source": [
    "## Fix float format when replacing NaNs\n",
    "all_users['email_auth_14d'] = all_users['email_auth_14d'].astype(int)"
   ]
  },
  {
   "cell_type": "markdown",
   "metadata": {},
   "source": [
    "### Created user page\n",
    "\n",
    "For each of the wikis, we'll look for users who registered within the given timeframes, who created a page in the user space matching their user name at the time. We'll just grab all those edits and join it with all users, because that's easier than trying to filter."
   ]
  },
  {
   "cell_type": "code",
   "execution_count": 27,
   "metadata": {},
   "outputs": [],
   "source": [
    "userpage_query = '''\n",
    "SELECT wiki_db, event_user_id, 1 AS create_userpage_14d\n",
    "FROM wmf.mediawiki_history\n",
    "WHERE snapshot = \"{snapshot}\"\n",
    "AND event_entity = \"revision\"\n",
    "AND event_type = \"create\"\n",
    "AND wiki_db IN (\"cswiki\", \"kowiki\", \"arwiki\", \"viwiki\")\n",
    "AND event_timestamp > \"2019-05-01\"\n",
    "AND page_namespace = 2\n",
    "AND unix_timestamp(event_timestamp) - unix_timestamp(event_user_creation_timestamp) < 86400*14\n",
    "AND event_user_text_historical = page_title_historical\n",
    "AND event_user_is_created_by_self = true\n",
    "GROUP BY wiki_db, event_user_id\n",
    "'''"
   ]
  },
  {
   "cell_type": "code",
   "execution_count": 28,
   "metadata": {},
   "outputs": [],
   "source": [
    "userpage_data = hive.run(\n",
    "    userpage_query.format(\n",
    "        snapshot = wmf_snapshot\n",
    "    ),\n",
    "    spark_master = 'local[4]',\n",
    "    spark_config = {'spark.driver.memory': '8g',\n",
    "                    'spark.executor.memory' : '1g'})"
   ]
  },
  {
   "cell_type": "code",
   "execution_count": 31,
   "metadata": {},
   "outputs": [],
   "source": [
    "all_users = all_users.merge(userpage_data, how = 'left',\n",
    "                            left_on = ['wiki_db', 'user_id'],\n",
    "                            right_on = ['wiki_db', 'event_user_id']).fillna(0)"
   ]
  },
  {
   "cell_type": "code",
   "execution_count": 32,
   "metadata": {},
   "outputs": [],
   "source": [
    "## Fix float format when replacing NaNs\n",
    "all_users['create_userpage_14d'] = all_users['create_userpage_14d'].astype(int)"
   ]
  },
  {
   "cell_type": "code",
   "execution_count": 34,
   "metadata": {},
   "outputs": [],
   "source": [
    "## Write out this data to a CSV file, but only write the meaningful parts\n",
    "all_users.to_csv('datasets/all_users_email_userpage_data.csv', index = False,\n",
    "                 columns = ['wiki_db', 'user_id', 'user_registration_timestamp', 'reg_on_mobile',\n",
    "                            'is_treatment', 'email_auth_14d', 'create_userpage_14d'])"
   ]
  }
 ],
 "metadata": {
  "kernelspec": {
   "display_name": "Python 3",
   "language": "python",
   "name": "python3"
  },
  "language_info": {
   "codemirror_mode": {
    "name": "ipython",
    "version": 3
   },
   "file_extension": ".py",
   "mimetype": "text/x-python",
   "name": "python",
   "nbconvert_exporter": "python",
   "pygments_lexer": "ipython3",
   "version": "3.7.3"
  }
 },
 "nbformat": 4,
 "nbformat_minor": 4
}
