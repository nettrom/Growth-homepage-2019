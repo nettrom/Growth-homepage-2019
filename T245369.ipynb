{
 "cells": [
  {
   "cell_type": "markdown",
   "metadata": {},
   "source": [
    "# Homepage Discovery Revisit\n",
    "\n",
    "We did an analysis of the Homepage discovery rate in [T228338](https://phabricator.wikimedia.org/T228338) in order to determine the effect of the Homepage discovery features on Czech and Korean Wikipedia.\n",
    "\n",
    "We're now revisiting that analysis, and the phab task for this is [T245369](https://phabricator.wikimedia.org/T245369). We'll again look at the proportion of registrations that visit the Homepage within 48 hours. In this case, we're doing this analysis for a larger number of wikis:\n",
    "\n",
    "* Czech\n",
    "* Korean\n",
    "* Arabic\n",
    "* Vietnamese\n",
    "* Hungarian\n",
    "* Ukrainian\n",
    "* Armenian\n",
    "\n",
    "We do not need old data for this, so I'll use the first three months of 2020. Like we've done before, we'll exclude known test accounts from the dataset.\n",
    "\n",
    "The phab task asks for a breakdown of desktop/mobile. In this case, we can break it down by where the first visit occurred, thus ignoring whether the user *registered* on desktop or mobile.\n",
    "\n",
    "In order to allow everyone an equal opportunity to visit the Homepage, we'll require users to visit it within 48 hours of registration."
   ]
  },
  {
   "cell_type": "code",
   "execution_count": 1,
   "metadata": {},
   "outputs": [],
   "source": [
    "import json\n",
    "import datetime as dt\n",
    "\n",
    "import tabulate\n",
    "\n",
    "import numpy as np\n",
    "import pandas as pd\n",
    "\n",
    "from wmfdata import hive, spark, mariadb"
   ]
  },
  {
   "cell_type": "code",
   "execution_count": 2,
   "metadata": {},
   "outputs": [],
   "source": [
    "%load_ext rpy2.ipython"
   ]
  },
  {
   "cell_type": "code",
   "execution_count": 3,
   "metadata": {},
   "outputs": [
    {
     "name": "stderr",
     "output_type": "stream",
     "text": [
      "R[write to console]: \n",
      "Attaching package: ‘zoo’\n",
      "\n",
      "\n",
      "R[write to console]: The following objects are masked from ‘package:base’:\n",
      "\n",
      "    as.Date, as.Date.numeric\n",
      "\n",
      "\n"
     ]
    }
   ],
   "source": [
    "%%R\n",
    "library(data.table)\n",
    "library(ggplot2)\n",
    "library(pwr)\n",
    "library(zoo)"
   ]
  },
  {
   "cell_type": "code",
   "execution_count": 4,
   "metadata": {},
   "outputs": [],
   "source": [
    "## Configuration variables\n",
    "\n",
    "wmf_snapshot = '2020-02'\n",
    "\n",
    "wikis = ['cswiki', 'kowiki', 'viwiki', 'arwiki', 'huwiki', 'ukwiki', 'hywiki']\n",
    "\n",
    "## Start and end timestamps of data gathering for each wiki, corresponding to the dates/times\n",
    "## listed above.\n",
    "\n",
    "start_ts = dt.datetime(2020, 1, 1, 0, 0, 0)\n",
    "end_ts = dt.datetime(2020, 4, 1, 0, 0, 0)\n",
    "\n",
    "## User IDs of known users to exclude (e.g. Stephane, Elena, and Marshall's accounts)\n",
    "known_users = {\n",
    "    'cswiki' : set([322106, 339583, 341191, 341611, 433381, 433382, 433511, 404765, 421667,\n",
    "                      427625, 437386, 181724, 272273, 339583, 437386, 439783, 439792, 138342,\n",
    "                      392634, 404765, 275298, 458487, 458049]),\n",
    "    'kowiki' : set([384066, 539296, 539299, 539302, 539303, 539304, 539305, 539306, 539307,\n",
    "                      539298, 416361, 416360, 413162, 495265, 518393, 518394, 518396, 530285,\n",
    "                      531579, 531785, 536786, 536787, 542720, 542721, 542722, 543192, 543193,\n",
    "                      544145, 544283, 470932, 38759, 555673]),\n",
    "    'viwiki' : set(),\n",
    "    'arwiki' : set(),\n",
    "    'huwiki' : set(),\n",
    "    'ukwiki' : set(),\n",
    "    'hywiki' : set()\n",
    "}"
   ]
  },
  {
   "cell_type": "markdown",
   "metadata": {},
   "source": [
    "## Get known test accounts"
   ]
  },
  {
   "cell_type": "code",
   "execution_count": 5,
   "metadata": {},
   "outputs": [],
   "source": [
    "## Grab the user IDs of known test accounts so they can be added to the exclusion list\n",
    "\n",
    "def get_known_users(wiki):\n",
    "    '''\n",
    "    Get user IDs of known test accounts and return a set of them.\n",
    "    '''\n",
    "    \n",
    "    username_patterns = [\"MMiller\", \"Zilant\", \"Roan\", \"KHarlan\", \"MWang\", \"SBtest\",\n",
    "                         \"Cloud\", \"Rho2019\", \"Test\"]\n",
    "\n",
    "    known_user_query = '''\n",
    "SELECT user_id\n",
    "FROM user\n",
    "WHERE user_name LIKE \"{name_pattern}%\"\n",
    "    '''\n",
    "    \n",
    "    known_users = set()\n",
    "    \n",
    "    for u_pattern in username_patterns:\n",
    "        new_known = mariadb.run(known_user_query.format(\n",
    "            name_pattern = u_pattern), wiki)\n",
    "        known_users = known_users | set(new_known['user_id'])\n",
    "\n",
    "    return(known_users)\n",
    "        \n",
    "for wiki in wikis:\n",
    "    known_users[wiki] = known_users[wiki] | get_known_users(wiki)"
   ]
  },
  {
   "cell_type": "markdown",
   "metadata": {},
   "source": [
    "## Data gathering\n",
    "\n",
    "This largely reuses what we already had in the previous analysis."
   ]
  },
  {
   "cell_type": "code",
   "execution_count": 6,
   "metadata": {},
   "outputs": [],
   "source": [
    "user_activity_query = '''\n",
    "WITH regs AS (\n",
    "    SELECT wiki, event.userid AS user_id, dt AS reg_ts, event.displaymobile AS reg_on_mobile\n",
    "    FROM event_sanitized.serversideaccountcreation\n",
    "    WHERE year = 2020\n",
    "    AND month < 4\n",
    "    AND (\n",
    "        (wiki = \"cswiki\"\n",
    "         AND event.userid NOT IN ({cs_known_list}))\n",
    "        OR\n",
    "        (wiki = \"kowiki\"\n",
    "         AND event.userid NOT IN ({ko_known_list}))\n",
    "        OR\n",
    "        (wiki = \"viwiki\"\n",
    "         AND event.userid NOT IN ({vi_known_list}))\n",
    "        OR\n",
    "        (wiki = \"arwiki\"\n",
    "         AND event.userid NOT IN ({ar_known_list}))\n",
    "        OR\n",
    "        (wiki = \"huwiki\"\n",
    "          AND event.userid NOT IN ({hu_known_list}))\n",
    "        OR\n",
    "        (wiki = \"ukwiki\"\n",
    "          AND event.userid NOT IN ({uk_known_list}))\n",
    "        OR\n",
    "        (wiki = \"hywiki\"\n",
    "          AND event.userid NOT IN ({hy_known_list}))\n",
    "    )\n",
    "    AND event.isapi = false\n",
    "    AND event.isselfmade = 1\n",
    "),\n",
    "pref_switch AS (\n",
    "    SELECT wiki, event.userid AS user_id\n",
    "    FROM event_sanitized.prefupdate\n",
    "    WHERE year = 2020\n",
    "    AND month < 4\n",
    "    AND (\n",
    "        (wiki = \"cswiki\"\n",
    "         AND event.userid NOT IN ({cs_known_list}))\n",
    "        OR\n",
    "        (wiki = \"kowiki\"\n",
    "         AND event.userid NOT IN ({ko_known_list}))\n",
    "        OR\n",
    "        (wiki = \"viwiki\"\n",
    "         AND event.userid NOT IN ({vi_known_list}))\n",
    "        OR\n",
    "        (wiki = \"arwiki\"\n",
    "         AND event.userid NOT IN ({ar_known_list}))\n",
    "        OR\n",
    "        (wiki = \"huwiki\"\n",
    "          AND event.userid NOT IN ({hu_known_list}))\n",
    "        OR\n",
    "        (wiki = \"ukwiki\"\n",
    "          AND event.userid NOT IN ({uk_known_list}))\n",
    "        OR\n",
    "        (wiki = \"hywiki\"\n",
    "          AND event.userid NOT IN ({hy_known_list}))\n",
    "    )\n",
    "    AND event.property = \"growthexperiments-homepage-enable\"\n",
    "),\n",
    "hp_visits AS (\n",
    "    SELECT wiki, event.user_id, dt AS visit_ts, event.is_mobile AS visit_mobile,\n",
    "    event.referer_route, ROW_NUMBER() OVER (PARTITION BY wiki, event.user_id ORDER BY dt) AS visit_no\n",
    "    FROM event_sanitized.homepagevisit\n",
    "    WHERE year = 2020\n",
    "    AND month < 4\n",
    "    AND (\n",
    "        (wiki = \"cswiki\"\n",
    "         AND event.user_id NOT IN ({cs_known_list}))\n",
    "        OR\n",
    "        (wiki = \"kowiki\"\n",
    "         AND event.user_id NOT IN ({ko_known_list}))\n",
    "        OR\n",
    "        (wiki = \"viwiki\"\n",
    "         AND event.user_id NOT IN ({vi_known_list}))\n",
    "        OR\n",
    "        (wiki = \"arwiki\"\n",
    "         AND event.user_id NOT IN ({ar_known_list}))\n",
    "        OR\n",
    "        (wiki = \"huwiki\"\n",
    "          AND event.user_id NOT IN ({hu_known_list}))\n",
    "        OR\n",
    "        (wiki = \"ukwiki\"\n",
    "          AND event.user_id NOT IN ({uk_known_list}))\n",
    "        OR\n",
    "        (wiki = \"hywiki\"\n",
    "          AND event.user_id NOT IN ({hy_known_list}))\n",
    "    )\n",
    ")\n",
    "SELECT regs.wiki, regs.user_id, reg_ts, reg_on_mobile, visit_ts, visit_mobile, referer_route,\n",
    "    IF(pref_switch.user_id IS NOT NULL, 1, 0) AS pref_switched\n",
    "FROM regs\n",
    "LEFT JOIN hp_visits\n",
    "ON (regs.wiki = hp_visits.wiki AND regs.user_id = hp_visits.user_id)\n",
    "LEFT JOIN pref_switch\n",
    "ON (regs.wiki = pref_switch.wiki AND regs.user_id = pref_switch.user_id)\n",
    "WHERE (visit_no IS NULL\n",
    "       OR visit_no = 1)\n",
    "'''"
   ]
  },
  {
   "cell_type": "code",
   "execution_count": 7,
   "metadata": {},
   "outputs": [],
   "source": [
    "user_activity = spark.run(\n",
    "    user_activity_query.format(\n",
    "        cs_known_list = ', '.join([str(u) for u in known_users['cswiki']]),\n",
    "        ko_known_list = ', '.join([str(u) for u in known_users['kowiki']]),\n",
    "        vi_known_list = ', '.join([str(u) for u in known_users['viwiki']]),\n",
    "        ar_known_list = ', '.join([str(u) for u in known_users['arwiki']]),\n",
    "        hu_known_list = ', '.join([str(u) for u in known_users['huwiki']]),\n",
    "        uk_known_list = ', '.join([str(u) for u in known_users['ukwiki']]),\n",
    "        hy_known_list = ', '.join([str(u) for u in known_users['hywiki']])\n",
    "    )\n",
    ")"
   ]
  },
  {
   "cell_type": "code",
   "execution_count": 8,
   "metadata": {},
   "outputs": [],
   "source": [
    "def get_panel_prefs(wikis, prop, include_users = None, exclude_users = None):\n",
    "    '''\n",
    "    Query and return a `pandas.DataFrame` with a column `user_id` of all users who have\n",
    "    the given property turned on in their preferences on the given list of wikis.\n",
    "    \n",
    "    :param wikis: the wikis we're querying\n",
    "    :type wiki: list\n",
    "    \n",
    "    :param prop: the user preference were use for determining treatment/control membership\n",
    "    :type prop: str\n",
    "    \n",
    "    :param include_users: user IDs of the users we are interested in\n",
    "    :type include_users: iterator\n",
    "    \n",
    "    :param exclude_users: user IDs of users we are not interested in\n",
    "    :type exclude_users: iterator\n",
    "    '''\n",
    "    \n",
    "    panel_query = '''\n",
    "    SELECT DATABASE() AS wiki, up_user AS user_id,\n",
    "           CAST(up_value AS UNSIGNED INTEGER) AS is_treatment\n",
    "    FROM user_properties\n",
    "    WHERE up_property = \"{prop}\"\n",
    "    '''.format(prop = prop)\n",
    "    \n",
    "    if include_users is not None:\n",
    "        panel_query += '''\n",
    "        AND up_user IN ({})\n",
    "        '''.format(','.join([str(uid) for uid in include_users]))\n",
    "        \n",
    "    if exclude_users is not None:\n",
    "        panel_query += '''\n",
    "        AND up_user NOT IN ({})\n",
    "        '''.format(', '.join([str(uid) for uid in exclude_users]))\n",
    "        \n",
    "    dfs = list()\n",
    "    for wiki in wikis:\n",
    "        dfs.append(mariadb.run(panel_query, wiki))\n",
    "        \n",
    "    return(pd.concat(dfs))\n",
    "    \n",
    "panel_prefs = get_panel_prefs(wikis, \"growthexperiments-homepage-enable\")\n"
   ]
  },
  {
   "cell_type": "code",
   "execution_count": 9,
   "metadata": {},
   "outputs": [],
   "source": [
    "user_data = user_activity.merge(panel_prefs, how = 'left', on = ['wiki', 'user_id'])"
   ]
  },
  {
   "cell_type": "code",
   "execution_count": 10,
   "metadata": {},
   "outputs": [],
   "source": [
    "## Exclude all users who switched the Homepage on or off\n",
    "user_data = user_data.loc[user_data.pref_switched == 0]"
   ]
  },
  {
   "cell_type": "code",
   "execution_count": 11,
   "metadata": {},
   "outputs": [],
   "source": [
    "## Fill NAs from the left join with preferences to set the control/treatment flag\n",
    "user_data.loc[user_data.is_treatment.isna(), 'is_treatment'] = 0"
   ]
  },
  {
   "cell_type": "code",
   "execution_count": 12,
   "metadata": {},
   "outputs": [],
   "source": [
    "user_data['is_treatment'] = user_data['is_treatment'].astype(int)"
   ]
  },
  {
   "cell_type": "code",
   "execution_count": 13,
   "metadata": {},
   "outputs": [],
   "source": [
    "user_data['reg_dt']  = user_data['reg_ts']\n",
    "user_data['visit_dt'] = user_data['visit_ts']"
   ]
  },
  {
   "cell_type": "code",
   "execution_count": 14,
   "metadata": {},
   "outputs": [],
   "source": [
    "## Parse the timesetamps\n",
    "user_data['reg_ts'] = pd.to_datetime(user_data.reg_dt, format = '%Y-%m-%dT%H:%M:%SZ')\n",
    "user_data['visit_ts'] = pd.to_datetime(user_data.visit_dt, format = '%Y-%m-%dT%H:%M:%SZ')"
   ]
  },
  {
   "cell_type": "code",
   "execution_count": 15,
   "metadata": {},
   "outputs": [],
   "source": [
    "user_data['visit_diff'] = user_data.visit_ts - user_data.reg_ts"
   ]
  },
  {
   "cell_type": "code",
   "execution_count": 16,
   "metadata": {},
   "outputs": [],
   "source": [
    "user_data['reg_date'] = user_data.reg_ts.apply(lambda x: x.date())"
   ]
  },
  {
   "cell_type": "markdown",
   "metadata": {},
   "source": [
    "We have to limit the data to end on March 29 so that all users have 48 hours to visit the Homepage."
   ]
  },
  {
   "cell_type": "code",
   "execution_count": 41,
   "metadata": {},
   "outputs": [],
   "source": [
    "user_data = user_data.loc[user_data['reg_date'] <= dt.date(2020, 3, 29)]"
   ]
  },
  {
   "cell_type": "markdown",
   "metadata": {},
   "source": [
    "## Switching platforms\n",
    "\n",
    "How many users switched platforms before they made their first visit to the Homepage (of the users that did?)"
   ]
  },
  {
   "cell_type": "code",
   "execution_count": 42,
   "metadata": {},
   "outputs": [
    {
     "data": {
      "text/plain": [
       "314"
      ]
     },
     "execution_count": 42,
     "metadata": {},
     "output_type": "execute_result"
    }
   ],
   "source": [
    "len(user_data.loc[(user_data['is_treatment'] == 1) &\n",
    "                  (~user_data['visit_ts'].isna()) &\n",
    "                  (user_data['reg_on_mobile'] != user_data['visit_mobile'])])"
   ]
  },
  {
   "cell_type": "code",
   "execution_count": 43,
   "metadata": {},
   "outputs": [
    {
     "data": {
      "text/plain": [
       "23962"
      ]
     },
     "execution_count": 43,
     "metadata": {},
     "output_type": "execute_result"
    }
   ],
   "source": [
    "len(user_data.loc[(user_data['is_treatment'] == 1) & (~user_data['visit_ts'].isna())])"
   ]
  },
  {
   "cell_type": "markdown",
   "metadata": {},
   "source": [
    "What proportion is that?"
   ]
  },
  {
   "cell_type": "code",
   "execution_count": 44,
   "metadata": {},
   "outputs": [
    {
     "data": {
      "text/plain": [
       "1.31"
      ]
     },
     "execution_count": 44,
     "metadata": {},
     "output_type": "execute_result"
    }
   ],
   "source": [
    "round(100 * len(user_data.loc[(user_data['is_treatment'] == 1) &\n",
    "                              (~user_data['visit_ts'].isna()) &\n",
    "                      (user_data['reg_on_mobile'] != user_data['visit_mobile'])]) /\n",
    "      len(user_data.loc[(user_data['is_treatment'] == 1) & (~user_data['visit_ts'].isna())]), 2)"
   ]
  },
  {
   "cell_type": "markdown",
   "metadata": {},
   "source": [
    "This means that 98.7% of users who visited the Homepage within 48 hours did so on the same platform as they registered. Because this number is really low, I'd like to exclude those from the analysis as that allows us to easily aggregate by platform."
   ]
  },
  {
   "cell_type": "markdown",
   "metadata": {},
   "source": [
    "## Aggregate and plot"
   ]
  },
  {
   "cell_type": "code",
   "execution_count": 45,
   "metadata": {},
   "outputs": [],
   "source": [
    "def homepage_visits(group):\n",
    "    aggs = {\n",
    "        'n_reg' : len(group),\n",
    "        'n_visits' : len(group.loc[(~group['visit_ts'].isna()) &\n",
    "                                   (group['visit_diff'] < dt.timedelta(days = 2))])\n",
    "    }\n",
    "    return(pd.Series(aggs, index = aggs.keys()))\n",
    "\n",
    "## We exclude users who doesn't have the Homepage enabled (i.e control groups),\n",
    "## then include users who didn't visit the Homepage, or users who visited it\n",
    "## on the same platform as they registered.\n",
    "user_data_agg = (user_data.loc[(user_data['is_treatment'] == 1) &\n",
    "                               ((user_data['visit_ts'].isna()) |\n",
    "                                ((~user_data['visit_ts'].isna()) &\n",
    "                                 (user_data['reg_on_mobile'] == user_data['visit_mobile'])))]\n",
    "                 .groupby(['wiki', 'reg_on_mobile', 'reg_date']).apply(homepage_visits))"
   ]
  },
  {
   "cell_type": "code",
   "execution_count": 46,
   "metadata": {},
   "outputs": [],
   "source": [
    "user_data_agg = user_data_agg.reset_index()\n",
    "user_data_agg['reg_date'] = user_data_agg.reg_date.apply(lambda x: x.strftime('%Y-%m-%d'))"
   ]
  },
  {
   "cell_type": "code",
   "execution_count": 47,
   "metadata": {},
   "outputs": [],
   "source": [
    "%%R -i user_data_agg\n",
    "\n",
    "user_data_agg = data.table(user_data_agg)\n",
    "user_data_agg[, reg_date := as.Date(reg_date)]\n",
    "user_data_agg[, visit_prop := 100 * n_visits / n_reg]\n",
    "\n",
    "user_data_agg[\n",
    "  , visit_prop.ma7 := rollapply(visit_prop,\n",
    "                               width=7,\n",
    "                               FUN=mean,\n",
    "                               na.rm=TRUE,\n",
    "                               fill=0,\n",
    "                               align='right'),\n",
    "    by = c('wiki', 'reg_on_mobile')];\n",
    "\n",
    "user_data_agg$platform = 'Desktop'\n",
    "user_data_agg[reg_on_mobile == TRUE, platform := 'Mobile']\n",
    "user_data_agg$platform = factor(user_data_agg$platform)\n",
    "\n",
    "for (wiki_code in unique(user_data_agg$wiki)) {\n",
    "    g = ggplot(user_data_agg[wiki == wiki_code], aes(x = reg_date, y = visit_prop)) +\n",
    "    theme_bw() +\n",
    "    facet_grid(platform ~ .) +\n",
    "    scale_x_date(\"Registration date\", limits = c(as.Date('2020-01-01'), as.Date('2020-04-01'))) +\n",
    "    scale_y_continuous(\"Percentage (w/7-day moving average in red)\", limits = c(0, 100),\n",
    "                       breaks = c(0:10) * 10, minor_breaks = c(1:20) * 5) +\n",
    "    ggtitle(paste(wiki_code, \": Homepage first visit percentage Q1 2020\")) +\n",
    "    geom_line() +\n",
    "    geom_line(aes(y = visit_prop.ma7, color = 'red')) +\n",
    "    guides(color = FALSE)\n",
    "\n",
    "    ggsave(plot = g, file = paste0(\"graphs/homepage_discovery_rate_Q1_2020_\", wiki_code, \".png\"),\n",
    "           width = 8, height = 6, units = \"in\", dpi = \"retina\")\n",
    "}; rm(wiki_code)\n"
   ]
  },
  {
   "cell_type": "markdown",
   "metadata": {},
   "source": [
    "## Proportion who visited in March\n",
    "\n",
    "We have full data for February and March for all wikis, while for some wikis we don't have all of January. Therefore, we'd like to aggregate across wiki, platform, and month and calculate the proportion of users who visited the Homepage within 48 hours of registration. We limit the final output to March, partly to make the reporting table easier to read, partly because the proportions are often similar between the months, and partly because March is the most recent month we have data for."
   ]
  },
  {
   "cell_type": "code",
   "execution_count": 48,
   "metadata": {},
   "outputs": [],
   "source": [
    "## Add a \"reg_month\" variable\n",
    "user_data['reg_month'] = user_data['reg_date'].apply(lambda x: x.replace(day = 1))"
   ]
  },
  {
   "cell_type": "code",
   "execution_count": 49,
   "metadata": {},
   "outputs": [],
   "source": [
    "## We exclude users who doesn't have the Homepage enabled (i.e control groups),\n",
    "## then include users who didn't visit the Homepage, or users who visited it\n",
    "## on the same platform as they registered.\n",
    "user_data_agg_month = (user_data.loc[(user_data['is_treatment'] == 1) &\n",
    "                               ((user_data['visit_ts'].isna()) |\n",
    "                                ((~user_data['visit_ts'].isna()) &\n",
    "                                 (user_data['reg_on_mobile'] == user_data['visit_mobile'])))]\n",
    "                 .groupby(['wiki', 'reg_on_mobile', 'reg_month']).apply(homepage_visits))"
   ]
  },
  {
   "cell_type": "code",
   "execution_count": 50,
   "metadata": {},
   "outputs": [],
   "source": [
    "user_data_agg_month = user_data_agg_month.reset_index()"
   ]
  },
  {
   "cell_type": "code",
   "execution_count": 51,
   "metadata": {},
   "outputs": [],
   "source": [
    "user_data_agg_month['visit_prop'] = 100 * user_data_agg_month['n_visits'] / user_data_agg_month['n_reg']"
   ]
  },
  {
   "cell_type": "code",
   "execution_count": 52,
   "metadata": {},
   "outputs": [
    {
     "data": {
      "text/html": [
       "<div>\n",
       "<style scoped>\n",
       "    .dataframe tbody tr th:only-of-type {\n",
       "        vertical-align: middle;\n",
       "    }\n",
       "\n",
       "    .dataframe tbody tr th {\n",
       "        vertical-align: top;\n",
       "    }\n",
       "\n",
       "    .dataframe thead th {\n",
       "        text-align: right;\n",
       "    }\n",
       "</style>\n",
       "<table border=\"1\" class=\"dataframe\">\n",
       "  <thead>\n",
       "    <tr style=\"text-align: right;\">\n",
       "      <th></th>\n",
       "      <th>wiki</th>\n",
       "      <th>reg_on_mobile</th>\n",
       "      <th>reg_month</th>\n",
       "      <th>n_reg</th>\n",
       "      <th>n_visits</th>\n",
       "      <th>visit_prop</th>\n",
       "    </tr>\n",
       "  </thead>\n",
       "  <tbody>\n",
       "    <tr>\n",
       "      <th>1</th>\n",
       "      <td>arwiki</td>\n",
       "      <td>False</td>\n",
       "      <td>2020-02-01</td>\n",
       "      <td>1984</td>\n",
       "      <td>1459</td>\n",
       "      <td>73.538306</td>\n",
       "    </tr>\n",
       "    <tr>\n",
       "      <th>2</th>\n",
       "      <td>arwiki</td>\n",
       "      <td>False</td>\n",
       "      <td>2020-03-01</td>\n",
       "      <td>2242</td>\n",
       "      <td>1578</td>\n",
       "      <td>70.383586</td>\n",
       "    </tr>\n",
       "    <tr>\n",
       "      <th>4</th>\n",
       "      <td>arwiki</td>\n",
       "      <td>True</td>\n",
       "      <td>2020-02-01</td>\n",
       "      <td>4230</td>\n",
       "      <td>2801</td>\n",
       "      <td>66.217494</td>\n",
       "    </tr>\n",
       "    <tr>\n",
       "      <th>5</th>\n",
       "      <td>arwiki</td>\n",
       "      <td>True</td>\n",
       "      <td>2020-03-01</td>\n",
       "      <td>4308</td>\n",
       "      <td>2852</td>\n",
       "      <td>66.202414</td>\n",
       "    </tr>\n",
       "    <tr>\n",
       "      <th>7</th>\n",
       "      <td>cswiki</td>\n",
       "      <td>False</td>\n",
       "      <td>2020-02-01</td>\n",
       "      <td>753</td>\n",
       "      <td>502</td>\n",
       "      <td>66.666667</td>\n",
       "    </tr>\n",
       "    <tr>\n",
       "      <th>8</th>\n",
       "      <td>cswiki</td>\n",
       "      <td>False</td>\n",
       "      <td>2020-03-01</td>\n",
       "      <td>780</td>\n",
       "      <td>548</td>\n",
       "      <td>70.256410</td>\n",
       "    </tr>\n",
       "    <tr>\n",
       "      <th>10</th>\n",
       "      <td>cswiki</td>\n",
       "      <td>True</td>\n",
       "      <td>2020-02-01</td>\n",
       "      <td>362</td>\n",
       "      <td>218</td>\n",
       "      <td>60.220994</td>\n",
       "    </tr>\n",
       "    <tr>\n",
       "      <th>11</th>\n",
       "      <td>cswiki</td>\n",
       "      <td>True</td>\n",
       "      <td>2020-03-01</td>\n",
       "      <td>344</td>\n",
       "      <td>203</td>\n",
       "      <td>59.011628</td>\n",
       "    </tr>\n",
       "    <tr>\n",
       "      <th>13</th>\n",
       "      <td>huwiki</td>\n",
       "      <td>False</td>\n",
       "      <td>2020-02-01</td>\n",
       "      <td>442</td>\n",
       "      <td>225</td>\n",
       "      <td>50.904977</td>\n",
       "    </tr>\n",
       "    <tr>\n",
       "      <th>14</th>\n",
       "      <td>huwiki</td>\n",
       "      <td>False</td>\n",
       "      <td>2020-03-01</td>\n",
       "      <td>478</td>\n",
       "      <td>233</td>\n",
       "      <td>48.744770</td>\n",
       "    </tr>\n",
       "    <tr>\n",
       "      <th>16</th>\n",
       "      <td>huwiki</td>\n",
       "      <td>True</td>\n",
       "      <td>2020-02-01</td>\n",
       "      <td>272</td>\n",
       "      <td>111</td>\n",
       "      <td>40.808824</td>\n",
       "    </tr>\n",
       "    <tr>\n",
       "      <th>17</th>\n",
       "      <td>huwiki</td>\n",
       "      <td>True</td>\n",
       "      <td>2020-03-01</td>\n",
       "      <td>263</td>\n",
       "      <td>88</td>\n",
       "      <td>33.460076</td>\n",
       "    </tr>\n",
       "    <tr>\n",
       "      <th>19</th>\n",
       "      <td>hywiki</td>\n",
       "      <td>False</td>\n",
       "      <td>2020-02-01</td>\n",
       "      <td>252</td>\n",
       "      <td>127</td>\n",
       "      <td>50.396825</td>\n",
       "    </tr>\n",
       "    <tr>\n",
       "      <th>20</th>\n",
       "      <td>hywiki</td>\n",
       "      <td>False</td>\n",
       "      <td>2020-03-01</td>\n",
       "      <td>100</td>\n",
       "      <td>65</td>\n",
       "      <td>65.000000</td>\n",
       "    </tr>\n",
       "    <tr>\n",
       "      <th>22</th>\n",
       "      <td>hywiki</td>\n",
       "      <td>True</td>\n",
       "      <td>2020-02-01</td>\n",
       "      <td>70</td>\n",
       "      <td>25</td>\n",
       "      <td>35.714286</td>\n",
       "    </tr>\n",
       "    <tr>\n",
       "      <th>23</th>\n",
       "      <td>hywiki</td>\n",
       "      <td>True</td>\n",
       "      <td>2020-03-01</td>\n",
       "      <td>67</td>\n",
       "      <td>33</td>\n",
       "      <td>49.253731</td>\n",
       "    </tr>\n",
       "    <tr>\n",
       "      <th>25</th>\n",
       "      <td>kowiki</td>\n",
       "      <td>False</td>\n",
       "      <td>2020-02-01</td>\n",
       "      <td>841</td>\n",
       "      <td>427</td>\n",
       "      <td>50.772889</td>\n",
       "    </tr>\n",
       "    <tr>\n",
       "      <th>26</th>\n",
       "      <td>kowiki</td>\n",
       "      <td>False</td>\n",
       "      <td>2020-03-01</td>\n",
       "      <td>1078</td>\n",
       "      <td>532</td>\n",
       "      <td>49.350649</td>\n",
       "    </tr>\n",
       "    <tr>\n",
       "      <th>28</th>\n",
       "      <td>kowiki</td>\n",
       "      <td>True</td>\n",
       "      <td>2020-02-01</td>\n",
       "      <td>771</td>\n",
       "      <td>293</td>\n",
       "      <td>38.002594</td>\n",
       "    </tr>\n",
       "    <tr>\n",
       "      <th>29</th>\n",
       "      <td>kowiki</td>\n",
       "      <td>True</td>\n",
       "      <td>2020-03-01</td>\n",
       "      <td>797</td>\n",
       "      <td>343</td>\n",
       "      <td>43.036386</td>\n",
       "    </tr>\n",
       "    <tr>\n",
       "      <th>31</th>\n",
       "      <td>ukwiki</td>\n",
       "      <td>False</td>\n",
       "      <td>2020-02-01</td>\n",
       "      <td>747</td>\n",
       "      <td>436</td>\n",
       "      <td>58.366801</td>\n",
       "    </tr>\n",
       "    <tr>\n",
       "      <th>32</th>\n",
       "      <td>ukwiki</td>\n",
       "      <td>False</td>\n",
       "      <td>2020-03-01</td>\n",
       "      <td>706</td>\n",
       "      <td>409</td>\n",
       "      <td>57.932011</td>\n",
       "    </tr>\n",
       "    <tr>\n",
       "      <th>34</th>\n",
       "      <td>ukwiki</td>\n",
       "      <td>True</td>\n",
       "      <td>2020-02-01</td>\n",
       "      <td>428</td>\n",
       "      <td>197</td>\n",
       "      <td>46.028037</td>\n",
       "    </tr>\n",
       "    <tr>\n",
       "      <th>35</th>\n",
       "      <td>ukwiki</td>\n",
       "      <td>True</td>\n",
       "      <td>2020-03-01</td>\n",
       "      <td>394</td>\n",
       "      <td>158</td>\n",
       "      <td>40.101523</td>\n",
       "    </tr>\n",
       "    <tr>\n",
       "      <th>37</th>\n",
       "      <td>viwiki</td>\n",
       "      <td>False</td>\n",
       "      <td>2020-02-01</td>\n",
       "      <td>1514</td>\n",
       "      <td>737</td>\n",
       "      <td>48.678996</td>\n",
       "    </tr>\n",
       "    <tr>\n",
       "      <th>38</th>\n",
       "      <td>viwiki</td>\n",
       "      <td>False</td>\n",
       "      <td>2020-03-01</td>\n",
       "      <td>1543</td>\n",
       "      <td>682</td>\n",
       "      <td>44.199611</td>\n",
       "    </tr>\n",
       "    <tr>\n",
       "      <th>40</th>\n",
       "      <td>viwiki</td>\n",
       "      <td>True</td>\n",
       "      <td>2020-02-01</td>\n",
       "      <td>1069</td>\n",
       "      <td>349</td>\n",
       "      <td>32.647334</td>\n",
       "    </tr>\n",
       "    <tr>\n",
       "      <th>41</th>\n",
       "      <td>viwiki</td>\n",
       "      <td>True</td>\n",
       "      <td>2020-03-01</td>\n",
       "      <td>1123</td>\n",
       "      <td>340</td>\n",
       "      <td>30.276046</td>\n",
       "    </tr>\n",
       "  </tbody>\n",
       "</table>\n",
       "</div>"
      ],
      "text/plain": [
       "      wiki  reg_on_mobile   reg_month  n_reg  n_visits  visit_prop\n",
       "1   arwiki          False  2020-02-01   1984      1459   73.538306\n",
       "2   arwiki          False  2020-03-01   2242      1578   70.383586\n",
       "4   arwiki           True  2020-02-01   4230      2801   66.217494\n",
       "5   arwiki           True  2020-03-01   4308      2852   66.202414\n",
       "7   cswiki          False  2020-02-01    753       502   66.666667\n",
       "8   cswiki          False  2020-03-01    780       548   70.256410\n",
       "10  cswiki           True  2020-02-01    362       218   60.220994\n",
       "11  cswiki           True  2020-03-01    344       203   59.011628\n",
       "13  huwiki          False  2020-02-01    442       225   50.904977\n",
       "14  huwiki          False  2020-03-01    478       233   48.744770\n",
       "16  huwiki           True  2020-02-01    272       111   40.808824\n",
       "17  huwiki           True  2020-03-01    263        88   33.460076\n",
       "19  hywiki          False  2020-02-01    252       127   50.396825\n",
       "20  hywiki          False  2020-03-01    100        65   65.000000\n",
       "22  hywiki           True  2020-02-01     70        25   35.714286\n",
       "23  hywiki           True  2020-03-01     67        33   49.253731\n",
       "25  kowiki          False  2020-02-01    841       427   50.772889\n",
       "26  kowiki          False  2020-03-01   1078       532   49.350649\n",
       "28  kowiki           True  2020-02-01    771       293   38.002594\n",
       "29  kowiki           True  2020-03-01    797       343   43.036386\n",
       "31  ukwiki          False  2020-02-01    747       436   58.366801\n",
       "32  ukwiki          False  2020-03-01    706       409   57.932011\n",
       "34  ukwiki           True  2020-02-01    428       197   46.028037\n",
       "35  ukwiki           True  2020-03-01    394       158   40.101523\n",
       "37  viwiki          False  2020-02-01   1514       737   48.678996\n",
       "38  viwiki          False  2020-03-01   1543       682   44.199611\n",
       "40  viwiki           True  2020-02-01   1069       349   32.647334\n",
       "41  viwiki           True  2020-03-01   1123       340   30.276046"
      ]
     },
     "execution_count": 52,
     "metadata": {},
     "output_type": "execute_result"
    }
   ],
   "source": [
    "user_data_agg_month.loc[user_data_agg_month['reg_month'] != dt.date(2020, 1, 1)]"
   ]
  },
  {
   "cell_type": "code",
   "execution_count": 58,
   "metadata": {},
   "outputs": [
    {
     "name": "stdout",
     "output_type": "stream",
     "text": [
      "| Wiki       | Platform   |   N Regs |   N Visits |   Visit % |\n",
      "|------------|------------|----------|------------|-----------|\n",
      "| Arabic     | Desktop    |     2242 |       1578 |      70.4 |\n",
      "| Arabic     | Mobile     |     4308 |       2852 |      66.2 |\n",
      "| Czech      | Desktop    |      780 |        548 |      70.3 |\n",
      "| Czech      | Mobile     |      344 |        203 |      59.0 |\n",
      "| Hungarian  | Desktop    |      478 |        233 |      48.7 |\n",
      "| Hungarian  | Mobile     |      263 |         88 |      33.5 |\n",
      "| Armenian   | Desktop    |      100 |         65 |      65.0 |\n",
      "| Armenian   | Mobile     |       67 |         33 |      49.3 |\n",
      "| Korean     | Desktop    |     1078 |        532 |      49.4 |\n",
      "| Korean     | Mobile     |      797 |        343 |      43.0 |\n",
      "| Ukranian   | Desktop    |      706 |        409 |      57.9 |\n",
      "| Ukranian   | Mobile     |      394 |        158 |      40.1 |\n",
      "| Vietnamese | Desktop    |     1543 |        682 |      44.2 |\n",
      "| Vietnamese | Mobile     |     1123 |        340 |      30.3 |\n"
     ]
    }
   ],
   "source": [
    "## Selecting just the month of March, then droppping the month column.\n",
    "print(\n",
    "    tabulate.tabulate(\n",
    "        user_data_agg_month.loc[user_data_agg_month['reg_month'] == dt.date(2020, 3, 1)].replace({\n",
    "            'arwiki' : 'Arabic',\n",
    "            'cswiki' : 'Czech',\n",
    "            'huwiki' : 'Hungarian',\n",
    "            'hywiki' : 'Armenian',\n",
    "            'kowiki' : 'Korean',\n",
    "            'ukwiki' : 'Ukranian',\n",
    "            'viwiki' : 'Vietnamese',\n",
    "            False : 'Desktop',\n",
    "            True : 'Mobile'\n",
    "        }).rename(columns = {\n",
    "            'wiki' : 'Wiki',\n",
    "            'reg_on_mobile' : 'Platform',\n",
    "            'n_reg' : 'N Regs',\n",
    "            'n_visits' : 'N Visits',\n",
    "            'visit_prop' : 'Visit %'\n",
    "        }).drop(columns = 'reg_month'),\n",
    "        tablefmt = \"github\", headers = \"keys\", showindex = None,\n",
    "        floatfmt = [\"\", \"\", \"\", \"\", \".1f\"])\n",
    ")"
   ]
  },
  {
   "cell_type": "code",
   "execution_count": 54,
   "metadata": {},
   "outputs": [
    {
     "data": {
      "text/plain": [
       "1693"
      ]
     },
     "execution_count": 54,
     "metadata": {},
     "output_type": "execute_result"
    }
   ],
   "source": [
    "## Do we have any control group users on Arabic?\n",
    "len(user_data.loc[(user_data['wiki'] == 'arwiki') &\n",
    "                  (user_data['is_treatment'] == 0) &\n",
    "                  (user_data['reg_month'] == dt.date(2020, 3, 1))])"
   ]
  },
  {
   "cell_type": "markdown",
   "metadata": {},
   "source": [
    "WikiStats lists 9,366 registrations in February. Some of those will be app registrations, which we discard. 1,693 control group users for March is in the ballpark of 20% of that total (given that we dropped the last 2 days)."
   ]
  },
  {
   "cell_type": "markdown",
   "metadata": {},
   "source": [
    "## Visit routes split by wiki and platform\n",
    "\n",
    "In this case, our denominator is users who visited the Homepage, since we're interested in learning the proportion who took each of the possible routes on their first visit. We'll again count this for the month of March as that is the most recent month of data we have available."
   ]
  },
  {
   "cell_type": "code",
   "execution_count": 55,
   "metadata": {},
   "outputs": [],
   "source": [
    "visit_paths = (user_data.loc[(user_data['is_treatment'] == 1) &\n",
    "                             (~user_data['visit_ts'].isna()) &\n",
    "                             (user_data['reg_month'] == dt.date(2020, 3, 1))]\n",
    "               .groupby(['wiki', 'visit_mobile', 'referer_route'])\n",
    "               .agg({'user_id' : 'count'})\n",
    "               .reset_index()\n",
    "               .rename(columns = {'user_id' : 'n'}))\n",
    "visit_paths['percent'] = (100 * visit_paths['n'] /\n",
    "                          visit_paths.groupby(['wiki', 'visit_mobile'])['n'].transform('sum'))"
   ]
  },
  {
   "cell_type": "code",
   "execution_count": 56,
   "metadata": {},
   "outputs": [],
   "source": [
    "visit_paths['platform'] = visit_paths['visit_mobile'].apply(lambda x: 'Mobile' if x else 'Desktop')"
   ]
  },
  {
   "cell_type": "code",
   "execution_count": 57,
   "metadata": {},
   "outputs": [
    {
     "name": "stdout",
     "output_type": "stream",
     "text": [
      "| Wiki       | Platform   | Route to Homepage    |   N Visitors |   Percent |\n",
      "|------------|------------|----------------------|--------------|-----------|\n",
      "| Arabic     | Desktop    | specialwelcomesurvey |         1012 |      62.4 |\n",
      "| Arabic     | Desktop    | personaltoolslink    |          367 |      22.6 |\n",
      "| Arabic     | Desktop    | specialconfirmemail  |          180 |      11.1 |\n",
      "| Arabic     | Desktop    | specialcontributions |           26 |       1.6 |\n",
      "| Arabic     | Desktop    | usertalkpagetab      |           19 |       1.2 |\n",
      "| Arabic     | Desktop    | userpagetab          |           18 |       1.1 |\n",
      "| Arabic     | Mobile     | specialwelcomesurvey |         1849 |      64.0 |\n",
      "| Arabic     | Mobile     | personaltoolslink    |          655 |      22.7 |\n",
      "| Arabic     | Mobile     | specialconfirmemail  |          176 |       6.1 |\n",
      "| Arabic     | Mobile     | specialcontributions |          132 |       4.6 |\n",
      "| Arabic     | Mobile     | userpagetab          |           49 |       1.7 |\n",
      "| Arabic     | Mobile     | usertalkpagetab      |           27 |       0.9 |\n",
      "| Czech      | Desktop    | specialwelcomesurvey |          285 |      50.9 |\n",
      "| Czech      | Desktop    | personaltoolslink    |          138 |      24.6 |\n",
      "| Czech      | Desktop    | specialconfirmemail  |          107 |      19.1 |\n",
      "| Czech      | Desktop    | specialcontributions |           21 |       3.8 |\n",
      "| Czech      | Desktop    | userpagetab          |            6 |       1.1 |\n",
      "| Czech      | Desktop    | usertalkpagetab      |            3 |       0.5 |\n",
      "| Czech      | Mobile     | specialwelcomesurvey |          135 |      65.9 |\n",
      "| Czech      | Mobile     | personaltoolslink    |           40 |      19.5 |\n",
      "| Czech      | Mobile     | specialconfirmemail  |           16 |       7.8 |\n",
      "| Czech      | Mobile     | specialcontributions |           12 |       5.9 |\n",
      "| Czech      | Mobile     | userpagetab          |            1 |       0.5 |\n",
      "| Czech      | Mobile     | usertalkpagetab      |            1 |       0.5 |\n",
      "| Hungarian  | Desktop    | personaltoolslink    |          125 |      51.0 |\n",
      "| Hungarian  | Desktop    | specialconfirmemail  |          102 |      41.6 |\n",
      "| Hungarian  | Desktop    | userpagetab          |            9 |       3.7 |\n",
      "| Hungarian  | Desktop    | usertalkpagetab      |            5 |       2.0 |\n",
      "| Hungarian  | Desktop    | specialcontributions |            4 |       1.6 |\n",
      "| Hungarian  | Mobile     | personaltoolslink    |           39 |      41.9 |\n",
      "| Hungarian  | Mobile     | specialconfirmemail  |           33 |      35.5 |\n",
      "| Hungarian  | Mobile     | specialcontributions |           14 |      15.1 |\n",
      "| Hungarian  | Mobile     | userpagetab          |            7 |       7.5 |\n",
      "| Armenian   | Desktop    | personaltoolslink    |           54 |      80.6 |\n",
      "| Armenian   | Desktop    | specialconfirmemail  |            6 |       9.0 |\n",
      "| Armenian   | Desktop    | userpagetab          |            3 |       4.5 |\n",
      "| Armenian   | Desktop    | specialcontributions |            2 |       3.0 |\n",
      "| Armenian   | Desktop    | other                |            1 |       1.5 |\n",
      "| Armenian   | Desktop    | usertalkpagetab      |            1 |       1.5 |\n",
      "| Armenian   | Mobile     | specialcontributions |           15 |      41.7 |\n",
      "| Armenian   | Mobile     | personaltoolslink    |           13 |      36.1 |\n",
      "| Armenian   | Mobile     | specialconfirmemail  |            6 |      16.7 |\n",
      "| Armenian   | Mobile     | userpagetab          |            1 |       2.8 |\n",
      "| Armenian   | Mobile     | usertalkpagetab      |            1 |       2.8 |\n",
      "| Korean     | Desktop    | specialwelcomesurvey |          326 |      60.0 |\n",
      "| Korean     | Desktop    | personaltoolslink    |          135 |      24.9 |\n",
      "| Korean     | Desktop    | specialconfirmemail  |           60 |      11.0 |\n",
      "| Korean     | Desktop    | userpagetab          |            8 |       1.5 |\n",
      "| Korean     | Desktop    | usertalkpagetab      |            8 |       1.5 |\n",
      "| Korean     | Desktop    | specialcontributions |            6 |       1.1 |\n",
      "| Korean     | Mobile     | specialwelcomesurvey |          206 |      58.4 |\n",
      "| Korean     | Mobile     | personaltoolslink    |          106 |      30.0 |\n",
      "| Korean     | Mobile     | userpagetab          |           13 |       3.7 |\n",
      "| Korean     | Mobile     | usertalkpagetab      |           13 |       3.7 |\n",
      "| Korean     | Mobile     | specialcontributions |            8 |       2.3 |\n",
      "| Korean     | Mobile     | specialconfirmemail  |            7 |       2.0 |\n",
      "| Ukranian   | Desktop    | personaltoolslink    |          199 |      45.7 |\n",
      "| Ukranian   | Desktop    | specialconfirmemail  |          180 |      41.4 |\n",
      "| Ukranian   | Desktop    | userpagetab          |           23 |       5.3 |\n",
      "| Ukranian   | Desktop    | specialcontributions |           20 |       4.6 |\n",
      "| Ukranian   | Desktop    | usertalkpagetab      |           13 |       3.0 |\n",
      "| Ukranian   | Mobile     | personaltoolslink    |           79 |      47.0 |\n",
      "| Ukranian   | Mobile     | specialconfirmemail  |           36 |      21.4 |\n",
      "| Ukranian   | Mobile     | specialcontributions |           35 |      20.8 |\n",
      "| Ukranian   | Mobile     | userpagetab          |           13 |       7.7 |\n",
      "| Ukranian   | Mobile     | usertalkpagetab      |            5 |       3.0 |\n",
      "| Vietnamese | Desktop    | personaltoolslink    |          377 |      53.2 |\n",
      "| Vietnamese | Desktop    | specialconfirmemail  |          196 |      27.7 |\n",
      "| Vietnamese | Desktop    | specialcontributions |          100 |      14.1 |\n",
      "| Vietnamese | Desktop    | usertalkpagetab      |           22 |       3.1 |\n",
      "| Vietnamese | Desktop    | userpagetab          |           13 |       1.8 |\n",
      "| Vietnamese | Mobile     | personaltoolslink    |          179 |      50.6 |\n",
      "| Vietnamese | Mobile     | specialcontributions |          102 |      28.8 |\n",
      "| Vietnamese | Mobile     | specialconfirmemail  |           55 |      15.5 |\n",
      "| Vietnamese | Mobile     | userpagetab          |           14 |       4.0 |\n",
      "| Vietnamese | Mobile     | usertalkpagetab      |            4 |       1.1 |\n"
     ]
    }
   ],
   "source": [
    "print(\n",
    "    tabulate.tabulate(\n",
    "        visit_paths.sort_values(['wiki', 'platform', 'n'], ascending = [True, True, False])\n",
    "        .drop(columns = 'visit_mobile')\n",
    "        .replace(\n",
    "            {'arwiki' : 'Arabic',\n",
    "            'cswiki' : 'Czech',\n",
    "            'huwiki' : 'Hungarian',\n",
    "            'hywiki' : 'Armenian',\n",
    "            'kowiki' : 'Korean',\n",
    "            'ukwiki' : 'Ukranian',\n",
    "            'viwiki' : 'Vietnamese'}\n",
    "        ).rename(columns = {\n",
    "            'wiki' : 'Wiki',\n",
    "            'platform' : 'Platform',\n",
    "            'referer_route' : 'Route to Homepage',\n",
    "            'n' : 'N Visitors',\n",
    "            'percent' : 'Percent'\n",
    "\n",
    "        })[['Wiki', 'Platform', 'Route to Homepage', 'N Visitors', 'Percent']],\n",
    "        tablefmt = \"github\", headers = \"keys\", showindex = None, floatfmt = [\"\", \"\", \"\", \"\", \".1f\"]))"
   ]
  }
 ],
 "metadata": {
  "kernelspec": {
   "display_name": "Python 3",
   "language": "python",
   "name": "python3"
  },
  "language_info": {
   "codemirror_mode": {
    "name": "ipython",
    "version": 3
   },
   "file_extension": ".py",
   "mimetype": "text/x-python",
   "name": "python",
   "nbconvert_exporter": "python",
   "pygments_lexer": "ipython3",
   "version": "3.5.3"
  }
 },
 "nbformat": 4,
 "nbformat_minor": 4
}
