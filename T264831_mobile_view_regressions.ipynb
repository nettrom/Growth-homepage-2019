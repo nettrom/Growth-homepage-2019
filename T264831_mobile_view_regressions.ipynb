{
 "cells": [
  {
   "cell_type": "markdown",
   "metadata": {},
   "source": [
    "# Variant C/D Mobile Views – Regression models\n",
    "\n",
    "The approach for fitting regression models to predict whether users are likely to have viewed the full module on mobile is same as we've used in the previous analyses. Because the outcome is binary, either a user did something or they did not, we use a logistic regression model. We add predictors iteratively until we find the most likely model. Because these events all took place on the mobile site, we do not have a variable for platform. Instead, we'll investigate variant as a variable, and the effect of time."
   ]
  },
  {
   "cell_type": "code",
   "execution_count": 1,
   "metadata": {},
   "outputs": [
    {
     "data": {
      "text/html": [
       "<script>  \n",
       "code_show=true; \n",
       "function code_toggle() {\n",
       "  if (code_show){\n",
       "    $('div.input').hide();\n",
       "  } else {\n",
       "    $('div.input').show();\n",
       "  }\n",
       "  code_show = !code_show\n",
       "}  \n",
       "$( document ).ready(code_toggle);\n",
       "</script>\n",
       "  <form action=\"javascript:code_toggle()\">\n",
       "    <input type=\"submit\" value=\"Click here to toggle on/off the raw code.\">\n",
       " </form>"
      ]
     },
     "metadata": {},
     "output_type": "display_data"
    }
   ],
   "source": [
    "# https://stackoverflow.com/a/35018739/1091835\n",
    "library(IRdisplay)\n",
    "\n",
    "display_html(\n",
    "'<script>  \n",
    "code_show=true; \n",
    "function code_toggle() {\n",
    "  if (code_show){\n",
    "    $(\\'div.input\\').hide();\n",
    "  } else {\n",
    "    $(\\'div.input\\').show();\n",
    "  }\n",
    "  code_show = !code_show\n",
    "}  \n",
    "$( document ).ready(code_toggle);\n",
    "</script>\n",
    "  <form action=\"javascript:code_toggle()\">\n",
    "    <input type=\"submit\" value=\"Click here to toggle on/off the raw code.\">\n",
    " </form>'\n",
    ")"
   ]
  },
  {
   "cell_type": "code",
   "execution_count": 2,
   "metadata": {},
   "outputs": [
    {
     "name": "stderr",
     "output_type": "stream",
     "text": [
      "── \u001b[1mAttaching packages\u001b[22m ─────────────────────────────────────── tidyverse 1.3.0 ──\n",
      "\n",
      "\u001b[32m✔\u001b[39m \u001b[34mggplot2\u001b[39m 3.3.2     \u001b[32m✔\u001b[39m \u001b[34mpurrr  \u001b[39m 0.3.4\n",
      "\u001b[32m✔\u001b[39m \u001b[34mtibble \u001b[39m 3.0.4     \u001b[32m✔\u001b[39m \u001b[34mdplyr  \u001b[39m 1.0.2\n",
      "\u001b[32m✔\u001b[39m \u001b[34mtidyr  \u001b[39m 1.1.2     \u001b[32m✔\u001b[39m \u001b[34mstringr\u001b[39m 1.4.0\n",
      "\u001b[32m✔\u001b[39m \u001b[34mreadr  \u001b[39m 1.4.0     \u001b[32m✔\u001b[39m \u001b[34mforcats\u001b[39m 0.5.0\n",
      "\n",
      "── \u001b[1mConflicts\u001b[22m ────────────────────────────────────────── tidyverse_conflicts() ──\n",
      "\u001b[31m✖\u001b[39m \u001b[34mdplyr\u001b[39m::\u001b[32mfilter()\u001b[39m masks \u001b[34mstats\u001b[39m::filter()\n",
      "\u001b[31m✖\u001b[39m \u001b[34mdplyr\u001b[39m::\u001b[32mlag()\u001b[39m    masks \u001b[34mstats\u001b[39m::lag()\n",
      "\n",
      "\n",
      "Attaching package: ‘data.table’\n",
      "\n",
      "\n",
      "The following objects are masked from ‘package:dplyr’:\n",
      "\n",
      "    between, first, last\n",
      "\n",
      "\n",
      "The following object is masked from ‘package:purrr’:\n",
      "\n",
      "    transpose\n",
      "\n",
      "\n",
      "Loading required package: Matrix\n",
      "\n",
      "\n",
      "Attaching package: ‘Matrix’\n",
      "\n",
      "\n",
      "The following objects are masked from ‘package:tidyr’:\n",
      "\n",
      "    expand, pack, unpack\n",
      "\n",
      "\n",
      "Loading required package: lattice\n",
      "\n",
      "\n",
      "Attaching package: ‘caret’\n",
      "\n",
      "\n",
      "The following object is masked from ‘package:purrr’:\n",
      "\n",
      "    lift\n",
      "\n",
      "\n",
      "Loading required package: mvtnorm\n",
      "\n",
      "Loading required package: survival\n",
      "\n",
      "\n",
      "Attaching package: ‘survival’\n",
      "\n",
      "\n",
      "The following object is masked from ‘package:caret’:\n",
      "\n",
      "    cluster\n",
      "\n",
      "\n",
      "Loading required package: TH.data\n",
      "\n",
      "Loading required package: MASS\n",
      "\n",
      "\n",
      "Attaching package: ‘MASS’\n",
      "\n",
      "\n",
      "The following object is masked from ‘package:dplyr’:\n",
      "\n",
      "    select\n",
      "\n",
      "\n",
      "\n",
      "Attaching package: ‘TH.data’\n",
      "\n",
      "\n",
      "The following object is masked from ‘package:MASS’:\n",
      "\n",
      "    geyser\n",
      "\n",
      "\n",
      "Loading required package: gridExtra\n",
      "\n",
      "\n",
      "Attaching package: ‘gridExtra’\n",
      "\n",
      "\n",
      "The following object is masked from ‘package:dplyr’:\n",
      "\n",
      "    combine\n",
      "\n",
      "\n"
     ]
    }
   ],
   "source": [
    "## libraries\n",
    "library(tidyverse)\n",
    "library(data.table)\n",
    "library(ggplot2)\n",
    "\n",
    "library(lme4)\n",
    "\n",
    "library(caret)\n",
    "\n",
    "library(interactions)\n",
    "library(multcomp)\n",
    "library(emmeans)\n",
    "\n",
    "require(gridExtra)\n",
    "\n",
    "## library(ROCR)"
   ]
  },
  {
   "cell_type": "markdown",
   "metadata": {},
   "source": [
    "## Configuration variables"
   ]
  },
  {
   "cell_type": "code",
   "execution_count": 3,
   "metadata": {},
   "outputs": [],
   "source": [
    "## Set BLAS threads to 4 so glmer doesn't use all cores\n",
    "library(RhpcBLASctl)\n",
    "blas_set_num_threads(4)\n",
    "\n",
    "## parallelization\n",
    "options(mc.cores = 4)"
   ]
  },
  {
   "cell_type": "markdown",
   "metadata": {},
   "source": [
    "### Helper functions"
   ]
  },
  {
   "cell_type": "code",
   "execution_count": 4,
   "metadata": {},
   "outputs": [],
   "source": [
    "## Function that takes in a model, the validation set, the name of the predicted column,\n",
    "## and returns a plot of the ROC curve\n",
    "plot_ROC = function(mod, val_data, col_name, plot_title, cutoff_steps = 0.1) {\n",
    "  preds = predict(mod, val_data, type = \"response\")\n",
    "  ROCR_pred = prediction(preds, val_data[[col_name]])\n",
    "  ROCR_perf = performance(ROCR_pred, \"tpr\", \"fpr\")\n",
    "  plot(ROCR_perf, colorize = TRUE, print.cutoffs.at = seq(0, 1, by = cutoff_steps),\n",
    "       text.adj = c(-0.2, 1.7), main = plot_title)\n",
    "}\n",
    "\n",
    "## Function to output a confusion matrix\n",
    "confusion_matrix = function(model_predictions, threshold, reference, levels = c(\"yes\", \"no\")) {\n",
    "  pred = factor(ifelse(model_predictions >= threshold, levels[1], levels[2]), levels = levels)\n",
    "  truth = factor(ifelse(reference, levels[1], levels[2]), levels = levels)\n",
    "  confusionMatrix(pred, truth, mode = 'prec_recall')\n",
    "}\n"
   ]
  },
  {
   "cell_type": "markdown",
   "metadata": {},
   "source": [
    "### Data import and setup"
   ]
  },
  {
   "cell_type": "code",
   "execution_count": 6,
   "metadata": {},
   "outputs": [],
   "source": [
    "mobile_impression_counts = fread('datasets/variant-test-2-mobile-impression-counts.tsv',\n",
    "                                 colClasses = c(wiki_db = 'factor', user_registration = 'character'))"
   ]
  },
  {
   "cell_type": "markdown",
   "metadata": {},
   "source": [
    "In this analysis, we're only interested in users in the Homepage group, with a valid variant assigned, who visited the Homepage. Here's how many of them we have:"
   ]
  },
  {
   "cell_type": "code",
   "execution_count": 7,
   "metadata": {},
   "outputs": [
    {
     "data": {
      "text/html": [
       "13891"
      ],
      "text/latex": [
       "13891"
      ],
      "text/markdown": [
       "13891"
      ],
      "text/plain": [
       "[1] 13891"
      ]
     },
     "metadata": {},
     "output_type": "display_data"
    }
   ],
   "source": [
    "length(mobile_impression_counts[hp_enabled == 1 & hp_variant %in% c('C', 'D') & visited_homepage == 1]$wiki)"
   ]
  },
  {
   "cell_type": "markdown",
   "metadata": {},
   "source": [
    "Note that the dataset does not include known test accounts, users who were in the control group (meaning they didn't have the Homepage enabled upon registration), or users who turned the Homepage on/off during the experiment. Lastly, we've excluded all users who did not visit the Homepage on mobile in the data gathering.\n",
    "\n",
    "## Open questions\n",
    "\n",
    "We might want to change the value of `start_ts`, because the variant test actually started earlier. We chose the Oct 28 date because of the edit tag bug. If we instead measure time passing since the start of the variant test, then a different timestamp needs to be used. I've decided to not do anything about this because we didn't find any meaningful effect of time in the analysis of this experiment, nor in the previous variant test. This is probably because both were of fairly short duration, the current experiment only uses four weeks of data. If we run a longer experiment, or are concerned about time-based effects, this might change."
   ]
  },
  {
   "cell_type": "code",
   "execution_count": 10,
   "metadata": {},
   "outputs": [],
   "source": [
    "## Configuration variables for this experiment.\n",
    "start_ts = as.POSIXct('2020-10-28 18:40:02', tz = 'UTC')\n",
    "end_ts = as.POSIXct('2020-11-25 18:40:02', tz = 'UTC')\n",
    "\n",
    "## Convert user_registration into a timestamp\n",
    "mobile_impression_counts[, user_reg_ts := as.POSIXct(user_registration, format = '%Y%m%d%H%M%S', tz = 'UTC')]\n",
    "\n",
    "## Calculate time since start of experiment in weeks\n",
    "mobile_impression_counts[, exp_days := 0]\n",
    "mobile_impression_counts[, exp_days := difftime(user_reg_ts, start_ts, units = \"days\")]\n",
    "mobile_impression_counts[, ln_exp_days := log(1 + as.numeric(exp_days))]\n",
    "mobile_impression_counts[, ln_exp_weeks := log(1 + as.numeric(exp_days)/7)]\n",
    "\n",
    "## Binary variable for whether the user clicked to see the full module\n",
    "mobile_impression_counts[, did_visit_module := 0]\n",
    "mobile_impression_counts[num_mobile_overlays > 0, did_visit_module := 1]\n",
    "\n",
    "## Convert all NAs to 0, from\n",
    "## https://stackoverflow.com/questions/7235657/fastest-way-to-replace-nas-in-a-large-data-table\n",
    "na_to_zero = function(DT) {\n",
    "  # or by number (slightly faster than by name) :\n",
    "  for (j in seq_len(ncol(DT)))\n",
    "    set(DT,which(is.na(DT[[j]])),j,0)\n",
    "}\n",
    "\n",
    "na_to_zero(mobile_impression_counts)\n",
    "\n",
    "## set the random seed so train/test/validation splits can be reproduced\n",
    "set.seed(42)\n",
    "\n",
    "## Remove all control group users, users with an incorrect variant assignment,\n",
    "## and users that didn't visit the Homepage.\n",
    "exp_users = mobile_impression_counts[hp_enabled == 1 & hp_variant %in% c('C', 'D') & visited_homepage == 1]\n",
    "\n",
    "## Split the experiment users into training, testing, and validation datasets\n",
    "trainIndex <- createDataPartition(exp_users$hp_variant,\n",
    "                                  p = .8, \n",
    "                                  list = FALSE, \n",
    "                                  times = 1)\n",
    "exp_users_train = exp_users[trainIndex,]\n",
    "exp_users_second = exp_users[-trainIndex,]\n",
    "\n",
    "testIndex = createDataPartition(exp_users_second$hp_variant, p = .5, list = FALSE, times = 1)\n",
    "\n",
    "exp_users_test = exp_users_second[testIndex,]\n",
    "exp_users_validate = exp_users_second[-testIndex,]\n"
   ]
  },
  {
   "cell_type": "markdown",
   "metadata": {},
   "source": [
    "# Module Interactions\n",
    "\n",
    "We'll model this in the same way as we've done for task interactions and task clicks.\n",
    "\n",
    "## Variant C/D as a predictor\n",
    "\n",
    "In this first model, we predict whether the user edited based on the variant the user was in, while allowing the overall probability of editing to vary by wiki."
   ]
  },
  {
   "cell_type": "code",
   "execution_count": 11,
   "metadata": {},
   "outputs": [],
   "source": [
    "## 1: only variant as a predictor:\n",
    "mobile.imp.model.1 = glmer(formula = did_visit_module ~ hp_variant + (1 | wiki_db),\n",
    "                           family = binomial(link = \"logit\"), data = exp_users_train)"
   ]
  },
  {
   "cell_type": "code",
   "execution_count": 12,
   "metadata": {},
   "outputs": [
    {
     "data": {
      "text/plain": [
       "Generalized linear mixed model fit by maximum likelihood (Laplace\n",
       "  Approximation) [glmerMod]\n",
       " Family: binomial  ( logit )\n",
       "Formula: did_visit_module ~ hp_variant + (1 | wiki_db)\n",
       "   Data: exp_users_train\n",
       "\n",
       "     AIC      BIC   logLik deviance df.resid \n",
       " 12758.7  12780.6  -6376.3  12752.7    11111 \n",
       "\n",
       "Scaled residuals: \n",
       "    Min      1Q  Median      3Q     Max \n",
       "-0.8381 -0.6404 -0.5451  1.2468  2.3367 \n",
       "\n",
       "Random effects:\n",
       " Groups  Name        Variance Std.Dev.\n",
       " wiki_db (Intercept) 0.05827  0.2414  \n",
       "Number of obs: 11114, groups:  wiki_db, 16\n",
       "\n",
       "Fixed effects:\n",
       "            Estimate Std. Error z value Pr(>|z|)    \n",
       "(Intercept) -0.78087    0.07430  -10.51   <2e-16 ***\n",
       "hp_variantD -0.48402    0.04343  -11.14   <2e-16 ***\n",
       "---\n",
       "Signif. codes:  0 ‘***’ 0.001 ‘**’ 0.01 ‘*’ 0.05 ‘.’ 0.1 ‘ ’ 1\n",
       "\n",
       "Correlation of Fixed Effects:\n",
       "            (Intr)\n",
       "hp_variantD -0.261"
      ]
     },
     "metadata": {},
     "output_type": "display_data"
    }
   ],
   "source": [
    "summary(mobile.imp.model.1)"
   ]
  },
  {
   "cell_type": "markdown",
   "metadata": {},
   "source": [
    "This model suggests that overall, variant D is associated with a lower probability of a user interacting with the Newcomer Task module.\n",
    "\n",
    "Let us see if there's variation by wiki on this."
   ]
  },
  {
   "cell_type": "code",
   "execution_count": 13,
   "metadata": {},
   "outputs": [],
   "source": [
    "## 1: variant as a group-level predictor\n",
    "mobile.imp.model.1.2 = glmer(formula = did_visit_module ~ hp_variant + (1 + hp_variant | wiki_db),\n",
    "                             family = binomial(link = \"logit\"), data = exp_users_train)"
   ]
  },
  {
   "cell_type": "code",
   "execution_count": 14,
   "metadata": {},
   "outputs": [
    {
     "data": {
      "text/plain": [
       "Generalized linear mixed model fit by maximum likelihood (Laplace\n",
       "  Approximation) [glmerMod]\n",
       " Family: binomial  ( logit )\n",
       "Formula: did_visit_module ~ hp_variant + (1 + hp_variant | wiki_db)\n",
       "   Data: exp_users_train\n",
       "\n",
       "     AIC      BIC   logLik deviance df.resid \n",
       " 12762.3  12798.9  -6376.1  12752.3    11109 \n",
       "\n",
       "Scaled residuals: \n",
       "    Min      1Q  Median      3Q     Max \n",
       "-0.8341 -0.6426 -0.5480  1.2402  2.3534 \n",
       "\n",
       "Random effects:\n",
       " Groups  Name        Variance Std.Dev. Corr\n",
       " wiki_db (Intercept) 0.05649  0.23768      \n",
       "         hp_variantD 0.00439  0.06626  0.08\n",
       "Number of obs: 11114, groups:  wiki_db, 16\n",
       "\n",
       "Fixed effects:\n",
       "            Estimate Std. Error z value Pr(>|z|)    \n",
       "(Intercept) -0.77847    0.07375 -10.555   <2e-16 ***\n",
       "hp_variantD -0.49015    0.05072  -9.663   <2e-16 ***\n",
       "---\n",
       "Signif. codes:  0 ‘***’ 0.001 ‘**’ 0.01 ‘*’ 0.05 ‘.’ 0.1 ‘ ’ 1\n",
       "\n",
       "Correlation of Fixed Effects:\n",
       "            (Intr)\n",
       "hp_variantD -0.238"
      ]
     },
     "metadata": {},
     "output_type": "display_data"
    }
   ],
   "source": [
    "summary(mobile.imp.model.1.2)"
   ]
  },
  {
   "cell_type": "code",
   "execution_count": 16,
   "metadata": {},
   "outputs": [
    {
     "data": {
      "text/plain": [
       "$wiki_db\n",
       "        (Intercept)   hp_variantD\n",
       "arwiki  0.053909507  0.0654253990\n",
       "cswiki -0.003552026 -0.0082612951\n",
       "fawiki  0.191663268  0.0200154473\n",
       "frwiki -0.092256145 -0.0416763988\n",
       "hewiki  0.118486826  0.0175489525\n",
       "huwiki -0.090224640 -0.0104939614\n",
       "hywiki -0.105963357 -0.0006309234\n",
       "kowiki -0.130462343  0.0078702331\n",
       "plwiki -0.176877088 -0.0159695357\n",
       "ptwiki -0.424594727 -0.0184744790\n",
       "ruwiki  0.347996990 -0.0197201911\n",
       "srwiki -0.029714563 -0.0100146882\n",
       "svwiki -0.022931218 -0.0013595128\n",
       "trwiki  0.112870318  0.0036739749\n",
       "ukwiki -0.128002978 -0.0152754227\n",
       "viwiki  0.415684694  0.0307319032\n",
       "\n",
       "with conditional variances for “wiki_db” "
      ]
     },
     "metadata": {},
     "output_type": "display_data"
    }
   ],
   "source": [
    "ranef(mobile.imp.model.1.2)"
   ]
  },
  {
   "cell_type": "markdown",
   "metadata": {},
   "source": [
    "The model is not singular, which suggests that there's enough variation and data to support it. However, the BIC is much worse than the first model. So while there *is* some variation between wikis, it's not clear that it's large enough to be meaningful. We can also see this reflected in that the variation between wikis is small relative to the huge effect of Variant D itself.\n"
   ]
  },
  {
   "cell_type": "markdown",
   "metadata": {},
   "source": [
    "## Time as a predictor\n",
    "\n",
    "We add time as a predictor, in this case a variable measuring the number of weeks between when the user registered and the start of the experiment. This enables us to understand if the probability of a user editing changes as time progresses."
   ]
  },
  {
   "cell_type": "code",
   "execution_count": 17,
   "metadata": {},
   "outputs": [],
   "source": [
    "## 5: add time\n",
    "mobile.imp.model.2 = glmer(formula = did_visit_module ~ hp_variant +\n",
    "                         ln_exp_weeks + (1 | wiki_db),\n",
    "                           family = binomial(link = \"logit\"), data = exp_users_train)\n"
   ]
  },
  {
   "cell_type": "code",
   "execution_count": 18,
   "metadata": {},
   "outputs": [
    {
     "data": {
      "text/plain": [
       "Generalized linear mixed model fit by maximum likelihood (Laplace\n",
       "  Approximation) [glmerMod]\n",
       " Family: binomial  ( logit )\n",
       "Formula: did_visit_module ~ hp_variant + ln_exp_weeks + (1 | wiki_db)\n",
       "   Data: exp_users_train\n",
       "\n",
       "     AIC      BIC   logLik deviance df.resid \n",
       " 12757.1  12786.4  -6374.6  12749.1    11110 \n",
       "\n",
       "Scaled residuals: \n",
       "    Min      1Q  Median      3Q     Max \n",
       "-0.8742 -0.6351 -0.5436  1.2649  2.4017 \n",
       "\n",
       "Random effects:\n",
       " Groups  Name        Variance Std.Dev.\n",
       " wiki_db (Intercept) 0.05765  0.2401  \n",
       "Number of obs: 11114, groups:  wiki_db, 16\n",
       "\n",
       "Fixed effects:\n",
       "             Estimate Std. Error z value Pr(>|z|)    \n",
       "(Intercept)  -0.68503    0.08965  -7.641 2.15e-14 ***\n",
       "hp_variantD  -0.48493    0.04344 -11.162  < 2e-16 ***\n",
       "ln_exp_weeks -0.09354    0.04952  -1.889   0.0589 .  \n",
       "---\n",
       "Signif. codes:  0 ‘***’ 0.001 ‘**’ 0.01 ‘*’ 0.05 ‘.’ 0.1 ‘ ’ 1\n",
       "\n",
       "Correlation of Fixed Effects:\n",
       "            (Intr) hp_vrD\n",
       "hp_variantD -0.224       \n",
       "ln_exp_weks -0.564  0.013"
      ]
     },
     "metadata": {},
     "output_type": "display_data"
    }
   ],
   "source": [
    "summary(mobile.imp.model.2)"
   ]
  },
  {
   "cell_type": "code",
   "execution_count": 21,
   "metadata": {},
   "outputs": [],
   "source": [
    "## 5.1: time in days\n",
    "mobile.imp.model.2.1 = glmer(formula = did_visit_module ~ hp_variant +\n",
    "                             ln_exp_days + (1 | wiki_db),\n",
    "                             family = binomial(link = \"logit\"), data = exp_users_train)\n"
   ]
  },
  {
   "cell_type": "code",
   "execution_count": 22,
   "metadata": {},
   "outputs": [
    {
     "data": {
      "text/plain": [
       "Generalized linear mixed model fit by maximum likelihood (Laplace\n",
       "  Approximation) [glmerMod]\n",
       " Family: binomial  ( logit )\n",
       "Formula: did_visit_module ~ hp_variant + ln_exp_days + (1 | wiki_db)\n",
       "   Data: exp_users_train\n",
       "\n",
       "     AIC      BIC   logLik deviance df.resid \n",
       " 12757.5  12786.8  -6374.8  12749.5    11110 \n",
       "\n",
       "Scaled residuals: \n",
       "    Min      1Q  Median      3Q     Max \n",
       "-0.8840 -0.6341 -0.5441  1.2623  2.3887 \n",
       "\n",
       "Random effects:\n",
       " Groups  Name        Variance Std.Dev.\n",
       " wiki_db (Intercept) 0.05773  0.2403  \n",
       "Number of obs: 11114, groups:  wiki_db, 16\n",
       "\n",
       "Fixed effects:\n",
       "            Estimate Std. Error z value Pr(>|z|)    \n",
       "(Intercept) -0.65358    0.10287  -6.354  2.1e-10 ***\n",
       "hp_variantD -0.48480    0.04344 -11.160  < 2e-16 ***\n",
       "ln_exp_days -0.05070    0.02850  -1.779   0.0752 .  \n",
       "---\n",
       "Signif. codes:  0 ‘***’ 0.001 ‘**’ 0.01 ‘*’ 0.05 ‘.’ 0.1 ‘ ’ 1\n",
       "\n",
       "Correlation of Fixed Effects:\n",
       "            (Intr) hp_vrD\n",
       "hp_variantD -0.197       \n",
       "ln_exp_days -0.694  0.012"
      ]
     },
     "metadata": {},
     "output_type": "display_data"
    }
   ],
   "source": [
    "summary(mobile.imp.model.2.1)"
   ]
  },
  {
   "cell_type": "markdown",
   "metadata": {},
   "source": [
    "Time is marginally significant, but the BIC is much worse. Maybe there is some variation in visits over time, but further investigation is needed to determine if it's meaningful.\n",
    "\n",
    "## Model across the entire dataset\n",
    "\n",
    "Our previous models were trained on a random 80% of our dataset. We switch to the full dataset and model again to get a sense of the predictors across all available data."
   ]
  },
  {
   "cell_type": "code",
   "execution_count": 23,
   "metadata": {},
   "outputs": [],
   "source": [
    "## 7: full model\n",
    "mobile.imp.model.full = glmer(formula = did_visit_module ~ hp_variant + (1 | wiki_db),\n",
    "                              family = binomial(link = \"logit\"), data = exp_users)"
   ]
  },
  {
   "cell_type": "code",
   "execution_count": 24,
   "metadata": {},
   "outputs": [
    {
     "data": {
      "text/plain": [
       "Generalized linear mixed model fit by maximum likelihood (Laplace\n",
       "  Approximation) [glmerMod]\n",
       " Family: binomial  ( logit )\n",
       "Formula: did_visit_module ~ hp_variant + (1 | wiki_db)\n",
       "   Data: exp_users\n",
       "\n",
       "     AIC      BIC   logLik deviance df.resid \n",
       " 15831.1  15853.7  -7912.6  15825.1    13888 \n",
       "\n",
       "Scaled residuals: \n",
       "    Min      1Q  Median      3Q     Max \n",
       "-0.8158 -0.6380 -0.5354  1.2259  2.3884 \n",
       "\n",
       "Random effects:\n",
       " Groups  Name        Variance Std.Dev.\n",
       " wiki_db (Intercept) 0.06606  0.257   \n",
       "Number of obs: 13891, groups:  wiki_db, 16\n",
       "\n",
       "Fixed effects:\n",
       "            Estimate Std. Error z value Pr(>|z|)    \n",
       "(Intercept) -0.81460    0.07586  -10.74   <2e-16 ***\n",
       "hp_variantD -0.49170    0.03905  -12.59   <2e-16 ***\n",
       "---\n",
       "Signif. codes:  0 ‘***’ 0.001 ‘**’ 0.01 ‘*’ 0.05 ‘.’ 0.1 ‘ ’ 1\n",
       "\n",
       "Correlation of Fixed Effects:\n",
       "            (Intr)\n",
       "hp_variantD -0.228"
      ]
     },
     "metadata": {},
     "output_type": "display_data"
    }
   ],
   "source": [
    "summary(mobile.imp.model.full)"
   ]
  },
  {
   "cell_type": "markdown",
   "metadata": {},
   "source": [
    "Estimating the effects using the \"divide by 4 rule\"."
   ]
  },
  {
   "cell_type": "code",
   "execution_count": 26,
   "metadata": {},
   "outputs": [
    {
     "data": {
      "text/html": [
       "<strong>hp_variantD:</strong> -0.122924253192005"
      ],
      "text/latex": [
       "\\textbf{hp\\textbackslash{}\\_variantD:} -0.122924253192005"
      ],
      "text/markdown": [
       "**hp_variantD:** -0.122924253192005"
      ],
      "text/plain": [
       "hp_variantD \n",
       " -0.1229243 "
      ]
     },
     "metadata": {},
     "output_type": "display_data"
    }
   ],
   "source": [
    "fixef(mobile.imp.model.full)[2] / 4"
   ]
  },
  {
   "cell_type": "markdown",
   "metadata": {},
   "source": [
    "The model across the full dataset shows the same trends as we saw with this model on the smaller dataset. We find that Variant D is associated with lower probability of visiting the full module, with a difference of up to -12.3pp."
   ]
  },
  {
   "cell_type": "markdown",
   "metadata": {},
   "source": [
    "## Overview table\n",
    "\n",
    "Across all wikis, what's the difference?"
   ]
  },
  {
   "cell_type": "code",
   "execution_count": 34,
   "metadata": {},
   "outputs": [],
   "source": [
    "visit_counts = exp_users[, list(n_visitors = sum(.N)),\n",
    "                       by = c('wiki_db', 'hp_variant')]\n",
    "mobil_impression_counts = exp_users[did_visit_module == 1, list(n_visited_module = sum(.N)),\n",
    "                                    by = c('wiki_db', 'hp_variant')]\n",
    "merged_mobile_impression_counts = merge(visit_counts, mobil_impression_counts,\n",
    "                                        by = c('wiki_db', 'hp_variant'))\n",
    "merged_mobile_impression_counts[, percent_visited := 100 * n_visited_module / n_visitors]"
   ]
  },
  {
   "cell_type": "code",
   "execution_count": 36,
   "metadata": {},
   "outputs": [],
   "source": [
    "merged_mobile_impression_counts$hp_variant = factor(merged_mobile_impression_counts$hp_variant)"
   ]
  },
  {
   "cell_type": "code",
   "execution_count": 38,
   "metadata": {},
   "outputs": [],
   "source": [
    "plots = lapply(unique(merged_mobile_impression_counts$wiki_db), function(w) {\n",
    "    ggplot(merged_mobile_impression_counts[wiki_db == w], aes(x = hp_variant, y = percent_visited)) +\n",
    "        theme_bw() +\n",
    "        theme(axis.title.x = element_text(size = rel(1.5)),\n",
    "            axis.text.x = element_text(size = rel(1.25)),\n",
    "            axis.title.y = element_text(size = rel(1.5)),\n",
    "            axis.text.y = element_text(size = rel(1.25))) +\n",
    "        labs(x = \"Variant\", y = \"Probability (in %)\", title = w) +\n",
    "        geom_col(position = \"dodge2\")\n",
    "})\n",
    "\n",
    "# ggsave(plot = g, file = \"graphs/tagged_edit_probabilities.png\",\n",
    "#       width = 14, height = 7, units = \"in\", dpi = \"retina\")"
   ]
  },
  {
   "cell_type": "code",
   "execution_count": 39,
   "metadata": {},
   "outputs": [
    {
     "data": {
      "image/png": "[encoded data removed]",
      "text/plain": [
       "plot without title"
      ]
     },
     "metadata": {
      "image/png": {
       "height": 1260,
       "width": 840
      }
     },
     "output_type": "display_data"
    }
   ],
   "source": [
    "options(repr.plot.width = 14, repr.plot.height = 21)\n",
    "grid.arrange(grobs = plots, ncol = 2)"
   ]
  },
  {
   "cell_type": "markdown",
   "metadata": {},
   "source": [
    "## Summary\n",
    "\n",
    "\n",
    "## Additional analysis\n",
    "\n",
    "What's the probability difference of visiting the full module on mobile, across the whole dataset?"
   ]
  },
  {
   "cell_type": "code",
   "execution_count": 41,
   "metadata": {},
   "outputs": [
    {
     "data": {
      "text/html": [
       "<table>\n",
       "<caption>A data.table: 2 × 4</caption>\n",
       "<thead>\n",
       "\t<tr><th scope=col>hp_variant</th><th scope=col>n_visitors</th><th scope=col>n_visited_module</th><th scope=col>perc_visited</th></tr>\n",
       "\t<tr><th scope=col>&lt;fct&gt;</th><th scope=col>&lt;int&gt;</th><th scope=col>&lt;int&gt;</th><th scope=col>&lt;dbl&gt;</th></tr>\n",
       "</thead>\n",
       "<tbody>\n",
       "\t<tr><td>C</td><td>6907</td><td>2179</td><td>31.54771</td></tr>\n",
       "\t<tr><td>D</td><td>6984</td><td>1547</td><td>22.15063</td></tr>\n",
       "</tbody>\n",
       "</table>\n"
      ],
      "text/latex": [
       "A data.table: 2 × 4\n",
       "\\begin{tabular}{llll}\n",
       " hp\\_variant & n\\_visitors & n\\_visited\\_module & perc\\_visited\\\\\n",
       " <fct> & <int> & <int> & <dbl>\\\\\n",
       "\\hline\n",
       "\t C & 6907 & 2179 & 31.54771\\\\\n",
       "\t D & 6984 & 1547 & 22.15063\\\\\n",
       "\\end{tabular}\n"
      ],
      "text/markdown": [
       "\n",
       "A data.table: 2 × 4\n",
       "\n",
       "| hp_variant &lt;fct&gt; | n_visitors &lt;int&gt; | n_visited_module &lt;int&gt; | perc_visited &lt;dbl&gt; |\n",
       "|---|---|---|---|\n",
       "| C | 6907 | 2179 | 31.54771 |\n",
       "| D | 6984 | 1547 | 22.15063 |\n",
       "\n"
      ],
      "text/plain": [
       "  hp_variant n_visitors n_visited_module perc_visited\n",
       "1 C          6907       2179             31.54771    \n",
       "2 D          6984       1547             22.15063    "
      ]
     },
     "metadata": {},
     "output_type": "display_data"
    }
   ],
   "source": [
    "merged_mobile_impression_counts[, list(n_visitors = sum(n_visitors), n_visited_module = sum(n_visited_module),\n",
    "                      perc_visited = 100 * sum(n_visited_module) / sum(n_visitors)),\n",
    "                          by = 'hp_variant']"
   ]
  }
 ],
 "metadata": {
  "kernelspec": {
   "display_name": "R",
   "language": "R",
   "name": "ir"
  },
  "language_info": {
   "codemirror_mode": "r",
   "file_extension": ".r",
   "mimetype": "text/x-r-source",
   "name": "R",
   "pygments_lexer": "r",
   "version": "3.5.2"
  }
 },
 "nbformat": 4,
 "nbformat_minor": 4
}
