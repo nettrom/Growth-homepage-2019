{
 "cells": [
  {
   "cell_type": "markdown",
   "metadata": {},
   "source": [
    "## Newcomer Task edits in the AB variant test – Regression models\n",
    "\n",
    "The approach for fitting regression models to predict whether users are likely to make newcomer task edits is the same as we've used in the previous analysis of this A/B variant test. Because the outcome is binary, either a user edited or they didnt', we use a logistic regression model. We add predictors iteratively until we find the most likely model. Like before, we have predictors for which variant the user had, whether they registered on desktop or mobile, and when they registered (in time since the start of the experiment)."
   ]
  },
  {
   "cell_type": "code",
   "execution_count": 85,
   "metadata": {},
   "outputs": [
    {
     "data": {
      "text/html": [
       "<script>  \n",
       "code_show=true; \n",
       "function code_toggle() {\n",
       "  if (code_show){\n",
       "    $('div.input').hide();\n",
       "  } else {\n",
       "    $('div.input').show();\n",
       "  }\n",
       "  code_show = !code_show\n",
       "}  \n",
       "$( document ).ready(code_toggle);\n",
       "</script>\n",
       "  <form action=\"javascript:code_toggle()\">\n",
       "    <input type=\"submit\" value=\"Click here to toggle on/off the raw code.\">\n",
       " </form>"
      ]
     },
     "metadata": {},
     "output_type": "display_data"
    }
   ],
   "source": [
    "# https://stackoverflow.com/a/35018739/1091835\n",
    "library(IRdisplay)\n",
    "\n",
    "display_html(\n",
    "'<script>  \n",
    "code_show=true; \n",
    "function code_toggle() {\n",
    "  if (code_show){\n",
    "    $(\\'div.input\\').hide();\n",
    "  } else {\n",
    "    $(\\'div.input\\').show();\n",
    "  }\n",
    "  code_show = !code_show\n",
    "}  \n",
    "$( document ).ready(code_toggle);\n",
    "</script>\n",
    "  <form action=\"javascript:code_toggle()\">\n",
    "    <input type=\"submit\" value=\"Click here to toggle on/off the raw code.\">\n",
    " </form>'\n",
    ")"
   ]
  },
  {
   "cell_type": "code",
   "execution_count": null,
   "metadata": {},
   "outputs": [],
   "source": [
    "## libraries\n",
    "\n",
    "library(data.table)\n",
    "library(ggplot2)\n",
    "\n",
    "library(lme4)\n",
    "\n",
    "library(caret)\n",
    "\n",
    "library(interactions)\n",
    "library(multcomp)\n",
    "library(emmeans)\n",
    "\n",
    "library(ROCR)"
   ]
  },
  {
   "cell_type": "markdown",
   "metadata": {},
   "source": [
    "## Configuration variables"
   ]
  },
  {
   "cell_type": "code",
   "execution_count": 80,
   "metadata": {},
   "outputs": [],
   "source": [
    "## Set BLAS threads to 4 so glmer doesn't use all cores\n",
    "library(RhpcBLASctl)\n",
    "blas_set_num_threads(4)\n",
    "\n",
    "## parallelization\n",
    "options(mc.cores = 4)"
   ]
  },
  {
   "cell_type": "markdown",
   "metadata": {},
   "source": [
    "### Helper functions"
   ]
  },
  {
   "cell_type": "code",
   "execution_count": 86,
   "metadata": {},
   "outputs": [],
   "source": [
    "## Function that takes in a model, the validation set, the name of the predicted column,\n",
    "## and returns a plot of the ROC curve\n",
    "plot_ROC = function(mod, val_data, col_name, plot_title, cutoff_steps = 0.1) {\n",
    "  preds = predict(mod, val_data, type = \"response\")\n",
    "  ROCR_pred = prediction(preds, val_data[[col_name]])\n",
    "  ROCR_perf = performance(ROCR_pred, \"tpr\", \"fpr\")\n",
    "  plot(ROCR_perf, colorize = TRUE, print.cutoffs.at = seq(0, 1, by = cutoff_steps),\n",
    "       text.adj = c(-0.2, 1.7), main = plot_title)\n",
    "}\n",
    "\n",
    "## Function to output a confusion matrix\n",
    "confusion_matrix = function(model_predictions, threshold, reference, levels = c(\"yes\", \"no\")) {\n",
    "  pred = factor(ifelse(model_predictions >= threshold, levels[1], levels[2]), levels = levels)\n",
    "  truth = factor(ifelse(reference, levels[1], levels[2]), levels = levels)\n",
    "  confusionMatrix(pred, truth, mode = 'prec_recall')\n",
    "}\n"
   ]
  },
  {
   "cell_type": "markdown",
   "metadata": {},
   "source": [
    "### Data import and setup"
   ]
  },
  {
   "cell_type": "code",
   "execution_count": 3,
   "metadata": {},
   "outputs": [],
   "source": [
    "tagged_edits = fread('datasets/variant-test-1-tagged-edit-counts.tsv',\n",
    "                     colClasses = c(wiki = 'factor', user_registration = 'character'))"
   ]
  },
  {
   "cell_type": "markdown",
   "metadata": {},
   "source": [
    "Our dataset contains this many registrations in total:"
   ]
  },
  {
   "cell_type": "code",
   "execution_count": 39,
   "metadata": {},
   "outputs": [
    {
     "data": {
      "text/html": [
       "68575"
      ],
      "text/latex": [
       "68575"
      ],
      "text/markdown": [
       "68575"
      ],
      "text/plain": [
       "[1] 68575"
      ]
     },
     "metadata": {},
     "output_type": "display_data"
    }
   ],
   "source": [
    "length(tagged_edits[hp_enabled == 1]$wiki)"
   ]
  },
  {
   "cell_type": "markdown",
   "metadata": {},
   "source": [
    "Note that the dataset does not include known test accounts, users who were in the control group (meaning they didn't have the Homepage enabled upon registration), or users who turned the Homepage on/off during the experiment."
   ]
  },
  {
   "cell_type": "code",
   "execution_count": 5,
   "metadata": {},
   "outputs": [],
   "source": [
    "## Configuration variables for this experiment.\n",
    "## Start timestamp is from https://phabricator.wikimedia.org/T238888#5738223\n",
    "start_ts = as.POSIXct('2019-12-13 00:32', tz = 'UTC')\n",
    "end_ts = as.POSIXct('2020-05-15 00:00', tz = 'UTC')\n",
    "\n",
    "## Convert user_registration into a timestamp\n",
    "tagged_edits[, user_reg_ts := as.POSIXct(user_registration, format = '%Y%m%d%H%M%S', tz = 'UTC')]\n",
    "\n",
    "## Calculate time since start of experiment in weeks\n",
    "tagged_edits[, exp_days := 0]\n",
    "tagged_edits[, exp_days := difftime(user_reg_ts, start_ts, units = \"days\")]\n",
    "tagged_edits[, ln_exp_days := log(1 + as.numeric(exp_days))]\n",
    "tagged_edits[, ln_exp_weeks := log(1 + as.numeric(exp_days)/7)]\n",
    "\n",
    "## Convert all NAs to 0, from\n",
    "## https://stackoverflow.com/questions/7235657/fastest-way-to-replace-nas-in-a-large-data-table\n",
    "na_to_zero = function(DT) {\n",
    "  # or by number (slightly faster than by name) :\n",
    "  for (j in seq_len(ncol(DT)))\n",
    "    set(DT,which(is.na(DT[[j]])),j,0)\n",
    "}\n",
    "\n",
    "na_to_zero(tagged_edits)\n",
    "\n",
    "## Create boolean column for whether the user edited\n",
    "tagged_edits[, did_edit := num_edits > 0]\n",
    "\n",
    "## Drop the bot_by_name and bot_by_group columns\n",
    "tagged_edits[, bot_by_name := NULL]\n",
    "tagged_edits[, bot_by_group := NULL]\n",
    "\n",
    "## set the random seed so train/test/validation splits can be reproduced\n",
    "set.seed(42)\n",
    "\n",
    "## Remove all control group users, split the rest out into training, testing, and validation datasets\n",
    "exp_users = tagged_edits[hp_enabled == 1]\n",
    "\n",
    "trainIndex <- createDataPartition(exp_users$nt_pre_enabled,\n",
    "                                  p = .8, \n",
    "                                  list = FALSE, \n",
    "                                  times = 1)\n",
    "exp_users_train = exp_users[trainIndex,]\n",
    "exp_users_second = exp_users[-trainIndex,]\n",
    "\n",
    "testIndex = createDataPartition(exp_users_second$nt_pre_enabled, p = .5, list = FALSE, times = 1)\n",
    "\n",
    "exp_users_test = exp_users_second[testIndex,]\n",
    "exp_users_validate = exp_users_second[-testIndex,]\n"
   ]
  },
  {
   "cell_type": "markdown",
   "metadata": {},
   "source": [
    "## Variant A/B as a predictor\n",
    "\n",
    "In this first model, we predict whether the user edited based on the variant the user was in, while allowing the overall probability of editing to vary by wiki."
   ]
  },
  {
   "cell_type": "code",
   "execution_count": 76,
   "metadata": {},
   "outputs": [],
   "source": [
    "## 1: only variant as a predictor:\n",
    "edit.model.1 = glmer(formula = did_edit ~ nt_pre_enabled + (1 | wiki),\n",
    "                    family = binomial(link = \"logit\"), data = exp_users_train)"
   ]
  },
  {
   "cell_type": "code",
   "execution_count": 7,
   "metadata": {},
   "outputs": [
    {
     "data": {
      "text/plain": [
       "Generalized linear mixed model fit by maximum likelihood (Laplace\n",
       "  Approximation) [glmerMod]\n",
       " Family: binomial  ( logit )\n",
       "Formula: did_edit ~ nt_pre_enabled + (1 | wiki)\n",
       "   Data: exp_users_train\n",
       "\n",
       "     AIC      BIC   logLik deviance df.resid \n",
       "  5640.6   5667.3  -2817.3   5634.6    54857 \n",
       "\n",
       "Scaled residuals: \n",
       "    Min      1Q  Median      3Q     Max \n",
       "-0.1121 -0.1102 -0.0919 -0.0919 14.5466 \n",
       "\n",
       "Random effects:\n",
       " Groups Name        Variance Std.Dev.\n",
       " wiki   (Intercept) 0.07727  0.278   \n",
       "Number of obs: 54860, groups:  wiki, 4\n",
       "\n",
       "Fixed effects:\n",
       "               Estimate Std. Error z value Pr(>|z|)    \n",
       "(Intercept)    -4.63854    0.15594 -29.746  < 2e-16 ***\n",
       "nt_pre_enabled -0.36284    0.09142  -3.969 7.22e-05 ***\n",
       "---\n",
       "Signif. codes:  0 ‘***’ 0.001 ‘**’ 0.01 ‘*’ 0.05 ‘.’ 0.1 ‘ ’ 1\n",
       "\n",
       "Correlation of Fixed Effects:\n",
       "            (Intr)\n",
       "nt_pre_nbld -0.238"
      ]
     },
     "metadata": {},
     "output_type": "display_data"
    }
   ],
   "source": [
    "summary(edit.model.1)"
   ]
  },
  {
   "cell_type": "markdown",
   "metadata": {},
   "source": [
    "This model indicates that variant B is associated with a lower probability of editing, -9% (-0.36/4) compared to variant A. We also see that the predictor is statistically significant. This result also reflects the overall trend indicates in the dataset, that comparing the variant directly suggestes that variant B fares poorer.\n",
    "\n",
    "We plot an Receiver Operating Curve for this model to get a sense of its performance:"
   ]
  },
  {
   "cell_type": "code",
   "execution_count": 46,
   "metadata": {},
   "outputs": [
    {
     "data": {
      "image/png": "[encoded data removed]",
      "text/plain": [
       "Plot with title “Model 1 ROC”"
      ]
     },
     "metadata": {
      "image/png": {
       "height": 420,
       "width": 420
      },
      "text/plain": {
       "height": 420,
       "width": 420
      }
     },
     "output_type": "display_data"
    }
   ],
   "source": [
    "plot_ROC(edit.model.1, exp_users_validate, 'did_edit', \"Model 1 ROC\", cutoff_steps = 0.025)"
   ]
  },
  {
   "cell_type": "markdown",
   "metadata": {},
   "source": [
    "This is not an excellent ROC curve, the good ones have a line that goes up and to the left in the graph (low false positive rate, high true positive rate). However, it does show some improvement over random, which is a straight diagonal line. Question is, do other models fare better? We've previously seen a strong interaction between variant and desktop/mobile, so we'll at least have to investigate that.\n",
    "\n",
    "## Desktop/mobile registration\n",
    "\n",
    "We add whether the user registered on desktop or mobile as a predictor."
   ]
  },
  {
   "cell_type": "code",
   "execution_count": 77,
   "metadata": {},
   "outputs": [],
   "source": [
    "## 2: add desktop/mobile\n",
    "edit.model.2 = glmer(formula = did_edit ~ nt_pre_enabled + reg_on_mobile + (1 | wiki),\n",
    "                    family = binomial(link = \"logit\"), data = exp_users_train)\n"
   ]
  },
  {
   "cell_type": "code",
   "execution_count": 49,
   "metadata": {},
   "outputs": [
    {
     "data": {
      "text/plain": [
       "Generalized linear mixed model fit by maximum likelihood (Laplace\n",
       "  Approximation) [glmerMod]\n",
       " Family: binomial  ( logit )\n",
       "Formula: did_edit ~ nt_pre_enabled + reg_on_mobile + (1 | wiki)\n",
       "   Data: exp_users_train\n",
       "\n",
       "     AIC      BIC   logLik deviance df.resid \n",
       "  5614.8   5650.4  -2803.4   5606.8    54856 \n",
       "\n",
       "Scaled residuals: \n",
       "    Min      1Q  Median      3Q     Max \n",
       "-0.1309 -0.1062 -0.0938 -0.0782 16.5797 \n",
       "\n",
       "Random effects:\n",
       " Groups Name        Variance Std.Dev.\n",
       " wiki   (Intercept) 0.07416  0.2723  \n",
       "Number of obs: 54860, groups:  wiki, 4\n",
       "\n",
       "Fixed effects:\n",
       "               Estimate Std. Error z value Pr(>|z|)    \n",
       "(Intercept)    -4.91290    0.16472 -29.826  < 2e-16 ***\n",
       "nt_pre_enabled -0.36257    0.09151  -3.962 7.43e-05 ***\n",
       "reg_on_mobile   0.52003    0.10106   5.146 2.66e-07 ***\n",
       "---\n",
       "Signif. codes:  0 ‘***’ 0.001 ‘**’ 0.01 ‘*’ 0.05 ‘.’ 0.1 ‘ ’ 1\n",
       "\n",
       "Correlation of Fixed Effects:\n",
       "            (Intr) nt_pr_\n",
       "nt_pre_nbld -0.227       \n",
       "reg_on_mobl -0.360  0.000"
      ]
     },
     "metadata": {},
     "output_type": "display_data"
    }
   ],
   "source": [
    "summary(edit.model.2)"
   ]
  },
  {
   "cell_type": "markdown",
   "metadata": {},
   "source": [
    "We see that where the user registers also has a strong effect on their likelyhood of making a tagged edit. Here we see a 13% (0.52/4) higher likelihood if the user is on mobile. We also see that this model has higher fitness compared to the first model, the BIC is 17 points lower, which is generally regarded as clear indication that the second model is better. These results are consistent with what we've seen in previous analysis of Homepage interactions.\n",
    "\n",
    "## Interaction between variant and desktop/mobile\n",
    "\n",
    "One of the key findings of our previous analysis was that there was a strong interaction effect between which variant group the user was in, and whether they registered on desktop or mobile. An *interaction effect* means that the effect of one of the predictors is altered by the effect of another predictor. In our case, since both predictor are binary categorical variables, it means that the outcome is altered depending on the combination of those categories."
   ]
  },
  {
   "cell_type": "code",
   "execution_count": 79,
   "metadata": {},
   "outputs": [],
   "source": [
    "## 3: desktop/mobile interaction\n",
    "edit.model.3 = glmer(formula = did_edit ~ nt_pre_enabled * reg_on_mobile + (1 | wiki),\n",
    "                    family = binomial(link = \"logit\"), data = exp_users_train)"
   ]
  },
  {
   "cell_type": "code",
   "execution_count": 51,
   "metadata": {},
   "outputs": [
    {
     "data": {
      "text/plain": [
       "Generalized linear mixed model fit by maximum likelihood (Laplace\n",
       "  Approximation) [glmerMod]\n",
       " Family: binomial  ( logit )\n",
       "Formula: did_edit ~ nt_pre_enabled * reg_on_mobile + (1 | wiki)\n",
       "   Data: exp_users_train\n",
       "\n",
       "     AIC      BIC   logLik deviance df.resid \n",
       "  5608.1   5652.7  -2799.1   5598.1    54855 \n",
       "\n",
       "Scaled residuals: \n",
       "    Min      1Q  Median      3Q     Max \n",
       "-0.1354 -0.1030 -0.0933 -0.0834 15.1270 \n",
       "\n",
       "Random effects:\n",
       " Groups Name        Variance Std.Dev.\n",
       " wiki   (Intercept) 0.07309  0.2704  \n",
       "Number of obs: 54860, groups:  wiki, 4\n",
       "\n",
       "Fixed effects:\n",
       "                             Estimate Std. Error z value Pr(>|z|)    \n",
       "(Intercept)                  -5.09360    0.17907 -28.445  < 2e-16 ***\n",
       "nt_pre_enabled                0.03185    0.16139   0.197  0.84355    \n",
       "reg_on_mobile                 0.77280    0.13623   5.673 1.41e-08 ***\n",
       "nt_pre_enabled:reg_on_mobile -0.57967    0.19681  -2.945  0.00323 ** \n",
       "---\n",
       "Signif. codes:  0 ‘***’ 0.001 ‘**’ 0.01 ‘*’ 0.05 ‘.’ 0.1 ‘ ’ 1\n",
       "\n",
       "Correlation of Fixed Effects:\n",
       "            (Intr) nt_pr_ rg_n_m\n",
       "nt_pre_nbld -0.454              \n",
       "reg_on_mobl -0.517  0.599       \n",
       "nt_pr_nb:__  0.372 -0.820 -0.665"
      ]
     },
     "metadata": {},
     "output_type": "display_data"
    }
   ],
   "source": [
    "summary(edit.model.3)"
   ]
  },
  {
   "cell_type": "markdown",
   "metadata": {},
   "source": [
    "This model indicates that the interaction between variants and desktop/mobile is again strong. We find as follows:\n",
    "\n",
    "1. On desktop there is no significant difference in probability of making a tagged edit between the two variants. This is shown by `nt_pre_enabled` not being a significant predictor on its own.\n",
    "2. Mobile continues to be a strong indicator of the user making a tagged edit in Variant A.\n",
    "3. If the user is in Variant B and on mobile, they're less likely to make a tagged edit.\n",
    "\n",
    "Given that we know from previous analysis that interaction are stronger in variant B on desktop, it's worth asking if there's something in the design of the mobile Homepage that should result in a much lower probability of making a tagged edit in variant B. E.g. we know that mobile users are more likely to have been attempting to edit because there's an overlay across the screen if they do so without logging in, does that interfere with the Newcomer Task module?\n",
    "\n",
    "We plot an ROC curve for this model similarly as we did for model 1 to get a sense of whether we've improved our prediction accuracy."
   ]
  },
  {
   "cell_type": "code",
   "execution_count": 56,
   "metadata": {},
   "outputs": [
    {
     "data": {
      "image/png": "[encoded data removed]",
      "text/plain": [
       "Plot with title “Model 3 ROC”"
      ]
     },
     "metadata": {
      "image/png": {
       "height": 420,
       "width": 420
      },
      "text/plain": {
       "height": 420,
       "width": 420
      }
     },
     "output_type": "display_data"
    }
   ],
   "source": [
    "plot_ROC(edit.model.3, exp_users_validate, 'did_edit', \"Model 3 ROC\", cutoff_steps = 0.025)"
   ]
  },
  {
   "cell_type": "markdown",
   "metadata": {},
   "source": [
    "## Variation across wikis\n",
    "\n",
    "We test if the effect of these predictors vary significantly by wiki."
   ]
  },
  {
   "cell_type": "code",
   "execution_count": 54,
   "metadata": {},
   "outputs": [
    {
     "name": "stderr",
     "output_type": "stream",
     "text": [
      "Warning message in checkConv(attr(opt, \"derivs\"), opt$par, ctrl = control$checkConv, :\n",
      "“Model failed to converge with max|grad| = 0.0120301 (tol = 0.002, component 1)”\n"
     ]
    }
   ],
   "source": [
    "## 4: add experiment time, using log weeks\n",
    "edit.model.4 = glmer(formula = did_edit ~ nt_pre_enabled * reg_on_mobile +\n",
    "                      (1 + nt_pre_enabled * reg_on_mobile | wiki),\n",
    "                    family = binomial(link = \"logit\"), data = exp_users_train)"
   ]
  },
  {
   "cell_type": "code",
   "execution_count": 55,
   "metadata": {},
   "outputs": [
    {
     "name": "stderr",
     "output_type": "stream",
     "text": [
      "boundary (singular) fit: see ?isSingular\n",
      "\n"
     ]
    }
   ],
   "source": [
    "## If model didn't converge, restart and give it some more iterations:\n",
    "start_vals = getME(edit.model.4, c(\"theta\", \"fixef\"))\n",
    "edit.model.4 = update(edit.model.4, start = start_vals,\n",
    "                     control = glmerControl(optCtrl = list(maxfun = 2e4)))\n"
   ]
  },
  {
   "cell_type": "markdown",
   "metadata": {},
   "source": [
    "The model converges, but we get a warning that the fit is \"singular\". From previous analyses, we've learned that this means that the variation between wikis is not large enough to be detectable. This is partly due to the low number of wikis that we have in our current dataset. Because of this, we discard this model.\n",
    "\n",
    "## Time as a predictor\n",
    "\n",
    "Lastly, we add time as a predictor, in this case a variable measuring the number of weeks between when the user registered and the start of the experiment. This enables us to understand if the probability of a user editing changes as time progresses."
   ]
  },
  {
   "cell_type": "code",
   "execution_count": 81,
   "metadata": {},
   "outputs": [],
   "source": [
    "## 5: add time\n",
    "edit.model.5 = glmer(formula = did_edit ~ nt_pre_enabled * reg_on_mobile +\n",
    "                      ln_exp_weeks + (1 | wiki),\n",
    "                    family = binomial(link = \"logit\"), data = exp_users_train)\n"
   ]
  },
  {
   "cell_type": "code",
   "execution_count": 60,
   "metadata": {},
   "outputs": [
    {
     "data": {
      "text/plain": [
       "Generalized linear mixed model fit by maximum likelihood (Laplace\n",
       "  Approximation) [glmerMod]\n",
       " Family: binomial  ( logit )\n",
       "Formula: did_edit ~ nt_pre_enabled * reg_on_mobile + ln_exp_weeks + (1 |  \n",
       "    wiki)\n",
       "   Data: exp_users_train\n",
       "\n",
       "     AIC      BIC   logLik deviance df.resid \n",
       "  5610.1   5663.6  -2799.1   5598.1    54854 \n",
       "\n",
       "Scaled residuals: \n",
       "    Min      1Q  Median      3Q     Max \n",
       "-0.1366 -0.1039 -0.0930 -0.0832 15.1673 \n",
       "\n",
       "Random effects:\n",
       " Groups Name        Variance Std.Dev.\n",
       " wiki   (Intercept) 0.07305  0.2703  \n",
       "Number of obs: 54860, groups:  wiki, 4\n",
       "\n",
       "Fixed effects:\n",
       "                              Estimate Std. Error z value Pr(>|z|)    \n",
       "(Intercept)                  -5.075334   0.232629 -21.817  < 2e-16 ***\n",
       "nt_pre_enabled                0.031863   0.161480   0.197  0.84358    \n",
       "reg_on_mobile                 0.772502   0.136421   5.663 1.49e-08 ***\n",
       "ln_exp_weeks                 -0.007682   0.062339  -0.123  0.90192    \n",
       "nt_pre_enabled:reg_on_mobile -0.579650   0.196807  -2.945  0.00323 ** \n",
       "---\n",
       "Signif. codes:  0 ‘***’ 0.001 ‘**’ 0.01 ‘*’ 0.05 ‘.’ 0.1 ‘ ’ 1\n",
       "\n",
       "Correlation of Fixed Effects:\n",
       "            (Intr) nt_pr_ rg_n_m ln_xp_\n",
       "nt_pre_nbld -0.351                     \n",
       "reg_on_mobl -0.411  0.600              \n",
       "ln_exp_weks -0.636 -0.001  0.018       \n",
       "nt_pr_nb:__  0.289 -0.821 -0.665 -0.001"
      ]
     },
     "metadata": {},
     "output_type": "display_data"
    }
   ],
   "source": [
    "summary(edit.model.5)"
   ]
  },
  {
   "cell_type": "markdown",
   "metadata": {},
   "source": [
    "It appears that time does not have an effect in this experiment, and adding it does not improve fitness as the BIC is lower. We therefore go with model 4, that has the interaction and no other predictors.\n",
    "\n",
    "## Model across the entire dataset\n",
    "\n",
    "Our previous models were trained on a random 80% of our dataset. We switch to the full dataset and model again to get a sense of the predictors across all available data."
   ]
  },
  {
   "cell_type": "code",
   "execution_count": 82,
   "metadata": {},
   "outputs": [],
   "source": [
    "## 7: full model\n",
    "full.edit.model = glmer(formula = did_edit ~ nt_pre_enabled * reg_on_mobile + (1 | wiki),\n",
    "                    family = binomial(link = \"logit\"), data = exp_users)"
   ]
  },
  {
   "cell_type": "code",
   "execution_count": 83,
   "metadata": {},
   "outputs": [
    {
     "data": {
      "text/plain": [
       "Generalized linear mixed model fit by maximum likelihood (Laplace\n",
       "  Approximation) [glmerMod]\n",
       " Family: binomial  ( logit )\n",
       "Formula: did_edit ~ nt_pre_enabled * reg_on_mobile + (1 | wiki)\n",
       "   Data: exp_users\n",
       "\n",
       "     AIC      BIC   logLik deviance df.resid \n",
       "  7058.6   7104.2  -3524.3   7048.6    68570 \n",
       "\n",
       "Scaled residuals: \n",
       "    Min      1Q  Median      3Q     Max \n",
       "-0.1313 -0.0999 -0.0936 -0.0819 15.5291 \n",
       "\n",
       "Random effects:\n",
       " Groups Name        Variance Std.Dev.\n",
       " wiki   (Intercept) 0.07614  0.2759  \n",
       "Number of obs: 68575, groups:  wiki, 4\n",
       "\n",
       "Fixed effects:\n",
       "                             Estimate Std. Error z value Pr(>|z|)    \n",
       "(Intercept)                  -5.03156    0.17146 -29.345  < 2e-16 ***\n",
       "nt_pre_enabled               -0.09425    0.14320  -0.658  0.51042    \n",
       "reg_on_mobile                 0.67590    0.11822   5.717 1.08e-08 ***\n",
       "nt_pre_enabled:reg_on_mobile -0.45272    0.17468  -2.592  0.00955 ** \n",
       "---\n",
       "Signif. codes:  0 ‘***’ 0.001 ‘**’ 0.01 ‘*’ 0.05 ‘.’ 0.1 ‘ ’ 1\n",
       "\n",
       "Correlation of Fixed Effects:\n",
       "            (Intr) nt_pr_ rg_n_m\n",
       "nt_pre_nbld -0.393              \n",
       "reg_on_mobl -0.454  0.573       \n",
       "nt_pr_nb:__  0.321 -0.819 -0.648"
      ]
     },
     "metadata": {},
     "output_type": "display_data"
    }
   ],
   "source": [
    "summary(full.edit.model)"
   ]
  },
  {
   "cell_type": "markdown",
   "metadata": {},
   "source": [
    "The model across the full dataset shows the same kind of general trends that we saw before.\n",
    "\n",
    "1. There's no difference between the variants on desktop.\n",
    "2. If the user is on mobile and in variant A, they're much more likely to make an edit (+17%).\n",
    "3. If the user is on mobile and in variant B, they're more likely to make an edit, but less so than variant A (-11.3%)\n",
    "\n",
    "## Overview table\n",
    "\n",
    "Since we've found that results vary by wiki, where the user registered, and what variant they saw, we create an overview table to show how the probability changes."
   ]
  },
  {
   "cell_type": "code",
   "execution_count": 84,
   "metadata": {},
   "outputs": [
    {
     "data": {
      "text/html": [
       "<table>\n",
       "<caption>A data.table: 16 × 6</caption>\n",
       "<thead>\n",
       "\t<tr><th scope=col>wiki</th><th scope=col>reg_on_mobile</th><th scope=col>nt_pre_enabled</th><th scope=col>n_registrations</th><th scope=col>n_edited</th><th scope=col>percent_edited</th></tr>\n",
       "\t<tr><th scope=col>&lt;fct&gt;</th><th scope=col>&lt;int&gt;</th><th scope=col>&lt;int&gt;</th><th scope=col>&lt;int&gt;</th><th scope=col>&lt;int&gt;</th><th scope=col>&lt;dbl&gt;</th></tr>\n",
       "</thead>\n",
       "<tbody>\n",
       "\t<tr><td>arwiki</td><td>0</td><td>0</td><td> 6446</td><td> 54</td><td>0.8377288</td></tr>\n",
       "\t<tr><td>arwiki</td><td>0</td><td>1</td><td> 6472</td><td> 41</td><td>0.6334981</td></tr>\n",
       "\t<tr><td>arwiki</td><td>1</td><td>0</td><td>13592</td><td>213</td><td>1.5670983</td></tr>\n",
       "\t<tr><td>arwiki</td><td>1</td><td>1</td><td>13768</td><td>119</td><td>0.8643231</td></tr>\n",
       "\t<tr><td>cswiki</td><td>0</td><td>0</td><td> 1995</td><td> 11</td><td>0.5513784</td></tr>\n",
       "\t<tr><td>cswiki</td><td>0</td><td>1</td><td> 2028</td><td> 23</td><td>1.1341223</td></tr>\n",
       "\t<tr><td>cswiki</td><td>1</td><td>0</td><td>  915</td><td> 16</td><td>1.7486339</td></tr>\n",
       "\t<tr><td>cswiki</td><td>1</td><td>1</td><td>  833</td><td> 11</td><td>1.3205282</td></tr>\n",
       "\t<tr><td>kowiki</td><td>0</td><td>0</td><td> 2465</td><td>  5</td><td>0.2028398</td></tr>\n",
       "\t<tr><td>kowiki</td><td>0</td><td>1</td><td> 2428</td><td>  8</td><td>0.3294893</td></tr>\n",
       "\t<tr><td>kowiki</td><td>1</td><td>0</td><td> 1955</td><td> 18</td><td>0.9207161</td></tr>\n",
       "\t<tr><td>kowiki</td><td>1</td><td>1</td><td> 1970</td><td> 13</td><td>0.6598985</td></tr>\n",
       "\t<tr><td>viwiki</td><td>0</td><td>0</td><td> 4133</td><td> 33</td><td>0.7984515</td></tr>\n",
       "\t<tr><td>viwiki</td><td>0</td><td>1</td><td> 3929</td><td> 21</td><td>0.5344871</td></tr>\n",
       "\t<tr><td>viwiki</td><td>1</td><td>0</td><td> 2838</td><td> 25</td><td>0.8809020</td></tr>\n",
       "\t<tr><td>viwiki</td><td>1</td><td>1</td><td> 2808</td><td> 16</td><td>0.5698006</td></tr>\n",
       "</tbody>\n",
       "</table>\n"
      ],
      "text/latex": [
       "A data.table: 16 × 6\n",
       "\\begin{tabular}{llllll}\n",
       " wiki & reg\\_on\\_mobile & nt\\_pre\\_enabled & n\\_registrations & n\\_edited & percent\\_edited\\\\\n",
       " <fct> & <int> & <int> & <int> & <int> & <dbl>\\\\\n",
       "\\hline\n",
       "\t arwiki & 0 & 0 &  6446 &  54 & 0.8377288\\\\\n",
       "\t arwiki & 0 & 1 &  6472 &  41 & 0.6334981\\\\\n",
       "\t arwiki & 1 & 0 & 13592 & 213 & 1.5670983\\\\\n",
       "\t arwiki & 1 & 1 & 13768 & 119 & 0.8643231\\\\\n",
       "\t cswiki & 0 & 0 &  1995 &  11 & 0.5513784\\\\\n",
       "\t cswiki & 0 & 1 &  2028 &  23 & 1.1341223\\\\\n",
       "\t cswiki & 1 & 0 &   915 &  16 & 1.7486339\\\\\n",
       "\t cswiki & 1 & 1 &   833 &  11 & 1.3205282\\\\\n",
       "\t kowiki & 0 & 0 &  2465 &   5 & 0.2028398\\\\\n",
       "\t kowiki & 0 & 1 &  2428 &   8 & 0.3294893\\\\\n",
       "\t kowiki & 1 & 0 &  1955 &  18 & 0.9207161\\\\\n",
       "\t kowiki & 1 & 1 &  1970 &  13 & 0.6598985\\\\\n",
       "\t viwiki & 0 & 0 &  4133 &  33 & 0.7984515\\\\\n",
       "\t viwiki & 0 & 1 &  3929 &  21 & 0.5344871\\\\\n",
       "\t viwiki & 1 & 0 &  2838 &  25 & 0.8809020\\\\\n",
       "\t viwiki & 1 & 1 &  2808 &  16 & 0.5698006\\\\\n",
       "\\end{tabular}\n"
      ],
      "text/markdown": [
       "\n",
       "A data.table: 16 × 6\n",
       "\n",
       "| wiki &lt;fct&gt; | reg_on_mobile &lt;int&gt; | nt_pre_enabled &lt;int&gt; | n_registrations &lt;int&gt; | n_edited &lt;int&gt; | percent_edited &lt;dbl&gt; |\n",
       "|---|---|---|---|---|---|\n",
       "| arwiki | 0 | 0 |  6446 |  54 | 0.8377288 |\n",
       "| arwiki | 0 | 1 |  6472 |  41 | 0.6334981 |\n",
       "| arwiki | 1 | 0 | 13592 | 213 | 1.5670983 |\n",
       "| arwiki | 1 | 1 | 13768 | 119 | 0.8643231 |\n",
       "| cswiki | 0 | 0 |  1995 |  11 | 0.5513784 |\n",
       "| cswiki | 0 | 1 |  2028 |  23 | 1.1341223 |\n",
       "| cswiki | 1 | 0 |   915 |  16 | 1.7486339 |\n",
       "| cswiki | 1 | 1 |   833 |  11 | 1.3205282 |\n",
       "| kowiki | 0 | 0 |  2465 |   5 | 0.2028398 |\n",
       "| kowiki | 0 | 1 |  2428 |   8 | 0.3294893 |\n",
       "| kowiki | 1 | 0 |  1955 |  18 | 0.9207161 |\n",
       "| kowiki | 1 | 1 |  1970 |  13 | 0.6598985 |\n",
       "| viwiki | 0 | 0 |  4133 |  33 | 0.7984515 |\n",
       "| viwiki | 0 | 1 |  3929 |  21 | 0.5344871 |\n",
       "| viwiki | 1 | 0 |  2838 |  25 | 0.8809020 |\n",
       "| viwiki | 1 | 1 |  2808 |  16 | 0.5698006 |\n",
       "\n"
      ],
      "text/plain": [
       "   wiki   reg_on_mobile nt_pre_enabled n_registrations n_edited percent_edited\n",
       "1  arwiki 0             0               6446            54      0.8377288     \n",
       "2  arwiki 0             1               6472            41      0.6334981     \n",
       "3  arwiki 1             0              13592           213      1.5670983     \n",
       "4  arwiki 1             1              13768           119      0.8643231     \n",
       "5  cswiki 0             0               1995            11      0.5513784     \n",
       "6  cswiki 0             1               2028            23      1.1341223     \n",
       "7  cswiki 1             0                915            16      1.7486339     \n",
       "8  cswiki 1             1                833            11      1.3205282     \n",
       "9  kowiki 0             0               2465             5      0.2028398     \n",
       "10 kowiki 0             1               2428             8      0.3294893     \n",
       "11 kowiki 1             0               1955            18      0.9207161     \n",
       "12 kowiki 1             1               1970            13      0.6598985     \n",
       "13 viwiki 0             0               4133            33      0.7984515     \n",
       "14 viwiki 0             1               3929            21      0.5344871     \n",
       "15 viwiki 1             0               2838            25      0.8809020     \n",
       "16 viwiki 1             1               2808            16      0.5698006     "
      ]
     },
     "metadata": {},
     "output_type": "display_data"
    }
   ],
   "source": [
    "reg_counts = exp_users[, list(n_registrations = sum(.N)),\n",
    "                       by = c('wiki', 'reg_on_mobile', 'nt_pre_enabled')]\n",
    "edit_counts = exp_users[did_edit == 1, list(n_edited = sum(.N)),\n",
    "                        by = c('wiki', 'reg_on_mobile', 'nt_pre_enabled')]\n",
    "merged_counts = merge(reg_counts, edit_counts, by = c('wiki', 'reg_on_mobile', 'nt_pre_enabled'))\n",
    "merged_counts[, percent_edited := 100 * n_edited / n_registrations]\n",
    "merged_counts"
   ]
  },
  {
   "cell_type": "code",
   "execution_count": 92,
   "metadata": {},
   "outputs": [],
   "source": [
    "merged_counts[, platform := 'desktop']\n",
    "merged_counts[reg_on_mobile == 1, platform := 'mobile']\n",
    "merged_counts$platform = factor(merged_counts$platform)\n",
    "\n",
    "merged_counts[, variant := 'A']\n",
    "merged_counts[nt_pre_enabled == 1, variant := 'B']\n",
    "merged_counts$variant = factor(merged_counts$variant)"
   ]
  },
  {
   "cell_type": "code",
   "execution_count": 102,
   "metadata": {},
   "outputs": [
    {
     "data": {
      "image/png": "[encoded data removed]",
      "text/plain": [
       "plot without title"
      ]
     },
     "metadata": {
      "image/png": {
       "height": 420,
       "width": 840
      },
      "text/plain": {
       "height": 420,
       "width": 840
      }
     },
     "output_type": "display_data"
    }
   ],
   "source": [
    "options(repr.plot.width = 14, repr.plot.height = 7)\n",
    "g = ggplot(merged_counts, aes(x = platform, y = percent_edited, fill = variant)) +\n",
    "    theme_bw() +\n",
    "    theme(axis.title.x = element_text(size = rel(1.5)),\n",
    "        axis.text.x = element_text(size = rel(1.25)),\n",
    "        axis.title.y = element_text(size = rel(1.5)),\n",
    "        axis.text.y = element_text(size = rel(1.25))) +\n",
    "    scale_fill_brewer(\"Variant\", palette = 'Set1', labels = c(A = 'No-init', B = 'Pre-init')) +\n",
    "    labs(x = \"Platform\", y = \"Probability (in %)\") +\n",
    "    facet_grid(. ~ wiki) +\n",
    "    geom_col(position = \"dodge2\")\n",
    "\n",
    "ggsave(plot = g, file = \"graphs/tagged_edit_probabilities.png\",\n",
    "       width = 14, height = 7, units = \"in\", dpi = \"retina\")\n",
    "g"
   ]
  },
  {
   "cell_type": "markdown",
   "metadata": {},
   "source": [
    "The table displays some of the trends that the regression model also found. Across the board, we see lower probability of making a tagged edit if the user registered on mobile and saw variant B compared to variant A.\n",
    "\n",
    "On desktop, we see conflicting patterns. Variant B has lower probability of editing on Arabic and Vietnamese Wikipedia, but higher probability on Czech and Korean. This is likely why we find \"no difference\" overall, because we do not have enough wikis to be able to determine whether these differences are significant from each other.\n",
    "\n",
    "## Summary\n",
    "\n",
    "We use data on registrations from launch of the variant A/B test in mid-December 2019 until mid-May 2020 to understand if there is a significant difference in the probability of making a tagged edit. Our dataset contains 68,575 accounts.\n",
    "\n",
    "Our statistical model indicates that the impact of the variant changes depending on whether the user registered on the desktop or mobile site. On desktop, we find no difference between the two variants. On mobile, we find that variant B has a significantly lower probability of making an edit.\n",
    "\n",
    "Recommendation: either 1) figure out why variant B performs so much lower on mobile, or 2) give all new registrations variant A.\n",
    "\n",
    "## Additional analysis\n",
    "\n",
    "What's the probability difference across the dataset for A vs B?"
   ]
  },
  {
   "cell_type": "code",
   "execution_count": 107,
   "metadata": {},
   "outputs": [
    {
     "data": {
      "text/html": [
       "<table>\n",
       "<caption>A data.table: 4 × 5</caption>\n",
       "<thead>\n",
       "\t<tr><th scope=col>platform</th><th scope=col>variant</th><th scope=col>n_registrations</th><th scope=col>n_edited</th><th scope=col>perc_edited</th></tr>\n",
       "\t<tr><th scope=col>&lt;fct&gt;</th><th scope=col>&lt;fct&gt;</th><th scope=col>&lt;int&gt;</th><th scope=col>&lt;int&gt;</th><th scope=col>&lt;dbl&gt;</th></tr>\n",
       "</thead>\n",
       "<tbody>\n",
       "\t<tr><td>desktop</td><td>A</td><td>15039</td><td>103</td><td>0.6848860</td></tr>\n",
       "\t<tr><td>desktop</td><td>B</td><td>14857</td><td> 93</td><td>0.6259676</td></tr>\n",
       "\t<tr><td>mobile </td><td>A</td><td>19300</td><td>272</td><td>1.4093264</td></tr>\n",
       "\t<tr><td>mobile </td><td>B</td><td>19379</td><td>159</td><td>0.8204758</td></tr>\n",
       "</tbody>\n",
       "</table>\n"
      ],
      "text/latex": [
       "A data.table: 4 × 5\n",
       "\\begin{tabular}{lllll}\n",
       " platform & variant & n\\_registrations & n\\_edited & perc\\_edited\\\\\n",
       " <fct> & <fct> & <int> & <int> & <dbl>\\\\\n",
       "\\hline\n",
       "\t desktop & A & 15039 & 103 & 0.6848860\\\\\n",
       "\t desktop & B & 14857 &  93 & 0.6259676\\\\\n",
       "\t mobile  & A & 19300 & 272 & 1.4093264\\\\\n",
       "\t mobile  & B & 19379 & 159 & 0.8204758\\\\\n",
       "\\end{tabular}\n"
      ],
      "text/markdown": [
       "\n",
       "A data.table: 4 × 5\n",
       "\n",
       "| platform &lt;fct&gt; | variant &lt;fct&gt; | n_registrations &lt;int&gt; | n_edited &lt;int&gt; | perc_edited &lt;dbl&gt; |\n",
       "|---|---|---|---|---|\n",
       "| desktop | A | 15039 | 103 | 0.6848860 |\n",
       "| desktop | B | 14857 |  93 | 0.6259676 |\n",
       "| mobile  | A | 19300 | 272 | 1.4093264 |\n",
       "| mobile  | B | 19379 | 159 | 0.8204758 |\n",
       "\n"
      ],
      "text/plain": [
       "  platform variant n_registrations n_edited perc_edited\n",
       "1 desktop  A       15039           103      0.6848860  \n",
       "2 desktop  B       14857            93      0.6259676  \n",
       "3 mobile   A       19300           272      1.4093264  \n",
       "4 mobile   B       19379           159      0.8204758  "
      ]
     },
     "metadata": {},
     "output_type": "display_data"
    }
   ],
   "source": [
    "merged_counts[, list(n_registrations = sum(n_registrations), n_edited = sum(n_edited),\n",
    "                     perc_edited = 100 * sum(n_edited) / sum(n_registrations)),\n",
    "              by = c('platform', 'variant')]"
   ]
  },
  {
   "cell_type": "code",
   "execution_count": 108,
   "metadata": {},
   "outputs": [
    {
     "data": {
      "text/html": [
       "0.418026969481902"
      ],
      "text/latex": [
       "0.418026969481902"
      ],
      "text/markdown": [
       "0.418026969481902"
      ],
      "text/plain": [
       "[1] 0.418027"
      ]
     },
     "metadata": {},
     "output_type": "display_data"
    }
   ],
   "source": [
    "(1.409 - 0.820) / 1.409"
   ]
  }
 ],
 "metadata": {
  "kernelspec": {
   "display_name": "R",
   "language": "R",
   "name": "ir"
  },
  "language_info": {
   "codemirror_mode": "r",
   "file_extension": ".r",
   "mimetype": "text/x-r-source",
   "name": "R",
   "pygments_lexer": "r",
   "version": "3.5.2"
  }
 },
 "nbformat": 4,
 "nbformat_minor": 4
}
