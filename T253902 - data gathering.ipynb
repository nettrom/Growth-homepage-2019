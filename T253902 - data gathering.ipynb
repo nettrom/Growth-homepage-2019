{
 "cells": [
  {
   "cell_type": "markdown",
   "metadata": {},
   "source": [
    "# Newcomer Task edits in the AB variant test\n",
    "\n",
    "The phabricator task for this work is [T253902](https://phabricator.wikimedia.org/T253902).\n",
    "\n",
    "We want to understand if there's a meaningful difference in the probability that a user completes at least one edit tagged with \"newcomer task\" within 15 days of registration between variants A and B.\n",
    "\n",
    "To analyze this, we'll grab data in the same way that we did for the previous analysis of interactions, but focus on the number of tagged edits done."
   ]
  },
  {
   "cell_type": "markdown",
   "metadata": {},
   "source": [
    "## Timestamps\n",
    "\n",
    "The variant test launched on \"2019-12-13T00:32:04Z\" (ref [T238888#5738223](https://phabricator.wikimedia.org/T238888#5738223)). That's just after midnight on a Friday.\n",
    "\n",
    "We're gathering data on 2020-06-01. In order to enable gathering 14 days of data from each user, and to use whole weeks of data, we are limiting this to users registered prior to midnight on 2020-05-15."
   ]
  },
  {
   "cell_type": "code",
   "execution_count": 1,
   "metadata": {},
   "outputs": [],
   "source": [
    "import json\n",
    "import datetime as dt\n",
    "\n",
    "import numpy as np\n",
    "import pandas as pd\n",
    "\n",
    "from wmfdata import hive, spark, mariadb\n",
    "from growth import utils"
   ]
  },
  {
   "cell_type": "markdown",
   "metadata": {},
   "source": [
    "# Canonical user dataset\n",
    "\n",
    "Gather a canonical dataset of user registrations (user ID, user registration timestamp), their treatment/control assignment, and whether they registered from desktop or mobile."
   ]
  },
  {
   "cell_type": "code",
   "execution_count": 4,
   "metadata": {},
   "outputs": [],
   "source": [
    "## Configuration variables\n",
    "\n",
    "wmf_snapshot = '2020-04'\n",
    "\n",
    "wikis = ['cswiki', 'kowiki', 'viwiki', 'arwiki']\n",
    "\n",
    "## Start and end timestamps of data gathering for each wiki, corresponding to the dates/times\n",
    "## listed above.\n",
    "\n",
    "cs_start_ts = dt.datetime(2019, 12, 13, 0, 32, 4)\n",
    "cs_end_ts = dt.datetime(2020, 5, 15, 0, 0, 0)\n",
    "\n",
    "ko_start_ts = cs_start_ts\n",
    "ko_end_ts = cs_end_ts\n",
    "\n",
    "vi_start_ts = cs_start_ts\n",
    "vi_end_ts = cs_end_ts\n",
    "\n",
    "ar_start_ts = cs_start_ts\n",
    "ar_end_ts = cs_end_ts\n",
    "\n",
    "## User IDs of known users to exclude (e.g. Stephane, Elena, and Marshall's accounts)\n",
    "known_users = {\n",
    "    'cswiki' : set([322106, 339583, 341191, 341611, 433381, 433382, 433511, 404765, 421667,\n",
    "                      427625, 437386, 181724, 272273, 339583, 437386, 439783, 439792, 138342,\n",
    "                      392634, 404765, 275298, 458487, 458049]),\n",
    "    'kowiki' : set([384066, 539296, 539299, 539302, 539303, 539304, 539305, 539306, 539307,\n",
    "                      539298, 416361, 416360, 413162, 495265, 518393, 518394, 518396, 530285,\n",
    "                      531579, 531785, 536786, 536787, 542720, 542721, 542722, 543192, 543193,\n",
    "                      544145, 544283, 470932, 38759, 555673]),\n",
    "    'viwiki' : set(),\n",
    "    'arwiki' : set()\n",
    "}\n",
    "\n",
    "## Filename of where the canonical dataset is stored.\n",
    "tsv_output_file = \"/home/nettrom/src/Growth-homepage-2019/datasets/variant-test-1-canonical-users.tsv\"\n",
    "tsv_user_file = \"/home/nettrom/src/Growth-homepage-2019/datasets/variant-test-1-users.tsv\"\n",
    "tsv_usage_file = \"/home/nettrom/src/Growth-homepage-2019/datasets/variant-test-1-usage.tsv\""
   ]
  },
  {
   "cell_type": "code",
   "execution_count": 58,
   "metadata": {},
   "outputs": [],
   "source": [
    "tsv_tagged_edits_file = \"/home/nettrom/src/Growth-homepage-2019/datasets/variant-test-1-tagged-edit-counts.tsv\""
   ]
  },
  {
   "cell_type": "markdown",
   "metadata": {},
   "source": [
    "## Get known test accounts"
   ]
  },
  {
   "cell_type": "code",
   "execution_count": 5,
   "metadata": {},
   "outputs": [],
   "source": [
    "## Grab the user IDs of known test accounts so they can be added to the exclusion list\n",
    "\n",
    "def get_known_users(wiki):\n",
    "    '''\n",
    "    Get user IDs of known test accounts and return a set of them.\n",
    "    '''\n",
    "    \n",
    "    username_patterns = [\"MMiller\", \"Zilant\", \"Roan\", \"KHarlan\", \"MWang\", \"SBtest\",\n",
    "                         \"Cloud\", \"Rho2019\", \"Test\"]\n",
    "\n",
    "    known_user_query = '''\n",
    "SELECT user_id\n",
    "FROM user\n",
    "WHERE user_name LIKE \"{name_pattern}%\"\n",
    "    '''\n",
    "    \n",
    "    known_users = set()\n",
    "    \n",
    "    for u_pattern in username_patterns:\n",
    "        new_known = mariadb.run(known_user_query.format(\n",
    "            name_pattern = u_pattern), wiki)\n",
    "        known_users = known_users | set(new_known['user_id'])\n",
    "\n",
    "    return(known_users)\n",
    "        \n",
    "for wiki in wikis:\n",
    "    known_users[wiki] = known_users[wiki] | get_known_users(wiki)"
   ]
  },
  {
   "cell_type": "markdown",
   "metadata": {},
   "source": [
    "## Get all registrations\n",
    "\n",
    "We grab registrations from the ServerSideAccountCreation schema. This allows us to identify whether the user created the account themselves, and whether they registered through the API. We require the user to register the account themselves. Registrations through the API are typically app installs, so we filter those out.\n",
    "\n",
    "Using this also enables us to identify whether the user registered on the desktop or mobile site, so we can control for that in our analyses.\n",
    "\n",
    "We also grab self-registrations from MediaWiki, together with usernames and information on whether the user is currently in the bot user group. This allows us to compare the two sources to identify discrepancies, as well as remove known bot accounts for our analyis."
   ]
  },
  {
   "cell_type": "code",
   "execution_count": 13,
   "metadata": {},
   "outputs": [],
   "source": [
    "user_registrations_query = '''\n",
    "SELECT wiki, event.userid AS user_id,\n",
    "       dt AS reg_timestamp,\n",
    "       CAST(event.displaymobile AS INT) AS reg_on_mobile\n",
    "FROM event_sanitized.serversideaccountcreation\n",
    "WHERE ((year = 2019 AND month >= 12) OR year = 2020)\n",
    "AND wiki IN (\"cswiki\", \"kowiki\", \"viwiki\", \"arwiki\")\n",
    "AND event.isselfmade = true\n",
    "AND event.isapi = false\n",
    "AND (\n",
    "    (wiki = \"cswiki\"\n",
    "     AND dt > \"{cs_start_time}\"\n",
    "     AND dt < \"{cs_end_time}\"\n",
    "     AND event.userid NOT IN ({cs_known_users}))\n",
    "    OR\n",
    "    (wiki = \"kowiki\"\n",
    "     AND dt > \"{cs_start_time}\"\n",
    "     AND dt < \"{cs_end_time}\"\n",
    "     AND event.userid NOT IN ({ko_known_users}))\n",
    "    OR\n",
    "    (wiki = \"viwiki\"\n",
    "     AND dt > \"{vi_start_time}\"\n",
    "     AND dt < \"{cs_end_time}\"\n",
    "     AND event.userid NOT IN ({vi_known_users}))\n",
    "    OR\n",
    "    (wiki = \"arwiki\"\n",
    "     AND dt > \"{ar_start_time}\"\n",
    "     AND dt < \"{cs_end_time}\"\n",
    "     AND event.userid NOT IN ({ar_known_users}))\n",
    ")\n",
    "'''"
   ]
  },
  {
   "cell_type": "code",
   "execution_count": 14,
   "metadata": {},
   "outputs": [],
   "source": [
    "user_registrations = spark.run(\n",
    "    user_registrations_query.format(\n",
    "        cs_start_time = cs_start_ts.strftime(utils.hive_format),\n",
    "        cs_end_time = cs_end_ts.strftime(utils.hive_format),\n",
    "        vi_start_time = vi_start_ts.strftime(utils.hive_format),\n",
    "        ar_start_time = ar_start_ts.strftime(utils.hive_format),\n",
    "        cs_known_users = ', '.join([str(u) for u in known_users['cswiki']]),\n",
    "        ko_known_users = ', '.join([str(u) for u in known_users['kowiki']]),\n",
    "        vi_known_users = ', '.join([str(u) for u in known_users['viwiki']]),\n",
    "        ar_known_users = ', '.join([str(u) for u in known_users['arwiki']]),\n",
    "    )\n",
    ")"
   ]
  },
  {
   "cell_type": "code",
   "execution_count": 15,
   "metadata": {},
   "outputs": [
    {
     "data": {
      "text/plain": [
       "'2019-12-13T00:37:16Z'"
      ]
     },
     "execution_count": 15,
     "metadata": {},
     "output_type": "execute_result"
    }
   ],
   "source": [
    "## verify first registration in the dataset\n",
    "user_registrations['reg_timestamp'].min()"
   ]
  },
  {
   "cell_type": "code",
   "execution_count": 16,
   "metadata": {},
   "outputs": [
    {
     "data": {
      "text/plain": [
       "'2020-05-14T23:59:30Z'"
      ]
     },
     "execution_count": 16,
     "metadata": {},
     "output_type": "execute_result"
    }
   ],
   "source": [
    "## verify last registration in the dataset\n",
    "user_registrations['reg_timestamp'].max()"
   ]
  },
  {
   "cell_type": "code",
   "execution_count": 9,
   "metadata": {},
   "outputs": [],
   "source": [
    "def get_mw_regs(wikis, start_timestamp, end_timestamp):\n",
    "\n",
    "    ## Query to get self-registrations through MediaWiki.\n",
    "    ## Also grabbing usernames, bot-info in username, bot user group membership.\n",
    "\n",
    "    ## From Analytics Engineering: https://gerrit.wikimedia.org/r/#/c/analytics/refinery/source/+/504025/\n",
    "    botUsernamePattern = r\"^.*bot([^a-z].*$|$)\"\n",
    "    \n",
    "    ## Using \"CONVERT\" to make the regexp case-insensitive\n",
    "    mw_reg_query = '''\n",
    "    SELECT \"{wiki}\" AS wiki,\n",
    "           user_id, user_name, user_registration,\n",
    "           IF(CONVERT (user_name USING utf8) REGEXP \"{bot_regex}\", 1, 0) AS bot_by_name,\n",
    "           IF(ug_user IS NOT NULL, 1, 0) AS bot_by_group\n",
    "    FROM user\n",
    "    JOIN actor\n",
    "    ON user_id = actor_user\n",
    "    JOIN logging\n",
    "    ON log_actor = actor_id\n",
    "    LEFT JOIN (\n",
    "        SELECT ug_user\n",
    "        FROM user_groups\n",
    "        WHERE ug_group = \"bot\"\n",
    "    ) AS ug\n",
    "    ON user_id = ug_user\n",
    "    WHERE user_registration >= \"{start_ts}\"\n",
    "    AND user_registration < \"{end_ts}\"\n",
    "    AND log_type = \"newusers\"\n",
    "    AND log_action = \"create\" -- only self-creations\n",
    "    '''\n",
    "    \n",
    "    regs = list()\n",
    "    for wiki in wikis:\n",
    "        regs.append(\n",
    "            mariadb.run(\n",
    "                mw_reg_query.format(\n",
    "                    wiki = wiki,\n",
    "                    bot_regex = botUsernamePattern,\n",
    "                    start_ts = start_timestamp.strftime(utils.mw_format),\n",
    "                    end_ts = end_timestamp.strftime(utils.mw_format)\n",
    "                ), wiki\n",
    "            )\n",
    "        )\n",
    "                   \n",
    "        \n",
    "    return(pd.concat(regs))"
   ]
  },
  {
   "cell_type": "code",
   "execution_count": 10,
   "metadata": {},
   "outputs": [],
   "source": [
    "mw_regs = get_mw_regs(user_registrations['wiki'].unique(), cs_start_ts, cs_end_ts)"
   ]
  },
  {
   "cell_type": "code",
   "execution_count": 11,
   "metadata": {},
   "outputs": [
    {
     "data": {
      "text/html": [
       "<div>\n",
       "<style scoped>\n",
       "    .dataframe tbody tr th:only-of-type {\n",
       "        vertical-align: middle;\n",
       "    }\n",
       "\n",
       "    .dataframe tbody tr th {\n",
       "        vertical-align: top;\n",
       "    }\n",
       "\n",
       "    .dataframe thead th {\n",
       "        text-align: right;\n",
       "    }\n",
       "</style>\n",
       "<table border=\"1\" class=\"dataframe\">\n",
       "  <thead>\n",
       "    <tr style=\"text-align: right;\">\n",
       "      <th></th>\n",
       "      <th>user_id</th>\n",
       "    </tr>\n",
       "    <tr>\n",
       "      <th>wiki</th>\n",
       "      <th></th>\n",
       "    </tr>\n",
       "  </thead>\n",
       "  <tbody>\n",
       "    <tr>\n",
       "      <th>arwiki</th>\n",
       "      <td>59834</td>\n",
       "    </tr>\n",
       "    <tr>\n",
       "      <th>cswiki</th>\n",
       "      <td>8460</td>\n",
       "    </tr>\n",
       "    <tr>\n",
       "      <th>kowiki</th>\n",
       "      <td>12914</td>\n",
       "    </tr>\n",
       "    <tr>\n",
       "      <th>viwiki</th>\n",
       "      <td>21009</td>\n",
       "    </tr>\n",
       "  </tbody>\n",
       "</table>\n",
       "</div>"
      ],
      "text/plain": [
       "        user_id\n",
       "wiki           \n",
       "arwiki    59834\n",
       "cswiki     8460\n",
       "kowiki    12914\n",
       "viwiki    21009"
      ]
     },
     "execution_count": 11,
     "metadata": {},
     "output_type": "execute_result"
    }
   ],
   "source": [
    "mw_regs.groupby('wiki').agg({'user_id' : 'size'})"
   ]
  },
  {
   "cell_type": "code",
   "execution_count": 17,
   "metadata": {},
   "outputs": [
    {
     "data": {
      "text/html": [
       "<div>\n",
       "<style scoped>\n",
       "    .dataframe tbody tr th:only-of-type {\n",
       "        vertical-align: middle;\n",
       "    }\n",
       "\n",
       "    .dataframe tbody tr th {\n",
       "        vertical-align: top;\n",
       "    }\n",
       "\n",
       "    .dataframe thead th {\n",
       "        text-align: right;\n",
       "    }\n",
       "</style>\n",
       "<table border=\"1\" class=\"dataframe\">\n",
       "  <thead>\n",
       "    <tr style=\"text-align: right;\">\n",
       "      <th></th>\n",
       "      <th>user_id</th>\n",
       "    </tr>\n",
       "    <tr>\n",
       "      <th>wiki</th>\n",
       "      <th></th>\n",
       "    </tr>\n",
       "  </thead>\n",
       "  <tbody>\n",
       "    <tr>\n",
       "      <th>arwiki</th>\n",
       "      <td>50768</td>\n",
       "    </tr>\n",
       "    <tr>\n",
       "      <th>cswiki</th>\n",
       "      <td>7302</td>\n",
       "    </tr>\n",
       "    <tr>\n",
       "      <th>kowiki</th>\n",
       "      <td>11071</td>\n",
       "    </tr>\n",
       "    <tr>\n",
       "      <th>viwiki</th>\n",
       "      <td>17286</td>\n",
       "    </tr>\n",
       "  </tbody>\n",
       "</table>\n",
       "</div>"
      ],
      "text/plain": [
       "        user_id\n",
       "wiki           \n",
       "arwiki    50768\n",
       "cswiki     7302\n",
       "kowiki    11071\n",
       "viwiki    17286"
      ]
     },
     "execution_count": 17,
     "metadata": {},
     "output_type": "execute_result"
    }
   ],
   "source": [
    "## What's the number of registrations?\n",
    "\n",
    "user_registrations.groupby('wiki').agg({'user_id' : 'size'})"
   ]
  },
  {
   "cell_type": "markdown",
   "metadata": {},
   "source": [
    "Given that we can't filter out app registrations, it's difficult to compare these numbers and be sure that they're correct. However, they're not too far off. Can we find all the SSAC users in the MediaWiki database?"
   ]
  },
  {
   "cell_type": "code",
   "execution_count": 18,
   "metadata": {},
   "outputs": [],
   "source": [
    "all_users = user_registrations.merge(mw_regs, on = ['wiki', 'user_id'])"
   ]
  },
  {
   "cell_type": "code",
   "execution_count": 19,
   "metadata": {},
   "outputs": [
    {
     "data": {
      "text/html": [
       "<div>\n",
       "<style scoped>\n",
       "    .dataframe tbody tr th:only-of-type {\n",
       "        vertical-align: middle;\n",
       "    }\n",
       "\n",
       "    .dataframe tbody tr th {\n",
       "        vertical-align: top;\n",
       "    }\n",
       "\n",
       "    .dataframe thead th {\n",
       "        text-align: right;\n",
       "    }\n",
       "</style>\n",
       "<table border=\"1\" class=\"dataframe\">\n",
       "  <thead>\n",
       "    <tr style=\"text-align: right;\">\n",
       "      <th></th>\n",
       "      <th>user_id</th>\n",
       "    </tr>\n",
       "    <tr>\n",
       "      <th>wiki</th>\n",
       "      <th></th>\n",
       "    </tr>\n",
       "  </thead>\n",
       "  <tbody>\n",
       "    <tr>\n",
       "      <th>arwiki</th>\n",
       "      <td>50768</td>\n",
       "    </tr>\n",
       "    <tr>\n",
       "      <th>cswiki</th>\n",
       "      <td>7302</td>\n",
       "    </tr>\n",
       "    <tr>\n",
       "      <th>kowiki</th>\n",
       "      <td>11071</td>\n",
       "    </tr>\n",
       "    <tr>\n",
       "      <th>viwiki</th>\n",
       "      <td>17286</td>\n",
       "    </tr>\n",
       "  </tbody>\n",
       "</table>\n",
       "</div>"
      ],
      "text/plain": [
       "        user_id\n",
       "wiki           \n",
       "arwiki    50768\n",
       "cswiki     7302\n",
       "kowiki    11071\n",
       "viwiki    17286"
      ]
     },
     "execution_count": 19,
     "metadata": {},
     "output_type": "execute_result"
    }
   ],
   "source": [
    "all_users.groupby('wiki').agg({'user_id' : 'size'})"
   ]
  },
  {
   "cell_type": "markdown",
   "metadata": {},
   "source": [
    "Yeah, looks like they all exist, so let's go with that."
   ]
  },
  {
   "cell_type": "code",
   "execution_count": 20,
   "metadata": {},
   "outputs": [],
   "source": [
    "## Dropping the user name column, it's no longer needed.\n",
    "all_users.drop('user_name', axis = 'columns', inplace = True)"
   ]
  },
  {
   "cell_type": "code",
   "execution_count": 21,
   "metadata": {},
   "outputs": [],
   "source": [
    "## Removing all bots by name or group membership\n",
    "all_users = all_users.loc[(all_users['bot_by_name'] == 0) & (all_users['bot_by_group'] == 0)]"
   ]
  },
  {
   "cell_type": "code",
   "execution_count": 22,
   "metadata": {},
   "outputs": [
    {
     "data": {
      "text/html": [
       "<div>\n",
       "<style scoped>\n",
       "    .dataframe tbody tr th:only-of-type {\n",
       "        vertical-align: middle;\n",
       "    }\n",
       "\n",
       "    .dataframe tbody tr th {\n",
       "        vertical-align: top;\n",
       "    }\n",
       "\n",
       "    .dataframe thead th {\n",
       "        text-align: right;\n",
       "    }\n",
       "</style>\n",
       "<table border=\"1\" class=\"dataframe\">\n",
       "  <thead>\n",
       "    <tr style=\"text-align: right;\">\n",
       "      <th></th>\n",
       "      <th>user_id</th>\n",
       "    </tr>\n",
       "    <tr>\n",
       "      <th>wiki</th>\n",
       "      <th></th>\n",
       "    </tr>\n",
       "  </thead>\n",
       "  <tbody>\n",
       "    <tr>\n",
       "      <th>arwiki</th>\n",
       "      <td>50745</td>\n",
       "    </tr>\n",
       "    <tr>\n",
       "      <th>cswiki</th>\n",
       "      <td>7292</td>\n",
       "    </tr>\n",
       "    <tr>\n",
       "      <th>kowiki</th>\n",
       "      <td>11059</td>\n",
       "    </tr>\n",
       "    <tr>\n",
       "      <th>viwiki</th>\n",
       "      <td>17279</td>\n",
       "    </tr>\n",
       "  </tbody>\n",
       "</table>\n",
       "</div>"
      ],
      "text/plain": [
       "        user_id\n",
       "wiki           \n",
       "arwiki    50745\n",
       "cswiki     7292\n",
       "kowiki    11059\n",
       "viwiki    17279"
      ]
     },
     "execution_count": 22,
     "metadata": {},
     "output_type": "execute_result"
    }
   ],
   "source": [
    "all_users.groupby('wiki').agg({'user_id' : 'size'})"
   ]
  },
  {
   "cell_type": "markdown",
   "metadata": {},
   "source": [
    "## Get treatment/control assignments\n",
    "\n",
    "This involves two operations.\n",
    "\n",
    "1. Get all users who have the Homepage turned on in their preferences.\n",
    "2. Get all users who have Newcomer Tasks pre-initialized.\n",
    "\n",
    "Users who don't have the Homepage turned on are candidates for the control group, and likewise for the experiment group. Secondary, we assign pre-initialized status to users who have that preference set. Once we remove all users who changed their preferences, our group assignments should be correct."
   ]
  },
  {
   "cell_type": "code",
   "execution_count": 23,
   "metadata": {},
   "outputs": [],
   "source": [
    "def get_prop_settings(wiki, prop, col_name, users=None):\n",
    "    '''\n",
    "    Query and return a `pandas.DataFrame` with columns `wiki` and `user_id` of all users who have\n",
    "    the given property turned on in their preferences for that given wiki.\n",
    "    \n",
    "    :param wiki: database code of the wiki we're querying\n",
    "    :type wiki: str\n",
    "    \n",
    "    :param prop: the user preference we're querying for\n",
    "    :type prop: str\n",
    "    \n",
    "    :param col_name: name that the column with preference value should have in the\n",
    "                     resulting DataFrame (e.g. \"is_treatment\")\n",
    "    :type col_name: str\n",
    "    \n",
    "    :param users: user IDs of the users we are interested in. This is optional.\n",
    "    :type users: list\n",
    "    '''\n",
    "    \n",
    "    prop_query = '''\n",
    "    SELECT \"{wiki}\" AS wiki, up_user AS user_id,\n",
    "           CAST(up_value AS UNSIGNED INTEGER) AS {col_name}\n",
    "    FROM user_properties\n",
    "    WHERE up_property = \"{prop}\"\n",
    "    '''.format(wiki = wiki, prop = prop, col_name = col_name)\n",
    "    \n",
    "    if users is not None:\n",
    "        prop_query += '''\n",
    "        AND up_user IN ({})\n",
    "        '''.format(','.join([str(uid) for uid in users]))\n",
    "        \n",
    "    return(mariadb.run(prop_query, wiki))"
   ]
  },
  {
   "cell_type": "code",
   "execution_count": 24,
   "metadata": {},
   "outputs": [],
   "source": [
    "## Get treatment/control assignments from the MW databases\n",
    "\n",
    "hp_prefs = pd.concat(\n",
    "    [get_prop_settings('cswiki', 'growthexperiments-homepage-enable', 'hp_enabled'),\n",
    "     get_prop_settings('kowiki', 'growthexperiments-homepage-enable', 'hp_enabled'),\n",
    "     get_prop_settings('viwiki', 'growthexperiments-homepage-enable', 'hp_enabled'),\n",
    "     get_prop_settings('arwiki', 'growthexperiments-homepage-enable', 'hp_enabled')\n",
    "    ])"
   ]
  },
  {
   "cell_type": "code",
   "execution_count": 25,
   "metadata": {},
   "outputs": [],
   "source": [
    "all_users = all_users.merge(hp_prefs, on = ['wiki', 'user_id'], how = 'left').fillna(0)"
   ]
  },
  {
   "cell_type": "code",
   "execution_count": 26,
   "metadata": {},
   "outputs": [],
   "source": [
    "## Get variant settings from the MW database\n",
    "\n",
    "variant_prefs = pd.concat(\n",
    "    [get_prop_settings('cswiki', 'growthexperiments-homepage-suggestededits-preactivated', 'nt_pre_enabled'),\n",
    "     get_prop_settings('kowiki', 'growthexperiments-homepage-suggestededits-preactivated', 'nt_pre_enabled'),\n",
    "     get_prop_settings('viwiki', 'growthexperiments-homepage-suggestededits-preactivated', 'nt_pre_enabled'),\n",
    "     get_prop_settings('arwiki', 'growthexperiments-homepage-suggestededits-preactivated', 'nt_pre_enabled')\n",
    "    ])"
   ]
  },
  {
   "cell_type": "code",
   "execution_count": 27,
   "metadata": {},
   "outputs": [],
   "source": [
    "all_users = all_users.merge(variant_prefs, on = ['wiki', 'user_id'], how = 'left').fillna(0)"
   ]
  },
  {
   "cell_type": "markdown",
   "metadata": {},
   "source": [
    "## Users who turned the Homepage on/off in their preferences\n",
    "\n",
    "Lastly, we identify all users who turned the Homepage on or off in their preferences, as that means they self-selected into or out of our group assignments. These users can therefore not be part of the analysis."
   ]
  },
  {
   "cell_type": "code",
   "execution_count": 28,
   "metadata": {},
   "outputs": [],
   "source": [
    "## Second, identify all users who either turned the Homepage on themselves, or at some point\n",
    "## turned the preference off.\n",
    "\n",
    "switch_query = '''\n",
    "SELECT wiki, event.userid AS user_id, event.value\n",
    "FROM event_sanitized.prefupdate\n",
    "WHERE ((year = 2019 AND month >= 11) OR year = 2020)\n",
    "AND wiki IN (\"cswiki\", \"kowiki\", \"viwiki\", \"arwiki\")\n",
    "AND event.property = \"{prop}\"\n",
    "'''"
   ]
  },
  {
   "cell_type": "code",
   "execution_count": 29,
   "metadata": {},
   "outputs": [],
   "source": [
    "switched_users = spark.run(\n",
    "    switch_query.format(\n",
    "        prop = 'growthexperiments-homepage-enable'\n",
    "    )\n",
    ")"
   ]
  },
  {
   "cell_type": "markdown",
   "metadata": {},
   "source": [
    "How many users switched?"
   ]
  },
  {
   "cell_type": "code",
   "execution_count": 30,
   "metadata": {},
   "outputs": [
    {
     "data": {
      "text/plain": [
       "885"
      ]
     },
     "execution_count": 30,
     "metadata": {},
     "output_type": "execute_result"
    }
   ],
   "source": [
    "len(switched_users)"
   ]
  },
  {
   "cell_type": "markdown",
   "metadata": {},
   "source": [
    "That's a surprisingly high number compared to other interventions we've run. I'm now curious to learn to what extent users turn this on or off, and how many users in the experiment who actually turned it on/off."
   ]
  },
  {
   "cell_type": "code",
   "execution_count": 31,
   "metadata": {},
   "outputs": [
    {
     "data": {
      "text/html": [
       "<div>\n",
       "<style scoped>\n",
       "    .dataframe tbody tr th:only-of-type {\n",
       "        vertical-align: middle;\n",
       "    }\n",
       "\n",
       "    .dataframe tbody tr th {\n",
       "        vertical-align: top;\n",
       "    }\n",
       "\n",
       "    .dataframe thead th {\n",
       "        text-align: right;\n",
       "    }\n",
       "</style>\n",
       "<table border=\"1\" class=\"dataframe\">\n",
       "  <thead>\n",
       "    <tr style=\"text-align: right;\">\n",
       "      <th></th>\n",
       "      <th></th>\n",
       "      <th>user_id</th>\n",
       "    </tr>\n",
       "    <tr>\n",
       "      <th>wiki</th>\n",
       "      <th>value</th>\n",
       "      <th></th>\n",
       "    </tr>\n",
       "  </thead>\n",
       "  <tbody>\n",
       "    <tr>\n",
       "      <th rowspan=\"2\" valign=\"top\">arwiki</th>\n",
       "      <th>false</th>\n",
       "      <td>75</td>\n",
       "    </tr>\n",
       "    <tr>\n",
       "      <th>true</th>\n",
       "      <td>261</td>\n",
       "    </tr>\n",
       "    <tr>\n",
       "      <th rowspan=\"2\" valign=\"top\">cswiki</th>\n",
       "      <th>false</th>\n",
       "      <td>54</td>\n",
       "    </tr>\n",
       "    <tr>\n",
       "      <th>true</th>\n",
       "      <td>133</td>\n",
       "    </tr>\n",
       "    <tr>\n",
       "      <th rowspan=\"2\" valign=\"top\">kowiki</th>\n",
       "      <th>false</th>\n",
       "      <td>66</td>\n",
       "    </tr>\n",
       "    <tr>\n",
       "      <th>true</th>\n",
       "      <td>122</td>\n",
       "    </tr>\n",
       "    <tr>\n",
       "      <th rowspan=\"2\" valign=\"top\">viwiki</th>\n",
       "      <th>false</th>\n",
       "      <td>31</td>\n",
       "    </tr>\n",
       "    <tr>\n",
       "      <th>true</th>\n",
       "      <td>143</td>\n",
       "    </tr>\n",
       "  </tbody>\n",
       "</table>\n",
       "</div>"
      ],
      "text/plain": [
       "              user_id\n",
       "wiki   value         \n",
       "arwiki false       75\n",
       "       true       261\n",
       "cswiki false       54\n",
       "       true       133\n",
       "kowiki false       66\n",
       "       true       122\n",
       "viwiki false       31\n",
       "       true       143"
      ]
     },
     "execution_count": 31,
     "metadata": {},
     "output_type": "execute_result"
    }
   ],
   "source": [
    "switched_users.groupby(['wiki', 'value']).agg({'user_id' : 'size'})"
   ]
  },
  {
   "cell_type": "markdown",
   "metadata": {},
   "source": [
    "Ok, so largely users are turning the Homepage *on*, not off. Given the number of users in our dataset, I don't think we're looking at a significant proportion turning it off."
   ]
  },
  {
   "cell_type": "code",
   "execution_count": 32,
   "metadata": {},
   "outputs": [],
   "source": [
    "## Left-join with switched users\n",
    "\n",
    "all_users = all_users.merge(switched_users,\n",
    "                            on = ['wiki', 'user_id'], how = 'left')"
   ]
  },
  {
   "cell_type": "markdown",
   "metadata": {},
   "source": [
    "Now, for wiki and registration method, aggregate how many users turned it on or off, and how many didn't change it."
   ]
  },
  {
   "cell_type": "code",
   "execution_count": 33,
   "metadata": {},
   "outputs": [
    {
     "data": {
      "text/html": [
       "<div>\n",
       "<style scoped>\n",
       "    .dataframe tbody tr th:only-of-type {\n",
       "        vertical-align: middle;\n",
       "    }\n",
       "\n",
       "    .dataframe tbody tr th {\n",
       "        vertical-align: top;\n",
       "    }\n",
       "\n",
       "    .dataframe thead th {\n",
       "        text-align: right;\n",
       "    }\n",
       "</style>\n",
       "<table border=\"1\" class=\"dataframe\">\n",
       "  <thead>\n",
       "    <tr style=\"text-align: right;\">\n",
       "      <th></th>\n",
       "      <th></th>\n",
       "      <th></th>\n",
       "      <th>user_id</th>\n",
       "    </tr>\n",
       "    <tr>\n",
       "      <th>wiki</th>\n",
       "      <th>reg_on_mobile</th>\n",
       "      <th>value</th>\n",
       "      <th></th>\n",
       "    </tr>\n",
       "  </thead>\n",
       "  <tbody>\n",
       "    <tr>\n",
       "      <th rowspan=\"4\" valign=\"top\">arwiki</th>\n",
       "      <th rowspan=\"2\" valign=\"top\">0</th>\n",
       "      <th>false</th>\n",
       "      <td>19</td>\n",
       "    </tr>\n",
       "    <tr>\n",
       "      <th>true</th>\n",
       "      <td>46</td>\n",
       "    </tr>\n",
       "    <tr>\n",
       "      <th rowspan=\"2\" valign=\"top\">1</th>\n",
       "      <th>false</th>\n",
       "      <td>25</td>\n",
       "    </tr>\n",
       "    <tr>\n",
       "      <th>true</th>\n",
       "      <td>39</td>\n",
       "    </tr>\n",
       "    <tr>\n",
       "      <th rowspan=\"3\" valign=\"top\">cswiki</th>\n",
       "      <th rowspan=\"2\" valign=\"top\">0</th>\n",
       "      <th>false</th>\n",
       "      <td>17</td>\n",
       "    </tr>\n",
       "    <tr>\n",
       "      <th>true</th>\n",
       "      <td>10</td>\n",
       "    </tr>\n",
       "    <tr>\n",
       "      <th>1</th>\n",
       "      <th>true</th>\n",
       "      <td>1</td>\n",
       "    </tr>\n",
       "    <tr>\n",
       "      <th rowspan=\"4\" valign=\"top\">kowiki</th>\n",
       "      <th rowspan=\"2\" valign=\"top\">0</th>\n",
       "      <th>false</th>\n",
       "      <td>9</td>\n",
       "    </tr>\n",
       "    <tr>\n",
       "      <th>true</th>\n",
       "      <td>12</td>\n",
       "    </tr>\n",
       "    <tr>\n",
       "      <th rowspan=\"2\" valign=\"top\">1</th>\n",
       "      <th>false</th>\n",
       "      <td>26</td>\n",
       "    </tr>\n",
       "    <tr>\n",
       "      <th>true</th>\n",
       "      <td>35</td>\n",
       "    </tr>\n",
       "    <tr>\n",
       "      <th rowspan=\"4\" valign=\"top\">viwiki</th>\n",
       "      <th rowspan=\"2\" valign=\"top\">0</th>\n",
       "      <th>false</th>\n",
       "      <td>6</td>\n",
       "    </tr>\n",
       "    <tr>\n",
       "      <th>true</th>\n",
       "      <td>24</td>\n",
       "    </tr>\n",
       "    <tr>\n",
       "      <th rowspan=\"2\" valign=\"top\">1</th>\n",
       "      <th>false</th>\n",
       "      <td>9</td>\n",
       "    </tr>\n",
       "    <tr>\n",
       "      <th>true</th>\n",
       "      <td>17</td>\n",
       "    </tr>\n",
       "  </tbody>\n",
       "</table>\n",
       "</div>"
      ],
      "text/plain": [
       "                            user_id\n",
       "wiki   reg_on_mobile value         \n",
       "arwiki 0             false       19\n",
       "                     true        46\n",
       "       1             false       25\n",
       "                     true        39\n",
       "cswiki 0             false       17\n",
       "                     true        10\n",
       "       1             true         1\n",
       "kowiki 0             false        9\n",
       "                     true        12\n",
       "       1             false       26\n",
       "                     true        35\n",
       "viwiki 0             false        6\n",
       "                     true        24\n",
       "       1             false        9\n",
       "                     true        17"
      ]
     },
     "execution_count": 33,
     "metadata": {},
     "output_type": "execute_result"
    }
   ],
   "source": [
    "all_users.groupby(['wiki', 'reg_on_mobile', 'value']).agg({'user_id' : 'size'})"
   ]
  },
  {
   "cell_type": "code",
   "execution_count": 34,
   "metadata": {},
   "outputs": [
    {
     "data": {
      "text/plain": [
       "86422"
      ]
     },
     "execution_count": 34,
     "metadata": {},
     "output_type": "execute_result"
    }
   ],
   "source": [
    "len(all_users)"
   ]
  },
  {
   "cell_type": "code",
   "execution_count": 35,
   "metadata": {},
   "outputs": [
    {
     "data": {
      "text/plain": [
       "295"
      ]
     },
     "execution_count": 35,
     "metadata": {},
     "output_type": "execute_result"
    }
   ],
   "source": [
    "len(all_users.loc[~all_users['value'].isna()])"
   ]
  },
  {
   "cell_type": "code",
   "execution_count": 36,
   "metadata": {},
   "outputs": [
    {
     "data": {
      "text/plain": [
       "0.3"
      ]
     },
     "execution_count": 36,
     "metadata": {},
     "output_type": "execute_result"
    }
   ],
   "source": [
    "round(100 * len(all_users.loc[~all_users['value'].isna()]) / len(all_users), 1)"
   ]
  },
  {
   "cell_type": "markdown",
   "metadata": {},
   "source": [
    "So, at the time of writing (June 1, 2020), we've only had 295 out of 86,422 users in the experiment turn it on or off. Most of these turned it *on*, btw. That's 0.3% of users."
   ]
  },
  {
   "cell_type": "code",
   "execution_count": 37,
   "metadata": {},
   "outputs": [],
   "source": [
    "all_users = all_users.loc[all_users['value'].isna()].copy()"
   ]
  },
  {
   "cell_type": "code",
   "execution_count": 38,
   "metadata": {},
   "outputs": [],
   "source": [
    "## Drop the 'value' column, it's no longer needed\n",
    "all_users.drop('value', axis = 'columns', inplace = True)"
   ]
  },
  {
   "cell_type": "code",
   "execution_count": 40,
   "metadata": {},
   "outputs": [],
   "source": [
    "## Drop the 'reg_timestamp' column, it's also no longer needed\n",
    "all_users.drop('reg_timestamp', axis = 'columns', inplace = True)"
   ]
  },
  {
   "cell_type": "code",
   "execution_count": 42,
   "metadata": {},
   "outputs": [
    {
     "data": {
      "text/html": [
       "<div>\n",
       "<style scoped>\n",
       "    .dataframe tbody tr th:only-of-type {\n",
       "        vertical-align: middle;\n",
       "    }\n",
       "\n",
       "    .dataframe tbody tr th {\n",
       "        vertical-align: top;\n",
       "    }\n",
       "\n",
       "    .dataframe thead th {\n",
       "        text-align: right;\n",
       "    }\n",
       "</style>\n",
       "<table border=\"1\" class=\"dataframe\">\n",
       "  <thead>\n",
       "    <tr style=\"text-align: right;\">\n",
       "      <th></th>\n",
       "      <th>wiki</th>\n",
       "      <th>user_id</th>\n",
       "      <th>reg_on_mobile</th>\n",
       "      <th>user_registration</th>\n",
       "      <th>bot_by_name</th>\n",
       "      <th>bot_by_group</th>\n",
       "      <th>hp_enabled</th>\n",
       "      <th>nt_pre_enabled</th>\n",
       "    </tr>\n",
       "  </thead>\n",
       "  <tbody>\n",
       "    <tr>\n",
       "      <th>0</th>\n",
       "      <td>arwiki</td>\n",
       "      <td>1796993</td>\n",
       "      <td>1</td>\n",
       "      <td>20200115200510</td>\n",
       "      <td>0</td>\n",
       "      <td>0</td>\n",
       "      <td>0</td>\n",
       "      <td>0</td>\n",
       "    </tr>\n",
       "    <tr>\n",
       "      <th>1</th>\n",
       "      <td>arwiki</td>\n",
       "      <td>1797003</td>\n",
       "      <td>1</td>\n",
       "      <td>20200115202129</td>\n",
       "      <td>0</td>\n",
       "      <td>0</td>\n",
       "      <td>1</td>\n",
       "      <td>0</td>\n",
       "    </tr>\n",
       "    <tr>\n",
       "      <th>2</th>\n",
       "      <td>arwiki</td>\n",
       "      <td>1797030</td>\n",
       "      <td>1</td>\n",
       "      <td>20200115205649</td>\n",
       "      <td>0</td>\n",
       "      <td>0</td>\n",
       "      <td>1</td>\n",
       "      <td>1</td>\n",
       "    </tr>\n",
       "    <tr>\n",
       "      <th>3</th>\n",
       "      <td>arwiki</td>\n",
       "      <td>1797023</td>\n",
       "      <td>0</td>\n",
       "      <td>20200115205046</td>\n",
       "      <td>0</td>\n",
       "      <td>0</td>\n",
       "      <td>1</td>\n",
       "      <td>1</td>\n",
       "    </tr>\n",
       "    <tr>\n",
       "      <th>4</th>\n",
       "      <td>arwiki</td>\n",
       "      <td>1796996</td>\n",
       "      <td>1</td>\n",
       "      <td>20200115201116</td>\n",
       "      <td>0</td>\n",
       "      <td>0</td>\n",
       "      <td>0</td>\n",
       "      <td>0</td>\n",
       "    </tr>\n",
       "  </tbody>\n",
       "</table>\n",
       "</div>"
      ],
      "text/plain": [
       "     wiki  user_id  reg_on_mobile user_registration  bot_by_name  \\\n",
       "0  arwiki  1796993              1    20200115200510            0   \n",
       "1  arwiki  1797003              1    20200115202129            0   \n",
       "2  arwiki  1797030              1    20200115205649            0   \n",
       "3  arwiki  1797023              0    20200115205046            0   \n",
       "4  arwiki  1796996              1    20200115201116            0   \n",
       "\n",
       "   bot_by_group  hp_enabled  nt_pre_enabled  \n",
       "0             0           0               0  \n",
       "1             0           1               0  \n",
       "2             0           1               1  \n",
       "3             0           1               1  \n",
       "4             0           0               0  "
      ]
     },
     "execution_count": 42,
     "metadata": {},
     "output_type": "execute_result"
    }
   ],
   "source": [
    "all_users.head()"
   ]
  },
  {
   "cell_type": "code",
   "execution_count": 41,
   "metadata": {},
   "outputs": [],
   "source": [
    "## Turn hp_enabled, nt_pre_enabled, and reg_on_mobile into ints\n",
    "\n",
    "all_users['hp_enabled'] = all_users['hp_enabled'].astype(int)\n",
    "all_users['nt_pre_enabled'] = all_users['nt_pre_enabled'].astype(int)"
   ]
  },
  {
   "cell_type": "markdown",
   "metadata": {},
   "source": [
    "## Grab edit data for these users\n",
    "\n",
    "We use the `event.mediawiki_revision_tags_change` table in the Data Lake to get data on the number of edits tagged with \"newcomer task\" made by users registered between the start and end of our data gathering window."
   ]
  },
  {
   "cell_type": "code",
   "execution_count": 44,
   "metadata": {},
   "outputs": [],
   "source": [
    "tagged_edits_query = '''\n",
    "SELECT `database` AS wiki, performer.user_id, count(DISTINCT rev_id) AS num_edits\n",
    "FROM event.mediawiki_revision_tags_change\n",
    "WHERE datacenter = \"eqiad\"\n",
    "AND ((year = 2019 AND month = 12) OR year = 2020)\n",
    "AND `database` IN (\"cswiki\", \"kowiki\", \"viwiki\", \"arwiki\")\n",
    "AND performer.user_registration_dt >= \"{start_ts}\"\n",
    "AND performer.user_registration_dt < \"{end_ts}\"\n",
    "AND array_contains(tags, \"newcomer task\")\n",
    "AND unix_timestamp(rev_timestamp, \"yyyy-MM-dd'T'HH:mm:ss'Z'\") -\n",
    "    unix_timestamp(performer.user_registration_dt, \"yyyy-MM-dd'T'HH:mm:ss'Z'\") < 60*60*24*14\n",
    "GROUP BY `database`, performer.user_id\n",
    "'''"
   ]
  },
  {
   "cell_type": "code",
   "execution_count": 45,
   "metadata": {},
   "outputs": [],
   "source": [
    "tagged_edits = spark.run(tagged_edits_query.format(\n",
    "    start_ts = cs_start_ts.strftime(utils.hive_format),\n",
    "    end_ts = cs_end_ts.strftime(utils.hive_format)\n",
    "))"
   ]
  },
  {
   "cell_type": "code",
   "execution_count": null,
   "metadata": {},
   "outputs": [],
   "source": [
    "## Grab a few user IDs from Czech Wikipedia to verify against the replicated databases\n",
    "tagged_edits.loc[tagged_edits['wiki'] == 'cswiki'].head()"
   ]
  },
  {
   "cell_type": "code",
   "execution_count": 51,
   "metadata": {},
   "outputs": [],
   "source": [
    "## Query to verify number of edits for those users\n",
    "\n",
    "verification_query = '''\n",
    "SELECT actor_user, user_registration, revactor_rev, revactor_timestamp\n",
    "FROM actor\n",
    "JOIN user\n",
    "ON actor_user = user_id\n",
    "JOIN revision_actor_temp\n",
    "ON actor_id = revactor_actor\n",
    "JOIN change_tag\n",
    "ON revactor_rev  = ct_rev_id\n",
    "JOIN change_tag_def\n",
    "ON ct_tag_id = ctd_id\n",
    "WHERE actor_user = {user_id}\n",
    "AND ctd_name = \"newcomer task\"\n",
    "'''"
   ]
  },
  {
   "cell_type": "code",
   "execution_count": null,
   "metadata": {},
   "outputs": [],
   "source": [
    "mariadb.run(verification_query, 'cswiki')"
   ]
  },
  {
   "cell_type": "markdown",
   "metadata": {},
   "source": [
    "Counts for a couple of the users appears to be correct. Left-join with the user data."
   ]
  },
  {
   "cell_type": "code",
   "execution_count": 53,
   "metadata": {},
   "outputs": [],
   "source": [
    "users_and_edits = all_users.merge(tagged_edits, how = 'left', on = ['wiki', 'user_id'])"
   ]
  },
  {
   "cell_type": "code",
   "execution_count": 56,
   "metadata": {},
   "outputs": [],
   "source": [
    "users_and_edits = users_and_edits.fillna(0)"
   ]
  },
  {
   "cell_type": "code",
   "execution_count": 57,
   "metadata": {},
   "outputs": [],
   "source": [
    "users_and_edits['num_edits'] = users_and_edits['num_edits'].astype(int)"
   ]
  },
  {
   "cell_type": "markdown",
   "metadata": {},
   "source": [
    "Write out to a TSV to be imported into R."
   ]
  },
  {
   "cell_type": "code",
   "execution_count": 59,
   "metadata": {},
   "outputs": [],
   "source": [
    "## Export users and usage data to TSVs for reading into R for analysis\n",
    "\n",
    "users_and_edits.to_csv(tsv_tagged_edits_file, sep = '\\t', header = True, index = False)"
   ]
  }
 ],
 "metadata": {
  "kernelspec": {
   "display_name": "Python 3",
   "language": "python",
   "name": "python3"
  },
  "language_info": {
   "codemirror_mode": {
    "name": "ipython",
    "version": 3
   },
   "file_extension": ".py",
   "mimetype": "text/x-python",
   "name": "python",
   "nbconvert_exporter": "python",
   "pygments_lexer": "ipython3",
   "version": "3.7.3"
  }
 },
 "nbformat": 4,
 "nbformat_minor": 4
}
