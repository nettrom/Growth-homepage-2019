{
 "cells": [
  {
   "cell_type": "markdown",
   "metadata": {},
   "source": [
    "# Revert events in mediawiki_revision_tags_change\n",
    "\n",
    "This notebook shows how to count revisions and flag reverts based on edit tags using the `event.mediawiki_revision_tags_change` table in the Data Lake. In this notebook we'll be querying it using Spark. The principles apply if you're using Presto or Hive, but some of the syntax might change.\n",
    "\n",
    "## Revert tags\n",
    "\n",
    "The GSoC project to add a \"reverted\" filter ([T248775](https://phabricator.wikimedia.org/T248775)) introduced tags for reverts into MediaWiki ([T254074](https://phabricator.wikimedia.org/T254074)). Tags are applied both to the *reverting* revision (the one making the revert) and the *reverted* revision (the one that's being undone). This notebook focuses on the latter, because we're often interested in understanding revert rates in our analyses.\n",
    "\n",
    "Tags in `event.mediawiki_revision_tags_change` use the system names, for reverts that is \"mw-reverted\". On-wiki the tag is translated into the language of the user interface, in English that's \"Reverted\". This tag was deployed to production on 2020-09-15 (ref: [T164307#6463808](https://phabricator.wikimedia.org/T164307#6463808)).\n",
    "\n",
    "Because these tags are applied when the revert takes place, it means that there can be a significant difference in time between the initial revision and it being reverted. This difference can be identified by comparing the timestamp of the event (`meta.dt`) with the revision timestamp (`rev_timestamp`). As we'll see, this can allow us to apply the common 48 hour cutoff for counting reverts (see [Research:Revert#Cutoffs for time to revert and edit radius](https://meta.wikimedia.org/wiki/Research:Revert#Cutoffs_for_time_to_revert_and_edit_radius) for more information).\n",
    "\n",
    "We have previously known that a revision can have multiple tag change events (see [T218246#5981155](https://phabricator.wikimedia.org/T218246#5981155) for more about this). The introduction of the \"mw-reverted\" tag likely makes this a more common occurrence since reverts are commonplace. In our queries, it means that we'll need to count distinct revision IDs, or aggregate over revision IDs in order to de-duplicate these events.\n",
    "\n",
    "In this example, we'll count the number of revisions made on the English Wikipedia on 2020-10-10, count the number of those that have had the \"mw-reverted\" tag applied as of 2020-10-26, and the number of those tags that were applied within 48 hours of the revision being made. This query can be further expanded to for example iterate over a group of (or all) wikis, extract contributor-specific information, etc, as needed."
   ]
  },
  {
   "cell_type": "code",
   "execution_count": 1,
   "metadata": {},
   "outputs": [],
   "source": [
    "from wmfdata import spark"
   ]
  },
  {
   "cell_type": "code",
   "execution_count": 17,
   "metadata": {},
   "outputs": [],
   "source": [
    "revision_count_query = '''\n",
    "WITH revs AS (\n",
    "    SELECT\n",
    "        rev_id,\n",
    "        MAX(IF(array_contains(tags, 'mw-reverted'), 1, 0)) AS was_reverted, -- was reverted?\n",
    "        MAX(IF(array_contains(tags, 'mw-reverted') AND\n",
    "           (unix_timestamp(meta.dt, \"yyyy-MM-dd'T'HH:mm:ss'Z'\") -\n",
    "            unix_timestamp(rev_timestamp, \"yyyy-MM-dd'T'HH:mm:ss'Z'\") < 60*60*48), 1, 0))\n",
    "            AS was_reverted_48hrs -- reverted within 48 hours?\n",
    "    FROM event.mediawiki_revision_tags_change\n",
    "    WHERE year = 2020\n",
    "    AND month = 10\n",
    "    AND day = 10\n",
    "    AND `database` = \"enwiki\"\n",
    "    GROUP BY rev_id\n",
    ")\n",
    "SELECT\n",
    "    SUM(1) AS num_revisions,\n",
    "    SUM(was_reverted) AS num_reverted,\n",
    "    SUM(was_reverted_48hrs) AS num_reverted_48_hrs\n",
    "FROM revs\n",
    "'''"
   ]
  },
  {
   "cell_type": "code",
   "execution_count": 18,
   "metadata": {},
   "outputs": [],
   "source": [
    "revision_counts = spark.run(revision_count_query)"
   ]
  },
  {
   "cell_type": "code",
   "execution_count": 19,
   "metadata": {},
   "outputs": [
    {
     "data": {
      "text/html": [
       "<div>\n",
       "<style scoped>\n",
       "    .dataframe tbody tr th:only-of-type {\n",
       "        vertical-align: middle;\n",
       "    }\n",
       "\n",
       "    .dataframe tbody tr th {\n",
       "        vertical-align: top;\n",
       "    }\n",
       "\n",
       "    .dataframe thead th {\n",
       "        text-align: right;\n",
       "    }\n",
       "</style>\n",
       "<table border=\"1\" class=\"dataframe\">\n",
       "  <thead>\n",
       "    <tr style=\"text-align: right;\">\n",
       "      <th></th>\n",
       "      <th>num_revisions</th>\n",
       "      <th>num_reverted</th>\n",
       "      <th>num_reverted_48_hrs</th>\n",
       "    </tr>\n",
       "  </thead>\n",
       "  <tbody>\n",
       "    <tr>\n",
       "      <th>0</th>\n",
       "      <td>61953</td>\n",
       "      <td>12998</td>\n",
       "      <td>10667</td>\n",
       "    </tr>\n",
       "  </tbody>\n",
       "</table>\n",
       "</div>"
      ],
      "text/plain": [
       "   num_revisions  num_reverted  num_reverted_48_hrs\n",
       "0          61953         12998                10667"
      ]
     },
     "execution_count": 19,
     "metadata": {},
     "output_type": "execute_result"
    }
   ],
   "source": [
    "revision_counts"
   ]
  },
  {
   "cell_type": "markdown",
   "metadata": {},
   "source": [
    "We can then use this to calculate revert rates. First the proportion of edits that are currently labelled as reverted, and secondly the proportion of edits that were labelled as reverted within 48 hours of being made."
   ]
  },
  {
   "cell_type": "code",
   "execution_count": 20,
   "metadata": {},
   "outputs": [
    {
     "data": {
      "text/plain": [
       "0    20.98\n",
       "dtype: float64"
      ]
     },
     "execution_count": 20,
     "metadata": {},
     "output_type": "execute_result"
    }
   ],
   "source": [
    "round(100 * revision_counts['num_reverted'] / revision_counts['num_revisions'], 2)"
   ]
  },
  {
   "cell_type": "code",
   "execution_count": 21,
   "metadata": {},
   "outputs": [
    {
     "data": {
      "text/plain": [
       "0    17.22\n",
       "dtype: float64"
      ]
     },
     "execution_count": 21,
     "metadata": {},
     "output_type": "execute_result"
    }
   ],
   "source": [
    "round(100 * revision_counts['num_reverted_48_hrs'] / revision_counts['num_revisions'], 2)"
   ]
  }
 ],
 "metadata": {
  "kernelspec": {
   "display_name": "Python 3",
   "language": "python",
   "name": "python3"
  },
  "language_info": {
   "codemirror_mode": {
    "name": "ipython",
    "version": 3
   },
   "file_extension": ".py",
   "mimetype": "text/x-python",
   "name": "python",
   "nbconvert_exporter": "python",
   "pygments_lexer": "ipython3",
   "version": "3.7.3"
  }
 },
 "nbformat": 4,
 "nbformat_minor": 4
}
