{
 "cells": [
  {
   "cell_type": "markdown",
   "metadata": {},
   "source": [
    "# Interacting with the Newcomer Task Module\n",
    "\n",
    "What percent of visitors to the Homepage interact with the Newcomer Task module?\n",
    "\n",
    "From the conversation in [the phab task](https://phabricator.wikimedia.org/T264831#6658203), it's clear that interacting means: interacting with the topic or difficulty filter buttons, navigating cards with the arrows, hovering on the \"i\", or selecting a task.\n",
    "\n",
    "This is exactly the same on desktop and mobile. We therefore need to ignore the onboarding overlays for Variant C, and ignore the module initialization steps in Variant D. This gives us the following approaches:\n",
    "\n",
    "* Variant C: The overlays shown are onboarding overlays, they don't allow for any interaction. And they're all logged as `se-cta-*` events. In other words, interacting with the topic or difficulty filters happens after the onboarding screen. So for Variant C, we count all interaction events.\n",
    "* Variant D: grab the timestamp of their `se-activate` event, or their first task impression (or pseudo-impression). This can then identify when the clock starts for counting interaction events."
   ]
  },
  {
   "cell_type": "code",
   "execution_count": 1,
   "metadata": {},
   "outputs": [],
   "source": [
    "import json\n",
    "import datetime as dt\n",
    "\n",
    "from collections import defaultdict\n",
    "\n",
    "import numpy as np\n",
    "import pandas as pd\n",
    "\n",
    "from wmfdata import hive, spark, mariadb\n",
    "from growth import utils"
   ]
  },
  {
   "cell_type": "code",
   "execution_count": 15,
   "metadata": {},
   "outputs": [],
   "source": [
    "## Start timestamp of the Variant C/D experiment, which is when the edit tag bug fix went into place\n",
    "exp_start_ts = dt.datetime(2020, 10, 28, 18, 40, 2)\n",
    "\n",
    "## Ordered list of wikis that we'll be gathering data for\n",
    "## Note that we're excluding euwiki due to their small number of registrations\n",
    "wikis = ['cswiki', 'kowiki', 'viwiki', 'arwiki', 'ukwiki', 'huwiki', 'srwiki', 'hywiki',\n",
    "         'frwiki', 'fawiki', 'hewiki', 'ruwiki', 'plwiki', 'ptwiki', 'svwiki', 'trwiki']\n",
    "\n",
    "## The mediawiki_history snapshot we'll be working with\n",
    "wmf_snapshot = '2020-11'\n",
    "\n",
    "## The canonical user table that we'll join mediawiki_history with\n",
    "canonical_user_table = 'nettrom_growth.hp_variant_test2'\n",
    "\n",
    "## Where we write out the resulting dataset for further analysis\n",
    "interaction_counts_output_filename = 'datasets/variant-test-2-interaction-counts.tsv'"
   ]
  },
  {
   "cell_type": "markdown",
   "metadata": {},
   "source": [
    "## Interaction Data"
   ]
  },
  {
   "cell_type": "code",
   "execution_count": 22,
   "metadata": {},
   "outputs": [],
   "source": [
    "interaction_query = '''\n",
    "WITH hp_visits AS( -- visits within 24 hours of registration\n",
    "    SELECT users.wiki_db, users.user_id,\n",
    "    1 AS visited_homepage\n",
    "    FROM {exp_user_table} users\n",
    "    JOIN event_sanitized.homepagemodule hpm\n",
    "    ON (users.wiki_db = hpm.wiki\n",
    "        AND users.user_id = hpm.event.user_id)\n",
    "    WHERE hpm.year = 2020\n",
    "    AND hpm.month IN (10, 11)\n",
    "    AND (unix_timestamp(hpm.dt, \"yyyy-MM-dd'T'HH:mm:ss'Z'\") -\n",
    "         unix_timestamp(users.user_registration, \"yyyyMMddHHmmss\") < 86400) -- within 24 hours of registration\n",
    "    GROUP BY users.wiki_db, users.user_id\n",
    "),\n",
    "var_c AS ( -- user in Variant C group and interacted within 24 hours of registration\n",
    "    SELECT users.wiki_db, users.user_id, 1 AS did_interact\n",
    "    FROM {exp_user_table} users\n",
    "    JOIN event_sanitized.homepagemodule hpm\n",
    "    ON (users.wiki_db = hpm.wiki\n",
    "        AND users.user_id = hpm.event.user_id)\n",
    "    WHERE hpm.year = 2020\n",
    "    AND hpm.month IN (10, 11)\n",
    "    AND (unix_timestamp(hpm.dt, \"yyyy-MM-dd'T'HH:mm:ss'Z'\") -\n",
    "         unix_timestamp(users.user_registration, \"yyyyMMddHHmmss\") < 86400) -- within 24 hours of registration\n",
    "    AND users.hp_variant = \"C\" -- Variant C\n",
    "    AND event.action IN ( -- the types of interaction that we count\n",
    "        \"se-taskfilter-open\", \"se-taskfilter-done\", \"se-taskfilter-cancel\",\n",
    "        \"se-topicfilter-open\", \"se-topicfilter-select-all\", \"se-topicfilter-remove-all\",\n",
    "        \"se-topicfilter-done\", \"se-topicfilter-cancel\",\n",
    "        \"se-task-navigation\", \"se-task-click\",\n",
    "        \"se-explanation-open\", \"se-explanation-close\", \"se-explanation-link-click\"\n",
    "    )\n",
    "    GROUP BY users.wiki_db, users.user_id\n",
    "),\n",
    "var_d AS ( -- user in Variant D, activated the module and interacted within 24 hours of registration\n",
    "    SELECT wiki AS wiki_db, event.user_id, 1 AS did_interact\n",
    "    FROM event_sanitized.homepagemodule hpm\n",
    "    JOIN (\n",
    "        SELECT users.wiki_db, users.user_id, first_value(users.user_registration) AS user_registration,\n",
    "               MIN(hpm2.dt) AS init_dt\n",
    "        FROM {exp_user_table} users\n",
    "        JOIN event_sanitized.homepagemodule hpm2\n",
    "        ON (users.wiki_db = hpm2.wiki\n",
    "            AND users.user_id = hpm2.event.user_id)\n",
    "        WHERE year = 2020\n",
    "        AND month IN (10, 11)\n",
    "        AND (unix_timestamp(hpm2.dt, \"yyyy-MM-dd'T'HH:mm:ss'Z'\") -\n",
    "             unix_timestamp(users.user_registration, \"yyyyMMddHHmmss\") < 86400) -- w/i 24 hours\n",
    "        AND users.hp_variant = \"D\" -- Variant D\n",
    "        AND event.action IN (\"se-activate\", \"se-task-impression\", \"se-task-pseudo-impression\")\n",
    "        GROUP BY users.wiki_db, users.user_id\n",
    "    ) AS u\n",
    "    ON (hpm.wiki = u.wiki_db\n",
    "        AND hpm.event.user_id = u.user_id)\n",
    "    WHERE year = 2020\n",
    "    AND month IN (10, 11)\n",
    "    AND (unix_timestamp(hpm.dt, \"yyyy-MM-dd'T'HH:mm:ss'Z'\") -\n",
    "         unix_timestamp(u.user_registration, \"yyyyMMddHHmmss\") < 86400) -- w/i 24 hours of registration\n",
    "    AND hpm.dt > u.init_dt -- after module initialization\n",
    "    AND event.action IN ( -- the types of interaction that we count\n",
    "        \"se-taskfilter-open\", \"se-taskfilter-done\", \"se-taskfilter-cancel\",\n",
    "        \"se-topicfilter-open\", \"se-topicfilter-select-all\", \"se-topicfilter-remove-all\",\n",
    "        \"se-topicfilter-done\", \"se-topicfilter-cancel\",\n",
    "        \"se-task-navigation\", \"se-task-click\",\n",
    "        \"se-explanation-open\", \"se-explanation-close\", \"se-explanation-link-click\"\n",
    "    )\n",
    "    GROUP BY hpm.wiki, hpm.event.user_id \n",
    ")\n",
    "SELECT u.wiki_db, u.user_id, u.user_registration, u.reg_on_mobile, u.hp_enabled, u.hp_variant,\n",
    "       COALESCE(hp_visits.visited_homepage, 0) AS visited_homepage,\n",
    "       COALESCE(int.did_interact, 0) AS did_interact\n",
    "FROM {exp_user_table} AS u\n",
    "LEFT JOIN hp_visits\n",
    "ON u.wiki_db = hp_visits.wiki_db\n",
    "AND u.user_id = hp_visits.user_id\n",
    "LEFT JOIN (\n",
    "    SELECT *\n",
    "    FROM var_c\n",
    "    UNION ALL\n",
    "    SELECT *\n",
    "    FROM var_d\n",
    ") AS int\n",
    "ON (hp_visits.wiki_db = int.wiki_db\n",
    "    AND hp_visits.user_id = int.user_id)\n",
    "'''"
   ]
  },
  {
   "cell_type": "code",
   "execution_count": 23,
   "metadata": {},
   "outputs": [],
   "source": [
    "interaction_data = spark.run(\n",
    "    interaction_query.format(\n",
    "        exp_user_table = canonical_user_table\n",
    "    )\n",
    ")"
   ]
  },
  {
   "cell_type": "markdown",
   "metadata": {},
   "source": [
    "Verify the number of users we have in the dataset and that it corresponds to the same number of users in the task navigation and click dataset."
   ]
  },
  {
   "cell_type": "code",
   "execution_count": 24,
   "metadata": {},
   "outputs": [
    {
     "data": {
      "text/plain": [
       "67599"
      ]
     },
     "execution_count": 24,
     "metadata": {},
     "output_type": "execute_result"
    }
   ],
   "source": [
    "len(interaction_data)"
   ]
  },
  {
   "cell_type": "code",
   "execution_count": 27,
   "metadata": {},
   "outputs": [
    {
     "data": {
      "text/plain": [
       "32615"
      ]
     },
     "execution_count": 27,
     "metadata": {},
     "output_type": "execute_result"
    }
   ],
   "source": [
    "len(interaction_data.loc[(interaction_data['hp_enabled'] == 1) &\n",
    "                         (interaction_data['hp_variant'].isin(['C', 'D'])) &\n",
    "                         (interaction_data['visited_homepage'] == 1)])"
   ]
  },
  {
   "cell_type": "markdown",
   "metadata": {},
   "source": [
    "That is the exact number of visitors as we have in the task navigation and task clicks dataset, so we can move ahead with analyzing this dataset."
   ]
  },
  {
   "cell_type": "code",
   "execution_count": null,
   "metadata": {},
   "outputs": [],
   "source": [
    "interaction_data.loc[interaction_data['visited_homepage'] > 0].head()"
   ]
  },
  {
   "cell_type": "code",
   "execution_count": null,
   "metadata": {},
   "outputs": [],
   "source": [
    "interaction_data.loc[interaction_data['did_interact'] > 0].head()"
   ]
  },
  {
   "cell_type": "markdown",
   "metadata": {},
   "source": [
    "Write out the dataset for importing into R for further analysis."
   ]
  },
  {
   "cell_type": "code",
   "execution_count": 30,
   "metadata": {},
   "outputs": [],
   "source": [
    "interaction_data.to_csv(interaction_counts_output_filename,\n",
    "                        header = True, index = False, sep = '\\t')"
   ]
  }
 ],
 "metadata": {
  "kernelspec": {
   "display_name": "Python 3",
   "language": "python",
   "name": "python3"
  },
  "language_info": {
   "codemirror_mode": {
    "name": "ipython",
    "version": 3
   },
   "file_extension": ".py",
   "mimetype": "text/x-python",
   "name": "python",
   "nbconvert_exporter": "python",
   "pygments_lexer": "ipython3",
   "version": "3.7.3"
  }
 },
 "nbformat": 4,
 "nbformat_minor": 4
}
