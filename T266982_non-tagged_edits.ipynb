{
 "cells": [
  {
   "cell_type": "markdown",
   "metadata": {},
   "source": [
    "# Data Gathering of Non-Tagged Edits\n",
    "\n",
    "[T266982](https://phabricator.wikimedia.org/T266982) aims to understand the effect of the Homepage with Newcomer Tasks outside of edits made through the Newcomer Tasks module.\n",
    "\n",
    "This notebook modifies the data gathering query used for the productivity analysis to only gather non-tagged edits, then stores that in a TSV for reading into R later."
   ]
  },
  {
   "cell_type": "code",
   "execution_count": 1,
   "metadata": {},
   "outputs": [],
   "source": [
    "import datetime as dt\n",
    "\n",
    "import numpy as np\n",
    "import pandas as pd\n",
    "\n",
    "from wmfdata import spark, mariadb\n",
    "from growth import utils"
   ]
  },
  {
   "cell_type": "code",
   "execution_count": 2,
   "metadata": {},
   "outputs": [],
   "source": [
    "## Configuration variables\n",
    "\n",
    "wmf_snapshot = '2020-10'\n",
    "\n",
    "## Start and end timestamps of data gathering for each wiki, corresponding to the dates/times\n",
    "## listed above.\n",
    "\n",
    "cs_start_ts = dt.datetime(2019, 11, 21, 0, 24, 32)\n",
    "cs_end_ts = dt.datetime(2020, 5, 14, 0, 0, 0)\n",
    "\n",
    "## Table name of the canonical user table\n",
    "canonical_user_table = 'nettrom_growth.newcomer_task_exp_users'\n",
    "\n",
    "## Filename of the output dataset\n",
    "nontagged_edit_data_output_filename = 'datasets/newcomer_tasks_nontagged_edits_nov2020.tsv'"
   ]
  },
  {
   "cell_type": "code",
   "execution_count": 3,
   "metadata": {},
   "outputs": [],
   "source": [
    "## This is the same query as \"edit_data_query\" in the original data gathering (T230174.ipynb)\n",
    "## except it excludes any edit tagged with \"newcomer task\"\n",
    "\n",
    "nontagged_edit_data_query = '''\n",
    "WITH edits AS (\n",
    "    SELECT wiki_db, event_user_id AS user_id,\n",
    "    -- ns 0 & 1 edits on the first day\n",
    "    SUM(IF(page_namespace IN (0, 1)\n",
    "        AND unix_timestamp(event_timestamp) - unix_timestamp(event_user_creation_timestamp) < 86400, 1, 0))\n",
    "        AS num_article_edits_24hrs,\n",
    "    -- ns 0 & 1 edits on the first day that were reverted\n",
    "    SUM(IF(page_namespace IN (0, 1) AND revision_is_identity_reverted = true AND revision_seconds_to_identity_revert < 60*60*48\n",
    "        AND unix_timestamp(event_timestamp) - unix_timestamp(event_user_creation_timestamp) < 86400, 1, 0))\n",
    "        AS num_article_reverts_24hrs,\n",
    "    --  other namespace edits on the first day\n",
    "    SUM(IF(page_namespace NOT IN (0, 1)\n",
    "        AND unix_timestamp(event_timestamp) - unix_timestamp(event_user_creation_timestamp) < 86400, 1, 0))\n",
    "        AS num_other_edits_24hrs,\n",
    "    -- other namespace reverts on the first day\n",
    "    SUM(IF(page_namespace NOT IN (0, 1) AND revision_is_identity_reverted = true AND revision_seconds_to_identity_revert < 60*60*48\n",
    "        AND unix_timestamp(event_timestamp) - unix_timestamp(event_user_creation_timestamp) < 86400, 1, 0))\n",
    "        AS num_other_reverts_24hrs,\n",
    "    -- ns 0 & 1 edits on days 1–15\n",
    "    SUM(IF(page_namespace IN (0, 1)\n",
    "        AND unix_timestamp(event_timestamp) - unix_timestamp(event_user_creation_timestamp) BETWEEN 86400 AND 15*86400, 1, 0))\n",
    "        AS num_article_edits_2w,\n",
    "    -- ns 0 & 1 edits on days 1–15 that were reverted\n",
    "    SUM(IF(page_namespace IN (0, 1) AND revision_is_identity_reverted = true AND revision_seconds_to_identity_revert < 60*60*48\n",
    "        AND unix_timestamp(event_timestamp) - unix_timestamp(event_user_creation_timestamp) BETWEEN 86400 AND 15*86400, 1, 0))\n",
    "        AS num_article_reverts_2w,\n",
    "    -- other namespace edits on days 1–15\n",
    "    SUM(IF(page_namespace NOT IN (0, 1)\n",
    "        AND unix_timestamp(event_timestamp) - unix_timestamp(event_user_creation_timestamp) BETWEEN 86400 AND 15*86400, 1, 0))\n",
    "        AS num_other_edits_2w,\n",
    "    -- other namespace reverts on days 1–15\n",
    "    SUM(IF(page_namespace NOT IN (0, 1) AND revision_is_identity_reverted = true AND revision_seconds_to_identity_revert < 60*60*48\n",
    "        AND unix_timestamp(event_timestamp) - unix_timestamp(event_user_creation_timestamp) BETWEEN 86400 AND 15*86400, 1, 0))\n",
    "        AS num_other_reverts_2w\n",
    "    FROM wmf.mediawiki_history\n",
    "    WHERE snapshot = \"{snapshot}\"\n",
    "    AND event_entity = \"revision\"\n",
    "    AND event_type = \"create\"\n",
    "    AND wiki_db IN (\"cswiki\", \"kowiki\", \"arwiki\", \"viwiki\")\n",
    "    AND event_timestamp > \"{start_date}\"\n",
    "    AND array_contains(revision_tags, \"newcomer task\") = false\n",
    "    GROUP BY wiki_db, event_user_id\n",
    "),\n",
    "users AS (\n",
    "    SELECT wiki_db, user_id, user_registration_timestamp, reg_on_mobile, is_treatment\n",
    "    FROM {exp_user_table}\n",
    ")\n",
    "SELECT users.wiki_db, users.user_id, users.user_registration_timestamp, reg_on_mobile, is_treatment,\n",
    "    COALESCE(num_article_edits_24hrs, 0) AS num_article_edits_24hrs,\n",
    "    COALESCE(num_article_reverts_24hrs, 0) AS num_article_reverts_24hrs,\n",
    "    COALESCE(num_other_edits_24hrs, 0) AS num_other_edits_24hrs,\n",
    "    COALESCE(num_other_reverts_24hrs, 0) AS num_other_reverts_24hrs,\n",
    "    COALESCE(num_article_edits_2w, 0) AS num_article_edits_2w,\n",
    "    COALESCE(num_article_reverts_2w, 0) AS num_article_reverts_2w,\n",
    "    COALESCE(num_other_edits_2w, 0) AS num_other_edits_2w,\n",
    "    COALESCE(num_other_reverts_2w, 0) AS num_other_reverts_2w\n",
    "FROM users\n",
    "LEFT JOIN edits\n",
    "ON users.wiki_db = edits.wiki_db\n",
    "AND users.user_id = edits.user_id\n",
    "'''"
   ]
  },
  {
   "cell_type": "code",
   "execution_count": 4,
   "metadata": {},
   "outputs": [],
   "source": [
    "nontagged_edit_data = spark.run(\n",
    "    nontagged_edit_data_query.format(\n",
    "        snapshot = wmf_snapshot,\n",
    "        start_date = cs_start_ts.date().isoformat(),\n",
    "        exp_user_table = canonical_user_table\n",
    "    )\n",
    ")"
   ]
  },
  {
   "cell_type": "code",
   "execution_count": 5,
   "metadata": {},
   "outputs": [
    {
     "data": {
      "text/plain": [
       "97755"
      ]
     },
     "execution_count": 5,
     "metadata": {},
     "output_type": "execute_result"
    }
   ],
   "source": [
    "len(nontagged_edit_data)"
   ]
  },
  {
   "cell_type": "code",
   "execution_count": null,
   "metadata": {},
   "outputs": [],
   "source": [
    "nontagged_edit_data.loc[nontagged_edit_data['num_article_edits_24hrs'] > 0].head()"
   ]
  },
  {
   "cell_type": "markdown",
   "metadata": {},
   "source": [
    "Write out the canonical edit dataset for importing into R."
   ]
  },
  {
   "cell_type": "code",
   "execution_count": 7,
   "metadata": {},
   "outputs": [],
   "source": [
    "nontagged_edit_data.to_csv(nontagged_edit_data_output_filename,\n",
    "                           header = True, index = False, sep = '\\t')"
   ]
  }
 ],
 "metadata": {
  "kernelspec": {
   "display_name": "Python 3",
   "language": "python",
   "name": "python3"
  },
  "language_info": {
   "codemirror_mode": {
    "name": "ipython",
    "version": 3
   },
   "file_extension": ".py",
   "mimetype": "text/x-python",
   "name": "python",
   "nbconvert_exporter": "python",
   "pygments_lexer": "ipython3",
   "version": "3.7.3"
  }
 },
 "nbformat": 4,
 "nbformat_minor": 4
}
